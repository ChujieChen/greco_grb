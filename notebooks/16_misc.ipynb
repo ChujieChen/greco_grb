{
 "cells": [
  {
   "cell_type": "markdown",
   "id": "923a0c80",
   "metadata": {},
   "source": [
    "# mjd to utc"
   ]
  },
  {
   "cell_type": "code",
   "execution_count": 5,
   "id": "6952fe47",
   "metadata": {},
   "outputs": [],
   "source": [
    "import numpy as np\n",
    "import pandas as pd\n",
    "import pickle\n",
    "import healpy as hp\n",
    "import histlite as hl\n",
    "import os\n",
    "from glob import glob\n",
    "import astropy as ap\n",
    "from astropy.time import Time\n"
   ]
  },
  {
   "cell_type": "code",
   "execution_count": 7,
   "id": "62bf7e41",
   "metadata": {},
   "outputs": [],
   "source": [
    "result01 = pd.read_pickle(\"/storage/home/hhive1/cchen641/icecube/greco_grb/data/csky_output/unblind/result01.pkl\")\n"
   ]
  },
  {
   "cell_type": "code",
   "execution_count": 22,
   "id": "a47606c2",
   "metadata": {},
   "outputs": [],
   "source": [
    "times = result01.mjd_start\n",
    "t = Time(times, format='mjd')"
   ]
  },
  {
   "cell_type": "code",
   "execution_count": 76,
   "id": "b7fe2329",
   "metadata": {},
   "outputs": [],
   "source": [
    "def format_utc(utc):\n",
    "    # python can't have \\b --> escape character e.g. \\n\n",
    "    date, time = utc.split()\n",
    "    return time\n",
    "utc_array = np.array(list(map(format_utc, t.iso.astype('U'))))"
   ]
  },
  {
   "cell_type": "code",
   "execution_count": 77,
   "id": "4f08aa17",
   "metadata": {},
   "outputs": [
    {
     "data": {
      "text/plain": [
       "array(['12:04:56.496', '00:56:35.000', '10:27:23.000', ...,\n",
       "       '03:40:35.564', '01:17:26.000', '14:02:22.355'], dtype='<U12')"
      ]
     },
     "execution_count": 77,
     "metadata": {},
     "output_type": "execute_result"
    }
   ],
   "source": [
    "utc_array"
   ]
  },
  {
   "cell_type": "code",
   "execution_count": 78,
   "id": "42bcc10a",
   "metadata": {},
   "outputs": [],
   "source": [
    "result02 = result01.copy()\n",
    "result02['mjd_start_utc'] = utc_array"
   ]
  },
  {
   "cell_type": "code",
   "execution_count": 81,
   "id": "2cd1ce20",
   "metadata": {},
   "outputs": [],
   "source": [
    "result02.to_pickle(\"/storage/home/hhive1/cchen641/icecube/greco_grb/data/csky_output/unblind/result02.pkl\")\n"
   ]
  },
  {
   "cell_type": "markdown",
   "id": "0a131345",
   "metadata": {},
   "source": [
    "# GRECO v2.10 and GFU v2.6 Overlap"
   ]
  },
  {
   "cell_type": "code",
   "execution_count": 6,
   "id": "53e3433b",
   "metadata": {},
   "outputs": [
    {
     "name": "stdout",
     "output_type": "stream",
     "text": [
      "\n",
      "#### Working at GT ####\n",
      "\n",
      "LOCATION: \t GT\n",
      "USER: \t cchen641\n",
      "ICDATA_DIR: \t /storage/home/hhive1/cchen641/data/icecube/data/analyses/online_GRECO/candidate-002-p10\n",
      "DATA_DIR: \t /storage/home/hhive1/cchen641/data/icecube/data/greco_grb/data\n",
      "ANA_DIR: \t /storage/home/hhive1/cchen641/data/icecube/data/greco_grb/data/csky_output\n",
      "\n"
     ]
    }
   ],
   "source": [
    "import sys\n",
    "sys.path.append('../../')\n",
    "import csky as cy\n",
    "from greco_grb.scripts import SETTING\n",
    "paths = SETTING.PATH()\n",
    "print(paths)\n",
    "USER = paths.USER\n",
    "ICDATA_DIR = paths.ICDATA_DIR\n",
    "DATA_DIR = paths.DATA_DIR\n",
    "ANA_DIR = paths.ANA_DIR\n",
    "from greco_grb.scripts.utils import *"
   ]
  },
  {
   "cell_type": "code",
   "execution_count": 61,
   "id": "2fe85076",
   "metadata": {},
   "outputs": [
    {
     "name": "stdout",
     "output_type": "stream",
     "text": [
      "\n",
      "===== Setting up csky =====\n",
      "\n",
      "Setting up Analysis for:\n",
      "greco_v2.10\n",
      "Setting up greco_v2.10...\n",
      "Energy PDF Ratio Model...\n",
      "  * gamma = 4.0000 ...\n",
      "Signal Acceptance Model...\n",
      "  * gamma = 4.0000 ...\n",
      "Done.\n"
     ]
    }
   ],
   "source": [
    "print(\"\\n===== Setting up csky =====\\n\")\n",
    "data_dir = ICDATA_DIR\n",
    "data_filenames = sorted(glob(data_dir + '/IC86_20*.data.npy'))\n",
    "sig_filenames = sorted(glob(data_dir + '/IC86_2012.nu*_merged.npy'))\n",
    "grl_filenames = sorted(glob(data_dir + '/GRL/IC86_20*.data.npy'))\n",
    "\n",
    "################ energy lower bound #############\n",
    "min_log_e = np.log10(10)\n",
    "#################################################\n",
    "bins_sindec = np.linspace(-1, 1, 25+1)  \n",
    "bins_logenergy = np.linspace(min_log_e, 4, 25+1)\n",
    "\n",
    "data = [np.load(data_filename) for data_filename in data_filenames]\n",
    "data = np.hstack(data)\n",
    "sig = [np.load(sig_filename) for sig_filename in sig_filenames]\n",
    "sig = np.hstack(sig)\n",
    "grl = [np.load(grl_filename) for grl_filename in grl_filenames]\n",
    "grl = np.hstack(grl)\n",
    "if min_log_e is not None:\n",
    "    data_mask = data['logE'] > min_log_e\n",
    "    data = data[data_mask]\n",
    "    sig_mask = sig['logE'] > min_log_e\n",
    "    sig = sig[sig_mask]\n",
    "    \n",
    "dataset_spec = cy.selections.CustomDataSpecs.CustomDataSpec(data, sig, np.sum(grl['livetime']),\n",
    "                                                     sindec_bins=bins_sindec,\n",
    "                                                     logenergy_bins=bins_logenergy,\n",
    "                                                     grl=grl, key='greco_v2.10', cascades=True)\n",
    "\n",
    "ANA_DIR = cy.utils.ensure_dir(ANA_DIR)\n",
    "# on OSG\n",
    "# ana_dir = \"./\"\n",
    "ana = cy.get_analysis(cy.selections.repo\n",
    "                      , dataset_spec\n",
    "                      , dir=ANA_DIR\n",
    "                      , load_sig=True)  # to save memory: use False\n"
   ]
  },
  {
   "cell_type": "code",
   "execution_count": 62,
   "id": "c966cbb5",
   "metadata": {},
   "outputs": [
    {
     "data": {
      "text/plain": [
       "1010151"
      ]
     },
     "execution_count": 62,
     "metadata": {},
     "output_type": "execute_result"
    }
   ],
   "source": [
    "len(ana[0].data.event)"
   ]
  },
  {
   "cell_type": "code",
   "execution_count": 49,
   "id": "6e5ab6ff",
   "metadata": {},
   "outputs": [
    {
     "name": "stdout",
     "output_type": "stream",
     "text": [
      "\n",
      "===== Setting up csky =====\n",
      "\n",
      "Setting up Analysis for:\n",
      "greco_v2.10\n",
      "Setting up greco_v2.10...\n",
      "Energy PDF Ratio Model...\n",
      "  * gamma = 4.0000 ...\n",
      "Signal Acceptance Model...\n",
      "  * gamma = 4.0000 ...\n",
      "Done.\n"
     ]
    }
   ],
   "source": [
    "print(\"\\n===== Setting up csky =====\\n\")\n",
    "data_dir = ICDATA_DIR\n",
    "data_filenames = sorted(glob(data_dir + '/IC86_20*.data.npy'))\n",
    "sig_filenames = sorted(glob(data_dir + '/IC86_2012.nu*_merged.npy'))\n",
    "grl_filenames = sorted(glob(data_dir + '/GRL/IC86_20*.data.npy'))\n",
    "\n",
    "################ energy lower bound #############\n",
    "min_log_e = np.log10(1e-6)\n",
    "#################################################\n",
    "bins_sindec = np.linspace(-1, 1, 25+1)  \n",
    "bins_logenergy = np.linspace(min_log_e, 8, 25+1)\n",
    "\n",
    "data = [np.load(data_filename) for data_filename in data_filenames]\n",
    "data = np.hstack(data)\n",
    "sig = [np.load(sig_filename) for sig_filename in sig_filenames]\n",
    "sig = np.hstack(sig)\n",
    "grl = [np.load(grl_filename) for grl_filename in grl_filenames]\n",
    "grl = np.hstack(grl)\n",
    "if min_log_e is not None:\n",
    "    data_mask = data['logE'] > min_log_e\n",
    "    data = data[data_mask]\n",
    "    sig_mask = sig['logE'] > min_log_e\n",
    "    sig = sig[sig_mask]\n",
    "    \n",
    "dataset_spec = cy.selections.CustomDataSpecs.CustomDataSpec(data, sig, np.sum(grl['livetime']),\n",
    "                                                     sindec_bins=bins_sindec,\n",
    "                                                     logenergy_bins=bins_logenergy,\n",
    "                                                     grl=grl, key='greco_v2.10', cascades=True)\n",
    "\n",
    "ANA_DIR = cy.utils.ensure_dir(ANA_DIR)\n",
    "# on OSG\n",
    "# ana_dir = \"./\"\n",
    "ana = cy.get_analysis(cy.selections.repo\n",
    "                      , dataset_spec\n",
    "                      , dir=ANA_DIR\n",
    "                      , load_sig=True)  # to save memory: use False\n"
   ]
  },
  {
   "cell_type": "code",
   "execution_count": 50,
   "id": "db075885",
   "metadata": {},
   "outputs": [
    {
     "data": {
      "text/plain": [
       "1116345"
      ]
     },
     "execution_count": 50,
     "metadata": {},
     "output_type": "execute_result"
    }
   ],
   "source": [
    "data.size"
   ]
  },
  {
   "cell_type": "code",
   "execution_count": 51,
   "id": "f7e55339",
   "metadata": {},
   "outputs": [
    {
     "name": "stdout",
     "output_type": "stream",
     "text": [
      "\n",
      "===== Setting up csky =====\n",
      "\n",
      "Setting up Analysis for:\n",
      "gfu_v2.6\n",
      "Setting up gfu_v2.6...\n",
      "Energy PDF Ratio Model...\n",
      "  * gamma = 4.0000 ...\n",
      "Signal Acceptance Model...\n",
      "  * gamma = 4.0000 ...\n",
      "Done.\n"
     ]
    }
   ],
   "source": [
    "print(\"\\n===== Setting up csky =====\\n\")\n",
    "gfu_data_dir = \"/storage/home/hhive1/cchen641/data/icecube/data/analyses/gfu/version-002-p06/\"\n",
    "data_filenames = sorted(glob(gfu_data_dir + '/IC86_20*data.npy'))\n",
    "sig_filenames = sorted(glob(gfu_data_dir + '/IC86_*_MC.npy'))\n",
    "grl_filenames = sorted(glob(gfu_data_dir + '/GRL/IC86_20*data.npy'))\n",
    "\n",
    "################ energy lower bound #############\n",
    "# min_log_e = np.log10(1e-6)\n",
    "#################################################\n",
    "bins_sindec = np.unique(np.concatenate([\n",
    "             np.linspace(-1, -0.93, 4 + 1),\n",
    "             np.linspace(-0.93, -0.3, 10 + 1),\n",
    "             np.linspace(-0.3, 0.05, 9 + 1),\n",
    "             np.linspace(0.05, 1, 18 + 1) ])) \n",
    "bins_logenergy = np.arange(1, 9.5 + 0.01, 0.125)\n",
    "\n",
    "data = [np.load(data_filename) for data_filename in data_filenames]\n",
    "data = np.hstack(data)\n",
    "sig = [np.load(sig_filename) for sig_filename in sig_filenames]\n",
    "sig = np.hstack(sig)\n",
    "grl = [np.load(grl_filename) for grl_filename in grl_filenames]\n",
    "grl = np.hstack(grl)\n",
    "# if min_log_e is not None:\n",
    "#     data_mask = data['logE'] > min_log_e\n",
    "#     data = data[data_mask]\n",
    "#     sig_mask = sig['logE'] > min_log_e\n",
    "#     sig = sig[sig_mask]\n",
    "    \n",
    "dataset_spec = cy.selections.CustomDataSpecs.CustomDataSpec(data, sig, np.sum(grl['livetime']),\n",
    "                                                     sindec_bins=bins_sindec,\n",
    "                                                     logenergy_bins=bins_logenergy,\n",
    "                                                     grl=grl, key='gfu_v2.6', cascades=False)\n",
    "\n",
    "ANA_DIR = cy.utils.ensure_dir(ANA_DIR)\n",
    "# on OSG\n",
    "# ana_dir = \"./\"\n",
    "gfu_ana = cy.get_analysis(cy.selections.repo\n",
    "                      , dataset_spec\n",
    "                      , dir=ANA_DIR\n",
    "                      , load_sig=True)  # to save memory: use False\n"
   ]
  },
  {
   "cell_type": "code",
   "execution_count": 52,
   "id": "c9ca0a5d",
   "metadata": {},
   "outputs": [
    {
     "data": {
      "text/plain": [
       "1532457"
      ]
     },
     "execution_count": 52,
     "metadata": {},
     "output_type": "execute_result"
    }
   ],
   "source": [
    "data.size"
   ]
  },
  {
   "cell_type": "code",
   "execution_count": 53,
   "id": "41b19b1a",
   "metadata": {},
   "outputs": [
    {
     "data": {
      "text/plain": [
       "Events(1532457 items | columns: angErr, azi, azimuth, dec, energy, event, log10energy, mjd, ra, run, sigma, sindec, subevent, time, zen)"
      ]
     },
     "execution_count": 53,
     "metadata": {},
     "output_type": "execute_result"
    }
   ],
   "source": [
    "gfu_ana[0].data"
   ]
  },
  {
   "cell_type": "code",
   "execution_count": 63,
   "id": "40f417a2",
   "metadata": {},
   "outputs": [],
   "source": [
    "event_ids = set(ana[0].data.event)\n"
   ]
  },
  {
   "cell_type": "code",
   "execution_count": 64,
   "id": "70591c10",
   "metadata": {},
   "outputs": [
    {
     "data": {
      "text/plain": [
       "1010151"
      ]
     },
     "execution_count": 64,
     "metadata": {},
     "output_type": "execute_result"
    }
   ],
   "source": [
    "len(ana[0].data.event)"
   ]
  },
  {
   "cell_type": "code",
   "execution_count": 65,
   "id": "758a1aa6",
   "metadata": {},
   "outputs": [
    {
     "name": "stdout",
     "output_type": "stream",
     "text": [
      "45905\n"
     ]
    }
   ],
   "source": [
    "count = 0\n",
    "for event_id in gfu_ana[0].data.event:\n",
    "    if(event_id in event_ids):\n",
    "#         print(event_id)\n",
    "        count += 1\n",
    "print(count)"
   ]
  },
  {
   "cell_type": "code",
   "execution_count": 57,
   "id": "940c3c53",
   "metadata": {},
   "outputs": [
    {
     "data": {
      "text/plain": [
       "(0.047330547611198724, 0.031198917816291093)"
      ]
     },
     "execution_count": 57,
     "metadata": {},
     "output_type": "execute_result"
    }
   ],
   "source": [
    "47811/1010151, 47811/1532457"
   ]
  },
  {
   "cell_type": "code",
   "execution_count": null,
   "id": "9a9187a1",
   "metadata": {},
   "outputs": [],
   "source": []
  }
 ],
 "metadata": {
  "kernelspec": {
   "display_name": "Python [conda env:.conda-icecube_py3]",
   "language": "python",
   "name": "conda-env-.conda-icecube_py3-py"
  },
  "language_info": {
   "codemirror_mode": {
    "name": "ipython",
    "version": 3
   },
   "file_extension": ".py",
   "mimetype": "text/x-python",
   "name": "python",
   "nbconvert_exporter": "python",
   "pygments_lexer": "ipython3",
   "version": "3.7.3"
  }
 },
 "nbformat": 4,
 "nbformat_minor": 5
}
