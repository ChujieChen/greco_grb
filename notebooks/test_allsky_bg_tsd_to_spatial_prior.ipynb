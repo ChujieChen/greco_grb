{
 "cells": [
  {
   "cell_type": "code",
   "execution_count": 13,
   "metadata": {},
   "outputs": [],
   "source": [
    "import argparse, cPickle, pickle, os, sys, glob, scipy\n",
    "import numpy as np\n",
    "import healpy as hp\n",
    "from skylab.priors        import SpatialPrior\n",
    "from config_boxprofile    import config\n",
    "import matplotlib\n",
    "matplotlib.use('Agg')\n",
    "import matplotlib.pyplot as plt\n",
    "from matplotlib import cm\n",
    "%matplotlib inline"
   ]
  },
  {
   "cell_type": "code",
   "execution_count": 2,
   "metadata": {},
   "outputs": [
    {
     "name": "stdout",
     "output_type": "stream",
     "text": [
      "10000\n"
     ]
    },
    {
     "data": {
      "text/plain": [
       "<matplotlib.text.Text at 0x7f10ab6a0dd0>"
      ]
     },
     "execution_count": 2,
     "metadata": {},
     "output_type": "execute_result"
    },
    {
     "data": {
      "image/png": "[encoded data removed]",
      "text/plain": [
       "<matplotlib.figure.Figure at 0x7f10ac04bad0>"
      ]
     },
     "metadata": {},
     "output_type": "display_data"
    }
   ],
   "source": [
    "# Read the healpix map and return a list of probabilities for each pixel\n",
    "test = np.load('GFU/output/gbm/bg_tsd/allsky_healpix_bg_tsd_54s.npy', allow_pickle=True)\n",
    "max_ts = []\n",
    "for i in range(len(test)):\n",
    "    if test[i]['ts'].size == 0:\n",
    "        max_ts.append(0.0)\n",
    "    else:\n",
    "        TS = np.max(test[i]['ts'])\n",
    "        max_ts.append(TS)\n",
    "print len(max_ts)\n",
    "\n",
    "counts, bins = np.histogram(max_ts, bins=20)\n",
    "bins = [bins[i] + (bins[i+1] - bins[i])/2 for i in range(len(bins)-1)]\n",
    "plt.plot(bins, counts)\n",
    "plt.yscale('log')\n",
    "plt.title('Max TS per Scan (1e4 Trials)')\n",
    "plt.xlabel('TS')\n",
    "plt.ylabel('Counts')"
   ]
  },
  {
   "cell_type": "code",
   "execution_count": 3,
   "metadata": {},
   "outputs": [],
   "source": [
    "#######################\n",
    "###                 ###\n",
    "###    Functions    ###\n",
    "###                 ###\n",
    "#######################\n",
    "\n",
    "def compute_bg_tsd_with_prior(probs):  # Will include time window index in future\n",
    "    \n",
    "    no_prior_bg_tsd = np.load('GFU/output/gbm/bg_tsd/allsky_healpix_bg_tsd_54s.npy', allow_pickle=True)\n",
    "\n",
    "    nside = hp.pixelfunc.get_nside(probs)\n",
    "    if nside!=512:\n",
    "        probs = hp.pixelfunc.ud_grade(probs,512,power=-2)\n",
    "    \n",
    "    max_ts = []\n",
    "    ts_norm = np.log(np.amax(probs))\n",
    "    for i in range(len(no_prior_bg_tsd)):\n",
    "        # If a particular scramble in the pre-computed ts_array is empty,\n",
    "        #that means that sky scan had no events in the sky, so max_ts=0\n",
    "        if len(no_prior_bg_tsd[i]['ts'])==0:\n",
    "            max_ts.append(0.0)\n",
    "        else:\n",
    "            theta, ra = hp.pix2ang(512, no_prior_bg_tsd[i]['pixel'].astype(int))  # no_prior_bg_tsd[i]['pixel'] ???\n",
    "            dec = np.pi/2. - theta\n",
    "            interp = hp.get_interp_val(probs,theta,ra)\n",
    "            interp[interp<0] = 0.\n",
    "            ts_prior = no_prior_bg_tsd[i]['ts'] + 2*(np.log(interp) - ts_norm)\n",
    "            if ts_prior.max() < 0:\n",
    "                max_ts.append(0.0)\n",
    "            else:\n",
    "                max_ts.append(ts_prior.max())\n",
    "\n",
    "    max_ts = np.array(max_ts)\n",
    "\n",
    "    return max_ts\n",
    "\n",
    "def load_data(Index):\n",
    "        \"\"\"\n",
    "        Load the bg TSD and trials dictionary.  Used to load the p-values for the time window based on the index.\n",
    "        Return the bg-only TSD as a numpy array and the dictionary of trials for different neutrino injections\n",
    "\n",
    "        Index: int\n",
    "                The index of the time window.\n",
    "        \"\"\"\n",
    "\n",
    "        # This is old...not sure if I'll use it again\n",
    "#       with open((out_path+'pvalue_TW_{}.dict').format(Index), 'rb') as f:\n",
    "#               pdict = pickle.load(f)\n",
    "\n",
    "        tsd_path = 'GFU/output/gbm/bg_tsd/'\n",
    "\n",
    "        # Get the bg TSD\n",
    "        fname = glob.glob(tsd_path+'TW_{}_TSD/bg_trials_part*'.format(Index))\n",
    "        fname.sort()\n",
    "\n",
    "        tsd_list = []\n",
    "        for f in fname:\n",
    "                temp = np.load(os.path.join(f))\n",
    "                tsd_list.extend(temp.tolist())\n",
    "        TSD = np.concatenate([tsd_list])\n",
    "\n",
    "        return TSD"
   ]
  },
  {
   "cell_type": "code",
   "execution_count": 4,
   "metadata": {},
   "outputs": [
    {
     "name": "stdout",
     "output_type": "stream",
     "text": [
      "NSIDE = 128\n",
      "ORDERING = NESTED in fits file\n",
      "INDXSCHM = IMPLICIT\n",
      "Ordering converted to RING\n"
     ]
    },
    {
     "name": "stderr",
     "output_type": "stream",
     "text": [
      "/cvmfs/icecube.opensciencegrid.org/py2-v3.0.1/Ubuntu_18.04_x86_64/lib/python2.7/site-packages/ipykernel_launcher.py:27: RuntimeWarning: divide by zero encountered in log\n"
     ]
    }
   ],
   "source": [
    "probs = hp.read_map('glg_healpix_all_bn180423033_v00.fit')\n",
    "tsd_with_spatial_prior = compute_bg_tsd_with_prior(probs)\n",
    "\n",
    "Index = 0\n",
    "TSD = load_data(Index)"
   ]
  },
  {
   "cell_type": "code",
   "execution_count": 180,
   "metadata": {},
   "outputs": [
    {
     "data": {
      "image/png": "[encoded data removed]",
      "text/plain": [
       "<matplotlib.figure.Figure at 0x7f109de23bd0>"
      ]
     },
     "metadata": {},
     "output_type": "display_data"
    }
   ],
   "source": [
    "# Counts and Bins\n",
    "counts_sp, bins_sp = np.histogram(tsd_with_spatial_prior, bins=30)\n",
    "bin_centers = [bins_sp[i] + (bins_sp[i+1] - bins_sp[i])/2 for i in range(len(bins_sp)-1)]\n",
    "\n",
    "# Plot\n",
    "plt.plot(bin_centers, counts_sp, color='g', label='Interpolated Map')\n",
    "plt.xlabel('Test Statistic')\n",
    "plt.ylabel('Trials')\n",
    "plt.yscale('log')\n",
    "plt.xlim(-1,20)\n",
    "plt.ylim(1e-1,1e4)\n",
    "plt.title(r'T$_{100}$=54s & 10,000 Trials')\n",
    "plt.legend()\n",
    "plt.grid(True)"
   ]
  },
  {
   "cell_type": "code",
   "execution_count": 5,
   "metadata": {},
   "outputs": [
    {
     "name": "stderr",
     "output_type": "stream",
     "text": [
      "/cvmfs/icecube.opensciencegrid.org/py2-v3.0.1/Ubuntu_18.04_x86_64/lib/python2.7/site-packages/ipykernel_launcher.py:29: RuntimeWarning: divide by zero encountered in divide\n"
     ]
    },
    {
     "name": "stdout",
     "output_type": "stream",
     "text": [
      "The interpolated map takes the all-sky scan with no prior and interpolates with the spatial prior map\n",
      "\n",
      "The normal trials map scans the spatial prior map for the best TS 10,000 times\n"
     ]
    },
    {
     "data": {
      "image/png": "[encoded data removed]",
      "text/plain": [
       "<matplotlib.figure.Figure at 0x7f10ac04b150>"
      ]
     },
     "metadata": {},
     "output_type": "display_data"
    }
   ],
   "source": [
    "# Counts and Bins\n",
    "counts_sp, bins_sp = np.histogram(tsd_with_spatial_prior, bins=30)\n",
    "counts_no_sp1, bins_no_sp = np.histogram(TSD[:10000], bins=30)\n",
    "\n",
    "bin_centers = [bins_sp[i] + (bins_sp[i+1] - bins_sp[i])/2 for i in range(len(bins_sp)-1)]\n",
    "\n",
    "counts_no_sp1 = counts_no_sp1.astype(float)\n",
    "\n",
    "\n",
    "# Plot\n",
    "fig = plt.figure()\n",
    "\n",
    "frame1 = fig.add_axes((0.1, 0.3, 0.8, 0.6))\n",
    "plt.plot(bin_centers, counts_sp, color='g', label='Interpolated Map')\n",
    "plt.plot(bin_centers, counts_no_sp1, color='b', label='Normal Trials (0 to 1e4)')\n",
    "plt.xlabel('Test Statistic')\n",
    "plt.ylabel('Trials')\n",
    "plt.yscale('log')\n",
    "plt.xlim(-1,20)\n",
    "plt.ylim(1e-1,1e4)\n",
    "plt.title(r'T$_{100}$=54s & 10,000 Trials')\n",
    "plt.legend()\n",
    "plt.grid(True)\n",
    "frame1.set_xticklabels([])\n",
    "\n",
    "frame2 = fig.add_axes((0.1, 0.1, 0.8, 0.2))\n",
    "\n",
    "\n",
    "plt.plot(bin_centers, counts_sp/counts_no_sp1, color='k')\n",
    "plt.yticks([-1, 0., 1., 2., 3.])\n",
    "plt.grid(True)\n",
    "plt.axhline(1.0)\n",
    "plt.ylabel(r'$\\frac{Interpolated}{Normal}$')\n",
    "\n",
    "print \"The interpolated map takes the all-sky scan with no prior and interpolates with the spatial prior map\\n\"\n",
    "print \"The normal trials map scans the spatial prior map for the best TS 10,000 times\""
   ]
  },
  {
   "cell_type": "code",
   "execution_count": 6,
   "metadata": {},
   "outputs": [
    {
     "name": "stderr",
     "output_type": "stream",
     "text": [
      "/cvmfs/icecube.opensciencegrid.org/py2-v3.0.1/Ubuntu_18.04_x86_64/lib/python2.7/site-packages/ipykernel_launcher.py:37: RuntimeWarning: divide by zero encountered in divide\n",
      "/cvmfs/icecube.opensciencegrid.org/py2-v3.0.1/Ubuntu_18.04_x86_64/lib/python2.7/site-packages/ipykernel_launcher.py:38: RuntimeWarning: divide by zero encountered in divide\n",
      "/cvmfs/icecube.opensciencegrid.org/py2-v3.0.1/Ubuntu_18.04_x86_64/lib/python2.7/site-packages/ipykernel_launcher.py:39: RuntimeWarning: divide by zero encountered in divide\n"
     ]
    },
    {
     "name": "stdout",
     "output_type": "stream",
     "text": [
      "The interpolated map takes the all-sky scan with no prior and interpolates with the spatial prior map\n",
      "\n",
      "The normal trials map scans the spatial prior map for the best TS 10,000 times\n"
     ]
    },
    {
     "data": {
      "image/png": "[encoded data removed]",
      "text/plain": [
       "<matplotlib.figure.Figure at 0x7f10ab536c90>"
      ]
     },
     "metadata": {},
     "output_type": "display_data"
    }
   ],
   "source": [
    "# Counts and Bins\n",
    "counts_sp, bins_sp = np.histogram(tsd_with_spatial_prior, bins=30)\n",
    "counts_no_sp1, bins_no_sp = np.histogram(TSD[:10000], bins=30)\n",
    "counts_no_sp2, bins_no_sp = np.histogram(TSD[10000:20000], bins=30)\n",
    "counts_no_sp3, bins_no_sp = np.histogram(TSD[20000:30000], bins=30)\n",
    "\n",
    "bin_centers = [bins_sp[i] + (bins_sp[i+1] - bins_sp[i])/2 for i in range(len(bins_sp)-1)]\n",
    "\n",
    "counts_no_sp1 = counts_no_sp1.astype(float)\n",
    "\n",
    "\n",
    "# Plot\n",
    "fig = plt.figure()\n",
    "\n",
    "frame1 = fig.add_axes((0.1, 0.3, 0.8, 0.6))\n",
    "#plt.hist(tsd_with_spatial_prior, bins=30, color='g', histtype='step', label='Interpolated Map')\n",
    "#plt.hist(TSD[:10000], bins=30, histtype='step', color='b', label='Normal Trials')\n",
    "#plt.hist(TSD[10000:20000], bins=30, histtype='step', color='r', label='Normal Trials')\n",
    "#plt.hist(TSD[20000:30000], bins=30, histtype='step', color='m', label='Normal Trials')\n",
    "plt.plot(bin_centers, counts_sp, color='g', label='Interpolated Map')\n",
    "plt.plot(bin_centers, counts_no_sp1, color='b', label='Normal Trials (0 to 1e4)')\n",
    "plt.plot(bin_centers, counts_no_sp2, color='r', label='Normal Trials (1e4 to 2e4)')\n",
    "plt.plot(bin_centers, counts_no_sp3, color='m', label='Normal Trials (2e4 to 3e4)')\n",
    "plt.xlabel('Test Statistic')\n",
    "plt.ylabel('Trials')\n",
    "plt.yscale('log')\n",
    "plt.xlim(-1,20)\n",
    "plt.ylim(1e-1,1e4)\n",
    "plt.title(r'T$_{100}$=54s & 10,000 Trials')\n",
    "plt.legend()\n",
    "plt.grid(True)\n",
    "frame1.set_xticklabels([])\n",
    "\n",
    "frame2 = fig.add_axes((0.1, 0.1, 0.8, 0.2))\n",
    "\n",
    "\n",
    "plt.plot(bin_centers, counts_sp/counts_no_sp1, color='b')\n",
    "plt.plot(bin_centers, counts_sp/counts_no_sp2, color='r')\n",
    "plt.plot(bin_centers, counts_sp/counts_no_sp3, color='m')\n",
    "plt.yticks([-1, 0., 1., 2., 3., 4.])\n",
    "plt.grid(True)\n",
    "plt.axhline(1.0)\n",
    "plt.ylabel(r'$\\frac{Interpolated}{Normal}$')\n",
    "\n",
    "print \"The interpolated map takes the all-sky scan with no prior and interpolates with the spatial prior map\\n\"\n",
    "print \"The normal trials map scans the spatial prior map for the best TS 10,000 times\""
   ]
  },
  {
   "cell_type": "code",
   "execution_count": 70,
   "metadata": {},
   "outputs": [
    {
     "name": "stdout",
     "output_type": "stream",
     "text": [
      "NSIDE = 128\n",
      "ORDERING = NESTED in fits file\n",
      "INDXSCHM = IMPLICIT\n",
      "Ordering converted to RING\n"
     ]
    },
    {
     "name": "stderr",
     "output_type": "stream",
     "text": [
      "/cvmfs/icecube.opensciencegrid.org/py2-v3.0.1/Ubuntu_18.04_x86_64/lib/python2.7/site-packages/ipykernel_launcher.py:27: RuntimeWarning: divide by zero encountered in log\n"
     ]
    },
    {
     "name": "stdout",
     "output_type": "stream",
     "text": [
      "got llh\n"
     ]
    }
   ],
   "source": [
    "###\n",
    "###  Now try getting p-values from each TSD for bg events, 1 ns injected, 3 ns injected, and 5 ns injected\n",
    "###\n",
    "\n",
    "# Reload the data just in case anything got messed up\n",
    "probs = hp.read_map('glg_healpix_all_bn180423033_v00.fit')\n",
    "tsd_with_spatial_prior = compute_bg_tsd_with_prior(probs)\n",
    "\n",
    "Index = 0\n",
    "TSD = load_data(Index)\n",
    "TSD = TSD[:10000]\n",
    "\n",
    "# Basic info\n",
    "dataset = 'GFU'\n",
    "season = 'IC86, 2011-2018'\n",
    "time_window = 0.0\n",
    "\n",
    "# GRB Info\n",
    "time_window = (54. / 86400.)/2\n",
    "t100_start = 58231.03258640          # 58130.84199171                # MJD trigger time from GRB Web 2.0\n",
    "t100_stop = 58231.0332114\n",
    "ra = np.radians(208.6800)       # 173.9200\n",
    "dec = np.radians(9.8400)        # 23.0600\n",
    "\n",
    "# Time Window Info\n",
    "\n",
    "t100_center = t100_start + (t100_stop-t100_start)/2.\n",
    "\n",
    "\n",
    "# Healpix stuff\n",
    "spatial_prior = SpatialPrior(probs, containment=0.999, allow_neg=False)\n",
    "\n",
    "# Create an LLH for this GRB's time and location\n",
    "llh, inj = config(dataset, season, t100_center, t100_center, dec, time_window=time_window, scramble=True,\n",
    "                poisson=True, spatial_prior=spatial_prior, Inj_start=t100_start, Inj_stop=t100_stop, \n",
    "                days=10, ncpu=4)\n",
    "\n",
    "print \"got llh\""
   ]
  },
  {
   "cell_type": "code",
   "execution_count": 71,
   "metadata": {},
   "outputs": [],
   "source": [
    "# Run trials\n",
    "\n",
    "def get_trials_and_pvals(inj, n_inj, trials):\n",
    "    ts_prior = []\n",
    "    for i in range(trials):\n",
    "        ni, sample = inj.sample(n_inj, poisson=True)\n",
    "#        if sample is not None:\n",
    "#            sample['time'] = t100_center    \n",
    "        val = llh.scan(ra, dec, scramble = True, seed = i, inject=sample,\n",
    "            time_mask = [time_window,t100_center], pixel_scan=[512,3.0])\n",
    "    \n",
    "        try:\n",
    "            TS = val['TS_spatial_prior_0'].max()\n",
    "            ts_prior.append(TS)\n",
    "            \n",
    "        except ValueError:\n",
    "            ts_prior.append(0.0)\n",
    "    \n",
    "        if i % (trials/10) == 0:\n",
    "            print i\n",
    "    \n",
    "    return np.array(ts_prior)"
   ]
  },
  {
   "cell_type": "code",
   "execution_count": 80,
   "metadata": {},
   "outputs": [
    {
     "name": "stdout",
     "output_type": "stream",
     "text": [
      "0\n",
      "1000\n",
      "2000\n",
      "3000\n",
      "4000\n",
      "5000\n",
      "6000\n",
      "7000\n",
      "8000\n",
      "9000\n",
      "10000\n",
      "10000\n"
     ]
    }
   ],
   "source": [
    "trials_0_inj = get_trials_and_pvals(inj, 0, 10000)"
   ]
  },
  {
   "cell_type": "code",
   "execution_count": 81,
   "metadata": {},
   "outputs": [
    {
     "name": "stdout",
     "output_type": "stream",
     "text": [
      "0\n",
      "0\n",
      "0\n"
     ]
    }
   ],
   "source": [
    "pvals_sp_0 = []\n",
    "pvals_no_sp_0 = []\n",
    "\n",
    "for k in trials_0_inj:\n",
    "    p_no_sp = np.sum(TSD>=k)/float(len(TSD))\n",
    "    p_sp = np.sum(tsd_with_spatial_prior>=k)/float(len(tsd_with_spatial_prior))\n",
    "\n",
    "    if p_no_sp == 0.:\n",
    "        p_no_sp = 1/float(len(TSD))\n",
    "    if p_sp == 0.:\n",
    "        p_sp = 1/float(len(tsd_with_spatial_prior))\n",
    "\n",
    "    pvals_no_sp_0.append(p_no_sp)\n",
    "    pvals_sp_0.append(p_sp)\n",
    "\n",
    "print len([i for i in trials_0_inj if i>0])\n",
    "print len([j for j in pvals_no_sp_0 if j<1])\n",
    "print len([k for k in pvals_sp_0 if k<1])"
   ]
  },
  {
   "cell_type": "code",
   "execution_count": 82,
   "metadata": {},
   "outputs": [
    {
     "name": "stdout",
     "output_type": "stream",
     "text": [
      "0\n",
      "10\n",
      "20\n",
      "30\n",
      "40\n",
      "50\n",
      "60\n",
      "70\n",
      "80\n",
      "90\n",
      "10000\n",
      "10000\n",
      "0\n",
      "0\n",
      "0\n"
     ]
    }
   ],
   "source": [
    "trials_3_inj = get_trials_and_pvals(inj, 3, 100)\n",
    "\n",
    "pvals_sp_3 = []\n",
    "pvals_no_sp_3 = []\n",
    "\n",
    "for k in trials_3_inj:\n",
    "    p_no_sp = np.sum(TSD>=k)/float(len(TSD))\n",
    "    p_sp = np.sum(tsd_with_spatial_prior>=k)/float(len(tsd_with_spatial_prior))\n",
    "\n",
    "    if p_no_sp == 0.:\n",
    "        p_no_sp = 1/float(len(TSD))\n",
    "    if p_sp == 0.:\n",
    "        p_sp = 1/float(len(tsd_with_spatial_prior))\n",
    "\n",
    "    pvals_no_sp_3.append(p_no_sp)\n",
    "    pvals_sp_3.append(p_sp)\n",
    "\n",
    "print len([i for i in trials_3_inj if i>0])\n",
    "print len([j for j in pvals_no_sp_3 if j<1])\n",
    "print len([k for k in pvals_sp_3 if k<1])"
   ]
  },
  {
   "cell_type": "code",
   "execution_count": 79,
   "metadata": {},
   "outputs": [
    {
     "name": "stdout",
     "output_type": "stream",
     "text": [
      "Got LLH.  Starting trials.\n"
     ]
    }
   ],
   "source": [
    "###\n",
    "###  Get some background trials for a non-GBM burst at this time and location\n",
    "###\n",
    "\n",
    "# Basic info\n",
    "dataset = 'GFU'\n",
    "season = 'IC86, 2011-2018'\n",
    "time_window = 0.0\n",
    "\n",
    "# GRB Info\n",
    "duration = (54. / 86400.)\n",
    "start = 58231.03258640          # 58130.84199171                # MJD trigger time from GRB Web 2.0\n",
    "stop = 58231.0332114\n",
    "ra = np.radians(208.6800)       # 173.9200\n",
    "dec = np.radians(9.8400)        # 23.0600\n",
    "\n",
    "\n",
    "# Create an LLH for this GRB's time and location\n",
    "llh_NOT_GBM, inj_NOT_GBM = config(dataset, season, start, stop, [dec],\n",
    "                rng_seed=0, time_window=0.0, Inj_start=None,\n",
    "                Inj_stop=None, scramble=True, poisson=True, days=10)\n",
    "\n",
    "print \"Got LLH.  Starting trials.\"\n",
    "\n",
    "tsd_not_GBM = llh_NOT_GBM.do_trials(10000, src_ra=ra, src_dec=dec, injector=inj_NOT_GBM, mean_signal=0.0)"
   ]
  },
  {
   "cell_type": "code",
   "execution_count": 103,
   "metadata": {},
   "outputs": [],
   "source": [
    "tsd_not_GBM_3_inj = llh_NOT_GBM.do_trials(100, src_ra=ra, src_dec=dec, injector=inj_NOT_GBM, mean_signal=3.0)"
   ]
  },
  {
   "cell_type": "code",
   "execution_count": 109,
   "metadata": {},
   "outputs": [
    {
     "name": "stdout",
     "output_type": "stream",
     "text": [
      "[11.379223474183995, 7.628502652579319, 13.726066919580187]\n",
      "94\n"
     ]
    }
   ],
   "source": [
    "print [i for i in tsd_not_GBM['TS'] if i>0]\n",
    "print ([i for i in tsd_not_GBM_3_inj['TS'] if i>0])"
   ]
  },
  {
   "cell_type": "code",
   "execution_count": 105,
   "metadata": {},
   "outputs": [],
   "source": [
    "pvals_sp_0 = []\n",
    "pvals_no_sp_0 = []\n",
    "\n",
    "for k in tsd_not_GBM['TS']:\n",
    "    p_no_sp = np.sum(TSD>=k)/float(len(TSD))\n",
    "    p_sp = np.sum(tsd_with_spatial_prior>=k)/float(len(tsd_with_spatial_prior))\n",
    "\n",
    "    if p_no_sp == 0.:\n",
    "        p_no_sp = 1/float(len(TSD))\n",
    "    if p_sp == 0.:\n",
    "        p_sp = 1/float(len(tsd_with_spatial_prior))\n",
    "\n",
    "    pvals_no_sp_0.append(p_no_sp)\n",
    "    pvals_sp_0.append(p_sp)\n",
    "    \n",
    "pvals_sp_3 = []\n",
    "pvals_no_sp_3 = []\n",
    "\n",
    "for k in tsd_not_GBM_3_inj['TS']:\n",
    "    p_no_sp = np.sum(TSD>=k)/float(len(TSD))\n",
    "    p_sp = np.sum(tsd_with_spatial_prior>=k)/float(len(tsd_with_spatial_prior))\n",
    "\n",
    "    if p_no_sp == 0.:\n",
    "        p_no_sp = 1/float(len(TSD))\n",
    "    if p_sp == 0.:\n",
    "        p_sp = 1/float(len(tsd_with_spatial_prior))\n",
    "\n",
    "    pvals_no_sp_3.append(p_no_sp)\n",
    "    pvals_sp_3.append(p_sp)"
   ]
  },
  {
   "cell_type": "code",
   "execution_count": 161,
   "metadata": {},
   "outputs": [
    {
     "name": "stdout",
     "output_type": "stream",
     "text": [
      "(array([ 3, 27, 30, 44, 57, 79, 83, 84]),)\n",
      "[16.24608476 11.37216617 16.8652593  18.04182536 12.33403258 16.16707899\n",
      "  9.74040058 11.02904215]\n"
     ]
    }
   ],
   "source": [
    "TS_list = np.array([i for i in tsd_not_GBM['TS'] if i>0])\n",
    "TS_3_inj_no_sp = np.array(tsd_not_GBM_3_inj[np.where((np.array(pvals_no_sp_3)<1.) & (np.array(pvals_no_sp_3)>0.0001))]['TS'])\n",
    "TS_3_inj_sp = np.array(tsd_not_GBM_3_inj[np.where((np.array(pvals_sp_3)<1.) & (np.array(pvals_sp_3)>0.0001))]['TS'])\n",
    "\n",
    "condition = np.where((np.array(pvals_no_sp_3)<1.) & (np.array(pvals_no_sp_3)>0.0001))\n",
    "print condition\n",
    "print tsd_not_GBM_3_inj['TS'][condition]"
   ]
  },
  {
   "cell_type": "code",
   "execution_count": 162,
   "metadata": {},
   "outputs": [
    {
     "name": "stdout",
     "output_type": "stream",
     "text": [
      "\n",
      "0 injected neutrinos in the brute force trials method:\n",
      "     TS: [11.37922347  7.62850265 13.72606692]\n",
      "     p-values: [0.0026, 0.0054, 0.0011]\n",
      "\n",
      "0 injected neutrinos in the interpolated method:\n",
      "     TS: [11.37922347  7.62850265 13.72606692]\n",
      "     p-values: [0.0029, 0.0058, 0.0012]\n",
      "\n",
      "3 injected neutrinos in the brute force trials method:\n",
      "     TS: [16.24608476 11.37216617 16.8652593  18.04182536 12.33403258 16.16707899\n",
      "  9.74040058 11.02904215]\n",
      "     p-values: [0.0005, 0.0026, 0.0004, 0.0003, 0.0017, 0.0005, 0.0042, 0.0028]\n",
      "\n",
      "3 injected neutrinos in the interpolated method:\n",
      "     TS: [16.24608476 18.43360813 11.37216617 16.8652593  18.04182536 12.33403258\n",
      " 16.16707899  9.74040058 11.02904215]\n",
      "     p-values: [0.0006, 0.0003, 0.0029, 0.0005, 0.0003, 0.0022, 0.0007, 0.0047, 0.0031]\n"
     ]
    }
   ],
   "source": [
    "print \"\\n0 injected neutrinos in the brute force trials method:\\n     TS: \"+str(TS_list)+\"\\n     p-values: \"+str([i for i in pvals_no_sp_0 if i < 1])\n",
    "print \"\\n0 injected neutrinos in the interpolated method:\\n     TS: \"+str(TS_list)+\"\\n     p-values: \"+str([i for i in pvals_sp_0 if i < 1])\n",
    "print \"\\n3 injected neutrinos in the brute force trials method:\\n     TS: \"+str(TS_3_inj_no_sp)+\"\\n     p-values: \"+str([i for i in pvals_no_sp_3 if 0.0001< i < 1])\n",
    "print \"\\n3 injected neutrinos in the interpolated method:\\n     TS: \"+str(TS_3_inj_sp)+\"\\n     p-values: \"+str([i for i in pvals_sp_3 if 0.0001 < i < 1])\n"
   ]
  },
  {
   "cell_type": "code",
   "execution_count": 166,
   "metadata": {},
   "outputs": [
    {
     "name": "stdout",
     "output_type": "stream",
     "text": [
      "The interpolated map takes the all-sky scan with no prior and interpolates with the spatial prior map\n",
      "\n",
      "The normal trials map scans the spatial prior map for the best TS 10,000 times\n"
     ]
    },
    {
     "data": {
      "image/png": "[encoded data removed]",
      "text/plain": [
       "<matplotlib.figure.Figure at 0x7f109dbd0450>"
      ]
     },
     "metadata": {},
     "output_type": "display_data"
    }
   ],
   "source": [
    "###\n",
    "### Plot the TSD made without a spatial prior map at all (just point source)\n",
    "### and compare it to a map made by grabbing the corresponding pixel from the big map\n",
    "###\n",
    "\n",
    "# Counts and Bins\n",
    "counts_not_GBM, bins_not_GBM = np.histogram(tsd_not_GBM['TS'], bins=30)\n",
    "#counts_one_pixel, bins_one_pixel = np.histogram(tsd_one_pixel, bins=30)\n",
    "\n",
    "Bins = [bins_not_GBM[i] + (bins_not_GBM[i+1] - bins_not_GBM[i])/2 for i in range(len(bins_not_GBM)-1)]\n",
    "\n",
    "counts_not_GBM = counts_not_GBM.astype(float)\n",
    "\n",
    "\n",
    "# Plot\n",
    "fig = plt.figure()\n",
    "\n",
    "frame1 = fig.add_axes((0.1, 0.3, 0.8, 0.6))\n",
    "#plt.plot(Bins, counts_one_pixel, color='g', label='Interpolated Map')\n",
    "plt.plot(Bins, counts_not_GBM, color='b', label='Normal Trials (0 to 1e4)')\n",
    "plt.xlabel('Test Statistic')\n",
    "plt.ylabel('Trials')\n",
    "plt.yscale('log')\n",
    "plt.xlim(-1,20)\n",
    "plt.ylim(1e-1,1e4)\n",
    "plt.title(r'T$_{100}$=54s & 10,000 Trials')\n",
    "plt.legend()\n",
    "plt.grid(True)\n",
    "#frame1.set_xticklabels([])\n",
    "\n",
    "#frame2 = fig.add_axes((0.1, 0.1, 0.8, 0.2))\n",
    "\n",
    "\n",
    "#plt.plot(bin_centers, counts_sp/counts_no_sp1, color='k')\n",
    "#plt.yticks([-1, 0., 1., 2., 3.])\n",
    "#plt.grid(True)\n",
    "#plt.axhline(1.0)\n",
    "#plt.ylabel(r'$\\frac{Interpolated}{Normal}$')\n",
    "\n",
    "print \"The interpolated map takes the all-sky scan with no prior and interpolates with the spatial prior map\\n\"\n",
    "print \"The normal trials map scans the spatial prior map for the best TS 10,000 times\""
   ]
  },
  {
   "cell_type": "code",
   "execution_count": 179,
   "metadata": {},
   "outputs": [
    {
     "name": "stdout",
     "output_type": "stream",
     "text": [
      "Starting LLH\n",
      "Fri Jun 14 13:47:34 2019\n",
      "Got LLH\n",
      "Fri Jun 14 13:48:26 2019\n",
      "Starting trials\n",
      "Fri Jun 14 13:48:26 2019\n",
      "Got trials\n",
      "Fri Jun 14 16:35:31 2019\n"
     ]
    }
   ],
   "source": [
    "import time\n",
    "\n",
    "print \"Starting LLH\"\n",
    "print time.ctime()\n",
    "# Create an LLH for this GRB's time and location\n",
    "llh_NOT_GBM, inj_NOT_GBM = config(dataset, season, start, stop, [dec],\n",
    "                rng_seed=0, time_window=0.0, Inj_start=None,\n",
    "                Inj_stop=None, scramble=True, poisson=True, days=10)\n",
    "\n",
    "print \"Got LLH\"\n",
    "print time.ctime()\n",
    "\n",
    "print \"Starting trials\"\n",
    "print time.ctime()\n",
    "\n",
    "tsd_not_GBM_again = llh_NOT_GBM.do_trials(10000, src_ra=ra, src_dec=dec, injector=inj_NOT_GBM, mean_signal=0.0)\n",
    "\n",
    "print \"Got trials\"\n",
    "print time.ctime()"
   ]
  },
  {
   "cell_type": "code",
   "execution_count": 189,
   "metadata": {},
   "outputs": [],
   "source": [
    "def get_probs_non_GBM(ra, dec):\n",
    "    theta = np.pi/2. - dec\n",
    "    phi = 2*np.pi - ra\n",
    "    pixel = hp.ang2pix(512, theta, phi)\n",
    "    probs = np.zeros(hp.nside2npix(512))\n",
    "    probs[pixel] = 1.0\n",
    "    return probs\n",
    "\n",
    "def compute_bg_tsd_with_prior_non_GBM(probs):  # Will include time window index in future\n",
    "    \n",
    "    no_prior_bg_tsd = np.load('GFU/output/gbm/bg_tsd/allsky_healpix_bg_tsd_54s.npy', allow_pickle=True)\n",
    "\n",
    "    max_ts = []\n",
    "    ts_norm = np.log(np.amax(probs))\n",
    "    for i in range(len(no_prior_bg_tsd)):\n",
    "        # If a particular scramble in the pre-computed ts_array is empty,\n",
    "        #that means that sky scan had no events in the sky, so max_ts=0\n",
    "        if len(no_prior_bg_tsd[i]['ts'])==0:\n",
    "            max_ts.append(0.0)\n",
    "        else:\n",
    "            theta, ra = hp.pix2ang(512, no_prior_bg_tsd[i]['pixel'].astype(int))  # no_prior_bg_tsd[i]['pixel'] ???\n",
    "            dec = np.pi/2. - theta\n",
    "            interp = hp.get_interp_val(probs,theta,ra)\n",
    "            interp[interp<0] = 0.\n",
    "            ts_prior = no_prior_bg_tsd[i]['ts'] + 2*(np.log(interp) - ts_norm)\n",
    "            if ts_prior.max() < 0:\n",
    "                max_ts.append(0.0)\n",
    "            else:\n",
    "                max_ts.append(ts_prior.max())\n",
    "\n",
    "    max_ts = np.array(max_ts)\n",
    "\n",
    "    return max_ts"
   ]
  },
  {
   "cell_type": "code",
   "execution_count": 190,
   "metadata": {},
   "outputs": [
    {
     "name": "stderr",
     "output_type": "stream",
     "text": [
      "/cvmfs/icecube.opensciencegrid.org/py2-v3.0.1/Ubuntu_18.04_x86_64/lib/python2.7/site-packages/ipykernel_launcher.py:25: RuntimeWarning: divide by zero encountered in log\n"
     ]
    }
   ],
   "source": [
    "probs_non_GBM = get_probs_non_GBM(ra, dec)\n",
    "tsd_non_GBM_healpix = compute_bg_tsd_with_prior_non_GBM(probs_non_GBM)"
   ]
  },
  {
   "cell_type": "code",
   "execution_count": 191,
   "metadata": {},
   "outputs": [
    {
     "data": {
      "image/png": "[encoded data removed]",
      "text/plain": [
       "<matplotlib.figure.Figure at 0x7f10a70c6ad0>"
      ]
     },
     "metadata": {},
     "output_type": "display_data"
    }
   ],
   "source": [
    "# Counts and Bins\n",
    "counts_not_GBM, bins_not_GBM = np.histogram(tsd_non_GBM_healpix, bins=30)\n",
    "#counts_one_pixel, bins_one_pixel = np.histogram(tsd_one_pixel, bins=30)\n",
    "\n",
    "Bins = [bins_not_GBM[i] + (bins_not_GBM[i+1] - bins_not_GBM[i])/2 for i in range(len(bins_not_GBM)-1)]\n",
    "\n",
    "counts_not_GBM = counts_not_GBM.astype(float)\n",
    "\n",
    "\n",
    "# Plot\n",
    "fig = plt.figure()\n",
    "\n",
    "frame1 = fig.add_axes((0.1, 0.3, 0.8, 0.6))\n",
    "#plt.plot(Bins, counts_one_pixel, color='g', label='Interpolated Map')\n",
    "plt.plot(Bins, counts_not_GBM, color='b', label='Normal Trials (0 to 1e4)')\n",
    "plt.xlabel('Test Statistic')\n",
    "plt.ylabel('Trials')\n",
    "plt.yscale('log')\n",
    "plt.xlim(-1,20)\n",
    "plt.ylim(1e-1,1e4)\n",
    "plt.title(r'T$_{100}$=54s & 10,000 Trials')\n",
    "plt.legend()\n",
    "plt.grid(True)"
   ]
  },
  {
   "cell_type": "code",
   "execution_count": null,
   "metadata": {},
   "outputs": [],
   "source": []
  },
  {
   "cell_type": "code",
   "execution_count": null,
   "metadata": {},
   "outputs": [],
   "source": []
  }
 ],
 "metadata": {
  "kernelspec": {
   "display_name": "Python 2",
   "language": "python",
   "name": "python2"
  },
  "language_info": {
   "codemirror_mode": {
    "name": "ipython",
    "version": 2
   },
   "file_extension": ".py",
   "mimetype": "text/x-python",
   "name": "python",
   "nbconvert_exporter": "python",
   "pygments_lexer": "ipython2",
   "version": "2.7.13"
  }
 },
 "nbformat": 4,
 "nbformat_minor": 2
}
