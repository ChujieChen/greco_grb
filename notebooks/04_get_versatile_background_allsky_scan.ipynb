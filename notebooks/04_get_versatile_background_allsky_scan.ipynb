{
 "cells": [
  {
   "cell_type": "code",
   "execution_count": 2,
   "metadata": {},
   "outputs": [
    {
     "data": {
      "text/plain": [
       "'\\nPerform all-sky scans with no spatial prior information.\\nRecord the TS for each pixel.\\n\\nThis is a jupyter test.\\nThe actual work is done with `01_get_versatile_background_allsky_scan.py`\\n'"
      ]
     },
     "execution_count": 2,
     "metadata": {},
     "output_type": "execute_result"
    }
   ],
   "source": [
    "\"\"\"\n",
    "Perform all-sky scans with no spatial prior information.\n",
    "Record the TS for each pixel.\n",
    "\n",
    "This is a jupyter test.\n",
    "The actual work is done with `01_get_versatile_background_allsky_scan.py`\n",
    "\"\"\""
   ]
  },
  {
   "cell_type": "code",
   "execution_count": 3,
   "metadata": {},
   "outputs": [
    {
     "name": "stdout",
     "output_type": "stream",
     "text": [
      "Python version:  3.7.6 (default, Jan  8 2020, 19:59:22) \n",
      "[GCC 7.3.0]\n",
      "\n",
      "#### Working at GT ####\n",
      "\n",
      "LOCATION: \t GT\n",
      "USER: \t cchen641\n",
      "ICDATA_DIR: \t /storage/home/hhive1/cchen641/data/icecube/data/analyses/online_GRECO/candidate-002-p10\n",
      "DATA_DIR: \t /storage/home/hhive1/cchen641/data/icecube/data/greco_grb/data\n",
      "ANA_DIR: \t /storage/home/hhive1/cchen641/data/icecube/data/greco_grb/data/csky_output\n",
      "\n"
     ]
    }
   ],
   "source": [
    "import os\n",
    "import sys\n",
    "print(\"Python version: \", end=' ')\n",
    "print(sys.version)\n",
    "\n",
    "import numpy as np\n",
    "import healpy as hp\n",
    "# import histlite as hl\n",
    "import csky as cy\n",
    "import pandas as pd\n",
    "from scipy import sparse\n",
    "\n",
    "# import matplotlib.pyplot as plt\n",
    "# from matplotlib import cm\n",
    "# import matplotlib.colors as colors\n",
    "############# comment out below two lines on clusters ##########\n",
    "# %matplotlib inline\n",
    "# %matplotlib notebook\n",
    "################################################################\n",
    "from glob import glob\n",
    "timer = cy.timing.Timer()\n",
    "time = timer.time\n",
    "\n",
    "###### Local Import ######\n",
    "import SETTING\n",
    "paths = SETTING.PATH(osg=False)\n",
    "print(paths)\n",
    "LOCATION = paths.LOCATION\n",
    "USER = paths.USER\n",
    "ICDATA_DIR = paths.ICDATA_DIR\n",
    "DATA_DIR = paths.DATA_DIR\n",
    "ANA_DIR = paths.ANA_DIR\n",
    "\n",
    "from utils import *"
   ]
  },
  {
   "cell_type": "code",
   "execution_count": 4,
   "metadata": {},
   "outputs": [],
   "source": [
    "tw_batchSize_map = {\n",
    "                 10:1000,\n",
    "                 25:1000,\n",
    "                 50:1000,\n",
    "                 100:1000,\n",
    "                 250:1000,\n",
    "                 500:1000\n",
    "                }"
   ]
  },
  {
   "cell_type": "code",
   "execution_count": 5,
   "metadata": {},
   "outputs": [],
   "source": [
    "import argparse\n",
    "\n",
    "######################### CONFIGURE ARGUEMENTS #############################\n",
    "# p = argparse.ArgumentParser(description=\"Background Trials\",\n",
    "#                             formatter_class=argparse.RawTextHelpFormatter)\n",
    "# p.add_argument(\"--grb_name\", default=\"GRB180423A\", type=str, help=\"Name of one GRB\")\n",
    "# p.add_argument(\"--batchNtrials\", default=10, type=int, help=\"Number of trials in this batch\")\n",
    "# p.add_argument(\"--batchIndex\", default=0, type=int, help=\"Index of current batch\")\n",
    "# p.add_argument(\"--tw_in_second\", default=10, type=int, help=\"Length of the time window in seconds\")\n",
    "# p.add_argument(\"--ncpu\", default=1, type=int, help=\"Number of CPU to give Csky\")\n",
    "# p.add_argument(\"--mode\", default=\"production\", type=str, help=\"Mode: production or testing\")\n",
    "# p.add_argument(\"--outfilename\", default=\"\", type=str, help=\"Output filename should have type .npz. Highly recommended on OSG\")\n",
    "# args = p.parse_args()\n",
    "###########################################################################\n",
    "\n",
    "\n",
    "### testing on jupyter ###\n",
    "\n",
    "class args:\n",
    "    grb_name = \"GRB180423A\"    # real healpix example\n",
    "    # grb_name = \"GRB190415A\"    # fake healpix example \n",
    "    batchNtrials = 20\n",
    "    batchIndex = 0\n",
    "    tw_in_second = 10\n",
    "    ncpu = 4\n",
    "    mode = \"testing\"\n",
    "    outfilename = \"\"\n",
    "\n",
    "##########################"
   ]
  },
  {
   "cell_type": "code",
   "execution_count": 6,
   "metadata": {},
   "outputs": [],
   "source": [
    "if tw_batchSize_map[args.tw_in_second] != args.batchNtrials and args.mode==\"prodection\":\n",
    "    raise Exception(\"You are not using the recommended batchNtrials wrt this tw_in_second!\")"
   ]
  },
  {
   "cell_type": "code",
   "execution_count": 7,
   "metadata": {},
   "outputs": [
    {
     "name": "stdout",
     "output_type": "stream",
     "text": [
      "\n",
      "===== Loading noHeaGRB list =====\n",
      "\n",
      "Loading pkl in DATA_DID\n",
      "\n",
      "...Done\n",
      "\n",
      "\n",
      "...Done\n",
      "\n"
     ]
    }
   ],
   "source": [
    "print(\"\\n===== Loading noHeaGRB list =====\\n\") \n",
    "if args.mode != \"production\" and LOCATION != \"IC-OSG\":\n",
    "    ANA_DIR = cy.utils.ensure_dir(ANA_DIR + \"/test\")\n",
    "# All times in days, all angles in degrees\n",
    "try:\n",
    "    print(\"Loading pkl in DATA_DID\")\n",
    "    # df = pd.read_pickle(DATA_DIR+\"/grbwebgbm/grbweb_gbm_noHeaplix.pkl\")\n",
    "    df = pd.read_pickle(DATA_DIR+\"/grbwebgbm/grbweb_gbm_noHeaplix_2297.pkl\")\n",
    "    \n",
    "except:\n",
    "    try:\n",
    "        print(\"Loading pkl in current path\")\n",
    "        # df = pd.read_pickle(\"grbweb_gbm_noHeaplix.pkl\")\n",
    "        df = pd.read_pickle(\"grbweb_gbm_noHeaplix_2297.pkl\")\n",
    "        \n",
    "    except:\n",
    "        raise Exception(\"Cannot pd.reade_picle() the grbweb_gbm_noHeaplix.pkl.\\n\")\n",
    "\n",
    "print(\"\\n...Done\\n\")\n",
    "    \n",
    "grb_row = df.loc[df['grb_name'] == args.grb_name]\n",
    "tw = args.tw_in_second/86400.\n",
    "tw_start = grb_row.t_center - 0.5*tw\n",
    "ra = grb_row.ra\n",
    "dec = grb_row.dec\n",
    "print(\"\\n...Done\\n\")"
   ]
  },
  {
   "cell_type": "code",
   "execution_count": 13,
   "metadata": {},
   "outputs": [
    {
     "name": "stdout",
     "output_type": "stream",
     "text": [
      "\n",
      "===== Setting up csky =====\n",
      "\n",
      "Setting up Analysis for:\n",
      "greco_v2.10\n",
      "Setting up greco_v2.10...\n",
      "Energy PDF Ratio Model...\n",
      "  * gamma = 4.0000 ...\n",
      "Signal Acceptance Model...\n",
      "  * gamma = 4.0000 ...\n",
      "Done.\n"
     ]
    }
   ],
   "source": [
    "print(\"\\n===== Setting up csky =====\\n\")\n",
    "data_dir = ICDATA_DIR\n",
    "# data_filenames = sorted(glob(data_dir + '/IC86_20*.data_with_angErr.npy'))\n",
    "data_filenames = sorted(glob(data_dir + '/IC86_20*.data.npy'))\n",
    "\n",
    "# sig_filenames = sorted(glob(data_dir + '/IC86_2012.nu*_merged_with_angErr.npy'))\n",
    "# load nue only to save memory, never used in this .py\n",
    "sig_filenames = sorted(glob(data_dir + '/IC86_2012.nu*_merged.npy'))\n",
    "grl_filenames = sorted(glob(data_dir + '/GRL/IC86_20*.data.npy'))\n",
    "\n",
    "################ energy lower bound #############\n",
    "min_log_e = np.log10(10)\n",
    "#################################################\n",
    "bins_sindec = np.linspace(-1, 1, 25+1)  \n",
    "# bins_logenergy = np.linspace(min_log_e, 5, 30+1)\n",
    "bins_logenergy = np.linspace(min_log_e, 4, 25+1)\n",
    "\n",
    "data = [np.load(data_filename) for data_filename in data_filenames]\n",
    "data = np.hstack(data)\n",
    "sig = [np.load(sig_filename) for sig_filename in sig_filenames]\n",
    "sig = np.hstack(sig)\n",
    "grl = [np.load(grl_filename) for grl_filename in grl_filenames]\n",
    "grl = np.hstack(grl)\n",
    "if min_log_e is not None:\n",
    "    data_mask = data['logE'] > min_log_e\n",
    "    data = data[data_mask]\n",
    "    sig_mask = sig['logE'] > min_log_e\n",
    "    sig = sig[sig_mask]\n",
    "    \n",
    "dataset_spec = cy.selections.CustomDataSpecs.CustomDataSpec(data, sig, np.sum(grl['livetime']),\n",
    "                                                     sindec_bins=bins_sindec,\n",
    "                                                     logenergy_bins=bins_logenergy,\n",
    "                                                     grl=grl, key='greco_v2.10', cascades=True)\n",
    "\n",
    "ANA_DIR = cy.utils.ensure_dir(ANA_DIR)\n",
    "# on OSG\n",
    "# ana_dir = \"./\"\n",
    "ana = cy.get_analysis(cy.selections.repo\n",
    "                      , dataset_spec\n",
    "                      , dir=ANA_DIR\n",
    "                      , load_sig=False)  # to save memory  \n",
    "\n"
   ]
  },
  {
   "cell_type": "code",
   "execution_count": 14,
   "metadata": {},
   "outputs": [],
   "source": [
    "conf = {\n",
    "    'ana': ana,\n",
    "    #### llh basics: csky.conf\n",
    "    'space': 'ps', # ps/fitps/template/prior\n",
    "    'time': 'transient', # utf/lc/transient\n",
    "    'energy': 'customflux', # fit/customflux\n",
    "    'flux': cy.hyp.PowerLawFlux(2),\n",
    "    #### inj.py - prior has some duplications against space's prior\n",
    "    'sig': 'transient', # ps/tw/lc/transient/template/prior\n",
    "    'full_sky': True,\n",
    "    'extended': True,\n",
    "    'mp_cpus': args.ncpu,\n",
    "    'cut_n_sigma': 3\n",
    "    }\n",
    "\n",
    "cy.CONF.update(conf)"
   ]
  },
  {
   "cell_type": "code",
   "execution_count": 15,
   "metadata": {},
   "outputs": [
    {
     "name": "stdout",
     "output_type": "stream",
     "text": [
      "\n",
      "===== Generating seeds for current batch =====\n",
      "\n",
      "\n",
      "...Done\n",
      "\n"
     ]
    }
   ],
   "source": [
    "print(\"\\n===== Generating seeds for current batch =====\\n\")   \n",
    "src = cy.utils.Sources(\n",
    "    ra=ra,\n",
    "    dec=dec,\n",
    "    deg=True,\n",
    "    mjd=tw_start, \n",
    "    sigma_t=np.zeros_like(tw), \n",
    "    t_100=tw,  # in days\n",
    "    # prior=[hl.heal.HealHist(healpix)],\n",
    "    name=args.grb_name\n",
    ")\n",
    "sstr = cy.get_sky_scan_trial_runner(conf=cy.CONF\n",
    "                                    ,nside=64\n",
    "                                    ,src_tr=src)\n",
    "\n",
    "rng=np.random.default_rng(abs(java_hash(src.name[0])))\n",
    "seeds = rng.integers(int(1e9), size=int(2e8))[args.batchNtrials*args.batchIndex: args.batchNtrials*(args.batchIndex + 1)]\n",
    "print(\"\\n...Done\\n\")"
   ]
  },
  {
   "cell_type": "code",
   "execution_count": 17,
   "metadata": {
    "scrolled": true
   },
   "outputs": [
    {
     "name": "stdout",
     "output_type": "stream",
     "text": [
      "\n",
      "===== Scanning =====\n",
      "\n",
      "Working on no_trial: 0 \n",
      "\n",
      "Working on no_trial: 2 \n",
      "\n",
      "Working on no_trial: 4 \n",
      "\n",
      "Working on no_trial: 6 \n",
      "\n",
      "Working on no_trial: 8 \n",
      "\n",
      "Working on no_trial: 10 \n",
      "\n",
      "Working on no_trial: 12 \n",
      "\n",
      "Working on no_trial: 14 \n",
      "\n",
      "Working on no_trial: 16 \n",
      "\n",
      "Working on no_trial: 18 \n",
      "\n",
      "\n",
      "0:20:55.440708 elapsed.\n",
      "\n",
      "...Done\n",
      "\n"
     ]
    }
   ],
   "source": [
    "print(\"\\n===== Scanning =====\\n\") \n",
    "all_pixel_TS = sparse.lil_matrix((len(seeds), hp.nside2npix(64)), dtype=float)\n",
    "# for a short test on Mar 12, 2021\n",
    "arr = []\n",
    "with time(\"allsky scramble scan\"):\n",
    "    for no_trial, seed in enumerate(seeds):\n",
    "        if no_trial % (len(seeds) // 10) == 0:\n",
    "            print(\"Working on no_trial: {} \\n\".format(no_trial))\n",
    "        # scan (3,49152): -log10p, TS, ns\n",
    "        scan = sstr.get_one_scan(n_sig=0\n",
    "                                 , poisson=False\n",
    "                                 , seed=seed\n",
    "                                 , TRUTH=False\n",
    "                                 , mp_cpus=args.ncpu\n",
    "                                 , logging=False)\n",
    "        all_pixel_TS[no_trial] = scan[1]\n",
    "        # for a short test on Mar 12, 2021\n",
    "        arr.append(scan)\n",
    "print(\"\\n...Done\\n\")"
   ]
  },
  {
   "cell_type": "code",
   "execution_count": 18,
   "metadata": {},
   "outputs": [],
   "source": [
    "brr = np.array(arr)"
   ]
  },
  {
   "cell_type": "code",
   "execution_count": 19,
   "metadata": {},
   "outputs": [
    {
     "data": {
      "text/plain": [
       "(20, 3, 49152)"
      ]
     },
     "execution_count": 19,
     "metadata": {},
     "output_type": "execute_result"
    }
   ],
   "source": [
    "brr.shape"
   ]
  },
  {
   "cell_type": "code",
   "execution_count": 12,
   "metadata": {},
   "outputs": [
    {
     "ename": "SyntaxError",
     "evalue": "invalid syntax (<ipython-input-12-1834b159b3cb>, line 1)",
     "output_type": "error",
     "traceback": [
      "\u001b[0;36m  File \u001b[0;32m\"<ipython-input-12-1834b159b3cb>\"\u001b[0;36m, line \u001b[0;32m1\u001b[0m\n\u001b[0;31m    assert 0:\u001b[0m\n\u001b[0m            ^\u001b[0m\n\u001b[0;31mSyntaxError\u001b[0m\u001b[0;31m:\u001b[0m invalid syntax\n"
     ]
    }
   ],
   "source": [
    "assert 0:\n",
    "    print(\"Stop here\")"
   ]
  },
  {
   "cell_type": "code",
   "execution_count": null,
   "metadata": {},
   "outputs": [],
   "source": [
    "print(\"\\n===== Converting to scipy.sparse and Save to disk =====\\n\")\n",
    "with time(\"To scipy.sparse npz\"):\n",
    "    hp_sparse = all_pixel_TS.tocsr()\n",
    "    outfilename = args.outfilename\n",
    "    if not outfilename:\n",
    "        outfilename = \"{}_batchSize{}_batchIndex{}_tw{}.npz\".format(args.grb_name, \n",
    "                                                                    args.batchNtrials, \n",
    "                                                                    args.batchIndex, \n",
    "                                                                    args.tw_in_second)\n",
    "## on locations other than OSG\n",
    "    output_folder = cy.utils.ensure_dir(ANA_DIR+\"/allsky_scan/no_prior_versatile/tw{}\".format(args.tw_in_second))\n",
    "    sparse.save_npz(output_folder+\"/{}\".format(outfilename)\n",
    "                    ,hp_sparse)\n",
    "## on OSG\n",
    "#     sparse.save_npz(\"{}\".format(outfilename)\n",
    "#                     ,hp_sparse)           \n",
    "##\n",
    "print(\"######## All Done. ###########\")"
   ]
  }
 ],
 "metadata": {
  "kernelspec": {
   "display_name": "Python [default]",
   "language": "python",
   "name": "python3"
  },
  "language_info": {
   "codemirror_mode": {
    "name": "ipython",
    "version": 3
   },
   "file_extension": ".py",
   "mimetype": "text/x-python",
   "name": "python",
   "nbconvert_exporter": "python",
   "pygments_lexer": "ipython3",
   "version": "3.7.6"
  }
 },
 "nbformat": 4,
 "nbformat_minor": 4
}
