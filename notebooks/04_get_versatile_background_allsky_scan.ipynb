{
 "cells": [
  {
   "cell_type": "code",
   "execution_count": 1,
   "metadata": {},
   "outputs": [
    {
     "data": {
      "text/plain": [
       "'\\nPerform all-sky scans with no spatial prior information.\\nRecord the TS (and number of true and fitted events around the\\nbest fit location) for each pixel, creating a background-only TSD\\nat each point in the sky.\\nCombine this map with GBM healpix maps or grab a single pixel\\nfor non-GBM bursts.\\n'"
      ]
     },
     "execution_count": 1,
     "metadata": {},
     "output_type": "execute_result"
    }
   ],
   "source": [
    "r\"\"\"\n",
    "Perform all-sky scans with no spatial prior information.\n",
    "Record the TS (and number of true and fitted events around the\n",
    "best fit location) for each pixel, creating a background-only TSD\n",
    "at each point in the sky.\n",
    "Combine this map with GBM healpix maps or grab a single pixel\n",
    "for non-GBM bursts.\n",
    "\"\"\""
   ]
  },
  {
   "cell_type": "code",
   "execution_count": 2,
   "metadata": {},
   "outputs": [
    {
     "name": "stdout",
     "output_type": "stream",
     "text": [
      "\n",
      "#### Working at GT ####\n",
      "\n",
      "USER: \t cchen641\n",
      "ICDATA_DIR: \t /storage/home/hhive1/cchen641/data/icecube/data/analyses/online_GRECO/version-002-p04\n",
      "DATA_DIR: \t /storage/home/hhive1/cchen641/data/icecube/data/greco_grb/data\n",
      "ANA_DIR: \t /storage/home/hhive1/cchen641/data/icecube/data/greco_grb/data/csky_output\n",
      "\n"
     ]
    }
   ],
   "source": [
    "import os\n",
    "import sys\n",
    "import numpy as np\n",
    "import healpy as hp\n",
    "import histlite as hl\n",
    "import csky as cy\n",
    "import pandas as pd\n",
    "from scipy import sparse\n",
    "\n",
    "import matplotlib.pyplot as plt\n",
    "from matplotlib import cm\n",
    "import matplotlib.colors as colors\n",
    "%matplotlib inline\n",
    "# %matplotlib notebook\n",
    "from glob import glob\n",
    "timer = cy.timing.Timer()\n",
    "time = timer.time\n",
    "\n",
    "###### Local Import ######\n",
    "import SETTING\n",
    "paths = SETTING.PATH()\n",
    "print(paths)\n",
    "USER = paths.USER\n",
    "ICDATA_DIR = paths.ICDATA_DIR\n",
    "DATA_DIR = paths.DATA_DIR\n",
    "ANA_DIR = paths.ANA_DIR\n",
    "\n",
    "from utils import *"
   ]
  },
  {
   "cell_type": "code",
   "execution_count": 3,
   "metadata": {},
   "outputs": [],
   "source": [
    "tw_batchSize_map = {\n",
    "                 10:10000,\n",
    "                 25:10000,\n",
    "                 50:10000,\n",
    "                 100:10000,\n",
    "                 250:10000,\n",
    "                 500:10000\n",
    "                }"
   ]
  },
  {
   "cell_type": "code",
   "execution_count": 4,
   "metadata": {},
   "outputs": [],
   "source": [
    "import argparse\n",
    "\n",
    "######################### CONFIGURE ARGUEMENTS #############################\n",
    "# p = argparse.ArgumentParser(description=\"Background Trials\",\n",
    "#                             formatter_class=argparse.RawTextHelpFormatter)\n",
    "# p.add_argument(\"--grb_name\", default=\"GRB190612A\", type=str, help=\"Name of one GRB\")\n",
    "# p.add_argument(\"--batchNtrials\", default=100, type=int, help=\"Number of trials in this batch\")\n",
    "# p.add_argument(\"--batchIndex\", default=0, type=int, help=\"Index of current batch\")\n",
    "# p.add_argument(\"--tw_in_second\", default=10, type=int, help=\"Length of the time window in seconds\")\n",
    "# p.add_argument(\"--concat\", default=0, type=int, help=\"True(1) for the last batchIndex. used to clear up everything\")\n",
    "# p.add_argument(\"--totalNtrials\", default=100000000, type=int, help=\"Number of total trials (1e8)\")\n",
    "# p.add_argument(\"--ncpu\", default=1, type=int, help=\"Number of CPU to give Csky\")\n",
    "# p.add_argument(\"--mode\", default=\"production\", type=str, help=\"Mode: production or testing\")\n",
    "# args = p.parse_args()\n",
    "###########################################################################\n",
    "\n",
    "### testing on jupyter ###\n",
    "class args:\n",
    "    grb_name = \"GRB180423A\"    # real healpix example\n",
    "    # grb_name = \"GRB190611B\"    # fake healpix example\n",
    "    batchNtrials = 40\n",
    "    batchIndex = 0\n",
    "    tw_in_second = 10\n",
    "    concat=0\n",
    "    totalNtrials = 40\n",
    "    ncpu = 4\n",
    "    mode = \"testing\"\n",
    "##########################"
   ]
  },
  {
   "cell_type": "code",
   "execution_count": 5,
   "metadata": {},
   "outputs": [],
   "source": [
    "if tw_batchSize_map[args.tw_in_second] != args.batchNtrials and args.mode==\"prodection\":\n",
    "    raise Exception(\"You are not using the recommended batchNtrials wrt this tw_in_second!\")"
   ]
  },
  {
   "cell_type": "code",
   "execution_count": 6,
   "metadata": {},
   "outputs": [
    {
     "name": "stdout",
     "output_type": "stream",
     "text": [
      "\n",
      "===== Loading GRB list =====\n",
      "\n",
      "\n",
      "...Done\n",
      "\n",
      "\n",
      "===== Loading healpix of GRB180423A=====\n",
      "\n",
      "\n",
      "...Done\n",
      "\n"
     ]
    }
   ],
   "source": [
    "print(\"\\n===== Loading GRB list =====\\n\") \n",
    "if args.mode != \"production\":\n",
    "    ANA_DIR = ANA_DIR + \"/test\"\n",
    "# All times in days, all angles in degrees\n",
    "try:\n",
    "    df = pd.read_pickle(DATA_DIR+\"/grbwebgbm/grbweb_gbm_noHeaplix.pkl\")\n",
    "except:\n",
    "    raise Exception(\"Cannot pd.reade_picle() the grbweb_gbm_noHeaplix.pkl.\\n\")\n",
    "\n",
    "print(\"\\n...Done\\n\")\n",
    "print(\"\\n===== Loading healpix of {}=====\\n\".format(args.grb_name))   \n",
    "try:\n",
    "    healpix = np.load(DATA_DIR+\"/grbwebgbm/healpix/{}_healpix_nside64.npy\".format(args.grb_name))\n",
    "    # healpix can contain negative values: faults due to Fermi-GBM\n",
    "    healpix = np.maximum(healpix,0)\n",
    "    ########## healpix reduce ##########\n",
    "    healpix[healpix <= isf_healpix(healpix, q=0.95)] = 0\n",
    "except:\n",
    "    raise Exception(\"Cannot load the healpix for grb: {}\\n\".format(args.grb_name))\n",
    "    \n",
    "grb_row = df.loc[df['grb_name'] == args.grb_name]\n",
    "tw = args.tw_in_second/86400.\n",
    "tw_start = grb_row.t_center - 0.5*tw\n",
    "ra = grb_row.ra\n",
    "dec = grb_row.dec\n",
    "print(\"\\n...Done\\n\")"
   ]
  },
  {
   "cell_type": "code",
   "execution_count": 7,
   "metadata": {},
   "outputs": [
    {
     "name": "stdout",
     "output_type": "stream",
     "text": [
      "\n",
      "===== Setting up csky =====\n",
      "\n",
      "Setting up Analysis for:\n",
      "greco_v2.4\n",
      "Setting up greco_v2.4...\n",
      "Energy PDF Ratio Model...\n",
      "  * gamma = 4.0000 ...\n",
      "Signal Acceptance Model...\n",
      "  * gamma = 4.0000 ...\n",
      "Done.\n"
     ]
    }
   ],
   "source": [
    "print(\"\\n===== Setting up csky =====\\n\")\n",
    "data_dir = ICDATA_DIR\n",
    "data_filenames = sorted(glob(data_dir + '/IC86_20*.data_with_angErr.npy'))\n",
    "sig_filenames = sorted(glob(data_dir + '/IC86_2012.nu*_merged_with_angErr.npy'))\n",
    "grl_filenames = sorted(glob(data_dir + '/GRL/IC86_20*.data.npy'))\n",
    "\n",
    "################ energy lower bound #############\n",
    "min_log_e = np.log10(30)\n",
    "#################################################\n",
    "bins_sindec = np.linspace(-1, 1, 25+1)  \n",
    "bins_logenergy = np.linspace(min_log_e, 5, 30+1)\n",
    "\n",
    "data = [np.load(data_filename) for data_filename in data_filenames]\n",
    "data = np.hstack(data)\n",
    "sig = [np.load(sig_filename) for sig_filename in sig_filenames]\n",
    "sig = np.hstack(sig)\n",
    "grl = [np.load(grl_filename) for grl_filename in grl_filenames]\n",
    "grl = np.hstack(grl)\n",
    "if min_log_e is not None:\n",
    "    data_mask = data['logE'] > min_log_e\n",
    "    data = data[data_mask]\n",
    "    sig_mask = sig['logE'] > min_log_e\n",
    "    sig = sig[sig_mask]\n",
    "    \n",
    "dataset_spec = cy.selections.CustomDataSpecs.CustomDataSpec(data, sig, np.sum(grl['livetime']),\n",
    "                                                     sindec_bins=bins_sindec,\n",
    "                                                     logenergy_bins=bins_logenergy,\n",
    "                                                     grl=grl, key='greco_v2.4', cascades=True)\n",
    "\n",
    "ana_dir = cy.utils.ensure_dir(ANA_DIR)\n",
    "ana = cy.get_analysis(cy.selections.repo, dataset_spec, dir=ana_dir, load_sig=True)    \n",
    "\n"
   ]
  },
  {
   "cell_type": "code",
   "execution_count": 8,
   "metadata": {},
   "outputs": [],
   "source": [
    "conf = {\n",
    "    'ana': ana,\n",
    "    #### llh basics: csky.conf\n",
    "    'space': 'ps', # ps/fitps/template/prior\n",
    "    'time': 'transient', # utf/lc/transient\n",
    "    'energy': 'customflux', # fit/customflux\n",
    "    'flux': cy.hyp.PowerLawFlux(2),\n",
    "    #### inj.py - prior has some duplications against space's prior\n",
    "    'sig': 'transient', # ps/tw/lc/transient/template/prior\n",
    "    'full_sky': True,\n",
    "    'extended': True,\n",
    "    'mp_cpus': args.ncpu\n",
    "    }\n",
    "\n",
    "cy.CONF.update(conf)"
   ]
  },
  {
   "cell_type": "code",
   "execution_count": 9,
   "metadata": {},
   "outputs": [
    {
     "name": "stdout",
     "output_type": "stream",
     "text": [
      "\n",
      "===== Generating seeds for current batch =====\n",
      "\n",
      "\n",
      "...Done\n",
      "\n"
     ]
    }
   ],
   "source": [
    "print(\"\\n===== Generating seeds for current batch =====\\n\")   \n",
    "src = cy.utils.Sources(\n",
    "    ra=ra,\n",
    "    dec=dec,\n",
    "    deg=True,\n",
    "    mjd=tw_start, \n",
    "    sigma_t=np.zeros_like(tw), \n",
    "    t_100=tw,  # in days\n",
    "    # prior=[hl.heal.HealHist(healpix)],\n",
    "    name=args.grb_name\n",
    ")\n",
    "sstr = cy.get_sky_scan_trial_runner(conf=cy.CONF\n",
    "                                    ,nside=64\n",
    "                                    ,src_tr=src)\n",
    "\n",
    "rng=np.random.default_rng(abs(java_hash(src.name[0])))\n",
    "seeds = rng.integers(int(1e9), size=int(2e8))[args.batchNtrials*args.batchIndex: args.batchNtrials*(args.batchIndex + 1)]\n",
    "print(\"\\n...Done\\n\")"
   ]
  },
  {
   "cell_type": "code",
   "execution_count": 10,
   "metadata": {
    "scrolled": true
   },
   "outputs": [
    {
     "name": "stdout",
     "output_type": "stream",
     "text": [
      "Working on no_trial: 0 \n",
      "\n",
      "Working on no_trial: 4 \n",
      "\n",
      "Working on no_trial: 8 \n",
      "\n",
      "Working on no_trial: 12 \n",
      "\n",
      "Working on no_trial: 16 \n",
      "\n",
      "Working on no_trial: 20 \n",
      "\n",
      "Working on no_trial: 24 \n",
      "\n",
      "Working on no_trial: 28 \n",
      "\n",
      "Working on no_trial: 32 \n",
      "\n",
      "Working on no_trial: 36 \n",
      "\n",
      "\n",
      "0:09:50.948551 elapsed.\n"
     ]
    }
   ],
   "source": [
    "all_pixel_TS = sparse.lil_matrix((len(seeds), hp.nside2npix(64)), dtype=float)\n",
    "with time(\"allsky scramble scan\"):\n",
    "    for no_trial, seed in enumerate(seeds):\n",
    "        if no_trial % (len(seeds) // 10) == 0:\n",
    "            print(\"Working on no_trial: {} \\n\".format(no_trial))\n",
    "        # scan (3,49152): -log10p, TS, ns\n",
    "        scan = sstr.get_one_scan(n_sig=0\n",
    "                                 , poisson=False\n",
    "                                 , seed=seed\n",
    "                                 , TRUTH=False\n",
    "                                 , mp_cpus=args.ncpu\n",
    "                                 , logging=False)\n",
    "        all_pixel_TS[no_trial] = scan[1]"
   ]
  },
  {
   "cell_type": "code",
   "execution_count": 11,
   "metadata": {},
   "outputs": [
    {
     "name": "stdout",
     "output_type": "stream",
     "text": [
      "\n",
      "0:00:00.004628 elapsed.\n",
      "######## Done. ###########\n"
     ]
    }
   ],
   "source": [
    "with time(\"Saving....\"):\n",
    "    hp_sparse = all_pixel_TS.tocsr()\n",
    "    output_folder = cy.utils.ensure_dir(ANA_DIR+\"/allsky_scan/no_prior_versatile/{}/tw{}\".format(args.grb_name, args.tw_in_second))\n",
    "    sparse.save_npz(output_folder+\"/{}_batchSize{}_batchIndex{}_tw{}.npz\".format(args.grb_name, \n",
    "                                                                    args.batchNtrials, \n",
    "                                                                    args.batchIndex, \n",
    "                                                                    args.tw_in_second)\n",
    "                    ,hp_sparse)\n",
    "print(\"######## Done. ###########\")\n"
   ]
  },
  {
   "cell_type": "code",
   "execution_count": null,
   "metadata": {},
   "outputs": [],
   "source": []
  },
  {
   "cell_type": "code",
   "execution_count": null,
   "metadata": {},
   "outputs": [],
   "source": []
  },
  {
   "cell_type": "code",
   "execution_count": null,
   "metadata": {},
   "outputs": [],
   "source": []
  }
 ],
 "metadata": {
  "kernelspec": {
   "display_name": "Python [conda env:icecube_py3]",
   "language": "python",
   "name": "conda-env-icecube_py3-py"
  },
  "language_info": {
   "codemirror_mode": {
    "name": "ipython",
    "version": 3
   },
   "file_extension": ".py",
   "mimetype": "text/x-python",
   "name": "python",
   "nbconvert_exporter": "python",
   "pygments_lexer": "ipython3",
   "version": "3.7.3"
  }
 },
 "nbformat": 4,
 "nbformat_minor": 4
}
