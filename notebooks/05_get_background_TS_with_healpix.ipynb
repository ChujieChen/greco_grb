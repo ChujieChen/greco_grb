{
 "cells": [
  {
   "cell_type": "code",
   "execution_count": 1,
   "metadata": {},
   "outputs": [
    {
     "data": {
      "text/plain": [
       "'\\nCombine the non-prior background all-sky scan TS\\nwith the GBM/fake healpix prior\\nto get the maximum TSs\\n\\nThis is a jupyter test.\\nThe actual work is done with `02_get_background_TS_with_healpix.py`\\n'"
      ]
     },
     "execution_count": 1,
     "metadata": {},
     "output_type": "execute_result"
    }
   ],
   "source": [
    "\"\"\"\n",
    "Combine the non-prior background all-sky scan TS\n",
    "with the GBM/fake healpix prior\n",
    "to get the maximum TSs\n",
    "\n",
    "This is a jupyter test.\n",
    "The actual work is done with `02_get_background_TS_with_healpix.py`\n",
    "\"\"\""
   ]
  },
  {
   "cell_type": "code",
   "execution_count": 1,
   "metadata": {},
   "outputs": [
    {
     "name": "stdout",
     "output_type": "stream",
     "text": [
      "Python version:  3.7.3 (default, Mar 27 2019, 22:11:17) \n",
      "[GCC 7.3.0]\n",
      "\n",
      "#### Working at GT ####\n",
      "\n",
      "LOCATION: \t GT\n",
      "USER: \t cchen641\n",
      "ICDATA_DIR: \t /storage/home/hhive1/cchen641/data/icecube/data/analyses/online_GRECO/candidate-002-p10\n",
      "DATA_DIR: \t /storage/home/hhive1/cchen641/data/icecube/data/greco_grb/data\n",
      "ANA_DIR: \t /storage/home/hhive1/cchen641/data/icecube/data/greco_grb/data/csky_output\n",
      "\n"
     ]
    }
   ],
   "source": [
    "import os\n",
    "import sys\n",
    "print(\"Python version: \", end=' ')\n",
    "print(sys.version)\n",
    "\n",
    "import numpy as np\n",
    "import healpy as hp\n",
    "# import histlite as hl\n",
    "import csky as cy\n",
    "import pandas as pd\n",
    "from scipy import sparse\n",
    "\n",
    "# import matplotlib.pyplot as plt\n",
    "# from matplotlib import cm\n",
    "# import matplotlib.colors as colors\n",
    "############# comment out below two lines on clusters ##########\n",
    "# %matplotlib inline\n",
    "# %matplotlib notebook\n",
    "################################################################\n",
    "from glob import glob\n",
    "timer = cy.timing.Timer()\n",
    "time = timer.time\n",
    "\n",
    "###### Local Import ######\n",
    "sys.path.append('../../')\n",
    "from greco_grb.scripts import SETTING\n",
    "paths = SETTING.PATH()\n",
    "print(paths)\n",
    "LOCATION = paths.LOCATION\n",
    "USER = paths.USER\n",
    "ICDATA_DIR = paths.ICDATA_DIR\n",
    "DATA_DIR = paths.DATA_DIR\n",
    "ANA_DIR = paths.ANA_DIR\n",
    "\n",
    "from greco_grb.scripts.utils import *\n",
    "\n",
    "######### python multiprocessing #######\n",
    "import multiprocessing as mp"
   ]
  },
  {
   "cell_type": "code",
   "execution_count": 2,
   "metadata": {},
   "outputs": [],
   "source": [
    "import argparse\n",
    "\n",
    "######################### CONFIGURE ARGUEMENTS #############################\n",
    "# p = argparse.ArgumentParser(description=\"Background Trials\",\n",
    "#                             formatter_class=argparse.RawTextHelpFormatter)\n",
    "# p.add_argument(\"--grb_name_idx_start\", default=0, type=int, help=\"Starting index of one GRB\")\n",
    "# p.add_argument(\"--grb_name_idx_end\", default=1, type=int, help=\"Ending index of one GRB\")\n",
    "# p.add_argument(\"--tw_in_second\", default=10, type=int, help=\"Length of the time window in seconds\")\n",
    "# args = p.parse_args()\n",
    "###########################################################################\n",
    "\n",
    "\n",
    "### testing on jupyter ###\n",
    "\n",
    "class args:\n",
    "    grb_name_idx_start = 0    # [start, end)   [inclusive, exclusive)\n",
    "    grb_name_idx_end = 1\n",
    "    # grb_name = \"GRB180423A\"    # real healpix example\n",
    "    # grb_name = \"GRB190611B\"    # fake healpix example\n",
    "    tw_in_second = 500\n",
    "\n",
    "##########################"
   ]
  },
  {
   "cell_type": "code",
   "execution_count": 3,
   "metadata": {},
   "outputs": [
    {
     "name": "stdout",
     "output_type": "stream",
     "text": [
      "\n",
      "===== Loading no-healpix df =====\n",
      "\n"
     ]
    }
   ],
   "source": [
    "print(\"\\n===== Loading no-healpix df =====\\n\")\n",
    "df = pd.read_pickle(DATA_DIR+\"/grbwebgbm/grbweb_gbm_noHealpix_2268.pkl\")\n",
    "# realHealpix: df.gbm & df.hasHealpix\n",
    "# fakeHealpix: ~(df.gbm & df.hasHealpix)\n",
    "# df.head()"
   ]
  },
  {
   "cell_type": "code",
   "execution_count": 4,
   "metadata": {},
   "outputs": [],
   "source": [
    "files = glob(ANA_DIR + \"/allsky_scan/no_prior_versatile/tw{}/GRB180423A_batchSize2500_batchIndex*_tw{}.npz\".format(args.tw_in_second, args.tw_in_second))\n",
    "files.sort(key=lambda x: int(x[x.find(\"batchIndex\") + len(\"batchIndex\"): x.find(\"_tw\")]))\n"
   ]
  },
  {
   "cell_type": "code",
   "execution_count": 6,
   "metadata": {},
   "outputs": [],
   "source": [
    "################ for testing  #############\n",
    "# files = files[:4]\n",
    "###########################################"
   ]
  },
  {
   "cell_type": "code",
   "execution_count": 5,
   "metadata": {},
   "outputs": [
    {
     "name": "stdout",
     "output_type": "stream",
     "text": [
      "GRB200529B\n",
      "\n",
      "0:04:53.206383 elapsed.\n",
      "\n",
      "0:04:53.478357 elapsed.\n"
     ]
    }
   ],
   "source": [
    "with time(\"from idx {} to idx {}\".format(args.grb_name_idx_start, args.grb_name_idx_end)):\n",
    "    for grb_idx in range(args.grb_name_idx_start, args.grb_name_idx_end):\n",
    "        grb_name = df.grb_name[grb_idx]\n",
    "        print(\"\\n===== Loading Prior {} =====\\n\".format(grb_name))\n",
    "        probs = np.maximum(1e-15, np.load(DATA_DIR+\"/grbwebgbm/healpix/{}_healpix_nside64.npy\".format(grb_name)))\n",
    "        print(\"\\n===== Done =====\\n\")\n",
    "        print(\"\\n===== Calculating MAXs =====\\n\")\n",
    "        with time(\"{}_tw{}\".format(grb_name, args.tw_in_second)):\n",
    "            TSs = np.array([])\n",
    "            with mp.Pool() as pool:\n",
    "                tss = np.array(pool.starmap(getCombinedMaxTSfromFile, zip([probs]*len(files), files)))\n",
    "                TSs = np.append(TSs, tss.flatten())\n",
    "        print(\"\\n===== Done =====\\n\")\n",
    "    \n",
    "        print(\"\\n===== Saving... =====\\n\")\n",
    "        sTSs = sparse.csr_matrix(TSs, dtype=float)\n",
    "        outfilename = \"{}_tw{}_NTrial{}.npz\".format(grb_name, \n",
    "                                                     args.tw_in_second,\n",
    "                                                    sTSs.shape[1])\n",
    "        output_folder = cy.utils.ensure_dir(ANA_DIR+\"/allsky_scan/with_prior_background/tw{}\".format(args.tw_in_second))\n",
    "        sparse.save_npz(output_folder+\"/{}\".format(outfilename) ,sTSs)\n",
    "        print(\"\\n===== Saved =====\\n\")"
   ]
  },
  {
   "cell_type": "code",
   "execution_count": null,
   "metadata": {},
   "outputs": [],
   "source": []
  },
  {
   "cell_type": "code",
   "execution_count": null,
   "metadata": {},
   "outputs": [],
   "source": []
  },
  {
   "cell_type": "code",
   "execution_count": null,
   "metadata": {},
   "outputs": [],
   "source": []
  },
  {
   "cell_type": "code",
   "execution_count": 45,
   "metadata": {},
   "outputs": [
    {
     "data": {
      "text/plain": [
       "'\\noriginal implementation\\n'"
      ]
     },
     "execution_count": 45,
     "metadata": {},
     "output_type": "execute_result"
    }
   ],
   "source": [
    "\"\"\"\n",
    "original implementation: not using multiprocessing\n",
    "\"\"\""
   ]
  },
  {
   "cell_type": "code",
   "execution_count": 38,
   "metadata": {},
   "outputs": [
    {
     "name": "stdout",
     "output_type": "stream",
     "text": [
      "GRB200529B\n",
      "Working on number of file: 0\n",
      "Working on number of file: 8\n",
      "Working on number of file: 16\n",
      "Working on number of file: 24\n",
      "Working on number of file: 32\n",
      "Working on number of file: 40\n",
      "Working on number of file: 48\n",
      "Working on number of file: 56\n",
      "Working on number of file: 64\n",
      "Working on number of file: 72\n",
      "Working on number of file: 80\n",
      "Working on number of file: 88\n",
      "Working on number of file: 96\n",
      "Working on number of file: 104\n",
      "Working on number of file: 112\n",
      "Working on number of file: 120\n",
      "Working on number of file: 128\n",
      "Working on number of file: 136\n",
      "Working on number of file: 144\n",
      "Working on number of file: 152\n",
      "Working on number of file: 160\n",
      "Working on number of file: 168\n",
      "Working on number of file: 176\n",
      "Working on number of file: 184\n",
      "Working on number of file: 192\n",
      "Working on number of file: 200\n",
      "Working on number of file: 208\n",
      "Working on number of file: 216\n",
      "Working on number of file: 224\n",
      "Working on number of file: 232\n",
      "Working on number of file: 240\n",
      "Working on number of file: 248\n",
      "Working on number of file: 256\n",
      "Working on number of file: 264\n",
      "Working on number of file: 272\n",
      "Working on number of file: 280\n",
      "Working on number of file: 288\n",
      "Working on number of file: 296\n",
      "Working on number of file: 304\n",
      "Working on number of file: 312\n",
      "Working on number of file: 320\n",
      "Working on number of file: 328\n",
      "Working on number of file: 336\n",
      "Working on number of file: 344\n",
      "Working on number of file: 352\n",
      "Working on number of file: 360\n",
      "Working on number of file: 368\n",
      "Working on number of file: 376\n",
      "Working on number of file: 384\n",
      "Working on number of file: 392\n",
      "\n",
      "0:25:27.160075 elapsed.\n"
     ]
    }
   ],
   "source": [
    "for grb_idx in range(args.grb_name_idx_start, args. grb_name_idx_end):\n",
    "    grb_name = df.grb_name[grb_idx]\n",
    "    print(grb_name)\n",
    "    probs = np.maximum(1e-15, np.load(DATA_DIR+\"/grbwebgbm/healpix/{}_healpix_nside64.npy\".format(grb_name)))\n",
    "    \n",
    "    with time(\"{}_tw{}\".format(grb_name, args.tw_in_second)):\n",
    "        TSs = []\n",
    "        for i, file in enumerate(files):\n",
    "            if i % (len(files)/50) == 0:\n",
    "                print(\"Working on number of file: {}\".format(i))\n",
    "            scans = sparse.load_npz(file)\n",
    "            ## sol0: 1 cpu\n",
    "            for idx in range(scans.shape[0]):\n",
    "                scan = scans[idx]\n",
    "                TS = getCombinedMaxTS(probs, scan)\n",
    "                TSs.append(TS)\n",
    "            ## sol1: mp.Pool()\n",
    "#             with mp.Pool() as pool:\n",
    "#                 TSs.extend(pool.starmap(getCombinedMaxTS, zip([probs]*scans.shape[0], scans)))\n",
    "            \n",
    "                \n",
    "    sTSs = sparse.csr_matrix(TSs, dtype=float)\n",
    "    \n",
    "    outfilename = \"{}_tw{}_NTrial{}.npz\".format(grb_name, \n",
    "                                                 args.tw_in_second,\n",
    "                                                sTSs.shape[1])\n",
    "    output_folder = cy.utils.ensure_dir(ANA_DIR+\"/allsky_scan/with_prior_background/tw{}\".format(args.tw_in_second))\n",
    "#     sparse.save_npz(output_folder+\"/{}\".format(outfilename) ,sTSs)\n",
    " "
   ]
  },
  {
   "cell_type": "code",
   "execution_count": 39,
   "metadata": {},
   "outputs": [
    {
     "data": {
      "text/plain": [
       "285768"
      ]
     },
     "execution_count": 39,
     "metadata": {},
     "output_type": "execute_result"
    }
   ],
   "source": [
    "# 21cpu*min for 1 GRB for 1 TW\n",
    "21 * 2268 * 6\n",
    "\n",
    "# using 4 cpus: 25min for 1 GRB for 1 TW....."
   ]
  },
  {
   "cell_type": "code",
   "execution_count": 40,
   "metadata": {},
   "outputs": [
    {
     "data": {
      "text/plain": [
       "24"
      ]
     },
     "execution_count": 40,
     "metadata": {},
     "output_type": "execute_result"
    }
   ],
   "source": [
    "mp.cpu_count()"
   ]
  },
  {
   "cell_type": "code",
   "execution_count": null,
   "metadata": {},
   "outputs": [],
   "source": []
  }
 ],
 "metadata": {
  "kernelspec": {
   "display_name": "Python [conda env:icecube_py3]",
   "language": "python",
   "name": "conda-env-icecube_py3-py"
  },
  "language_info": {
   "codemirror_mode": {
    "name": "ipython",
    "version": 3
   },
   "file_extension": ".py",
   "mimetype": "text/x-python",
   "name": "python",
   "nbconvert_exporter": "python",
   "pygments_lexer": "ipython3",
   "version": "3.7.3"
  }
 },
 "nbformat": 4,
 "nbformat_minor": 4
}
