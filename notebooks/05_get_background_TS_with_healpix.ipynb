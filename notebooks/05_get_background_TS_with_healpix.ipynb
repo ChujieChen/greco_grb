{
 "cells": [
  {
   "cell_type": "code",
   "execution_count": 1,
   "metadata": {},
   "outputs": [
    {
     "data": {
      "text/plain": [
       "'\\nCombine the non-prior background all-sky scan TS\\nwith the GBM/fake healpix prior\\nto get the maximum TSs\\n\\nThis is a jupyter test.\\nThe actual work is done with `02_get_background_TS_with_healpix.py`\\n'"
      ]
     },
     "execution_count": 1,
     "metadata": {},
     "output_type": "execute_result"
    }
   ],
   "source": [
    "\"\"\"\n",
    "Combine the non-prior background all-sky scan TS\n",
    "with the GBM/fake healpix prior\n",
    "to get the maximum TSs\n",
    "\n",
    "This is a jupyter test.\n",
    "The actual work is done with `02_get_background_TS_with_healpix.py`\n",
    "\"\"\""
   ]
  },
  {
   "cell_type": "code",
   "execution_count": 2,
   "metadata": {},
   "outputs": [
    {
     "name": "stdout",
     "output_type": "stream",
     "text": [
      "Python version:  3.7.3 (default, Mar 27 2019, 22:11:17) \n",
      "[GCC 7.3.0]\n",
      "\n",
      "#### Working at GT ####\n",
      "\n",
      "LOCATION: \t GT\n",
      "USER: \t cchen641\n",
      "ICDATA_DIR: \t /storage/home/hhive1/cchen641/data/icecube/data/analyses/online_GRECO/candidate-002-p10\n",
      "DATA_DIR: \t /storage/home/hhive1/cchen641/data/icecube/data/greco_grb/data\n",
      "ANA_DIR: \t /storage/home/hhive1/cchen641/data/icecube/data/greco_grb/data/csky_output\n",
      "\n"
     ]
    }
   ],
   "source": [
    "import os\n",
    "import sys\n",
    "print(\"Python version: \", end=' ')\n",
    "print(sys.version)\n",
    "\n",
    "import numpy as np\n",
    "import healpy as hp\n",
    "# import histlite as hl\n",
    "import csky as cy\n",
    "import pandas as pd\n",
    "from scipy import sparse\n",
    "\n",
    "# import matplotlib.pyplot as plt\n",
    "# from matplotlib import cm\n",
    "# import matplotlib.colors as colors\n",
    "############# comment out below two lines on clusters ##########\n",
    "# %matplotlib inline\n",
    "# %matplotlib notebook\n",
    "################################################################\n",
    "from glob import glob\n",
    "timer = cy.timing.Timer()\n",
    "time = timer.time\n",
    "\n",
    "###### Local Import ######\n",
    "sys.path.append('../../')\n",
    "from greco_grb.scripts import SETTING\n",
    "paths = SETTING.PATH()\n",
    "print(paths)\n",
    "LOCATION = paths.LOCATION\n",
    "USER = paths.USER\n",
    "ICDATA_DIR = paths.ICDATA_DIR\n",
    "DATA_DIR = paths.DATA_DIR\n",
    "ANA_DIR = paths.ANA_DIR\n",
    "\n",
    "from greco_grb.scripts.utils import *"
   ]
  },
  {
   "cell_type": "code",
   "execution_count": 3,
   "metadata": {},
   "outputs": [],
   "source": [
    "import argparse\n",
    "\n",
    "######################### CONFIGURE ARGUEMENTS #############################\n",
    "# p = argparse.ArgumentParser(description=\"Background Trials\",\n",
    "#                             formatter_class=argparse.RawTextHelpFormatter)\n",
    "# p.add_argument(\"--grb_name_idx_start\", default=0, type=int, help=\"Starting index of one GRB\")\n",
    "# p.add_argument(\"--grb_name_idx_end\", default=1, type=int, help=\"Ending index of one GRB\")\n",
    "# p.add_argument(\"--tw_in_second\", default=10, type=int, help=\"Length of the time window in seconds\")\n",
    "# args = p.parse_args()\n",
    "###########################################################################\n",
    "\n",
    "\n",
    "### testing on jupyter ###\n",
    "\n",
    "class args:\n",
    "    grb_name_idx_start = 0    # [start, end)   [inclusive, exclusive)\n",
    "    grb_name_idx_end = 2\n",
    "    # grb_name = \"GRB180423A\"    # real healpix example\n",
    "    # grb_name = \"GRB190611B\"    # fake healpix example\n",
    "    tw_in_second = 100\n",
    "\n",
    "##########################"
   ]
  },
  {
   "cell_type": "code",
   "execution_count": 4,
   "metadata": {},
   "outputs": [
    {
     "name": "stdout",
     "output_type": "stream",
     "text": [
      "\n",
      "===== Loading no-healpix df =====\n",
      "\n"
     ]
    }
   ],
   "source": [
    "print(\"\\n===== Loading no-healpix df =====\\n\")\n",
    "df = pd.read_pickle(DATA_DIR+\"/grbwebgbm/grbweb_gbm_noHealpix_2268.pkl\")\n",
    "# realHealpix: df.gbm & df.hasHealpix\n",
    "# fakeHealpix: ~(df.gbm & df.hasHealpix)\n",
    "# df.head()"
   ]
  },
  {
   "cell_type": "code",
   "execution_count": 5,
   "metadata": {},
   "outputs": [],
   "source": [
    "files = glob(ANA_DIR + \"/allsky_scan/no_prior_versatile/tw{}/GRB180423A_batchSize2500_batchIndex*_tw{}.npz\".format(args.tw_in_second, args.tw_in_second))\n",
    "files.sort(key=lambda x: int(x[x.find(\"batchIndex\") + len(\"batchIndex\"): x.find(\"_tw\")]))\n"
   ]
  },
  {
   "cell_type": "code",
   "execution_count": 6,
   "metadata": {},
   "outputs": [],
   "source": [
    "################ for testing  #############\n",
    "files = files[:4]\n",
    "###########################################"
   ]
  },
  {
   "cell_type": "code",
   "execution_count": 7,
   "metadata": {},
   "outputs": [
    {
     "data": {
      "text/plain": [
       "['/storage/home/hhive1/cchen641/data/icecube/data/greco_grb/data/csky_output/allsky_scan/no_prior_versatile/tw100/GRB180423A_batchSize2500_batchIndex0_tw100.npz',\n",
       " '/storage/home/hhive1/cchen641/data/icecube/data/greco_grb/data/csky_output/allsky_scan/no_prior_versatile/tw100/GRB180423A_batchSize2500_batchIndex1_tw100.npz',\n",
       " '/storage/home/hhive1/cchen641/data/icecube/data/greco_grb/data/csky_output/allsky_scan/no_prior_versatile/tw100/GRB180423A_batchSize2500_batchIndex2_tw100.npz',\n",
       " '/storage/home/hhive1/cchen641/data/icecube/data/greco_grb/data/csky_output/allsky_scan/no_prior_versatile/tw100/GRB180423A_batchSize2500_batchIndex3_tw100.npz']"
      ]
     },
     "execution_count": 7,
     "metadata": {},
     "output_type": "execute_result"
    }
   ],
   "source": [
    "files"
   ]
  },
  {
   "cell_type": "code",
   "execution_count": 8,
   "metadata": {},
   "outputs": [],
   "source": [
    "def getCombinedMaxTS(healpix, scan):\n",
    "    \"\"\"\n",
    "    Combine the non-prior background TS scan with the healpix prior\n",
    "    then return the maximum TS\n",
    "    \n",
    "    Parameters\n",
    "    ----------\n",
    "    healpix : array_like\n",
    "        A prior healpix map. shape [hp.nside2pix(64), ]\n",
    "        \n",
    "    scan : array_like (scipy.sparse matrix)\n",
    "        One non-prior background scan (shape [1, hp.nside2pix(64)])\n",
    "    \n",
    "    Returns\n",
    "    -------\n",
    "    TS : scalar\n",
    "        The maximum TS from the combined background.\n",
    "    \n",
    "    See also\n",
    "    -------\n",
    "    N/A\n",
    "    \"\"\"\n",
    "    healpix = np.maximum(healpix, 1e-15)\n",
    "    ts = scan.copy()\n",
    "    # non-overlapping region will have negative TS anyways\n",
    "    ts.data += 2. * (np.log(healpix[scan.indices]) - np.log(np.max(healpix)))\n",
    "    ts.data[~np.isfinite(ts.data)] = 0\n",
    "    return np.max(ts)"
   ]
  },
  {
   "cell_type": "code",
   "execution_count": 15,
   "metadata": {},
   "outputs": [
    {
     "data": {
      "text/plain": [
       "Int64Index([   0,    1,    2,    3,    4,    5,    6,    7,    8,    9,\n",
       "            ...\n",
       "            2287, 2288, 2289, 2290, 2291, 2292, 2293, 2294, 2295, 2296],\n",
       "           dtype='int64', length=2268)"
      ]
     },
     "execution_count": 15,
     "metadata": {},
     "output_type": "execute_result"
    }
   ],
   "source": [
    "df.index"
   ]
  },
  {
   "cell_type": "code",
   "execution_count": 8,
   "metadata": {},
   "outputs": [
    {
     "name": "stdout",
     "output_type": "stream",
     "text": [
      "Working on number of file: 0\n",
      "\n",
      "0:00:04.789334 elapsed.\n",
      "Working on number of file: 0\n",
      "\n",
      "0:00:04.358086 elapsed.\n"
     ]
    }
   ],
   "source": [
    "for grb_idx in range(args.grb_name_idx_start, args. grb_name_idx_end):\n",
    "    grb_name = df.grb_name[grb_idx]\n",
    "    probs = np.maximum(1e-15, np.load(DATA_DIR+\"/grbwebgbm/healpix/{}_healpix_nside64.npy\".format(grb_name)))\n",
    "    \n",
    "    with time(\"{}_tw{}\".format(grb_name, args.tw_in_second)):\n",
    "        TSs = []\n",
    "        for i, file in enumerate(files):\n",
    "            if i % (len(files)/10) == 0:\n",
    "                print(\"Working on number of file: {}\".format(i))\n",
    "            scans = sparse.load_npz(file)\n",
    "            for idx in range(scans.shape[0]):\n",
    "                scan = scans[idx]\n",
    "                TS = getCombinedMaxTS(probs, scan)\n",
    "                TSs.append(TS)\n",
    "                \n",
    "    \n",
    "    sTSs = sparse.csr_matrix(TSs, dtype=float)\n",
    "    \n",
    "    outfilename = \"{}_tw{}_NTrial{}.npz\".format(grb_name, \n",
    "                                                 args.tw_in_second,\n",
    "                                                sTSs.shape[1])\n",
    "    output_folder = cy.utils.ensure_dir(ANA_DIR+\"/allsky_scan/with_prior_background/tw{}\".format(args.tw_in_second))\n",
    "#     sparse.save_npz(output_folder+\"/{}\".format(outfilename) ,sTSs)\n",
    " "
   ]
  },
  {
   "cell_type": "code",
   "execution_count": null,
   "metadata": {},
   "outputs": [],
   "source": []
  },
  {
   "cell_type": "code",
   "execution_count": null,
   "metadata": {},
   "outputs": [],
   "source": []
  }
 ],
 "metadata": {
  "kernelspec": {
   "display_name": "Python [conda env:icecube_py3]",
   "language": "python",
   "name": "conda-env-icecube_py3-py"
  },
  "language_info": {
   "codemirror_mode": {
    "name": "ipython",
    "version": 3
   },
   "file_extension": ".py",
   "mimetype": "text/x-python",
   "name": "python",
   "nbconvert_exporter": "python",
   "pygments_lexer": "ipython3",
   "version": "3.7.3"
  }
 },
 "nbformat": 4,
 "nbformat_minor": 4
}
