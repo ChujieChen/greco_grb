{
 "cells": [
  {
   "cell_type": "code",
   "execution_count": 1,
   "metadata": {},
   "outputs": [
    {
     "name": "stdout",
     "output_type": "stream",
     "text": [
      "\n",
      "#### Working at GT ####\n",
      "\n",
      "LOCATION: \t GT\n",
      "USER: \t cchen641\n",
      "ICDATA_DIR: \t /storage/home/hhive1/cchen641/data/icecube/data/analyses/online_GRECO/candidate-002-p10\n",
      "DATA_DIR: \t /storage/home/hhive1/cchen641/data/icecube/data/greco_grb/data\n",
      "ANA_DIR: \t /storage/home/hhive1/cchen641/data/icecube/data/greco_grb/data/csky_output\n",
      "\n"
     ]
    }
   ],
   "source": [
    "import os\n",
    "import sys\n",
    "import numpy as np\n",
    "import healpy as hp\n",
    "import histlite as hl\n",
    "import csky as cy\n",
    "import pandas as pd\n",
    "\n",
    "import matplotlib.pyplot as plt\n",
    "plt.rcParams['text.usetex'] = False\n",
    "from matplotlib import cm\n",
    "import matplotlib.colors as colors\n",
    "\n",
    "import seaborn as sns\n",
    "# sns.set_theme(style=\"whitegrid\")\n",
    "\n",
    "%matplotlib inline\n",
    "# %matplotlib notebook\n",
    "\n",
    "from glob import glob\n",
    "timer = cy.timing.Timer()\n",
    "time = timer.time\n",
    "\n",
    "sys.path.append('../../')\n",
    "from greco_grb.scripts import SETTING\n",
    "paths = SETTING.PATH()\n",
    "print(paths)\n",
    "USER = paths.USER\n",
    "ICDATA_DIR = paths.ICDATA_DIR\n",
    "DATA_DIR = paths.DATA_DIR\n",
    "ANA_DIR = paths.ANA_DIR\n",
    "\n",
    "from greco_grb.scripts.utils import *"
   ]
  },
  {
   "cell_type": "code",
   "execution_count": 2,
   "metadata": {},
   "outputs": [],
   "source": [
    "class args:\n",
    "    grb_idx_start = 168 \n",
    "    grb_idx_end = 174 \n",
    "    ncpu = 4\n",
    "    out_dir = \"/storage/home/hhive1/cchen641/data/icecube/data/greco_grb/data/csky_output\"\n",
    "# import argparse\n",
    "# p = argparse.ArgumentParser(description=\"Unbindling script\",\n",
    "#                             formatter_class=argparse.RawTextHelpFormatter)\n",
    "# p.add_argument(\"--grb_idx_start\", default=0, type=int, help=\"GRB idx start: [start, end)\")\n",
    "# p.add_argument(\"--grb_idx_end\", default=1, type=int, help=\"GRB idx end: [start, end)\")\n",
    "# p.add_argument(\"--ncpu\", default=1, type=int, help=\"Number of CPUs\")\n",
    "# args = p.parse_args()"
   ]
  },
  {
   "cell_type": "code",
   "execution_count": 3,
   "metadata": {},
   "outputs": [
    {
     "name": "stdout",
     "output_type": "stream",
     "text": [
      "\n",
      "===== Setting up csky =====\n",
      "\n",
      "Setting up Analysis for:\n",
      "greco_v2.10\n",
      "Setting up greco_v2.10...\n",
      "Energy PDF Ratio Model...\n",
      "  * gamma = 4.0000 ...\n",
      "Signal Acceptance Model...\n",
      "  * gamma = 4.0000 ...\n",
      "Done.\n"
     ]
    }
   ],
   "source": [
    "print(\"\\n===== Setting up csky =====\\n\")\n",
    "data_dir = ICDATA_DIR\n",
    "data_filenames = sorted(glob(data_dir + '/IC86_20*.data.npy'))\n",
    "sig_filenames = sorted(glob(data_dir + '/IC86_2012.nu*_merged.npy'))\n",
    "grl_filenames = sorted(glob(data_dir + '/GRL/IC86_20*.data.npy'))\n",
    "\n",
    "################ energy lower bound #############\n",
    "min_log_e = np.log10(10)\n",
    "#################################################\n",
    "bins_sindec = np.linspace(-1, 1, 25+1)  \n",
    "bins_logenergy = np.linspace(min_log_e, 4, 25+1)\n",
    "\n",
    "data = [np.load(data_filename) for data_filename in data_filenames]\n",
    "data = np.hstack(data)\n",
    "sig = [np.load(sig_filename) for sig_filename in sig_filenames]\n",
    "sig = np.hstack(sig)\n",
    "grl = [np.load(grl_filename) for grl_filename in grl_filenames]\n",
    "grl = np.hstack(grl)\n",
    "if min_log_e is not None:\n",
    "    data_mask = data['logE'] > min_log_e\n",
    "    data = data[data_mask]\n",
    "    sig_mask = sig['logE'] > min_log_e\n",
    "    sig = sig[sig_mask]\n",
    "    \n",
    "dataset_spec = cy.selections.CustomDataSpecs.CustomDataSpec(data, sig, np.sum(grl['livetime']),\n",
    "                                                     sindec_bins=bins_sindec,\n",
    "                                                     logenergy_bins=bins_logenergy,\n",
    "                                                     grl=grl, key='greco_v2.10', cascades=True)\n",
    "\n",
    "ANA_DIR = cy.utils.ensure_dir(ANA_DIR)\n",
    "# on OSG\n",
    "# ana_dir = \"./\"\n",
    "ana = cy.get_analysis(cy.selections.repo\n",
    "                      , dataset_spec\n",
    "                      , dir=ANA_DIR\n",
    "                      , load_sig=True)  # to save memory: use False\n"
   ]
  },
  {
   "cell_type": "code",
   "execution_count": 4,
   "metadata": {},
   "outputs": [],
   "source": [
    "conf = {\n",
    "    'ana': ana,\n",
    "    #### llh basics: csky.conf\n",
    "    'space': 'prior', # ps/fitps/template/prior\n",
    "    'time': 'transient', # utf/lc/transient\n",
    "    'energy': 'customflux', # fit/customflux\n",
    "    'flux': cy.hyp.PowerLawFlux(2.5),\n",
    "    #### inj.py - prior has some duplications against space's prior\n",
    "    'sig': 'transient', # ps/tw/lc/transient/template/prior\n",
    "    'full_sky': True,\n",
    "    'extended': True,\n",
    "    'cut_n_sigma': 3,\n",
    "    \"TRUTH\": True,\n",
    "    'mp_cpus': args.ncpu\n",
    "}\n",
    "cy.CONF.update(conf)"
   ]
  },
  {
   "cell_type": "markdown",
   "metadata": {},
   "source": [
    "# save every GRB's:\n",
    "## for all 6 time windows:\n",
    "### best_TW, best_TS"
   ]
  },
  {
   "cell_type": "code",
   "execution_count": 5,
   "metadata": {},
   "outputs": [],
   "source": [
    "df = pd.read_pickle(DATA_DIR+\"/grbwebgbm/grbweb_gbm_noHealpix_2268.pkl\")"
   ]
  },
  {
   "cell_type": "code",
   "execution_count": 7,
   "metadata": {},
   "outputs": [
    {
     "name": "stdout",
     "output_type": "stream",
     "text": [
      "Scanning 3409 locations using 4 cores:\n",
      "       3409/3409 coordinates complete.   \n",
      "Scanning 3409 locations using 4 cores:\n",
      "       3409/3409 coordinates complete.   \n",
      "An exception occurs when saving GRB190916A_ts_ns_p.npy\n",
      "Scanning 765 locations using 4 cores:\n",
      "        765/765 coordinates complete.   \n",
      "Scanning 765 locations using 4 cores:\n",
      "        765/765 coordinates complete.   \n",
      "Scanning 765 locations using 4 cores:\n",
      "        765/765 coordinates complete.   \n",
      "An exception occurs when saving GRB190915A_ts_ns_p.npy\n"
     ]
    }
   ],
   "source": [
    "# for each grb\n",
    "for grb_idx in range(args.grb_idx_start+4, args.grb_idx_end):\n",
    "    # load grb info\n",
    "    grb_name = df.grb_name[grb_idx]\n",
    "    grb_row = df.loc[df['grb_name'] == grb_name]\n",
    "    ra = grb_row.ra\n",
    "    dec = grb_row.dec\n",
    "    # load grb healpix map\n",
    "    healpix = np.load(DATA_DIR+\"/grbwebgbm/healpix/{}_healpix_nside64.npy\".format(grb_name))\n",
    "    healpix = np.maximum(healpix,0)\n",
    "    ########## healpix reduce (< instead of <=) ##########\n",
    "    healpix[healpix < isf_healpix(healpix, q=0.99)] = 0\n",
    "    healpix = healpix / np.sum(healpix)\n",
    "    # for each tw_in_second\n",
    "    tss, nss = [], []\n",
    "    for tw_in_second in [10,25,50,100,250,500]:\n",
    "        tw = tw_in_second/86400.\n",
    "        tw_start = grb_row.t_center - 0.5*tw\n",
    "        src = cy.sources(\n",
    "            ra=ra,\n",
    "            dec=dec,\n",
    "            deg=True,\n",
    "            mjd=tw_start, \n",
    "            sigma_t=np.zeros_like(tw), \n",
    "            t_100=tw,  # in days\n",
    "            prior=[hl.heal.HealHist(healpix)],\n",
    "            name=grb_name\n",
    "        )\n",
    "        tr = cy.get_trial_runner(conf=cy.CONF, ana=ana, src=src)\n",
    "        result = ts, ns = tr.get_one_fit(TRUTH=True, logging=False)\n",
    "        tss.append(ts)\n",
    "        nss.append(ns)\n",
    "    # get pvals\n",
    "    bg_files = sorted(glob(ANA_DIR + f\"/allsky_scan/with_prior_background/tw*/{grb_name}_*.npz\"), \n",
    "                 key=lambda x: int(x[x.find(\"/tw\")+3:x.find(f\"/{grb_name}\")]))\n",
    "    assert len(bg_files) > 0, print(f\"cannot find bkg files of {grb_name}\")\n",
    "    bgs = np.array([sparse.load_npz(bg_file).toarray()[0] for bg_file in bg_files])\n",
    "    bgs_sorted = np.apply_along_axis(sorted, 1, bgs)\n",
    "    pvals = []\n",
    "    for ts, bg_sorted in zip(tss, bgs_sorted):\n",
    "        pvals.append((bg_sorted.size - np.searchsorted(bg_sorted, ts, side='left')) / bg_sorted.size)\n",
    "    tss = np.array(tss)\n",
    "    nss = np.array(nss)\n",
    "    pvals = np.array(pvals)\n",
    "    print(tss, nss, pvals)\n",
    "    try:\n",
    "        ts_ns_pval = np.array(\n",
    "            list(map(tuple, np.transpose([tss,nss,pvals]))),\n",
    "            dtype=np.dtype(\n",
    "                [\n",
    "                    ('ts', np.float32), \n",
    "                    ('ns', np.float32), \n",
    "                    ('pval', np.float32)\n",
    "                ]\n",
    "            )\n",
    "        )\n",
    "        output_folder = cy.utils.ensure_dir(args.out_dir+f\"/unblind/ts_ns_p\")\n",
    "        print(f\"Saving {output_folder}/{grb_name}_ts_ns_p.npy\")\n",
    "        print(ts_ns_pval)\n",
    "        np.save(output_folder + f\"/{grb_name}_ts_ns_p.npy\", ts_ns_pval)\n",
    "    except:\n",
    "        print(f\"An exception occurs when saving {grb_name}_ts_ns_p.npy\")"
   ]
  },
  {
   "cell_type": "code",
   "execution_count": null,
   "metadata": {},
   "outputs": [],
   "source": []
  }
 ],
 "metadata": {
  "kernelspec": {
   "display_name": "Python [conda env:icecube_py3]",
   "language": "python",
   "name": "conda-env-icecube_py3-py"
  },
  "language_info": {
   "codemirror_mode": {
    "name": "ipython",
    "version": 3
   },
   "file_extension": ".py",
   "mimetype": "text/x-python",
   "name": "python",
   "nbconvert_exporter": "python",
   "pygments_lexer": "ipython3",
   "version": "3.7.3"
  }
 },
 "nbformat": 4,
 "nbformat_minor": 4
}
