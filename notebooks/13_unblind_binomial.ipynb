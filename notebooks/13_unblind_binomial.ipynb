{
 "cells": [
  {
   "cell_type": "code",
   "execution_count": 1,
   "metadata": {},
   "outputs": [
    {
     "name": "stdout",
     "output_type": "stream",
     "text": [
      "\n",
      "#### Working at GT ####\n",
      "\n",
      "LOCATION: \t GT\n",
      "USER: \t cchen641\n",
      "ICDATA_DIR: \t /storage/home/hhive1/cchen641/data/icecube/data/analyses/online_GRECO/candidate-002-p10\n",
      "DATA_DIR: \t /storage/home/hhive1/cchen641/data/icecube/data/greco_grb/data\n",
      "ANA_DIR: \t /storage/home/hhive1/cchen641/data/icecube/data/greco_grb/data/csky_output\n",
      "\n"
     ]
    }
   ],
   "source": [
    "import os\n",
    "import sys\n",
    "import numpy as np\n",
    "import healpy as hp\n",
    "import histlite as hl\n",
    "import csky as cy\n",
    "import pandas as pd\n",
    "\n",
    "import matplotlib.pyplot as plt\n",
    "plt.rcParams['text.usetex'] = False\n",
    "from matplotlib import cm\n",
    "import matplotlib.colors as colors\n",
    "\n",
    "import seaborn as sns\n",
    "# sns.set_theme(style=\"whitegrid\")\n",
    "\n",
    "%matplotlib inline\n",
    "# %matplotlib notebook\n",
    "\n",
    "from glob import glob\n",
    "timer = cy.timing.Timer()\n",
    "time = timer.time\n",
    "\n",
    "sys.path.append('../../')\n",
    "from greco_grb.scripts import SETTING\n",
    "paths = SETTING.PATH()\n",
    "print(paths)\n",
    "USER = paths.USER\n",
    "ICDATA_DIR = paths.ICDATA_DIR\n",
    "DATA_DIR = paths.DATA_DIR\n",
    "ANA_DIR = paths.ANA_DIR\n",
    "\n",
    "from greco_grb.scripts.utils import *"
   ]
  },
  {
   "cell_type": "code",
   "execution_count": 2,
   "metadata": {},
   "outputs": [],
   "source": [
    "class args:\n",
    "    out_dir = \"/storage/home/hhive1/cchen641/data/icecube/data/greco_grb/data/csky_output\"\n",
    "# import argparse\n",
    "# p = argparse.ArgumentParser(description=\"Unbindling script\",\n",
    "#                             formatter_class=argparse.RawTextHelpFormatter)\n",
    "# p.add_argument(\"--out_dir\", default=\"/storage/home/hhive1/cchen641/data/icecube/data/greco_grb/data/csky_output\", type=str, help=\"output root directory\")\n",
    "# args = p.parse_args()"
   ]
  },
  {
   "cell_type": "code",
   "execution_count": 5,
   "metadata": {},
   "outputs": [],
   "source": [
    "df = pd.read_pickle(DATA_DIR+\"/grbwebgbm/grbweb_gbm_noHealpix_2268.pkl\")"
   ]
  },
  {
   "cell_type": "markdown",
   "metadata": {},
   "source": [
    "# load per GRB best: tw, TS, ns, pre_p"
   ]
  },
  {
   "cell_type": "code",
   "execution_count": 29,
   "metadata": {},
   "outputs": [],
   "source": [
    "tws, tss, nss, pre_ps = [], [], [], []\n",
    "tw_in_seconds = [10, 25, 50, 100, 250, 500]\n",
    "for idx in df.grb_name.index:\n",
    "    grb_name = df.grb_name[idx]\n",
    "    ts_ns_p = np.load(ANA_DIR+f\"/unblind/ts_ns_p/{grb_name}_ts_ns_p.npy\")\n",
    "    ts_grb = ts_ns_p['ts']\n",
    "    ns_grb = ts_ns_p['ns']\n",
    "    pre_p_grb = ts_ns_p['pval']\n",
    "    min_i = np.argmin(pre_p_grb)\n",
    "    tws.append(tw_in_seconds[min_i])\n",
    "    tss.append(ts_grb[min_i])\n",
    "    nss.append(ns_grb[min_i])\n",
    "    pre_ps.append(pre_p_grb[min_i])\n",
    "    "
   ]
  },
  {
   "cell_type": "code",
   "execution_count": 30,
   "metadata": {},
   "outputs": [],
   "source": [
    "df_result = df.copy()\n",
    "df_result['tw'] = np.array(tws)\n",
    "df_result['ts'] = np.array(tss)\n",
    "df_result['ns'] = np.array(nss)\n",
    "df_result['pre_p'] = np.array(pre_ps)"
   ]
  },
  {
   "cell_type": "markdown",
   "metadata": {},
   "source": [
    "# for each GRB, trial correct due to stacked time windows"
   ]
  },
  {
   "cell_type": "code",
   "execution_count": 34,
   "metadata": {},
   "outputs": [],
   "source": [
    "def get_post_p_for_grb(grb_name, pre_p):\n",
    "    \"\"\"\n",
    "    effective trial correction due to multiple time windows\n",
    "    \n",
    "    Parameters\n",
    "    ----------\n",
    "        grb_name: str\n",
    "            name of the grb\n",
    "        pre_p: float or array_like\n",
    "            one or multiple pre_trial p value(s)\n",
    "        \n",
    "    Returns\n",
    "    -------\n",
    "        post_p: float or array_like\n",
    "            one or multiple post_trial p value(s)\n",
    "    \"\"\"\n",
    "    pre_p = np.float32(pre_p)\n",
    "    pre_post = np.load(ANA_DIR + f\"/effective_trial/pre_post/{grb_name}_effective_trial.npy\")\n",
    "    idx = np.searchsorted(pre_post['pre_trial_p'], pre_p, side='right') - 1\n",
    "    idx = np.maximum(idx, 0)\n",
    "    idx = np.minimum(idx, pre_post['post_trial_p'].shape[0] - 1)\n",
    "    return pre_post['post_trial_p'][idx]"
   ]
  },
  {
   "cell_type": "code",
   "execution_count": 35,
   "metadata": {},
   "outputs": [],
   "source": [
    "###### ~ 2 cpu min\n",
    "df_result['post_p'] = df_result.apply(\n",
    "    lambda row : get_post_p_for_grb(row['grb_name'],row['pre_p']), \n",
    "    axis = 1\n",
    ")"
   ]
  },
  {
   "cell_type": "code",
   "execution_count": 48,
   "metadata": {},
   "outputs": [],
   "source": [
    "def binomial_test(p_values, epsilon=None):\n",
    "    \"\"\"\n",
    "    Perform IceCube binomial test\n",
    "    \n",
    "    Parameters\n",
    "    ----------\n",
    "        p_values: array_like\n",
    "            an array of p-values\n",
    "        \n",
    "    Returns\n",
    "    -------\n",
    "        best_k: int\n",
    "            number of p-values that minimizes the binomial probability\n",
    "            Note this is 1-index'ed\n",
    "        \n",
    "        best_binomial_p: float\n",
    "            the optimized binomial probability\n",
    "            \n",
    "        threshold_p_value: float\n",
    "            the best_k-th p_value (a.k.a. p_k)\n",
    "            this GRB and all GRBs having p_values smaller than this threshold_p_value are important\n",
    "            \n",
    "        indices: array_like\n",
    "            GRB indices after sorting (assume the input p_values' indices are from 0 - 2267)\n",
    "            \n",
    "        \n",
    "        binomial_ps: array_like\n",
    "            binomial probabilities for different k=1,2,...,N\n",
    "    \"\"\"\n",
    "    p_values = np.array(p_values)\n",
    "    N = p_values.size\n",
    "    ks = np.argsort(p_values)\n",
    "    p_values = np.sort(p_values)\n",
    "    binomial_ps = stats.binom.sf(np.r_[0:N], N, p_values)\n",
    "    best_k = np.argmin(binomial_ps) + 1\n",
    "    best_binomial_p = binomial_ps[best_k - 1]\n",
    "    if (epsilon is not None) and (1.0 - best_binomial_p < epsilon):\n",
    "        return N, 1, p_values[-1], ks, binomial_ps\n",
    "    threshold_p_value = p_values[best_k - 1]\n",
    "    return best_k, best_binomial_p, threshold_p_value, ks, binomial_ps"
   ]
  },
  {
   "cell_type": "code",
   "execution_count": 43,
   "metadata": {},
   "outputs": [],
   "source": [
    "binomial_result = binomial_test(df_result['post_p'])"
   ]
  },
  {
   "cell_type": "code",
   "execution_count": 80,
   "metadata": {},
   "outputs": [],
   "source": [
    "def plot_binom_example_from_p_values(p_values, mark_indices=[], save_fig=False):\n",
    "    \"\"\"\n",
    "    p_values here are assumed corrected already\n",
    "    \n",
    "    Parameters\n",
    "    ----------\n",
    "        p_values: array_like\n",
    "            shape: 2268\n",
    "            \n",
    "        mark_indices: array_like\n",
    "            0-indexed: 0,1,2,...,2267\n",
    "            if provided, draw those p-values differently\n",
    "            \n",
    "        save_fig: bool\n",
    "            do we plot/save (True/False) the plot\n",
    "        \n",
    "    Returns\n",
    "    -------\n",
    "        ax: matplotlib axes\n",
    "            \n",
    "        binomial_result: dict\n",
    "    \n",
    "    \"\"\"\n",
    "    ## example null hypothesis Binomial Test\n",
    "    binomial_result = binomial_test(p_values)\n",
    "\n",
    "    fig, ax = plt.subplots(figsize=(8,6), dpi=100)\n",
    "    # 2268 GRBs\n",
    "    x = np.r_[1:2268+1]\n",
    "    # p_values\n",
    "    sorted_p_values = np.sort(p_values)\n",
    "    ax.scatter(x, sorted_p_values, label=\"Pre-trial p-values\", s=2)\n",
    "    if len(mark_indices) > 0:\n",
    "        mark_indices = np.array(mark_indices)\n",
    "        sorted_indices = np.argsort(p_values)\n",
    "        mark_ks = np.ravel([np.argwhere(sorted_indices==x) for x in mark_indices]) + 1\n",
    "        ax.scatter(mark_ks, sorted_p_values[mark_ks-1], color=sns.color_palette()[2], s=20, marker=\"x\", label=\"Marked p-value(s)\")\n",
    "    # Binomial Probability\n",
    "    ax.scatter(x, binomial_result[4], label=\"Binomial p-values\", s=2)\n",
    "    # best Binomial\n",
    "    ax.vlines(binomial_result[0], 0, binomial_result[1], \n",
    "               linestyle='-.', color=sns.color_palette()[1], linewidth=2)\n",
    "    ax.axhline(binomial_result[1], 0, 2268, \n",
    "               linestyle='-.', color=sns.color_palette()[1], linewidth=2,\n",
    "               label=f\"k = {binomial_result[0]}\\nP_binom = {binomial_result[1]}\")\n",
    "    # uniform line\n",
    "    ax.plot(x, x/2268., \"--\")\n",
    "\n",
    "    ax.set_xscale('log')\n",
    "    ax.set_yscale('log')\n",
    "    ax.set_xlabel(\"Number of GRBs\")\n",
    "    ax.set_ylabel(\"p-value\")\n",
    "    # ax.set_title(f\"{ag.grb_name}\")\n",
    "    ax.grid(True)\n",
    "    ax.legend()\n",
    "    if save_fig:\n",
    "        fig.savefig(ANA_DIR+f\"/unblind/binomial_plot.png\")\n",
    "    return ax, binomial_result"
   ]
  },
  {
   "cell_type": "code",
   "execution_count": 81,
   "metadata": {},
   "outputs": [
    {
     "data": {
      "text/plain": [
       "(<AxesSubplot:xlabel='Number of GRBs', ylabel='p-value'>,\n",
       " (7,\n",
       "  0.16640384327768598,\n",
       "  0.0019759999122470617,\n",
       "  array([1392,  747, 1075, ...,  885,  883, 2267]),\n",
       "  array([0.80073537, 0.62693523, 0.36938135, ..., 1.        , 1.        ,\n",
       "         1.        ])))"
      ]
     },
     "execution_count": 81,
     "metadata": {},
     "output_type": "execute_result"
    },
    {
     "data": {
      "image/png": "[encoded data removed]",
      "text/plain": [
       "<Figure size 800x600 with 1 Axes>"
      ]
     },
     "metadata": {
      "needs_background": "light"
     },
     "output_type": "display_data"
    }
   ],
   "source": [
    "plot_binom_example_from_p_values(\n",
    "    np.array(df_result['post_p']), \n",
    "    mark_indices=binomial_result[3][:binomial_result[0]],\n",
    "    save_fig=True\n",
    ")\n"
   ]
  },
  {
   "cell_type": "code",
   "execution_count": 59,
   "metadata": {},
   "outputs": [],
   "source": [
    "def get_binomial_post_p(binomial_pre_p):\n",
    "    files = glob(ANA_DIR+f\"/binomial_test/null_binom/binomial_results/null_binomial_results_numRun1000000_seed*.npy\")\n",
    "    files = sorted(files, key=lambda x: int(x[x.find(\"_seed\")+5:x.find(\".npy\")]))\n",
    "    best_binomial_p_100000000 = np.concatenate([np.load(file) for file in files])[:,1]\n",
    "    ######## pre-post mapping #######\n",
    "    hist, bin_edges = np.histogram(best_binomial_p_100000000, \n",
    "                               bins=np.r_[\n",
    "                                   np.logspace(np.log10(best_binomial_p_100000000.min()),np.log10(1.0), 100000), \n",
    "                                   1.2\n",
    "                               ], \n",
    "                               density=True)\n",
    "    pre_trial_p = bin_edges\n",
    "    post_trial_p = np.r_[np.cumsum(hist*np.diff(bin_edges)), 1]\n",
    "    dt = np.dtype([('pre_trial_p', np.float32), ('post_trial_p', np.float32)])\n",
    "    pre_post = np.transpose(np.array([pre_trial_p, post_trial_p]))\n",
    "    pre_post = np.array(list(map(tuple, pre_post)), dtype=dt)\n",
    "    #################################\n",
    "    idx = np.searchsorted(pre_post['pre_trial_p'], binomial_pre_p, side='right') - 1\n",
    "    idx = np.maximum(idx, 0)\n",
    "    idx = np.minimum(idx, len(pre_post['post_trial_p']) - 1)\n",
    "    return pre_post['post_trial_p'][idx]"
   ]
  },
  {
   "cell_type": "code",
   "execution_count": 60,
   "metadata": {},
   "outputs": [
    {
     "data": {
      "text/plain": [
       "0.7909987"
      ]
     },
     "execution_count": 60,
     "metadata": {},
     "output_type": "execute_result"
    }
   ],
   "source": [
    "print(f\"The final binomial post-trial p value is: {get_binomial_post_p(binomial_result[1])}\")"
   ]
  }
 ],
 "metadata": {
  "kernelspec": {
   "display_name": "Python [conda env:icecube_py3]",
   "language": "python",
   "name": "conda-env-icecube_py3-py"
  },
  "language_info": {
   "codemirror_mode": {
    "name": "ipython",
    "version": 3
   },
   "file_extension": ".py",
   "mimetype": "text/x-python",
   "name": "python",
   "nbconvert_exporter": "python",
   "pygments_lexer": "ipython3",
   "version": "3.7.3"
  }
 },
 "nbformat": 4,
 "nbformat_minor": 4
}
