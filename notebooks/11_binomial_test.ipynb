{
 "cells": [
  {
   "cell_type": "code",
   "execution_count": 1,
   "metadata": {},
   "outputs": [
    {
     "name": "stdout",
     "output_type": "stream",
     "text": [
      "\n",
      "#### Working at GT ####\n",
      "\n",
      "LOCATION: \t GT\n",
      "USER: \t cchen641\n",
      "ICDATA_DIR: \t /storage/home/hhive1/cchen641/data/icecube/data/analyses/online_GRECO/candidate-002-p10\n",
      "DATA_DIR: \t /storage/home/hhive1/cchen641/data/icecube/data/greco_grb/data\n",
      "ANA_DIR: \t /storage/home/hhive1/cchen641/data/icecube/data/greco_grb/data/csky_output\n",
      "\n"
     ]
    }
   ],
   "source": [
    "import os\n",
    "import sys\n",
    "import numpy as np\n",
    "import healpy as hp\n",
    "import histlite as hl\n",
    "import csky as cy\n",
    "import pandas as pd\n",
    "\n",
    "import matplotlib.pyplot as plt\n",
    "from matplotlib import cm\n",
    "import matplotlib.colors as colors\n",
    "\n",
    "import seaborn as sns\n",
    "sns.set_theme(style=\"whitegrid\")\n",
    "\n",
    "%matplotlib inline\n",
    "# %matplotlib notebook\n",
    "\n",
    "from glob import glob\n",
    "timer = cy.timing.Timer()\n",
    "time = timer.time\n",
    "\n",
    "sys.path.append('../../')\n",
    "from greco_grb.scripts import SETTING\n",
    "paths = SETTING.PATH()\n",
    "print(paths)\n",
    "USER = paths.USER\n",
    "ICDATA_DIR = paths.ICDATA_DIR\n",
    "DATA_DIR = paths.DATA_DIR\n",
    "ANA_DIR = paths.ANA_DIR\n",
    "\n",
    "from greco_grb.scripts.utils import *"
   ]
  },
  {
   "cell_type": "code",
   "execution_count": 2,
   "metadata": {},
   "outputs": [
    {
     "name": "stdout",
     "output_type": "stream",
     "text": [
      "\n",
      "===== Setting up csky =====\n",
      "\n",
      "Setting up Analysis for:\n",
      "greco_v2.10\n",
      "Setting up greco_v2.10...\n",
      "Energy PDF Ratio Model...\n",
      "  * gamma = 4.0000 ...\n",
      "Signal Acceptance Model...\n",
      "  * gamma = 4.0000 ...\n",
      "Done.\n"
     ]
    }
   ],
   "source": [
    "print(\"\\n===== Setting up csky =====\\n\")\n",
    "data_dir = ICDATA_DIR\n",
    "data_filenames = sorted(glob(data_dir + '/IC86_20*.data.npy'))\n",
    "sig_filenames = sorted(glob(data_dir + '/IC86_2012.nu*_merged.npy'))\n",
    "grl_filenames = sorted(glob(data_dir + '/GRL/IC86_20*.data.npy'))\n",
    "\n",
    "################ energy lower bound #############\n",
    "min_log_e = np.log10(10)\n",
    "#################################################\n",
    "bins_sindec = np.linspace(-1, 1, 25+1)  \n",
    "bins_logenergy = np.linspace(min_log_e, 4, 25+1)\n",
    "\n",
    "data = [np.load(data_filename) for data_filename in data_filenames]\n",
    "data = np.hstack(data)\n",
    "sig = [np.load(sig_filename) for sig_filename in sig_filenames]\n",
    "sig = np.hstack(sig)\n",
    "grl = [np.load(grl_filename) for grl_filename in grl_filenames]\n",
    "grl = np.hstack(grl)\n",
    "if min_log_e is not None:\n",
    "    data_mask = data['logE'] > min_log_e\n",
    "    data = data[data_mask]\n",
    "    sig_mask = sig['logE'] > min_log_e\n",
    "    sig = sig[sig_mask]\n",
    "    \n",
    "dataset_spec = cy.selections.CustomDataSpecs.CustomDataSpec(data, sig, np.sum(grl['livetime']),\n",
    "                                                     sindec_bins=bins_sindec,\n",
    "                                                     logenergy_bins=bins_logenergy,\n",
    "                                                     grl=grl, key='greco_v2.10', cascades=True)\n",
    "\n",
    "ANA_DIR = cy.utils.ensure_dir(ANA_DIR)\n",
    "# on OSG\n",
    "# ana_dir = \"./\"\n",
    "ana = cy.get_analysis(cy.selections.repo\n",
    "                      , dataset_spec\n",
    "                      , dir=ANA_DIR\n",
    "                      , load_sig=True)  # to save memory: use False\n",
    "\n",
    "\n"
   ]
  },
  {
   "cell_type": "code",
   "execution_count": 87,
   "metadata": {},
   "outputs": [],
   "source": [
    "df = pd.read_pickle(DATA_DIR+\"/grbwebgbm/grbweb_gbm_noHealpix_2268.pkl\")"
   ]
  },
  {
   "cell_type": "markdown",
   "metadata": {},
   "source": [
    "# 1. Non-injection Binomial Test"
   ]
  },
  {
   "cell_type": "code",
   "execution_count": 88,
   "metadata": {},
   "outputs": [],
   "source": [
    "def get_post_p(grb_name, pre_p):\n",
    "    \"\"\"\n",
    "    effective trial correction due to multiple time windows\n",
    "    \n",
    "    Parameters\n",
    "    ----------\n",
    "        grb_name: str\n",
    "            name of the grb\n",
    "        pre_p: float or array_like\n",
    "            one or multiple pre_trial p value(s)\n",
    "        \n",
    "    Returns\n",
    "    -------\n",
    "        post_p: float or array_like\n",
    "            one or multiple post_trial p value(s)\n",
    "    \"\"\"\n",
    "    pre_p = np.float32(pre_p)\n",
    "    pre_post = np.load(ANA_DIR + f\"/effective_trial/{grb_name}_effective_trial.npy\")\n",
    "    idx = np.searchsorted(pre_post['pre_trial_p'], pre_p, side='right') - 1\n",
    "    idx = np.maximum(idx, 0)\n",
    "    idx = np.minimum(idx, pre_post['post_trial_p'].shape[0] - 1)\n",
    "    return pre_post['post_trial_p'][idx]\n",
    "    "
   ]
  },
  {
   "cell_type": "code",
   "execution_count": 89,
   "metadata": {},
   "outputs": [
    {
     "data": {
      "text/plain": [
       "array([6.00000e-06, 6.00000e-06, 2.64868e-01, 3.67736e-01, 1.00000e+00,\n",
       "       1.00000e+00], dtype=float32)"
      ]
     },
     "execution_count": 89,
     "metadata": {},
     "output_type": "execute_result"
    }
   ],
   "source": [
    "# test\n",
    "get_post_p(grb_name=\"GRB180423A\", pre_p=[1e-7, 1e-6, 0.1, 0.9, 1.0, 1.2])"
   ]
  },
  {
   "cell_type": "code",
   "execution_count": 94,
   "metadata": {},
   "outputs": [],
   "source": [
    "from scipy import stats\n",
    "def binomial_test(p_values):\n",
    "    \"\"\"\n",
    "    Perform IceCube binomial test\n",
    "    \n",
    "    Parameters\n",
    "    ----------\n",
    "        p_values: array_like\n",
    "            an array of p-values\n",
    "        \n",
    "    Returns\n",
    "    -------\n",
    "        best_k: int\n",
    "            number of p-values that minimizes the binomial probability\n",
    "            Note this is 1-index'ed\n",
    "        \n",
    "        best_binomial_p: float\n",
    "            the optimized binomial probability\n",
    "            \n",
    "        threshold_p_value: float\n",
    "            the best_k-th p_value \n",
    "            this GRB and all GRBs having p_values smaller than this threshold_p_value are important\n",
    "            \n",
    "        ks: array_like\n",
    "            k = 1, 2, 3,..., N\n",
    "        \n",
    "        binomial_ps: array_like\n",
    "            binomial probabilities for different k=1,2,...,N\n",
    "    \"\"\"\n",
    "    p_values = np.sort(p_values)\n",
    "    N = p_values.size\n",
    "    binomial_ps = stats.binom.sf(np.r_[0:N], N, p_values)\n",
    "    best_k = np.argmin(binomial_ps) + 1\n",
    "    best_binomial_p = binomial_ps[best_k - 1]\n",
    "    threshold_p_value = p_values[best_k - 1]\n",
    "    ks = np.r_[1:N+1]\n",
    "    return best_k, best_binomial_p, threshold_p_value, ks, binomial_ps"
   ]
  },
  {
   "cell_type": "code",
   "execution_count": 95,
   "metadata": {},
   "outputs": [
    {
     "data": {
      "text/plain": [
       "(2,\n",
       " 9.998000149996001e-08,\n",
       " 0.0001,\n",
       " array([1, 2, 3, 4, 5]),\n",
       " array([4.99999000e-06, 9.99800015e-08, 1.00000000e+00, 1.00000000e+00,\n",
       "        1.00000000e+00]))"
      ]
     },
     "execution_count": 95,
     "metadata": {},
     "output_type": "execute_result"
    }
   ],
   "source": [
    "# test\n",
    "binomial_test([1e-6, 1e-4, 1.0, 1.0, 1.0]) # the first 2 are significant"
   ]
  },
  {
   "cell_type": "code",
   "execution_count": 96,
   "metadata": {},
   "outputs": [
    {
     "data": {
      "text/plain": [
       "0       GRB200529B\n",
       "1       GRB200529A\n",
       "2       GRB200528A\n",
       "3       GRB200525A\n",
       "4       GRB200524A\n",
       "           ...    \n",
       "2263    GRB120429B\n",
       "2264    GRB120429A\n",
       "2265    GRB120427B\n",
       "2266    GRB120427A\n",
       "2267    GRB120426B\n",
       "Name: grb_name, Length: 2268, dtype: object"
      ]
     },
     "execution_count": 96,
     "metadata": {},
     "output_type": "execute_result"
    }
   ],
   "source": [
    "df.grb_name"
   ]
  },
  {
   "cell_type": "code",
   "execution_count": 121,
   "metadata": {},
   "outputs": [],
   "source": []
  },
  {
   "cell_type": "code",
   "execution_count": 122,
   "metadata": {},
   "outputs": [
    {
     "name": "stdout",
     "output_type": "stream",
     "text": [
      "\n",
      "0:00:03.564849 elapsed.\n"
     ]
    }
   ],
   "source": [
    "import multiprocessing as mp\n",
    "with time(\"one grb\"):\n",
    "    get_min_tw_p(\"GRB180423A\")"
   ]
  },
  {
   "cell_type": "code",
   "execution_count": 111,
   "metadata": {},
   "outputs": [
    {
     "data": {
      "text/plain": [
       "array([[0.      , 1.      ],\n",
       "       [5.      , 0.074062],\n",
       "       [0.      , 1.      ],\n",
       "       ...,\n",
       "       [5.      , 0.135286],\n",
       "       [0.      , 1.      ],\n",
       "       [0.      , 1.      ]])"
      ]
     },
     "execution_count": 111,
     "metadata": {},
     "output_type": "execute_result"
    }
   ],
   "source": [
    "min_tw_p"
   ]
  },
  {
   "cell_type": "code",
   "execution_count": null,
   "metadata": {},
   "outputs": [],
   "source": []
  }
 ],
 "metadata": {
  "kernelspec": {
   "display_name": "Python [conda env:icecube_py3]",
   "language": "python",
   "name": "conda-env-icecube_py3-py"
  },
  "language_info": {
   "codemirror_mode": {
    "name": "ipython",
    "version": 3
   },
   "file_extension": ".py",
   "mimetype": "text/x-python",
   "name": "python",
   "nbconvert_exporter": "python",
   "pygments_lexer": "ipython3",
   "version": "3.7.3"
  }
 },
 "nbformat": 4,
 "nbformat_minor": 4
}
