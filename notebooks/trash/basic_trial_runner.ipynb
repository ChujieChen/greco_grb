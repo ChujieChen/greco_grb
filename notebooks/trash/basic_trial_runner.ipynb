{
 "cells": [
  {
   "cell_type": "code",
   "execution_count": 1,
   "metadata": {},
   "outputs": [
    {
     "name": "stdout",
     "output_type": "stream",
     "text": [
      "\n",
      "#### Working at GT ####\n",
      "\n",
      "LOCATION: \t GT\n",
      "USER: \t cchen641\n",
      "ICDATA_DIR: \t /storage/home/hhive1/cchen641/data/icecube/data/analyses/online_GRECO/candidate-002-p10\n",
      "DATA_DIR: \t /storage/home/hhive1/cchen641/data/icecube/data/greco_grb/data\n",
      "ANA_DIR: \t /storage/home/hhive1/cchen641/data/icecube/data/greco_grb/data/csky_output\n",
      "\n"
     ]
    }
   ],
   "source": [
    "import os\n",
    "import sys\n",
    "import numpy as np\n",
    "import healpy as hp\n",
    "import histlite as hl\n",
    "import csky as cy\n",
    "import pandas as pd\n",
    "\n",
    "import matplotlib.pyplot as plt\n",
    "plt.rcParams['text.usetex'] = False\n",
    "from matplotlib import cm\n",
    "import matplotlib.colors as colors\n",
    "\n",
    "import seaborn as sns\n",
    "# sns.set_theme(style=\"whitegrid\")\n",
    "\n",
    "%matplotlib inline\n",
    "# %matplotlib notebook\n",
    "\n",
    "from glob import glob\n",
    "timer = cy.timing.Timer()\n",
    "time = timer.time\n",
    "\n",
    "sys.path.append('../../..')\n",
    "from greco_grb.scripts import SETTING\n",
    "paths = SETTING.PATH()\n",
    "print(paths)\n",
    "USER = paths.USER\n",
    "ICDATA_DIR = paths.ICDATA_DIR\n",
    "DATA_DIR = paths.DATA_DIR\n",
    "ANA_DIR = paths.ANA_DIR\n",
    "\n",
    "from greco_grb.scripts.utils import *"
   ]
  },
  {
   "cell_type": "code",
   "execution_count": 2,
   "metadata": {},
   "outputs": [
    {
     "name": "stdout",
     "output_type": "stream",
     "text": [
      "\n",
      "===== Setting up csky =====\n",
      "\n",
      "Setting up Analysis for:\n",
      "greco_v2.10\n",
      "Setting up greco_v2.10...\n",
      "Energy PDF Ratio Model...\n",
      "  * gamma = 4.0000 ...\n",
      "Signal Acceptance Model...\n",
      "  * gamma = 4.0000 ...\n",
      "Done.\n"
     ]
    }
   ],
   "source": [
    "print(\"\\n===== Setting up csky =====\\n\")\n",
    "data_dir = ICDATA_DIR\n",
    "data_filenames = sorted(glob(data_dir + '/IC86_20*.data.npy'))\n",
    "sig_filenames = sorted(glob(data_dir + '/IC86_2012.nu*_merged.npy'))\n",
    "grl_filenames = sorted(glob(data_dir + '/GRL/IC86_20*.data.npy'))\n",
    "################ energy lower bound #############\n",
    "min_log_e = np.log10(10)\n",
    "#################################################\n",
    "bins_sindec = np.linspace(-1, 1, 25+1)  \n",
    "# bins_logenergy = np.linspace(min_log_e, 5, 30+1)\n",
    "bins_logenergy = np.linspace(min_log_e, 4, 25+1)\n",
    "\n",
    "data = [np.load(data_filename) for data_filename in data_filenames]\n",
    "data = np.hstack(data)\n",
    "sig = [np.load(sig_filename) for sig_filename in sig_filenames]\n",
    "sig = np.hstack(sig)\n",
    "grl = [np.load(grl_filename) for grl_filename in grl_filenames]\n",
    "grl = np.hstack(grl)\n",
    "if min_log_e is not None:\n",
    "    data_mask = data['logE'] > min_log_e\n",
    "    data = data[data_mask]\n",
    "    sig_mask = sig['logE'] > min_log_e\n",
    "    sig = sig[sig_mask]\n",
    "    \n",
    "dataset_spec = cy.selections.CustomDataSpecs.CustomDataSpec(data, sig, np.sum(grl['livetime']),\n",
    "                                                     sindec_bins=bins_sindec,\n",
    "                                                     logenergy_bins=bins_logenergy,\n",
    "                                                     grl=grl, key='greco_v2.10', cascades=True)\n",
    "\n",
    "ANA_DIR = cy.utils.ensure_dir(ANA_DIR)\n",
    "ana = cy.get_analysis(cy.selections.repo\n",
    "                      , dataset_spec\n",
    "                      , dir=ANA_DIR\n",
    "                      , load_sig=True)\n",
    "\n"
   ]
  },
  {
   "cell_type": "code",
   "execution_count": 3,
   "metadata": {},
   "outputs": [],
   "source": [
    "df = pd.read_pickle(ANA_DIR+f\"/unblind/result01.pkl\")"
   ]
  },
  {
   "cell_type": "code",
   "execution_count": 55,
   "metadata": {},
   "outputs": [],
   "source": [
    "class args:\n",
    "    grb_name = \"GRB140807A\"\n",
    "    tw_in_second = 100.\n",
    "    ncpu = 4\n",
    "    \n",
    "grb_row = df.loc[df['grb_name'] == args.grb_name]\n",
    "tw = args.tw_in_second/86400.\n",
    "tw_start = grb_row.t_center - 0.5*tw\n",
    "ra = grb_row.ra\n",
    "dec = grb_row.dec\n",
    "\n",
    "conf = {\n",
    "    'ana': ana,\n",
    "    #### llh basics: csky.conf\n",
    "    'space': 'prior', # ps/fitps/template/prior\n",
    "    'time': 'transient', # utf/lc/transient\n",
    "    'energy': 'customflux', # fit/customflux\n",
    "    'flux': cy.hyp.PowerLawFlux(2.5),\n",
    "    #### inj.py - prior has some duplications against space's prior\n",
    "    'sig': 'transient', # ps/tw/lc/transient/template/prior\n",
    "    'full_sky': True,\n",
    "    'extended': True,\n",
    "    'mp_cpus': args.ncpu,\n",
    "    'cut_n_sigma': 3,\n",
    "    \n",
    "    'TRUTH': True\n",
    "    }\n",
    "\n",
    "cy.CONF.update(conf)"
   ]
  },
  {
   "cell_type": "code",
   "execution_count": 56,
   "metadata": {},
   "outputs": [],
   "source": [
    "healpix = np.load(DATA_DIR+\"/grbwebgbm/healpix/{}_healpix_nside64.npy\".format(args.grb_name))\n",
    "healpix = np.maximum(healpix,0)\n",
    "########## healpix reduce (< instead of <=) ##########\n",
    "healpix[healpix < isf_healpix(healpix, q=0.99)] = 0\n",
    "healpix = healpix / np.sum(healpix)\n",
    "\n",
    "src = cy.utils.Sources(\n",
    "    ra=ra,\n",
    "    dec=dec,\n",
    "    deg=True,\n",
    "    mjd=tw_start, \n",
    "    sigma_t=np.zeros_like(tw), \n",
    "    t_100=tw,  # in days\n",
    "    prior=[hl.heal.HealHist(healpix)],\n",
    "    name=args.grb_name\n",
    ")\n",
    "tr = cy.get_trial_runner(conf=cy.CONF, ana=ana, src=src, nside=64)"
   ]
  },
  {
   "cell_type": "code",
   "execution_count": 57,
   "metadata": {},
   "outputs": [
    {
     "name": "stdout",
     "output_type": "stream",
     "text": [
      "Scanning 927 locations using 4 cores:\n",
      "        927/927 coordinates complete.   \n"
     ]
    },
    {
     "data": {
      "text/plain": [
       "[0.0, 0.0]"
      ]
     },
     "execution_count": 57,
     "metadata": {},
     "output_type": "execute_result"
    }
   ],
   "source": [
    "tr.get_one_fit(seed=0)"
   ]
  },
  {
   "cell_type": "code",
   "execution_count": 13,
   "metadata": {},
   "outputs": [
    {
     "data": {
      "text/plain": [
       "Trial(evss=[[Events(1 items | columns: azimuth, dec, energy, idx, inj, log10energy, mjd, ra, sigma, sindec)]], n_exs=[1010150])"
      ]
     },
     "execution_count": 13,
     "metadata": {},
     "output_type": "execute_result"
    }
   ],
   "source": [
    "tr.get_one_trial(TRUTH=True)"
   ]
  },
  {
   "cell_type": "code",
   "execution_count": 48,
   "metadata": {},
   "outputs": [
    {
     "data": {
      "text/plain": [
       "Events(2 items | columns: angErr, azi, azimuth, cascade_energy, dec, energy, event, index, log10energy, mjd, monopod_azi, monopod_dec, monopod_pegleg_dpsi, monopod_ra, monopod_zen, nchannel, nstring, pidDeltaLLH, pidLength, pidMonopodLLH, pidPeglegLLH, ra, run, sigma, sindec, subevent, time, zen)"
      ]
     },
     "execution_count": 48,
     "metadata": {},
     "output_type": "execute_result"
    }
   ],
   "source": [
    "ana[0].data[(ana[0].data.time > np.float64(tw_start)) & (ana[0].data.time < np.float64(tw_start)+tw)]"
   ]
  },
  {
   "cell_type": "code",
   "execution_count": null,
   "metadata": {},
   "outputs": [],
   "source": []
  }
 ],
 "metadata": {
  "kernelspec": {
   "display_name": "Python [conda env:icecube_py3]",
   "language": "python",
   "name": "conda-env-icecube_py3-py"
  },
  "language_info": {
   "codemirror_mode": {
    "name": "ipython",
    "version": 3
   },
   "file_extension": ".py",
   "mimetype": "text/x-python",
   "name": "python",
   "nbconvert_exporter": "python",
   "pygments_lexer": "ipython3",
   "version": "3.7.3"
  }
 },
 "nbformat": 4,
 "nbformat_minor": 4
}
