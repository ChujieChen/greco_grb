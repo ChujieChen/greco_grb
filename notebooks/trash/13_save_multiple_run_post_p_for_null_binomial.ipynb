{
 "cells": [
  {
   "cell_type": "code",
   "execution_count": 2,
   "metadata": {},
   "outputs": [
    {
     "name": "stdout",
     "output_type": "stream",
     "text": [
      "\n",
      "#### Working at GT ####\n",
      "\n",
      "LOCATION: \t GT\n",
      "USER: \t cchen641\n",
      "ICDATA_DIR: \t /storage/home/hhive1/cchen641/data/icecube/data/analyses/online_GRECO/candidate-002-p10\n",
      "DATA_DIR: \t /storage/home/hhive1/cchen641/data/icecube/data/greco_grb/data\n",
      "ANA_DIR: \t /storage/home/hhive1/cchen641/data/icecube/data/greco_grb/data/csky_output\n",
      "\n"
     ]
    }
   ],
   "source": [
    "import os\n",
    "import sys\n",
    "import numpy as np\n",
    "import healpy as hp\n",
    "import histlite as hl\n",
    "import csky as cy\n",
    "import pandas as pd\n",
    "from scipy import sparse\n",
    "\n",
    "from glob import glob\n",
    "timer = cy.timing.Timer()\n",
    "time = timer.time\n",
    "\n",
    "sys.path.append('../../')\n",
    "from greco_grb.scripts import SETTING\n",
    "paths = SETTING.PATH()\n",
    "print(paths)\n",
    "USER = paths.USER\n",
    "ICDATA_DIR = paths.ICDATA_DIR\n",
    "DATA_DIR = paths.DATA_DIR\n",
    "ANA_DIR = paths.ANA_DIR\n",
    "\n",
    "from greco_grb.scripts.utils import *"
   ]
  },
  {
   "cell_type": "code",
   "execution_count": 26,
   "metadata": {},
   "outputs": [],
   "source": [
    "import argparse\n",
    "######################### CONFIGURE ARGUEMENTS #############################\n",
    "# p = argparse.ArgumentParser(description=\"Save multiple background p-values(effective corrected) for null hypothesis binomial test\",\n",
    "#                             formatter_class=argparse.RawTextHelpFormatter)\n",
    "# p.add_argument(\"--num_run\", default=1, type=int, help=\"number of runs\")\n",
    "# p.add_argument(\"--batch_idx\", default=0, type=int, help=\"starting index of runs\")\n",
    "# args = p.parse_args()\n",
    "###########################################################################\n",
    "\n",
    "### testing on jupyter ###\n",
    "class args:\n",
    "    num_run = 3\n",
    "    batch_idx = 29\n",
    "##########################"
   ]
  },
  {
   "cell_type": "code",
   "execution_count": 27,
   "metadata": {},
   "outputs": [],
   "source": [
    "def get_post_p(pre_post, pre_p):\n",
    "    \"\"\"\n",
    "    effective trial correction due to multiple time windows\n",
    "    \n",
    "    Parameters\n",
    "    ----------\n",
    "        pre_post: ndarray\n",
    "            Npy from (ANA_DIR + f\"/effective_trial/pre_post/{grb_name}_effective_trial.npy\")\n",
    "            dtype=[('pre_trial_p', '<f4'), ('post_trial_p', '<f4')])\n",
    "        pre_p: float or array_like\n",
    "            one or multiple pre_trial p value(s)\n",
    "        \n",
    "    Returns\n",
    "    -------\n",
    "        post_p: float or array_like\n",
    "            one or multiple post_trial p value(s)\n",
    "    \"\"\"\n",
    "    pre_p = np.float32(pre_p)\n",
    "    idx = np.searchsorted(pre_post['pre_trial_p'], pre_p, side='right') - 1\n",
    "    idx = np.maximum(idx, 0)\n",
    "    idx = np.minimum(idx, pre_post['post_trial_p'].shape[0] - 1)\n",
    "    return pre_post['post_trial_p'][idx]"
   ]
  },
  {
   "cell_type": "code",
   "execution_count": 28,
   "metadata": {},
   "outputs": [],
   "source": [
    "def get_multiple_run_post_p(num_run, batch_idx=0, load=False):\n",
    "    \"\"\"\n",
    "    Get num_run * 2268 p-values. \n",
    "    The post_p are p-values corrected with `effective_trial/pre_post`\n",
    "    \n",
    "    Parameters\n",
    "    ----------\n",
    "        num_run: int\n",
    "            First a few runs starting from batch_idx * num_run (e.g. 1000)\n",
    "        \n",
    "        batch_idx: int\n",
    "            get num_run runs from start_idx (e.g.  [batch_idx*num_run, (batch_idx+1)*num_run))\n",
    "            if -1 (only when load=True), get all batches with num_run\n",
    "            \n",
    "        load: bool\n",
    "            are we loading or making runs\n",
    "        \n",
    "    Returns\n",
    "    -------\n",
    "        multiple_run_post_p: array_like\n",
    "            shape: num_run * 2268\n",
    "    \"\"\"\n",
    "    multiple_run_post_p = []\n",
    "    # get_all_GRB_best_p_values is using multiprocessing\n",
    "    # so we cannot use multiprocessing here\n",
    "    if batch_idx==-1:\n",
    "        assert load == True\n",
    "    if load:\n",
    "        if batch_idx==-1:\n",
    "            files = glob(ANA_DIR+f\"/binomial_test/null_binom/multiple_run_post_p_numRun{num_run}_batchIdx*.npy\")\n",
    "            files = sorted(files, key=lambda x: int(x[x.find(\"_batchIdx\")+9:x.find(\".npy\")]))\n",
    "        else:\n",
    "            files= glob(ANA_DIR+f\"/binomial_test/null_binom/multiple_run_post_p_numRun{num_run}_batchIdx{batch_idx}.npy\")\n",
    "        return np.vstack([np.load(x) for x in files])\n",
    "    \n",
    "    # load all GRB names\n",
    "    df = pd.read_pickle(DATA_DIR+\"/grbwebgbm/grbweb_gbm_noHealpix_2268.pkl\")\n",
    "    for grb_name in df.grb_name.values:\n",
    "        # load pre_trial_tw_p_grb for this grb\n",
    "        pre_trial_tw_p_grb = np.load(ANA_DIR + f\"/effective_trial/min_tw_p/{grb_name}_min_tw_p.npy\")\n",
    "        # load for pre_post this grb\n",
    "        pre_post = np.load(ANA_DIR + f\"/effective_trial/pre_post/{grb_name}_effective_trial.npy\")\n",
    "        \n",
    "        ## multiple_run_post_p_grb for this grb\n",
    "        multiple_run_post_p_grb = []\n",
    "        for i in range(batch_idx*num_run, (batch_idx+1)*num_run):\n",
    "            pre_trial_tw_p = pre_trial_tw_p_grb[i]\n",
    "            single_run_post_p_grb = get_post_p(pre_post, pre_trial_tw_p[1])\n",
    "            multiple_run_post_p_grb.append(single_run_post_p_grb)\n",
    "        multiple_run_post_p.append(multiple_run_post_p_grb)\n",
    "        \n",
    "    # make the return to shape N*2268\n",
    "    multiple_run_post_p = np.array(multiple_run_post_p).transpose()\n",
    "    return multiple_run_post_p"
   ]
  },
  {
   "cell_type": "code",
   "execution_count": 29,
   "metadata": {},
   "outputs": [],
   "source": [
    "def save_multiple_run_post_p(num_run, batch_idx=0):\n",
    "    multiple_run_post_p = get_multiple_run_post_p(num_run, batch_idx=batch_idx, load=False)\n",
    "    np.save(ANA_DIR+f\"/binomial_test/null_binom/multiple_run_post_p_numRun{num_run}_batchIdx{batch_idx}.npy\", \n",
    "            multiple_run_post_p)"
   ]
  },
  {
   "cell_type": "code",
   "execution_count": 30,
   "metadata": {},
   "outputs": [
    {
     "name": "stdout",
     "output_type": "stream",
     "text": [
      "\n",
      "0:02:00.246101 elapsed.\n"
     ]
    }
   ],
   "source": [
    "with time(\"test get_multiple_run_post_p\"):\n",
    "    save_multiple_run_post_p(args.num_run, args.batch_idx)"
   ]
  },
  {
   "cell_type": "code",
   "execution_count": 32,
   "metadata": {},
   "outputs": [],
   "source": [
    "###\n",
    "d = np.load(ANA_DIR+f\"/binomial_test/null_binom/multiple_run_post_p_numRun{args.num_run}_batchIdx{args.batch_idx}.npy\")"
   ]
  },
  {
   "cell_type": "code",
   "execution_count": 33,
   "metadata": {},
   "outputs": [
    {
     "data": {
      "text/plain": [
       "array([[1.      , 1.      , 1.      , ..., 1.      , 1.      , 1.      ],\n",
       "       [0.17666 , 0.227696, 0.31702 , ..., 0.109157, 1.      , 0.079232],\n",
       "       [1.      , 1.      , 1.      , ..., 1.      , 1.      , 1.      ]],\n",
       "      dtype=float32)"
      ]
     },
     "execution_count": 33,
     "metadata": {},
     "output_type": "execute_result"
    }
   ],
   "source": [
    "d"
   ]
  },
  {
   "cell_type": "code",
   "execution_count": 35,
   "metadata": {},
   "outputs": [
    {
     "name": "stdout",
     "output_type": "stream",
     "text": [
      "\n",
      "0:01:58.425035 elapsed.\n"
     ]
    }
   ],
   "source": [
    "with time(\"test get_multiple_run_post_p\"):\n",
    "    save_multiple_run_post_p(3, 30)"
   ]
  },
  {
   "cell_type": "code",
   "execution_count": 36,
   "metadata": {},
   "outputs": [
    {
     "data": {
      "text/plain": [
       "array([[1.      , 1.      , 1.      , ..., 1.      , 1.      , 1.      ],\n",
       "       [1.      , 1.      , 1.      , ..., 1.      , 1.      , 0.312581],\n",
       "       [1.      , 1.      , 1.      , ..., 1.      , 1.      , 1.      ]],\n",
       "      dtype=float32)"
      ]
     },
     "execution_count": 36,
     "metadata": {},
     "output_type": "execute_result"
    }
   ],
   "source": [
    "np.load(ANA_DIR+f\"/binomial_test/null_binom/multiple_run_post_p_numRun{3}_batchIdx{30}.npy\")"
   ]
  },
  {
   "cell_type": "code",
   "execution_count": null,
   "metadata": {},
   "outputs": [],
   "source": []
  }
 ],
 "metadata": {
  "kernelspec": {
   "display_name": "Python [conda env:icecube_py3]",
   "language": "python",
   "name": "conda-env-icecube_py3-py"
  },
  "language_info": {
   "codemirror_mode": {
    "name": "ipython",
    "version": 3
   },
   "file_extension": ".py",
   "mimetype": "text/x-python",
   "name": "python",
   "nbconvert_exporter": "python",
   "pygments_lexer": "ipython3",
   "version": "3.7.3"
  }
 },
 "nbformat": 4,
 "nbformat_minor": 4
}
