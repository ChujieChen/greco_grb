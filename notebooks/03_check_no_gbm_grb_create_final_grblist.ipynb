{
 "cells": [
  {
   "cell_type": "code",
   "execution_count": 1,
   "metadata": {},
   "outputs": [],
   "source": [
    "import numpy as np\n",
    "import pandas as pd\n",
    "import pickle\n",
    "import healpy as hp\n",
    "import os\n",
    "import glob"
   ]
  },
  {
   "cell_type": "code",
   "execution_count": 2,
   "metadata": {},
   "outputs": [],
   "source": [
    "# with open(\"/home/cjchen/2020-2021/Spring2021/greco_grb/data/gbm/no_healpix_gbm_grb_list.txt\", \"rb\") as fp:   # Unpickling\n",
    "#     no_healpix_gbm_grb_list = pickle.load(fp)\n",
    "\n",
    "with open(\"/storage/home/hhive1/cchen641/data/icecube/data/greco_grb/data/gbm/no_healpix_gbm_grb_list_40.txt\", \"rb\") as fp:   # Unpickling\n",
    "    no_healpix_gbm_grb_list = pickle.load(fp)\n",
    "\n",
    "# no_gbm_list = ['GRB180205184', 'GRB180128252', 'GRB171119992', 'GRB170416583', 'GRB170203486', 'GRB170113420', 'GRB161218222', 'GRB161121186', 'GRB161020024', 'GRB160314929', 'GRB160220868', 'GRB151218857', 'GRB150917148', 'GRB150618674', 'GRB150513856', 'GRB150411026', 'GRB150326542', 'GRB150325696', 'GRB140912664', 'GRB140825980', 'GRB140711691', 'GRB140628704', 'GRB140501139', 'GRB140219319', 'GRB140115899', 'GRB140109877', 'GRB131029990', 'GRB130925164', 'GRB130909817', 'GRB130908677', 'GRB120817168', 'GRB120624309', 'GRB120513531']\n"
   ]
  },
  {
   "cell_type": "code",
   "execution_count": 3,
   "metadata": {
    "scrolled": true
   },
   "outputs": [
    {
     "data": {
      "text/html": [
       "<div>\n",
       "<style scoped>\n",
       "    .dataframe tbody tr th:only-of-type {\n",
       "        vertical-align: middle;\n",
       "    }\n",
       "\n",
       "    .dataframe tbody tr th {\n",
       "        vertical-align: top;\n",
       "    }\n",
       "\n",
       "    .dataframe thead th {\n",
       "        text-align: right;\n",
       "    }\n",
       "</style>\n",
       "<table border=\"1\" class=\"dataframe\">\n",
       "  <thead>\n",
       "    <tr style=\"text-align: right;\">\n",
       "      <th></th>\n",
       "      <th>grb_name</th>\n",
       "      <th>grb_name_GBM</th>\n",
       "      <th>ra</th>\n",
       "      <th>dec</th>\n",
       "      <th>mjd_start</th>\n",
       "      <th>t100</th>\n",
       "      <th>t90</th>\n",
       "      <th>gbm</th>\n",
       "      <th>source_uncertainty</th>\n",
       "      <th>redshift</th>\n",
       "      <th>t_center</th>\n",
       "    </tr>\n",
       "  </thead>\n",
       "  <tbody>\n",
       "    <tr>\n",
       "      <th>0</th>\n",
       "      <td>GRB200529B</td>\n",
       "      <td>GRB200529504</td>\n",
       "      <td>337.200000</td>\n",
       "      <td>55.230000</td>\n",
       "      <td>58998.503432</td>\n",
       "      <td>0.000539</td>\n",
       "      <td>0.000539</td>\n",
       "      <td>1</td>\n",
       "      <td>3.506136</td>\n",
       "      <td>NaN</td>\n",
       "      <td>58998.503701</td>\n",
       "    </tr>\n",
       "    <tr>\n",
       "      <th>1</th>\n",
       "      <td>GRB200529A</td>\n",
       "      <td>GRB200529039</td>\n",
       "      <td>238.763917</td>\n",
       "      <td>-11.073639</td>\n",
       "      <td>58998.039294</td>\n",
       "      <td>0.001004</td>\n",
       "      <td>0.000984</td>\n",
       "      <td>0</td>\n",
       "      <td>0.000233</td>\n",
       "      <td>NaN</td>\n",
       "      <td>58998.039796</td>\n",
       "    </tr>\n",
       "    <tr>\n",
       "      <th>2</th>\n",
       "      <td>GRB200528A</td>\n",
       "      <td>GRB200528436</td>\n",
       "      <td>176.637458</td>\n",
       "      <td>58.192583</td>\n",
       "      <td>58997.435683</td>\n",
       "      <td>0.000700</td>\n",
       "      <td>0.000655</td>\n",
       "      <td>0</td>\n",
       "      <td>0.000194</td>\n",
       "      <td>NaN</td>\n",
       "      <td>58997.436033</td>\n",
       "    </tr>\n",
       "    <tr>\n",
       "      <th>3</th>\n",
       "      <td>GRB200525A</td>\n",
       "      <td>GRB200525611</td>\n",
       "      <td>20.610000</td>\n",
       "      <td>-8.520000</td>\n",
       "      <td>58994.611328</td>\n",
       "      <td>0.001081</td>\n",
       "      <td>0.001081</td>\n",
       "      <td>1</td>\n",
       "      <td>4.536708</td>\n",
       "      <td>NaN</td>\n",
       "      <td>58994.611869</td>\n",
       "    </tr>\n",
       "    <tr>\n",
       "      <th>4</th>\n",
       "      <td>GRB200524A</td>\n",
       "      <td>GRB200524211</td>\n",
       "      <td>212.750000</td>\n",
       "      <td>60.966667</td>\n",
       "      <td>58993.211115</td>\n",
       "      <td>0.000445</td>\n",
       "      <td>0.000437</td>\n",
       "      <td>0</td>\n",
       "      <td>0.200000</td>\n",
       "      <td>1.256</td>\n",
       "      <td>58993.211338</td>\n",
       "    </tr>\n",
       "    <tr>\n",
       "      <th>...</th>\n",
       "      <td>...</td>\n",
       "      <td>...</td>\n",
       "      <td>...</td>\n",
       "      <td>...</td>\n",
       "      <td>...</td>\n",
       "      <td>...</td>\n",
       "      <td>...</td>\n",
       "      <td>...</td>\n",
       "      <td>...</td>\n",
       "      <td>...</td>\n",
       "      <td>...</td>\n",
       "    </tr>\n",
       "    <tr>\n",
       "      <th>2292</th>\n",
       "      <td>GRB120429B</td>\n",
       "      <td>GRB120429484</td>\n",
       "      <td>133.040000</td>\n",
       "      <td>-32.230000</td>\n",
       "      <td>56046.484059</td>\n",
       "      <td>0.000178</td>\n",
       "      <td>0.000178</td>\n",
       "      <td>1</td>\n",
       "      <td>6.505598</td>\n",
       "      <td>NaN</td>\n",
       "      <td>56046.484148</td>\n",
       "    </tr>\n",
       "    <tr>\n",
       "      <th>2293</th>\n",
       "      <td>GRB120429A</td>\n",
       "      <td>GRB120429003</td>\n",
       "      <td>165.980000</td>\n",
       "      <td>-8.760000</td>\n",
       "      <td>56046.002860</td>\n",
       "      <td>0.000019</td>\n",
       "      <td>0.000019</td>\n",
       "      <td>1</td>\n",
       "      <td>9.378528</td>\n",
       "      <td>NaN</td>\n",
       "      <td>56046.002869</td>\n",
       "    </tr>\n",
       "    <tr>\n",
       "      <th>2294</th>\n",
       "      <td>GRB120427B</td>\n",
       "      <td>GRB120427153</td>\n",
       "      <td>114.700000</td>\n",
       "      <td>50.210000</td>\n",
       "      <td>56044.153189</td>\n",
       "      <td>0.000264</td>\n",
       "      <td>0.000264</td>\n",
       "      <td>1</td>\n",
       "      <td>15.003090</td>\n",
       "      <td>NaN</td>\n",
       "      <td>56044.153321</td>\n",
       "    </tr>\n",
       "    <tr>\n",
       "      <th>2295</th>\n",
       "      <td>GRB120427A</td>\n",
       "      <td>GRB120427054</td>\n",
       "      <td>224.935000</td>\n",
       "      <td>29.311000</td>\n",
       "      <td>56044.053773</td>\n",
       "      <td>0.000089</td>\n",
       "      <td>0.000062</td>\n",
       "      <td>0</td>\n",
       "      <td>NaN</td>\n",
       "      <td>NaN</td>\n",
       "      <td>56044.053818</td>\n",
       "    </tr>\n",
       "    <tr>\n",
       "      <th>2296</th>\n",
       "      <td>GRB120426B</td>\n",
       "      <td>GRB120426585</td>\n",
       "      <td>285.490000</td>\n",
       "      <td>-13.680000</td>\n",
       "      <td>56043.584981</td>\n",
       "      <td>0.000359</td>\n",
       "      <td>0.000358</td>\n",
       "      <td>1</td>\n",
       "      <td>4.660295</td>\n",
       "      <td>NaN</td>\n",
       "      <td>56043.585160</td>\n",
       "    </tr>\n",
       "  </tbody>\n",
       "</table>\n",
       "<p>2297 rows × 11 columns</p>\n",
       "</div>"
      ],
      "text/plain": [
       "        grb_name  grb_name_GBM          ra        dec     mjd_start      t100  \\\n",
       "0     GRB200529B  GRB200529504  337.200000  55.230000  58998.503432  0.000539   \n",
       "1     GRB200529A  GRB200529039  238.763917 -11.073639  58998.039294  0.001004   \n",
       "2     GRB200528A  GRB200528436  176.637458  58.192583  58997.435683  0.000700   \n",
       "3     GRB200525A  GRB200525611   20.610000  -8.520000  58994.611328  0.001081   \n",
       "4     GRB200524A  GRB200524211  212.750000  60.966667  58993.211115  0.000445   \n",
       "...          ...           ...         ...        ...           ...       ...   \n",
       "2292  GRB120429B  GRB120429484  133.040000 -32.230000  56046.484059  0.000178   \n",
       "2293  GRB120429A  GRB120429003  165.980000  -8.760000  56046.002860  0.000019   \n",
       "2294  GRB120427B  GRB120427153  114.700000  50.210000  56044.153189  0.000264   \n",
       "2295  GRB120427A  GRB120427054  224.935000  29.311000  56044.053773  0.000089   \n",
       "2296  GRB120426B  GRB120426585  285.490000 -13.680000  56043.584981  0.000359   \n",
       "\n",
       "           t90  gbm  source_uncertainty  redshift      t_center  \n",
       "0     0.000539    1            3.506136       NaN  58998.503701  \n",
       "1     0.000984    0            0.000233       NaN  58998.039796  \n",
       "2     0.000655    0            0.000194       NaN  58997.436033  \n",
       "3     0.001081    1            4.536708       NaN  58994.611869  \n",
       "4     0.000437    0            0.200000     1.256  58993.211338  \n",
       "...        ...  ...                 ...       ...           ...  \n",
       "2292  0.000178    1            6.505598       NaN  56046.484148  \n",
       "2293  0.000019    1            9.378528       NaN  56046.002869  \n",
       "2294  0.000264    1           15.003090       NaN  56044.153321  \n",
       "2295  0.000062    0                 NaN       NaN  56044.053818  \n",
       "2296  0.000358    1            4.660295       NaN  56043.585160  \n",
       "\n",
       "[2297 rows x 11 columns]"
      ]
     },
     "execution_count": 3,
     "metadata": {},
     "output_type": "execute_result"
    }
   ],
   "source": [
    "# grbweb = pd.read_pickle(\"/home/cjchen/2020-2021/Spring2021/greco_grb/data/grbweb/grb_grbweb.pkl\")\n",
    "grbweb = pd.read_pickle(\"/storage/home/hhive1/cchen641/data/icecube/data/greco_grb/data/grbweb/grb_grbweb_2297.pkl\")\n",
    "grbweb"
   ]
  },
  {
   "cell_type": "markdown",
   "metadata": {},
   "source": [
    "## GRBs having no GBM healpix maps"
   ]
  },
  {
   "cell_type": "code",
   "execution_count": 4,
   "metadata": {},
   "outputs": [],
   "source": [
    "no_gbm_name_mask = grbweb['grb_name_GBM'].isnull()\n",
    "has_gbm_name_but_no_healpix_mask = grbweb['grb_name_GBM'].isin(no_healpix_gbm_grb_list)\n",
    "mask = np.logical_or(no_gbm_name_mask, has_gbm_name_but_no_healpix_mask)\n"
   ]
  },
  {
   "cell_type": "code",
   "execution_count": 5,
   "metadata": {
    "scrolled": true
   },
   "outputs": [],
   "source": [
    "grbweb['hasHealpix'] =  np.logical_not(mask)"
   ]
  },
  {
   "cell_type": "code",
   "execution_count": 6,
   "metadata": {
    "scrolled": true
   },
   "outputs": [
    {
     "data": {
      "text/html": [
       "<div>\n",
       "<style scoped>\n",
       "    .dataframe tbody tr th:only-of-type {\n",
       "        vertical-align: middle;\n",
       "    }\n",
       "\n",
       "    .dataframe tbody tr th {\n",
       "        vertical-align: top;\n",
       "    }\n",
       "\n",
       "    .dataframe thead th {\n",
       "        text-align: right;\n",
       "    }\n",
       "</style>\n",
       "<table border=\"1\" class=\"dataframe\">\n",
       "  <thead>\n",
       "    <tr style=\"text-align: right;\">\n",
       "      <th></th>\n",
       "      <th>grb_name</th>\n",
       "      <th>grb_name_GBM</th>\n",
       "      <th>ra</th>\n",
       "      <th>dec</th>\n",
       "      <th>mjd_start</th>\n",
       "      <th>t100</th>\n",
       "      <th>t90</th>\n",
       "      <th>gbm</th>\n",
       "      <th>source_uncertainty</th>\n",
       "      <th>redshift</th>\n",
       "      <th>t_center</th>\n",
       "      <th>hasHealpix</th>\n",
       "    </tr>\n",
       "  </thead>\n",
       "  <tbody>\n",
       "    <tr>\n",
       "      <th>0</th>\n",
       "      <td>GRB200529B</td>\n",
       "      <td>GRB200529504</td>\n",
       "      <td>337.200000</td>\n",
       "      <td>55.230000</td>\n",
       "      <td>58998.503432</td>\n",
       "      <td>0.000539</td>\n",
       "      <td>0.000539</td>\n",
       "      <td>1</td>\n",
       "      <td>3.506136</td>\n",
       "      <td>NaN</td>\n",
       "      <td>58998.503701</td>\n",
       "      <td>True</td>\n",
       "    </tr>\n",
       "    <tr>\n",
       "      <th>1</th>\n",
       "      <td>GRB200529A</td>\n",
       "      <td>GRB200529039</td>\n",
       "      <td>238.763917</td>\n",
       "      <td>-11.073639</td>\n",
       "      <td>58998.039294</td>\n",
       "      <td>0.001004</td>\n",
       "      <td>0.000984</td>\n",
       "      <td>0</td>\n",
       "      <td>0.000233</td>\n",
       "      <td>NaN</td>\n",
       "      <td>58998.039796</td>\n",
       "      <td>True</td>\n",
       "    </tr>\n",
       "    <tr>\n",
       "      <th>2</th>\n",
       "      <td>GRB200528A</td>\n",
       "      <td>GRB200528436</td>\n",
       "      <td>176.637458</td>\n",
       "      <td>58.192583</td>\n",
       "      <td>58997.435683</td>\n",
       "      <td>0.000700</td>\n",
       "      <td>0.000655</td>\n",
       "      <td>0</td>\n",
       "      <td>0.000194</td>\n",
       "      <td>NaN</td>\n",
       "      <td>58997.436033</td>\n",
       "      <td>True</td>\n",
       "    </tr>\n",
       "    <tr>\n",
       "      <th>3</th>\n",
       "      <td>GRB200525A</td>\n",
       "      <td>GRB200525611</td>\n",
       "      <td>20.610000</td>\n",
       "      <td>-8.520000</td>\n",
       "      <td>58994.611328</td>\n",
       "      <td>0.001081</td>\n",
       "      <td>0.001081</td>\n",
       "      <td>1</td>\n",
       "      <td>4.536708</td>\n",
       "      <td>NaN</td>\n",
       "      <td>58994.611869</td>\n",
       "      <td>True</td>\n",
       "    </tr>\n",
       "    <tr>\n",
       "      <th>4</th>\n",
       "      <td>GRB200524A</td>\n",
       "      <td>GRB200524211</td>\n",
       "      <td>212.750000</td>\n",
       "      <td>60.966667</td>\n",
       "      <td>58993.211115</td>\n",
       "      <td>0.000445</td>\n",
       "      <td>0.000437</td>\n",
       "      <td>0</td>\n",
       "      <td>0.200000</td>\n",
       "      <td>1.256</td>\n",
       "      <td>58993.211338</td>\n",
       "      <td>True</td>\n",
       "    </tr>\n",
       "    <tr>\n",
       "      <th>...</th>\n",
       "      <td>...</td>\n",
       "      <td>...</td>\n",
       "      <td>...</td>\n",
       "      <td>...</td>\n",
       "      <td>...</td>\n",
       "      <td>...</td>\n",
       "      <td>...</td>\n",
       "      <td>...</td>\n",
       "      <td>...</td>\n",
       "      <td>...</td>\n",
       "      <td>...</td>\n",
       "      <td>...</td>\n",
       "    </tr>\n",
       "    <tr>\n",
       "      <th>2292</th>\n",
       "      <td>GRB120429B</td>\n",
       "      <td>GRB120429484</td>\n",
       "      <td>133.040000</td>\n",
       "      <td>-32.230000</td>\n",
       "      <td>56046.484059</td>\n",
       "      <td>0.000178</td>\n",
       "      <td>0.000178</td>\n",
       "      <td>1</td>\n",
       "      <td>6.505598</td>\n",
       "      <td>NaN</td>\n",
       "      <td>56046.484148</td>\n",
       "      <td>True</td>\n",
       "    </tr>\n",
       "    <tr>\n",
       "      <th>2293</th>\n",
       "      <td>GRB120429A</td>\n",
       "      <td>GRB120429003</td>\n",
       "      <td>165.980000</td>\n",
       "      <td>-8.760000</td>\n",
       "      <td>56046.002860</td>\n",
       "      <td>0.000019</td>\n",
       "      <td>0.000019</td>\n",
       "      <td>1</td>\n",
       "      <td>9.378528</td>\n",
       "      <td>NaN</td>\n",
       "      <td>56046.002869</td>\n",
       "      <td>True</td>\n",
       "    </tr>\n",
       "    <tr>\n",
       "      <th>2294</th>\n",
       "      <td>GRB120427B</td>\n",
       "      <td>GRB120427153</td>\n",
       "      <td>114.700000</td>\n",
       "      <td>50.210000</td>\n",
       "      <td>56044.153189</td>\n",
       "      <td>0.000264</td>\n",
       "      <td>0.000264</td>\n",
       "      <td>1</td>\n",
       "      <td>15.003090</td>\n",
       "      <td>NaN</td>\n",
       "      <td>56044.153321</td>\n",
       "      <td>True</td>\n",
       "    </tr>\n",
       "    <tr>\n",
       "      <th>2295</th>\n",
       "      <td>GRB120427A</td>\n",
       "      <td>GRB120427054</td>\n",
       "      <td>224.935000</td>\n",
       "      <td>29.311000</td>\n",
       "      <td>56044.053773</td>\n",
       "      <td>0.000089</td>\n",
       "      <td>0.000062</td>\n",
       "      <td>0</td>\n",
       "      <td>NaN</td>\n",
       "      <td>NaN</td>\n",
       "      <td>56044.053818</td>\n",
       "      <td>True</td>\n",
       "    </tr>\n",
       "    <tr>\n",
       "      <th>2296</th>\n",
       "      <td>GRB120426B</td>\n",
       "      <td>GRB120426585</td>\n",
       "      <td>285.490000</td>\n",
       "      <td>-13.680000</td>\n",
       "      <td>56043.584981</td>\n",
       "      <td>0.000359</td>\n",
       "      <td>0.000358</td>\n",
       "      <td>1</td>\n",
       "      <td>4.660295</td>\n",
       "      <td>NaN</td>\n",
       "      <td>56043.585160</td>\n",
       "      <td>True</td>\n",
       "    </tr>\n",
       "  </tbody>\n",
       "</table>\n",
       "<p>2297 rows × 12 columns</p>\n",
       "</div>"
      ],
      "text/plain": [
       "        grb_name  grb_name_GBM          ra        dec     mjd_start      t100  \\\n",
       "0     GRB200529B  GRB200529504  337.200000  55.230000  58998.503432  0.000539   \n",
       "1     GRB200529A  GRB200529039  238.763917 -11.073639  58998.039294  0.001004   \n",
       "2     GRB200528A  GRB200528436  176.637458  58.192583  58997.435683  0.000700   \n",
       "3     GRB200525A  GRB200525611   20.610000  -8.520000  58994.611328  0.001081   \n",
       "4     GRB200524A  GRB200524211  212.750000  60.966667  58993.211115  0.000445   \n",
       "...          ...           ...         ...        ...           ...       ...   \n",
       "2292  GRB120429B  GRB120429484  133.040000 -32.230000  56046.484059  0.000178   \n",
       "2293  GRB120429A  GRB120429003  165.980000  -8.760000  56046.002860  0.000019   \n",
       "2294  GRB120427B  GRB120427153  114.700000  50.210000  56044.153189  0.000264   \n",
       "2295  GRB120427A  GRB120427054  224.935000  29.311000  56044.053773  0.000089   \n",
       "2296  GRB120426B  GRB120426585  285.490000 -13.680000  56043.584981  0.000359   \n",
       "\n",
       "           t90  gbm  source_uncertainty  redshift      t_center  hasHealpix  \n",
       "0     0.000539    1            3.506136       NaN  58998.503701        True  \n",
       "1     0.000984    0            0.000233       NaN  58998.039796        True  \n",
       "2     0.000655    0            0.000194       NaN  58997.436033        True  \n",
       "3     0.001081    1            4.536708       NaN  58994.611869        True  \n",
       "4     0.000437    0            0.200000     1.256  58993.211338        True  \n",
       "...        ...  ...                 ...       ...           ...         ...  \n",
       "2292  0.000178    1            6.505598       NaN  56046.484148        True  \n",
       "2293  0.000019    1            9.378528       NaN  56046.002869        True  \n",
       "2294  0.000264    1           15.003090       NaN  56044.153321        True  \n",
       "2295  0.000062    0                 NaN       NaN  56044.053818        True  \n",
       "2296  0.000358    1            4.660295       NaN  56043.585160        True  \n",
       "\n",
       "[2297 rows x 12 columns]"
      ]
     },
     "execution_count": 6,
     "metadata": {},
     "output_type": "execute_result"
    }
   ],
   "source": [
    "grbweb"
   ]
  },
  {
   "cell_type": "markdown",
   "metadata": {},
   "source": [
    "## How many: all vs. GBM_located vs. notGBM_located"
   ]
  },
  {
   "cell_type": "code",
   "execution_count": 7,
   "metadata": {},
   "outputs": [
    {
     "name": "stdout",
     "output_type": "stream",
     "text": [
      "all vs. GBM_located vs. notGBM_located\n"
     ]
    },
    {
     "data": {
      "text/plain": [
       "(2297, 1367, 930)"
      ]
     },
     "execution_count": 7,
     "metadata": {},
     "output_type": "execute_result"
    }
   ],
   "source": [
    "print(\"all vs. GBM_located vs. notGBM_located\")\n",
    "grbweb.shape[0], np.sum(grbweb.gbm==1), np.sum(grbweb.gbm==0)"
   ]
  },
  {
   "cell_type": "markdown",
   "metadata": {},
   "source": [
    "## How many: all vs. hasHealpix vs. noHealpix"
   ]
  },
  {
   "cell_type": "code",
   "execution_count": 8,
   "metadata": {},
   "outputs": [
    {
     "name": "stdout",
     "output_type": "stream",
     "text": [
      "all, hasHealpix, noHealpix\n"
     ]
    },
    {
     "data": {
      "text/plain": [
       "(2297, 1859, 438)"
      ]
     },
     "execution_count": 8,
     "metadata": {},
     "output_type": "execute_result"
    }
   ],
   "source": [
    "print(\"all, hasHealpix, noHealpix\")\n",
    "grbweb.shape[0], np.sum(grbweb.hasHealpix), np.sum(~grbweb.hasHealpix)\n"
   ]
  },
  {
   "cell_type": "markdown",
   "metadata": {},
   "source": [
    "## How many: GBM_located vs. hasHealpix vs. noHealpix"
   ]
  },
  {
   "cell_type": "code",
   "execution_count": 10,
   "metadata": {},
   "outputs": [
    {
     "name": "stdout",
     "output_type": "stream",
     "text": [
      "GBM_located vs. hasHealpix vs. noHealpix\n"
     ]
    },
    {
     "data": {
      "text/plain": [
       "(1367, 1338, 29)"
      ]
     },
     "execution_count": 10,
     "metadata": {},
     "output_type": "execute_result"
    }
   ],
   "source": [
    "print(\"GBM_located vs. hasHealpix vs. noHealpix\")\n",
    "np.sum(grbweb.gbm==1), np.sum(np.logical_and(grbweb.gbm==1, grbweb.hasHealpix)), np.sum(np.logical_and(grbweb.gbm==1, ~grbweb.hasHealpix))\n",
    "\n"
   ]
  },
  {
   "cell_type": "markdown",
   "metadata": {},
   "source": [
    "## Among GBM_located && noHealpix GRBs: NaN. vs. well vs. poor"
   ]
  },
  {
   "cell_type": "code",
   "execution_count": 11,
   "metadata": {},
   "outputs": [
    {
     "name": "stdout",
     "output_type": "stream",
     "text": [
      "NaN, well, poor\n"
     ]
    },
    {
     "data": {
      "text/plain": [
       "(29, 0, 0)"
      ]
     },
     "execution_count": 11,
     "metadata": {},
     "output_type": "execute_result"
    }
   ],
   "source": [
    "print(\"NaN, well, poor\")\n",
    "mask = np.logical_and(grbweb.gbm == 1, ~grbweb.hasHealpix)\n",
    "np.sum(np.logical_and(mask, np.isnan(grbweb.source_uncertainty))), np.sum(np.logical_and(mask, grbweb.source_uncertainty < 1)), np.sum(np.logical_and(mask, grbweb.source_uncertainty >= 1))\n"
   ]
  },
  {
   "cell_type": "markdown",
   "metadata": {},
   "source": [
    "## Among notGBM_located: NaN. vs. well vs. poor"
   ]
  },
  {
   "cell_type": "code",
   "execution_count": 12,
   "metadata": {},
   "outputs": [
    {
     "name": "stdout",
     "output_type": "stream",
     "text": [
      "NaN, well, poor\n"
     ]
    },
    {
     "data": {
      "text/plain": [
       "(69, 781, 80)"
      ]
     },
     "execution_count": 12,
     "metadata": {},
     "output_type": "execute_result"
    }
   ],
   "source": [
    "print(\"NaN, well, poor\")\n",
    "mask = grbweb.gbm == 0\n",
    "np.sum(np.logical_and(mask, np.isnan(grbweb.source_uncertainty))), np.sum(np.logical_and(mask, grbweb.source_uncertainty < 1)), np.sum(np.logical_and(mask, grbweb.source_uncertainty >= 1))\n"
   ]
  },
  {
   "cell_type": "markdown",
   "metadata": {},
   "source": [
    "## Confirm hasHealpix feild with healpix .fit files"
   ]
  },
  {
   "cell_type": "code",
   "execution_count": 14,
   "metadata": {},
   "outputs": [],
   "source": [
    "# in_folder = \"/home/cjchen/2020-2021/Spring2021/greco_grb/data/gbm/healpix\"\n",
    "in_folder = \"/storage/home/hhive1/cchen641/data/icecube/data/greco_grb/data/gbm/healpix\"\n",
    "for idx in grbweb.index: \n",
    "    if grbweb.hasHealpix[idx]:\n",
    "        files = glob.glob(\"{}/*_healpix_*{}*.fit\".format(in_folder, grbweb.grb_name_GBM[idx][3:]))\n",
    "        if len(files) == 0:\n",
    "            print(grbweb.grb_name_GBM + \" has no healpix .fit file.\")\n",
    "        elif len(files) > 1:\n",
    "            print(grbweb.grb_name_GBM + \" has more than one .fit files.\")\n",
    "        else :\n",
    "            pass\n",
    "        \n",
    "# IF no printouts, then likely everything is correct\n",
    "# Meaning: all GRBs that is classified as hasHealpix=True does has one and only one healpix file"
   ]
  },
  {
   "cell_type": "markdown",
   "metadata": {},
   "source": [
    "## Put / store everything together"
   ]
  },
  {
   "cell_type": "markdown",
   "metadata": {},
   "source": [
    "For GBM-GRBs (with `gbm=1`), use healpix map if it exists, create a fake healpix if it doesn't (24 of them). \\\n",
    "For non-GBM GRBs (with `gbm=0`), create a fake healpix.\\\n",
    "\n",
    "Whenever a fake healpix map is created, `source_uncertainty` is used:\n",
    "- When `source_uncertainty is NaN`: 1 degree is used\n",
    "- When `source_uncertainty <= 1`: 1 degree is used\n",
    "- When `source_uncertainty > 1`: `source_uncertainty` itself is used\n",
    "\n"
   ]
  },
  {
   "cell_type": "code",
   "execution_count": 15,
   "metadata": {},
   "outputs": [],
   "source": [
    "def createFakeHealpix(ra, dec, source_uncertainty, deg=True):\n",
    "    if deg:\n",
    "        ra = np.deg2rad(ra)\n",
    "        dec = np.deg2rad(dec)\n",
    "        source_uncertainty = np.deg2rad(source_uncertainty)\n",
    "    \n",
    "    theta = np.pi/2. - dec                                  # Convert to healpy stuff\n",
    "    phi = ra\n",
    "    nside = 128                                             # Pass as argument if needed\n",
    "    probs = np.zeros(hp.pixelfunc.nside2npix(nside))        # Array of zeros with length from nside\n",
    "    pixel = hp.pixelfunc.ang2pix(nside, theta, phi)         # Find the pixel that matches the location of the GRB\n",
    "    vec = hp.pixelfunc.pix2vec(nside, pixel)                  # Find the vector to that pixel\n",
    "    if np.isnan(source_uncertainty) == True or source_uncertainty < np.radians(1.0):\n",
    "            source_uncertainty = np.radians(1.0)            # Scan minimum of 1 degree around source\n",
    "    pixels = hp.query_disc(nside, vec, source_uncertainty)    # Find all the pixels within appropriate degrees of that pixel\n",
    "    probs[pixels] = 1.                                      # Consider all those pixels equally\n",
    "    probs[pixels] /= np.sum(probs)\n",
    "    \n",
    "    return probs"
   ]
  },
  {
   "cell_type": "code",
   "execution_count": 16,
   "metadata": {},
   "outputs": [],
   "source": [
    "# in_folder = \"/home/cjchen/2020-2021/Spring2021/greco_grb/data/gbm/healpix\"\n",
    "# out_folder = \"/home/cjchen/2020-2021/Spring2021/greco_grb/data/grbgbm\"\n",
    "in_folder = \"/storage/home/hhive1/cchen641/data/icecube/data/greco_grb/data/gbm/healpix\"\n",
    "out_folder = \"/storage/home/hhive1/cchen641/data/icecube/data/greco_grb/data/grbwebgbm\""
   ]
  },
  {
   "cell_type": "code",
   "execution_count": 17,
   "metadata": {},
   "outputs": [
    {
     "data": {
      "text/plain": [
       "RangeIndex(start=0, stop=2297, step=1)"
      ]
     },
     "execution_count": 17,
     "metadata": {},
     "output_type": "execute_result"
    }
   ],
   "source": [
    "grbweb.index"
   ]
  },
  {
   "cell_type": "code",
   "execution_count": 21,
   "metadata": {},
   "outputs": [
    {
     "name": "stderr",
     "output_type": "stream",
     "text": [
      "/storage/home/hhive1/cchen641/.local/lib/python3.7/site-packages/healpy/fitsfunc.py:369: UserWarning: If you are not specifying the input dtype and using the default np.float64 dtype of read_map(), please consider that it will change in a future version to None as to keep the same dtype of the input file: please explicitly set the dtype if it is important to you.\n",
      "  \"If you are not specifying the input dtype and using the default \"\n"
     ]
    }
   ],
   "source": [
    "probss = []\n",
    "for idx in grbweb.index: \n",
    "    isGBM = grbweb.gbm[idx] == 1\n",
    "    hasHealpix = grbweb.hasHealpix[idx]\n",
    "    source_uncertainty = grbweb.source_uncertainty[idx]\n",
    "    probs = None\n",
    "    if isGBM and hasHealpix:\n",
    "        gbm_number = grbweb.grb_name_GBM[idx][3:]\n",
    "        files = glob.glob(\"{}/*_healpix_*{}*.fit\".format(in_folder, gbm_number))\n",
    "#         print(files)\n",
    "        \n",
    "        if len(files) > 1 or len(files) == 0:\n",
    "            print(\"No healpix OR more than one healpix.\")\n",
    "            break\n",
    "        probs = hp.read_map(files[0], verbose=False)\n",
    "    else:\n",
    "        probs = createFakeHealpix(grbweb.ra[idx], grbweb.dec[idx], grbweb.source_uncertainty[idx])\n",
    "        \n",
    "    probss.append(probs)\n",
    "\n",
    "grbweb['probs'] = probss       "
   ]
  },
  {
   "cell_type": "code",
   "execution_count": 22,
   "metadata": {},
   "outputs": [],
   "source": [
    "# grbweb.to_pickle(\"/home/cjchen/2020-2021/Spring2021/greco_grb/data/grbwebgbm/grbweb_gbm_healpix.pkl\")\n",
    "# grbweb.to_pickle(\"/storage/home/hhive1/cchen641/data/icecube/data/greco_grb/data/grbwebgbm/grbweb_gbm_healpix_2297.pkl\")\n",
    "\n"
   ]
  },
  {
   "cell_type": "markdown",
   "metadata": {},
   "source": [
    "## store the last column in multiply files for clound computing"
   ]
  },
  {
   "cell_type": "code",
   "execution_count": 23,
   "metadata": {},
   "outputs": [],
   "source": [
    "# grbweb = pd.read_pickle(\"/data/user/cjchen/2020-2021/Spring2021/greco_grb/data/grbwebgbm/grbweb_gbm_healpix.pkl\")\n",
    "grbweb = pd.read_pickle(\"/storage/home/hhive1/cchen641/data/icecube/data/greco_grb/data/grbwebgbm/grbweb_gbm_healpix_2297.pkl\")\n"
   ]
  },
  {
   "cell_type": "code",
   "execution_count": 26,
   "metadata": {},
   "outputs": [
    {
     "data": {
      "text/html": [
       "<div>\n",
       "<style scoped>\n",
       "    .dataframe tbody tr th:only-of-type {\n",
       "        vertical-align: middle;\n",
       "    }\n",
       "\n",
       "    .dataframe tbody tr th {\n",
       "        vertical-align: top;\n",
       "    }\n",
       "\n",
       "    .dataframe thead th {\n",
       "        text-align: right;\n",
       "    }\n",
       "</style>\n",
       "<table border=\"1\" class=\"dataframe\">\n",
       "  <thead>\n",
       "    <tr style=\"text-align: right;\">\n",
       "      <th></th>\n",
       "      <th>grb_name</th>\n",
       "      <th>grb_name_GBM</th>\n",
       "      <th>ra</th>\n",
       "      <th>dec</th>\n",
       "      <th>mjd_start</th>\n",
       "      <th>t100</th>\n",
       "      <th>t90</th>\n",
       "      <th>gbm</th>\n",
       "      <th>source_uncertainty</th>\n",
       "      <th>redshift</th>\n",
       "      <th>t_center</th>\n",
       "      <th>hasHealpix</th>\n",
       "      <th>probs</th>\n",
       "    </tr>\n",
       "  </thead>\n",
       "  <tbody>\n",
       "    <tr>\n",
       "      <th>0</th>\n",
       "      <td>GRB200529B</td>\n",
       "      <td>GRB200529504</td>\n",
       "      <td>337.200000</td>\n",
       "      <td>55.230000</td>\n",
       "      <td>58998.503432</td>\n",
       "      <td>0.000539</td>\n",
       "      <td>0.000539</td>\n",
       "      <td>1</td>\n",
       "      <td>3.506136</td>\n",
       "      <td>NaN</td>\n",
       "      <td>58998.503701</td>\n",
       "      <td>True</td>\n",
       "      <td>[-1.1531762211802743e-09, -1.1525613796692369e...</td>\n",
       "    </tr>\n",
       "    <tr>\n",
       "      <th>1</th>\n",
       "      <td>GRB200529A</td>\n",
       "      <td>GRB200529039</td>\n",
       "      <td>238.763917</td>\n",
       "      <td>-11.073639</td>\n",
       "      <td>58998.039294</td>\n",
       "      <td>0.001004</td>\n",
       "      <td>0.000984</td>\n",
       "      <td>0</td>\n",
       "      <td>0.000233</td>\n",
       "      <td>NaN</td>\n",
       "      <td>58998.039796</td>\n",
       "      <td>True</td>\n",
       "      <td>[0.0, 0.0, 0.0, 0.0, 0.0, 0.0, 0.0, 0.0, 0.0, ...</td>\n",
       "    </tr>\n",
       "    <tr>\n",
       "      <th>2</th>\n",
       "      <td>GRB200528A</td>\n",
       "      <td>GRB200528436</td>\n",
       "      <td>176.637458</td>\n",
       "      <td>58.192583</td>\n",
       "      <td>58997.435683</td>\n",
       "      <td>0.000700</td>\n",
       "      <td>0.000655</td>\n",
       "      <td>0</td>\n",
       "      <td>0.000194</td>\n",
       "      <td>NaN</td>\n",
       "      <td>58997.436033</td>\n",
       "      <td>True</td>\n",
       "      <td>[0.0, 0.0, 0.0, 0.0, 0.0, 0.0, 0.0, 0.0, 0.0, ...</td>\n",
       "    </tr>\n",
       "    <tr>\n",
       "      <th>3</th>\n",
       "      <td>GRB200525A</td>\n",
       "      <td>GRB200525611</td>\n",
       "      <td>20.610000</td>\n",
       "      <td>-8.520000</td>\n",
       "      <td>58994.611328</td>\n",
       "      <td>0.001081</td>\n",
       "      <td>0.001081</td>\n",
       "      <td>1</td>\n",
       "      <td>4.536708</td>\n",
       "      <td>NaN</td>\n",
       "      <td>58994.611869</td>\n",
       "      <td>True</td>\n",
       "      <td>[7.562859782872522e-10, 7.339820418117426e-10,...</td>\n",
       "    </tr>\n",
       "    <tr>\n",
       "      <th>4</th>\n",
       "      <td>GRB200524A</td>\n",
       "      <td>GRB200524211</td>\n",
       "      <td>212.750000</td>\n",
       "      <td>60.966667</td>\n",
       "      <td>58993.211115</td>\n",
       "      <td>0.000445</td>\n",
       "      <td>0.000437</td>\n",
       "      <td>0</td>\n",
       "      <td>0.200000</td>\n",
       "      <td>1.256</td>\n",
       "      <td>58993.211338</td>\n",
       "      <td>True</td>\n",
       "      <td>[0.0, 0.0, 0.0, 0.0, 0.0, 0.0, 0.0, 0.0, 0.0, ...</td>\n",
       "    </tr>\n",
       "  </tbody>\n",
       "</table>\n",
       "</div>"
      ],
      "text/plain": [
       "     grb_name  grb_name_GBM          ra        dec     mjd_start      t100  \\\n",
       "0  GRB200529B  GRB200529504  337.200000  55.230000  58998.503432  0.000539   \n",
       "1  GRB200529A  GRB200529039  238.763917 -11.073639  58998.039294  0.001004   \n",
       "2  GRB200528A  GRB200528436  176.637458  58.192583  58997.435683  0.000700   \n",
       "3  GRB200525A  GRB200525611   20.610000  -8.520000  58994.611328  0.001081   \n",
       "4  GRB200524A  GRB200524211  212.750000  60.966667  58993.211115  0.000445   \n",
       "\n",
       "        t90  gbm  source_uncertainty  redshift      t_center  hasHealpix  \\\n",
       "0  0.000539    1            3.506136       NaN  58998.503701        True   \n",
       "1  0.000984    0            0.000233       NaN  58998.039796        True   \n",
       "2  0.000655    0            0.000194       NaN  58997.436033        True   \n",
       "3  0.001081    1            4.536708       NaN  58994.611869        True   \n",
       "4  0.000437    0            0.200000     1.256  58993.211338        True   \n",
       "\n",
       "                                               probs  \n",
       "0  [-1.1531762211802743e-09, -1.1525613796692369e...  \n",
       "1  [0.0, 0.0, 0.0, 0.0, 0.0, 0.0, 0.0, 0.0, 0.0, ...  \n",
       "2  [0.0, 0.0, 0.0, 0.0, 0.0, 0.0, 0.0, 0.0, 0.0, ...  \n",
       "3  [7.562859782872522e-10, 7.339820418117426e-10,...  \n",
       "4  [0.0, 0.0, 0.0, 0.0, 0.0, 0.0, 0.0, 0.0, 0.0, ...  "
      ]
     },
     "execution_count": 26,
     "metadata": {},
     "output_type": "execute_result"
    }
   ],
   "source": [
    "grbweb.head()"
   ]
  },
  {
   "cell_type": "code",
   "execution_count": 27,
   "metadata": {},
   "outputs": [
    {
     "data": {
      "text/html": [
       "<div>\n",
       "<style scoped>\n",
       "    .dataframe tbody tr th:only-of-type {\n",
       "        vertical-align: middle;\n",
       "    }\n",
       "\n",
       "    .dataframe tbody tr th {\n",
       "        vertical-align: top;\n",
       "    }\n",
       "\n",
       "    .dataframe thead th {\n",
       "        text-align: right;\n",
       "    }\n",
       "</style>\n",
       "<table border=\"1\" class=\"dataframe\">\n",
       "  <thead>\n",
       "    <tr style=\"text-align: right;\">\n",
       "      <th></th>\n",
       "      <th>grb_name</th>\n",
       "      <th>grb_name_GBM</th>\n",
       "      <th>ra</th>\n",
       "      <th>dec</th>\n",
       "      <th>mjd_start</th>\n",
       "      <th>t100</th>\n",
       "      <th>t90</th>\n",
       "      <th>gbm</th>\n",
       "      <th>source_uncertainty</th>\n",
       "      <th>redshift</th>\n",
       "      <th>t_center</th>\n",
       "      <th>hasHealpix</th>\n",
       "    </tr>\n",
       "  </thead>\n",
       "  <tbody>\n",
       "    <tr>\n",
       "      <th>0</th>\n",
       "      <td>GRB200529B</td>\n",
       "      <td>GRB200529504</td>\n",
       "      <td>337.200000</td>\n",
       "      <td>55.230000</td>\n",
       "      <td>58998.503432</td>\n",
       "      <td>0.000539</td>\n",
       "      <td>0.000539</td>\n",
       "      <td>1</td>\n",
       "      <td>3.506136</td>\n",
       "      <td>NaN</td>\n",
       "      <td>58998.503701</td>\n",
       "      <td>True</td>\n",
       "    </tr>\n",
       "    <tr>\n",
       "      <th>1</th>\n",
       "      <td>GRB200529A</td>\n",
       "      <td>GRB200529039</td>\n",
       "      <td>238.763917</td>\n",
       "      <td>-11.073639</td>\n",
       "      <td>58998.039294</td>\n",
       "      <td>0.001004</td>\n",
       "      <td>0.000984</td>\n",
       "      <td>0</td>\n",
       "      <td>0.000233</td>\n",
       "      <td>NaN</td>\n",
       "      <td>58998.039796</td>\n",
       "      <td>True</td>\n",
       "    </tr>\n",
       "    <tr>\n",
       "      <th>2</th>\n",
       "      <td>GRB200528A</td>\n",
       "      <td>GRB200528436</td>\n",
       "      <td>176.637458</td>\n",
       "      <td>58.192583</td>\n",
       "      <td>58997.435683</td>\n",
       "      <td>0.000700</td>\n",
       "      <td>0.000655</td>\n",
       "      <td>0</td>\n",
       "      <td>0.000194</td>\n",
       "      <td>NaN</td>\n",
       "      <td>58997.436033</td>\n",
       "      <td>True</td>\n",
       "    </tr>\n",
       "    <tr>\n",
       "      <th>3</th>\n",
       "      <td>GRB200525A</td>\n",
       "      <td>GRB200525611</td>\n",
       "      <td>20.610000</td>\n",
       "      <td>-8.520000</td>\n",
       "      <td>58994.611328</td>\n",
       "      <td>0.001081</td>\n",
       "      <td>0.001081</td>\n",
       "      <td>1</td>\n",
       "      <td>4.536708</td>\n",
       "      <td>NaN</td>\n",
       "      <td>58994.611869</td>\n",
       "      <td>True</td>\n",
       "    </tr>\n",
       "    <tr>\n",
       "      <th>4</th>\n",
       "      <td>GRB200524A</td>\n",
       "      <td>GRB200524211</td>\n",
       "      <td>212.750000</td>\n",
       "      <td>60.966667</td>\n",
       "      <td>58993.211115</td>\n",
       "      <td>0.000445</td>\n",
       "      <td>0.000437</td>\n",
       "      <td>0</td>\n",
       "      <td>0.200000</td>\n",
       "      <td>1.256</td>\n",
       "      <td>58993.211338</td>\n",
       "      <td>True</td>\n",
       "    </tr>\n",
       "  </tbody>\n",
       "</table>\n",
       "</div>"
      ],
      "text/plain": [
       "     grb_name  grb_name_GBM          ra        dec     mjd_start      t100  \\\n",
       "0  GRB200529B  GRB200529504  337.200000  55.230000  58998.503432  0.000539   \n",
       "1  GRB200529A  GRB200529039  238.763917 -11.073639  58998.039294  0.001004   \n",
       "2  GRB200528A  GRB200528436  176.637458  58.192583  58997.435683  0.000700   \n",
       "3  GRB200525A  GRB200525611   20.610000  -8.520000  58994.611328  0.001081   \n",
       "4  GRB200524A  GRB200524211  212.750000  60.966667  58993.211115  0.000445   \n",
       "\n",
       "        t90  gbm  source_uncertainty  redshift      t_center  hasHealpix  \n",
       "0  0.000539    1            3.506136       NaN  58998.503701        True  \n",
       "1  0.000984    0            0.000233       NaN  58998.039796        True  \n",
       "2  0.000655    0            0.000194       NaN  58997.436033        True  \n",
       "3  0.001081    1            4.536708       NaN  58994.611869        True  \n",
       "4  0.000437    0            0.200000     1.256  58993.211338        True  "
      ]
     },
     "execution_count": 27,
     "metadata": {},
     "output_type": "execute_result"
    }
   ],
   "source": [
    "grbweb_gbm_df = grbweb.iloc[:,:-1]\n",
    "grbweb_gbm_df.head()"
   ]
  },
  {
   "cell_type": "code",
   "execution_count": 28,
   "metadata": {},
   "outputs": [
    {
     "data": {
      "text/html": [
       "<div>\n",
       "<style scoped>\n",
       "    .dataframe tbody tr th:only-of-type {\n",
       "        vertical-align: middle;\n",
       "    }\n",
       "\n",
       "    .dataframe tbody tr th {\n",
       "        vertical-align: top;\n",
       "    }\n",
       "\n",
       "    .dataframe thead th {\n",
       "        text-align: right;\n",
       "    }\n",
       "</style>\n",
       "<table border=\"1\" class=\"dataframe\">\n",
       "  <thead>\n",
       "    <tr style=\"text-align: right;\">\n",
       "      <th></th>\n",
       "      <th>grb_name</th>\n",
       "      <th>probs</th>\n",
       "    </tr>\n",
       "  </thead>\n",
       "  <tbody>\n",
       "    <tr>\n",
       "      <th>0</th>\n",
       "      <td>GRB200529B</td>\n",
       "      <td>[-1.1531762211802743e-09, -1.1525613796692369e...</td>\n",
       "    </tr>\n",
       "    <tr>\n",
       "      <th>1</th>\n",
       "      <td>GRB200529A</td>\n",
       "      <td>[0.0, 0.0, 0.0, 0.0, 0.0, 0.0, 0.0, 0.0, 0.0, ...</td>\n",
       "    </tr>\n",
       "    <tr>\n",
       "      <th>2</th>\n",
       "      <td>GRB200528A</td>\n",
       "      <td>[0.0, 0.0, 0.0, 0.0, 0.0, 0.0, 0.0, 0.0, 0.0, ...</td>\n",
       "    </tr>\n",
       "    <tr>\n",
       "      <th>3</th>\n",
       "      <td>GRB200525A</td>\n",
       "      <td>[7.562859782872522e-10, 7.339820418117426e-10,...</td>\n",
       "    </tr>\n",
       "    <tr>\n",
       "      <th>4</th>\n",
       "      <td>GRB200524A</td>\n",
       "      <td>[0.0, 0.0, 0.0, 0.0, 0.0, 0.0, 0.0, 0.0, 0.0, ...</td>\n",
       "    </tr>\n",
       "  </tbody>\n",
       "</table>\n",
       "</div>"
      ],
      "text/plain": [
       "     grb_name                                              probs\n",
       "0  GRB200529B  [-1.1531762211802743e-09, -1.1525613796692369e...\n",
       "1  GRB200529A  [0.0, 0.0, 0.0, 0.0, 0.0, 0.0, 0.0, 0.0, 0.0, ...\n",
       "2  GRB200528A  [0.0, 0.0, 0.0, 0.0, 0.0, 0.0, 0.0, 0.0, 0.0, ...\n",
       "3  GRB200525A  [7.562859782872522e-10, 7.339820418117426e-10,...\n",
       "4  GRB200524A  [0.0, 0.0, 0.0, 0.0, 0.0, 0.0, 0.0, 0.0, 0.0, ..."
      ]
     },
     "execution_count": 28,
     "metadata": {},
     "output_type": "execute_result"
    }
   ],
   "source": [
    "healpix_df = grbweb[['grb_name','probs']]\n",
    "healpix_df.head()"
   ]
  },
  {
   "cell_type": "code",
   "execution_count": 29,
   "metadata": {},
   "outputs": [],
   "source": [
    "# grbweb_gbm_df.to_pickle(\"/home/cjchen/2020-2021/Spring2021/greco_grb/data/grbwebgbm/grbweb_gbm_noHeaplix.pkl\")\n",
    "# grbweb_gbm_df.to_pickle(\"/storage/home/hhive1/cchen641/data/icecube/data/greco_grb/data/grbwebgbm/grbweb_gbm_noHeaplix_2297.pkl\")\n"
   ]
  },
  {
   "cell_type": "code",
   "execution_count": 30,
   "metadata": {},
   "outputs": [],
   "source": [
    "# for idx in healpix_df.index:\n",
    "#     grb_name = healpix_df.grb_name[idx]\n",
    "#     prob = healpix_df.probs[idx]\n",
    "# #     outfile = \"/home/cjchen/2020-2021/Spring2021/greco_grb/data/grbwebgbm/healpix/{}_healpix.npy\".format(grb_name)\n",
    "#     outfile = \"/storage/home/hhive1/cchen641/data/icecube/data/greco_grb/data/grbwebgbm/healpix/{}_healpix.npy\".format(grb_name)\n",
    "#     np.save(outfile, prob)\n",
    "    "
   ]
  },
  {
   "cell_type": "markdown",
   "metadata": {},
   "source": [
    "## nside from 128 to 64"
   ]
  },
  {
   "cell_type": "code",
   "execution_count": 91,
   "metadata": {},
   "outputs": [],
   "source": [
    "# grbweb = pd.read_pickle(\"/data/user/cjchen/2020-2021/Spring2021/greco_grb/data/grbwebgbm/grbweb_gbm_healpix.pkl\")\n",
    "grbweb = pd.read_pickle(\"/storage/home/hhive1/cchen641/icecube/greco_grb/data/grbwebgbm/grbweb_gbm_healpix_2297.pkl\")\n"
   ]
  },
  {
   "cell_type": "code",
   "execution_count": 92,
   "metadata": {
    "scrolled": false
   },
   "outputs": [
    {
     "data": {
      "text/html": [
       "<div>\n",
       "<style scoped>\n",
       "    .dataframe tbody tr th:only-of-type {\n",
       "        vertical-align: middle;\n",
       "    }\n",
       "\n",
       "    .dataframe tbody tr th {\n",
       "        vertical-align: top;\n",
       "    }\n",
       "\n",
       "    .dataframe thead th {\n",
       "        text-align: right;\n",
       "    }\n",
       "</style>\n",
       "<table border=\"1\" class=\"dataframe\">\n",
       "  <thead>\n",
       "    <tr style=\"text-align: right;\">\n",
       "      <th></th>\n",
       "      <th>grb_name</th>\n",
       "      <th>grb_name_GBM</th>\n",
       "      <th>ra</th>\n",
       "      <th>dec</th>\n",
       "      <th>mjd_start</th>\n",
       "      <th>t100</th>\n",
       "      <th>t90</th>\n",
       "      <th>gbm</th>\n",
       "      <th>source_uncertainty</th>\n",
       "      <th>redshift</th>\n",
       "      <th>t_center</th>\n",
       "      <th>hasHealpix</th>\n",
       "      <th>probs</th>\n",
       "    </tr>\n",
       "  </thead>\n",
       "  <tbody>\n",
       "    <tr>\n",
       "      <th>0</th>\n",
       "      <td>GRB200529B</td>\n",
       "      <td>GRB200529504</td>\n",
       "      <td>337.200000</td>\n",
       "      <td>55.230000</td>\n",
       "      <td>58998.503432</td>\n",
       "      <td>0.000539</td>\n",
       "      <td>0.000539</td>\n",
       "      <td>1</td>\n",
       "      <td>3.506136</td>\n",
       "      <td>NaN</td>\n",
       "      <td>58998.503701</td>\n",
       "      <td>True</td>\n",
       "      <td>[-1.1531762211802743e-09, -1.1525613796692369e...</td>\n",
       "    </tr>\n",
       "    <tr>\n",
       "      <th>1</th>\n",
       "      <td>GRB200529A</td>\n",
       "      <td>GRB200529039</td>\n",
       "      <td>238.763917</td>\n",
       "      <td>-11.073639</td>\n",
       "      <td>58998.039294</td>\n",
       "      <td>0.001004</td>\n",
       "      <td>0.000984</td>\n",
       "      <td>0</td>\n",
       "      <td>0.000233</td>\n",
       "      <td>NaN</td>\n",
       "      <td>58998.039796</td>\n",
       "      <td>True</td>\n",
       "      <td>[0.0, 0.0, 0.0, 0.0, 0.0, 0.0, 0.0, 0.0, 0.0, ...</td>\n",
       "    </tr>\n",
       "    <tr>\n",
       "      <th>2</th>\n",
       "      <td>GRB200528A</td>\n",
       "      <td>GRB200528436</td>\n",
       "      <td>176.637458</td>\n",
       "      <td>58.192583</td>\n",
       "      <td>58997.435683</td>\n",
       "      <td>0.000700</td>\n",
       "      <td>0.000655</td>\n",
       "      <td>0</td>\n",
       "      <td>0.000194</td>\n",
       "      <td>NaN</td>\n",
       "      <td>58997.436033</td>\n",
       "      <td>True</td>\n",
       "      <td>[0.0, 0.0, 0.0, 0.0, 0.0, 0.0, 0.0, 0.0, 0.0, ...</td>\n",
       "    </tr>\n",
       "    <tr>\n",
       "      <th>3</th>\n",
       "      <td>GRB200525A</td>\n",
       "      <td>GRB200525611</td>\n",
       "      <td>20.610000</td>\n",
       "      <td>-8.520000</td>\n",
       "      <td>58994.611328</td>\n",
       "      <td>0.001081</td>\n",
       "      <td>0.001081</td>\n",
       "      <td>1</td>\n",
       "      <td>4.536708</td>\n",
       "      <td>NaN</td>\n",
       "      <td>58994.611869</td>\n",
       "      <td>True</td>\n",
       "      <td>[7.562859782872522e-10, 7.339820418117426e-10,...</td>\n",
       "    </tr>\n",
       "    <tr>\n",
       "      <th>4</th>\n",
       "      <td>GRB200524A</td>\n",
       "      <td>GRB200524211</td>\n",
       "      <td>212.750000</td>\n",
       "      <td>60.966667</td>\n",
       "      <td>58993.211115</td>\n",
       "      <td>0.000445</td>\n",
       "      <td>0.000437</td>\n",
       "      <td>0</td>\n",
       "      <td>0.200000</td>\n",
       "      <td>1.256</td>\n",
       "      <td>58993.211338</td>\n",
       "      <td>True</td>\n",
       "      <td>[0.0, 0.0, 0.0, 0.0, 0.0, 0.0, 0.0, 0.0, 0.0, ...</td>\n",
       "    </tr>\n",
       "  </tbody>\n",
       "</table>\n",
       "</div>"
      ],
      "text/plain": [
       "     grb_name  grb_name_GBM          ra        dec     mjd_start      t100  \\\n",
       "0  GRB200529B  GRB200529504  337.200000  55.230000  58998.503432  0.000539   \n",
       "1  GRB200529A  GRB200529039  238.763917 -11.073639  58998.039294  0.001004   \n",
       "2  GRB200528A  GRB200528436  176.637458  58.192583  58997.435683  0.000700   \n",
       "3  GRB200525A  GRB200525611   20.610000  -8.520000  58994.611328  0.001081   \n",
       "4  GRB200524A  GRB200524211  212.750000  60.966667  58993.211115  0.000445   \n",
       "\n",
       "        t90  gbm  source_uncertainty  redshift      t_center  hasHealpix  \\\n",
       "0  0.000539    1            3.506136       NaN  58998.503701        True   \n",
       "1  0.000984    0            0.000233       NaN  58998.039796        True   \n",
       "2  0.000655    0            0.000194       NaN  58997.436033        True   \n",
       "3  0.001081    1            4.536708       NaN  58994.611869        True   \n",
       "4  0.000437    0            0.200000     1.256  58993.211338        True   \n",
       "\n",
       "                                               probs  \n",
       "0  [-1.1531762211802743e-09, -1.1525613796692369e...  \n",
       "1  [0.0, 0.0, 0.0, 0.0, 0.0, 0.0, 0.0, 0.0, 0.0, ...  \n",
       "2  [0.0, 0.0, 0.0, 0.0, 0.0, 0.0, 0.0, 0.0, 0.0, ...  \n",
       "3  [7.562859782872522e-10, 7.339820418117426e-10,...  \n",
       "4  [0.0, 0.0, 0.0, 0.0, 0.0, 0.0, 0.0, 0.0, 0.0, ...  "
      ]
     },
     "execution_count": 92,
     "metadata": {},
     "output_type": "execute_result"
    }
   ],
   "source": [
    "grbweb.head()"
   ]
  },
  {
   "cell_type": "code",
   "execution_count": 93,
   "metadata": {},
   "outputs": [],
   "source": [
    "healpix_df = grbweb[['grb_name','probs']].copy()"
   ]
  },
  {
   "cell_type": "code",
   "execution_count": 94,
   "metadata": {},
   "outputs": [
    {
     "data": {
      "text/html": [
       "<div>\n",
       "<style scoped>\n",
       "    .dataframe tbody tr th:only-of-type {\n",
       "        vertical-align: middle;\n",
       "    }\n",
       "\n",
       "    .dataframe tbody tr th {\n",
       "        vertical-align: top;\n",
       "    }\n",
       "\n",
       "    .dataframe thead th {\n",
       "        text-align: right;\n",
       "    }\n",
       "</style>\n",
       "<table border=\"1\" class=\"dataframe\">\n",
       "  <thead>\n",
       "    <tr style=\"text-align: right;\">\n",
       "      <th></th>\n",
       "      <th>grb_name</th>\n",
       "      <th>probs</th>\n",
       "    </tr>\n",
       "  </thead>\n",
       "  <tbody>\n",
       "    <tr>\n",
       "      <th>0</th>\n",
       "      <td>GRB200529B</td>\n",
       "      <td>[-1.1531762211802743e-09, -1.1525613796692369e...</td>\n",
       "    </tr>\n",
       "    <tr>\n",
       "      <th>1</th>\n",
       "      <td>GRB200529A</td>\n",
       "      <td>[0.0, 0.0, 0.0, 0.0, 0.0, 0.0, 0.0, 0.0, 0.0, ...</td>\n",
       "    </tr>\n",
       "    <tr>\n",
       "      <th>2</th>\n",
       "      <td>GRB200528A</td>\n",
       "      <td>[0.0, 0.0, 0.0, 0.0, 0.0, 0.0, 0.0, 0.0, 0.0, ...</td>\n",
       "    </tr>\n",
       "    <tr>\n",
       "      <th>3</th>\n",
       "      <td>GRB200525A</td>\n",
       "      <td>[7.562859782872522e-10, 7.339820418117426e-10,...</td>\n",
       "    </tr>\n",
       "    <tr>\n",
       "      <th>4</th>\n",
       "      <td>GRB200524A</td>\n",
       "      <td>[0.0, 0.0, 0.0, 0.0, 0.0, 0.0, 0.0, 0.0, 0.0, ...</td>\n",
       "    </tr>\n",
       "  </tbody>\n",
       "</table>\n",
       "</div>"
      ],
      "text/plain": [
       "     grb_name                                              probs\n",
       "0  GRB200529B  [-1.1531762211802743e-09, -1.1525613796692369e...\n",
       "1  GRB200529A  [0.0, 0.0, 0.0, 0.0, 0.0, 0.0, 0.0, 0.0, 0.0, ...\n",
       "2  GRB200528A  [0.0, 0.0, 0.0, 0.0, 0.0, 0.0, 0.0, 0.0, 0.0, ...\n",
       "3  GRB200525A  [7.562859782872522e-10, 7.339820418117426e-10,...\n",
       "4  GRB200524A  [0.0, 0.0, 0.0, 0.0, 0.0, 0.0, 0.0, 0.0, 0.0, ..."
      ]
     },
     "execution_count": 94,
     "metadata": {},
     "output_type": "execute_result"
    }
   ],
   "source": [
    "healpix_df.head()"
   ]
  },
  {
   "cell_type": "code",
   "execution_count": 95,
   "metadata": {},
   "outputs": [],
   "source": [
    "for idx in healpix_df.index:\n",
    "    grb_name = healpix_df.grb_name[idx]\n",
    "    prob = healpix_df.probs[idx]\n",
    "    prob64 = hp.ud_grade(prob, 64)\n",
    "    prob64 = prob64 / prob64.sum()\n",
    "    outfile = \"/storage/home/hhive1/cchen641/data/icecube/data/greco_grb/data/grbwebgbm/healpix/{}_healpix_nside64.npy\".format(grb_name)\n",
    "#     np.save(outfile, prob64)\n"
   ]
  },
  {
   "cell_type": "code",
   "execution_count": null,
   "metadata": {},
   "outputs": [],
   "source": []
  },
  {
   "cell_type": "code",
   "execution_count": null,
   "metadata": {},
   "outputs": [],
   "source": []
  },
  {
   "cell_type": "code",
   "execution_count": null,
   "metadata": {},
   "outputs": [],
   "source": []
  },
  {
   "cell_type": "code",
   "execution_count": null,
   "metadata": {},
   "outputs": [],
   "source": []
  },
  {
   "cell_type": "code",
   "execution_count": null,
   "metadata": {},
   "outputs": [],
   "source": []
  },
  {
   "cell_type": "code",
   "execution_count": 33,
   "metadata": {},
   "outputs": [],
   "source": [
    "### for plots only\n",
    "test128 = np.maximum(1e-6, test128)\n",
    "test64 = np.maximum(1e-6, test64)"
   ]
  },
  {
   "cell_type": "code",
   "execution_count": 34,
   "metadata": {},
   "outputs": [],
   "source": [
    "import matplotlib.pyplot as plt\n",
    "%matplotlib inline\n",
    "import csky as cy"
   ]
  },
  {
   "cell_type": "code",
   "execution_count": 39,
   "metadata": {},
   "outputs": [
    {
     "data": {
      "image/png": "[encoded data removed]",
      "text/plain": [
       "<Figure size 432x288 with 2 Axes>"
      ]
     },
     "metadata": {
      "needs_background": "light"
     },
     "output_type": "display_data"
    }
   ],
   "source": [
    "fig, ax = plt.subplots (subplot_kw=dict (projection='aitoff'))\n",
    "sp = cy.plotting.SkyPlotter(pc_kw=dict())\n",
    "mesh, cb = sp.plot_map(ax, np.log10(test128), n_ticks=2)\n",
    "kw = dict(color='.5', alpha=.5)\n",
    "sp.plot_gp(ax, lw=.5, **kw)\n",
    "sp.plot_gc(ax, **kw)\n",
    "ax.grid(**kw)\n",
    "cb.set_label(r'spatial prior (log scale)')\n",
    "plt.title(\"GRB190612A, n_side=128\")\n",
    "plt.tight_layout()"
   ]
  },
  {
   "cell_type": "code",
   "execution_count": 36,
   "metadata": {},
   "outputs": [
    {
     "data": {
      "image/png": "[encoded data removed]",
      "text/plain": [
       "<Figure size 432x288 with 2 Axes>"
      ]
     },
     "metadata": {
      "needs_background": "light"
     },
     "output_type": "display_data"
    }
   ],
   "source": [
    "fig, ax = plt.subplots (subplot_kw=dict (projection='aitoff'))\n",
    "sp = cy.plotting.SkyPlotter(pc_kw=dict())\n",
    "mesh, cb = sp.plot_map(ax, np.log10(test64), n_ticks=2)\n",
    "kw = dict(color='.5', alpha=.5)\n",
    "sp.plot_gp(ax, lw=.5, **kw)\n",
    "sp.plot_gc(ax, **kw)\n",
    "ax.grid(**kw)\n",
    "cb.set_label(r'spatial prior (log scale, a.u.)')\n",
    "plt.tight_layout()"
   ]
  },
  {
   "cell_type": "code",
   "execution_count": null,
   "metadata": {},
   "outputs": [],
   "source": []
  }
 ],
 "metadata": {
  "kernelspec": {
   "display_name": "Python [default]",
   "language": "python",
   "name": "python3"
  },
  "language_info": {
   "codemirror_mode": {
    "name": "ipython",
    "version": 3
   },
   "file_extension": ".py",
   "mimetype": "text/x-python",
   "name": "python",
   "nbconvert_exporter": "python",
   "pygments_lexer": "ipython3",
   "version": "3.7.6"
  }
 },
 "nbformat": 4,
 "nbformat_minor": 2
}
