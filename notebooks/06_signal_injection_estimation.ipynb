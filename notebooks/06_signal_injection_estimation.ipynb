{
 "cells": [
  {
   "cell_type": "code",
   "execution_count": 1,
   "metadata": {},
   "outputs": [
    {
     "data": {
      "text/plain": [
       "'\\nUse background TS obtained from scripts/02. Inject n_inj with `batch` injection\\nto find what a good batchNtrail is and what a good n_inj range is.\\n\\nFor the signal injection, spatial prior needs to he included.\\n'"
      ]
     },
     "execution_count": 1,
     "metadata": {},
     "output_type": "execute_result"
    }
   ],
   "source": [
    "\"\"\"\n",
    "Use background TS obtained from scripts/02. Inject n_inj with `batch` injection\n",
    "to find what a good batchNtrail is and what a good n_inj range is.\n",
    "\n",
    "For the signal injection, spatial prior needs to he included.\n",
    "\"\"\""
   ]
  },
  {
   "cell_type": "code",
   "execution_count": 2,
   "metadata": {},
   "outputs": [
    {
     "name": "stdout",
     "output_type": "stream",
     "text": [
      "Python version:  3.7.3 (default, Mar 27 2019, 22:11:17) \n",
      "[GCC 7.3.0]\n",
      "\n",
      "#### Working at GT ####\n",
      "\n",
      "LOCATION: \t GT\n",
      "USER: \t cchen641\n",
      "ICDATA_DIR: \t /storage/home/hhive1/cchen641/data/icecube/data/analyses/online_GRECO/candidate-002-p10\n",
      "DATA_DIR: \t /storage/home/hhive1/cchen641/data/icecube/data/greco_grb/data\n",
      "ANA_DIR: \t /storage/home/hhive1/cchen641/data/icecube/data/greco_grb/data/csky_output\n",
      "\n"
     ]
    }
   ],
   "source": [
    "import os\n",
    "import sys\n",
    "print(\"Python version: \", end=' ')\n",
    "print(sys.version)\n",
    "\n",
    "import numpy as np\n",
    "import healpy as hp\n",
    "import histlite as hl\n",
    "import csky as cy\n",
    "import pandas as pd\n",
    "from scipy import sparse\n",
    "\n",
    "import matplotlib.pyplot as plt\n",
    "from matplotlib import cm\n",
    "import matplotlib.colors as colors\n",
    "############# comment out below two lines on clusters ##########\n",
    "%matplotlib inline\n",
    "# %matplotlib notebook\n",
    "################################################################\n",
    "from glob import glob\n",
    "timer = cy.timing.Timer()\n",
    "time = timer.time\n",
    "\n",
    "###### Local Import ######\n",
    "sys.path.append('../../')\n",
    "from greco_grb.scripts import SETTING\n",
    "paths = SETTING.PATH()\n",
    "print(paths)\n",
    "LOCATION = paths.LOCATION\n",
    "USER = paths.USER\n",
    "ICDATA_DIR = paths.ICDATA_DIR\n",
    "DATA_DIR = paths.DATA_DIR\n",
    "ANA_DIR = paths.ANA_DIR\n",
    "\n",
    "from greco_grb.scripts.utils import *"
   ]
  },
  {
   "cell_type": "code",
   "execution_count": 3,
   "metadata": {},
   "outputs": [
    {
     "name": "stdout",
     "output_type": "stream",
     "text": [
      "Background TS folder path: /storage/home/hhive1/cchen641/data/icecube/data/greco_grb/data/csky_output/allsky_scan/with_prior_background/twXXX/XXX.npz\n"
     ]
    }
   ],
   "source": [
    "print(\"Background TS folder path: {}/allsky_scan/with_prior_background/twXXX/XXX.npz\".format(ANA_DIR))\n"
   ]
  },
  {
   "cell_type": "code",
   "execution_count": 4,
   "metadata": {},
   "outputs": [],
   "source": [
    "import argparse\n",
    "\n",
    "######################### CONFIGURE ARGUEMENTS #############################\n",
    "# p = argparse.ArgumentParser(description=\"Background Trials\",\n",
    "#                             formatter_class=argparse.RawTextHelpFormatter)\n",
    "# p.add_argument(\"--grb_name\", default=\"GRB180423A\", type=str, help=\"Name of one GRB\")\n",
    "# p.add_argument(\"--batchNtrials\", default=10, type=int, help=\"Number of trials in this batch\")\n",
    "# p.add_argument(\"--batchIndex\", default=0, type=int, help=\"Index of current batch\")\n",
    "# p.add_argument(\"--tw_in_second\", default=10, type=int, help=\"Length of the time window in seconds\")\n",
    "# p.add_argument(\"--ncpu\", default=1, type=int, help=\"Number of CPU to give Csky\")\n",
    "# p.add_argument(\"--mode\", default=\"production\", type=str, help=\"Mode: production or testing\")\n",
    "# p.add_argument(\"--outfilename\", default=\"\", type=str, help=\"Output filename should have type .npz. Highly recommended on OSG\")\n",
    "# args = p.parse_args()\n",
    "###########################################################################\n",
    "\n",
    "\n",
    "### testing on jupyter ###\n",
    "\n",
    "class args:\n",
    "    grb_name = \"GRB180423A\"    # real healpix example\n",
    "    # ~grb_name = \"GRB190415A\"~    # ~fake healpix example~ this one is IPN-GBM\n",
    "    # grb_name = \"GRB170529A\"  # fake healpix example\n",
    "    batchNtrials = 20\n",
    "    tw_in_second = 500\n",
    "    ncpu = 4\n",
    "    n_trials=5\n",
    "    n_inj=5.4 \n",
    "    use_poisson=True\n",
    "\n",
    "##########################"
   ]
  },
  {
   "cell_type": "code",
   "execution_count": 5,
   "metadata": {},
   "outputs": [
    {
     "name": "stdout",
     "output_type": "stream",
     "text": [
      "\n",
      "===== Loading no-healpix df =====\n",
      "\n",
      "\n",
      "===== Loading healpix of GRB180423A=====\n",
      "\n",
      "\n",
      "...Done\n",
      "\n"
     ]
    }
   ],
   "source": [
    "print(\"\\n===== Loading no-healpix df =====\\n\")\n",
    "df = pd.read_pickle(DATA_DIR+\"/grbwebgbm/grbweb_gbm_noHealpix_2268.pkl\")\n",
    "# realHealpix: df.gbm & df.hasHealpix\n",
    "# fakeHealpix: ~(df.gbm & df.hasHealpix)\n",
    "df.head()\n",
    "\n",
    "print(\"\\n===== Loading healpix of {}=====\\n\".format(args.grb_name))   \n",
    "try:\n",
    "    healpix = np.load(DATA_DIR+\"/grbwebgbm/healpix/{}_healpix_nside64.npy\".format(args.grb_name))\n",
    "    # healpix can contain negative values: faults due to Fermi-GBM\n",
    "    healpix = np.maximum(healpix,0)\n",
    "    ########## healpix reduce ##########\n",
    "    healpix[healpix < isf_healpix(healpix, q=0.99)] = 0\n",
    "except:\n",
    "    raise Exception(\"Cannot load the healpix for grb: {}\\n\".format(args.grb_name))\n",
    "    \n",
    "grb_row = df.loc[df['grb_name'] == args.grb_name]\n",
    "tw = args.tw_in_second/86400.\n",
    "tw_start = grb_row.t_center - 0.5*tw\n",
    "ra = grb_row.ra\n",
    "dec = grb_row.dec\n",
    "print(\"\\n...Done\\n\")"
   ]
  },
  {
   "cell_type": "code",
   "execution_count": 6,
   "metadata": {},
   "outputs": [
    {
     "name": "stdout",
     "output_type": "stream",
     "text": [
      "\n",
      "===== Setting up csky =====\n",
      "\n",
      "Setting up Analysis for:\n",
      "greco_v2.10\n",
      "Setting up greco_v2.10...\n",
      "Energy PDF Ratio Model...\n",
      "  * gamma = 4.0000 ...\n",
      "Signal Acceptance Model...\n",
      "  * gamma = 4.0000 ...\n",
      "Done.\n"
     ]
    }
   ],
   "source": [
    "print(\"\\n===== Setting up csky =====\\n\")\n",
    "data_dir = ICDATA_DIR\n",
    "data_filenames = sorted(glob(data_dir + '/IC86_20*.data.npy'))\n",
    "sig_filenames = sorted(glob(data_dir + '/IC86_2012.nu*_merged.npy'))\n",
    "grl_filenames = sorted(glob(data_dir + '/GRL/IC86_20*.data.npy'))\n",
    "\n",
    "################ energy lower bound #############\n",
    "min_log_e = np.log10(10)\n",
    "#################################################\n",
    "bins_sindec = np.linspace(-1, 1, 25+1)  \n",
    "bins_logenergy = np.linspace(min_log_e, 4, 25+1)\n",
    "\n",
    "data = [np.load(data_filename) for data_filename in data_filenames]\n",
    "data = np.hstack(data)\n",
    "sig = [np.load(sig_filename) for sig_filename in sig_filenames]\n",
    "sig = np.hstack(sig)\n",
    "grl = [np.load(grl_filename) for grl_filename in grl_filenames]\n",
    "grl = np.hstack(grl)\n",
    "if min_log_e is not None:\n",
    "    data_mask = data['logE'] > min_log_e\n",
    "    data = data[data_mask]\n",
    "    sig_mask = sig['logE'] > min_log_e\n",
    "    sig = sig[sig_mask]\n",
    "    \n",
    "dataset_spec = cy.selections.CustomDataSpecs.CustomDataSpec(data, sig, np.sum(grl['livetime']),\n",
    "                                                     sindec_bins=bins_sindec,\n",
    "                                                     logenergy_bins=bins_logenergy,\n",
    "                                                     grl=grl, key='greco_v2.10', cascades=True)\n",
    "\n",
    "ANA_DIR = cy.utils.ensure_dir(ANA_DIR)\n",
    "# on OSG\n",
    "# ana_dir = \"./\"\n",
    "ana = cy.get_analysis(cy.selections.repo\n",
    "                      , dataset_spec\n",
    "                      , dir=ANA_DIR\n",
    "                      , load_sig=True)  # false to save memory if needed \n",
    "\n",
    "\n"
   ]
  },
  {
   "cell_type": "code",
   "execution_count": 7,
   "metadata": {},
   "outputs": [],
   "source": [
    "# #### used for spatial_prior_trial_runner\n",
    "conf = {\n",
    "    'ana': ana,\n",
    "    #### llh basics: csky.conf\n",
    "    'space': 'ps', # ps/fitps/template/prior\n",
    "    'time': 'transient', # utf/lc/transient\n",
    "    'energy': 'customflux', # fit/customflux\n",
    "    'flux': cy.hyp.PowerLawFlux(2.5),\n",
    "    #### inj.py - prior has some duplications against space's prior\n",
    "    'sig': 'transient', # ps/tw/lc/transient/template/prior\n",
    "    'full_sky': True,\n",
    "    'extended': True,\n",
    "    'mp_cpus': args.ncpu,\n",
    "    'cut_n_sigma': 3\n",
    "    }\n",
    "cy.CONF.update(conf)\n",
    "\n",
    "### used for basic trial_runner\n",
    "# conf = {\n",
    "#     'ana': ana,\n",
    "#     #### llh basics: csky.conf\n",
    "#     'space': 'prior', # ps/fitps/template/prior\n",
    "#     'time': 'transient', # utf/lc/transient\n",
    "#     'energy': 'customflux', # fit/customflux\n",
    "#     'flux': cy.hyp.PowerLawFlux(2.5),\n",
    "#     #### inj.py - prior has some duplications against space's prior\n",
    "#     'sig': 'transient', # ps/tw/lc/transient/template/prior\n",
    "#     'full_sky': True,\n",
    "#     'extended': True,\n",
    "#     'mp_cpus': args.ncpu,\n",
    "#     'cut_n_sigma': 3\n",
    "# }\n",
    "# cy.CONF.update(conf)\n"
   ]
  },
  {
   "cell_type": "code",
   "execution_count": 8,
   "metadata": {},
   "outputs": [
    {
     "data": {
      "text/plain": [
       "{'mp_cpus': 4,\n",
       " 'ana': Analysis(keys=[greco_v2.10]),\n",
       " 'space': 'ps',\n",
       " 'time': 'transient',\n",
       " 'energy': 'customflux',\n",
       " 'flux': PowerLawFlux(gamma=2.5),\n",
       " 'sig': 'transient',\n",
       " 'full_sky': True,\n",
       " 'extended': True,\n",
       " 'cut_n_sigma': 3}"
      ]
     },
     "execution_count": 8,
     "metadata": {},
     "output_type": "execute_result"
    }
   ],
   "source": [
    "cy.CONF"
   ]
  },
  {
   "cell_type": "code",
   "execution_count": 26,
   "metadata": {},
   "outputs": [
    {
     "data": {
      "text/plain": [
       "Chi2TSD(1000000 trials, eta=0.198, ndof=0.923, median=0.000 (from fit 0.000))"
      ]
     },
     "execution_count": 26,
     "metadata": {},
     "output_type": "execute_result"
    }
   ],
   "source": [
    "bg_files = glob(ANA_DIR+\"/allsky_scan/with_prior_background/tw{}/{}*.npz\".format(args.tw_in_second, args.grb_name))\n",
    "bg = cy.dists.Chi2TSD(np.ravel([sparse.load_npz(bg_file).toarray() for bg_file in bg_files]))\n",
    "bg"
   ]
  },
  {
   "cell_type": "code",
   "execution_count": 27,
   "metadata": {},
   "outputs": [
    {
     "name": "stdout",
     "output_type": "stream",
     "text": [
      "Chi2TSD from 1000000 trials:\n",
      "           eta = 0.198\n",
      "          ndof = 0.923\n",
      "           loc = 0.000\n",
      "         scale = 1.417\n",
      "Thresholds from trials:\n",
      "        median = 0.000\n",
      "       1 sigma = 0.07\n",
      "       2 sigma = 3.29\n",
      "       3 sigma = 10.03\n",
      "       4 sigma = 19.77\n",
      "       5 sigma = 32.41\n",
      "Thresholds from fit:\n",
      "        median = 0.000\n",
      "       1 sigma = 0.07\n",
      "       2 sigma = 3.29\n",
      "       3 sigma = 10.03\n",
      "       4 sigma = 19.77\n",
      "       5 sigma = 32.41\n"
     ]
    }
   ],
   "source": [
    "print(bg.description)"
   ]
  },
  {
   "cell_type": "code",
   "execution_count": 28,
   "metadata": {
    "scrolled": false
   },
   "outputs": [
    {
     "name": "stderr",
     "output_type": "stream",
     "text": [
      "/storage/home/hhive1/cchen641/.local/lib/python3.7/site-packages/numpy/core/_asarray.py:102: UserWarning: Warning: converting a masked element to nan.\n",
      "  return array(a, dtype, copy=False, order=order)\n"
     ]
    },
    {
     "data": {
      "image/png": "[encoded data removed]",
      "text/plain": [
       "<Figure size 432x288 with 1 Axes>"
      ]
     },
     "metadata": {
      "needs_background": "light"
     },
     "output_type": "display_data"
    }
   ],
   "source": [
    "fig, ax = plt.subplots()\n",
    "\n",
    "# csky uses histlite all over the place for PDF management\n",
    "# the background distribution fit integrates with histlite as well\n",
    "h = bg.get_hist(bins=50)\n",
    "hl.plot1d(ax, h, crosses=True,\n",
    "          label='{} bg trials'.format(bg.n_total))\n",
    "\n",
    "# # compare with the chi2 fit:\n",
    "# x = h.centers[0]\n",
    "# norm = h.integrate().values\n",
    "# ax.semilogy(x, norm * bg.pdf(x), lw=1, ls='--',\n",
    "#             label=r'$\\chi^2[{:.2f}\\mathrm{{dof}},\\ \\eta={:.3f}]$'.format(bg.ndof, bg.eta))\n",
    "\n",
    "# always label your plots, folks\n",
    "ax.set_xlabel(r'TS')\n",
    "ax.set_ylabel(r'number of trials')\n",
    "ax.set_yscale('symlog')\n",
    "ax.legend()\n",
    "plt.tight_layout()"
   ]
  },
  {
   "cell_type": "code",
   "execution_count": 9,
   "metadata": {},
   "outputs": [],
   "source": [
    "src = cy.sources(\n",
    "    ra=ra,\n",
    "    dec=dec,\n",
    "    deg=True,\n",
    "    mjd=tw_start, \n",
    "    sigma_t=np.zeros_like(tw), \n",
    "    t_100=tw,  # in days\n",
    "    prior=[hl.heal.HealHist(healpix)],\n",
    "    name=args.grb_name\n",
    ")\n",
    "\n",
    "# sptr seems broken\n",
    "sptr = cy.get_spatial_prior_trial_runner(conf=cy.CONF\n",
    "                                         ,src_tr=src\n",
    "                                         ,llh_priors=[healpix]) # src_tr is must for transient\n",
    "\n",
    "# tr = cy.get_trial_runner(conf=cy.CONF, ana=ana, src=src)"
   ]
  },
  {
   "cell_type": "code",
   "execution_count": 10,
   "metadata": {},
   "outputs": [],
   "source": [
    "# sptr.to_E2dNdE(2, E0=1e3, unit=1e1)  # 1/GeV/cm2/s  @  10^3 GeV; does not work\n",
    "# tr.to_E2dNdE(2, E0=1e3, unit=1e1)  # 1/GeV/cm2/s  @  10^3 GeV"
   ]
  },
  {
   "cell_type": "code",
   "execution_count": 18,
   "metadata": {
    "scrolled": false
   },
   "outputs": [
    {
     "name": "stdout",
     "output_type": "stream",
     "text": [
      "Start time: 2021-10-28 14:29:20.628221\n",
      "Using 4 cores.\n",
      "* Starting initial scan for 90% of 10 trials with TS >= 0.000...\n",
      "  n_sig = 1.000 ... frac = 0.40000\n",
      "  n_sig = 2.000 ... frac = 0.70000\n",
      "  n_sig = 3.000 ... frac = 1.00000\n",
      "* Generating batches of 10 trials...\n",
      "n_trials | n_inj    0.00    1.20    2.40    3.60    4.80    6.00  |  n_sig(relative error)\n",
      "10       |         30.0%   50.0%   70.0%   90.0%  100.0%  100.0%  |      3.600 (+/- 16.3%) [spline]\n",
      "20       |         20.0%   50.0%   85.0%   90.0%  100.0%   95.0%  |      3.188 (+/- 22.2%) [chi2.cdf]\n",
      "30       |         23.3%   60.0%   83.3%   93.3%  100.0%   96.7%  |      3.008 (+/- 14.3%) [chi2.cdf]\n",
      "40       |         25.0%   62.5%   80.0%   87.5%  100.0%   95.0%  |      3.438 (+/- 11.1%) [chi2.cdf]\n",
      "50       |         24.0%   60.0%   82.0%   88.0%  100.0%   96.0%  |      3.299 (+/- 11.6%) [chi2.cdf]\n",
      "60       |         25.0%   61.7%   83.3%   86.7%  100.0%   96.7%  |      3.216 (+/-  8.8%) [chi2.cdf]\n",
      "End time: 2021-10-28 14:29:49.048990\n",
      "Elapsed time: 0:00:28.420769\n",
      "\n",
      "0:00:28.421523 elapsed.\n"
     ]
    }
   ],
   "source": [
    "with time('ps sensitivity / discovery potential'):\n",
    "    sens = tr.find_n_sig(\n",
    "#     sens = sptr.find_n_sig(  # this won't work\n",
    "        # ts, threshold\n",
    "        bg.median(), # for sens \n",
    "        # bg.isf_nsigma(3), # for disc\n",
    "        # beta, fraction of trials which should exceed the threshold\n",
    "        0.9, # for sens\n",
    "        # 0.9, # for disc\n",
    "        # n_inj step size for initial scan\n",
    "        n_sig_step=1,\n",
    "        # this many trials at a time\n",
    "        batch_size=10,\n",
    "        # tolerance, as estimated relative error\n",
    "        tol=.10,\n",
    "        first_batch_size=10\n",
    "    )"
   ]
  },
  {
   "cell_type": "code",
   "execution_count": 14,
   "metadata": {},
   "outputs": [
    {
     "name": "stdout",
     "output_type": "stream",
     "text": [
      "\n",
      "0:00:01.654976 elapsed.\n"
     ]
    },
    {
     "ename": "ValueError",
     "evalue": "keys do not match:\n['azimuth', 'dec', 'energy', 'idx', 'inj', 'log10energy', 'mjd', 'ra', 'sigma', 'sindec']\nvs\n['azimuth', 'dec', 'idx', 'inj', 'log10energy', 'mjd', 'ra', 'sigma', 'sindec']",
     "output_type": "error",
     "traceback": [
      "\u001b[0;31m---------------------------------------------------------------------------\u001b[0m",
      "\u001b[0;31mValueError\u001b[0m                                Traceback (most recent call last)",
      "\u001b[0;32m<ipython-input-14-6356cc065c08>\u001b[0m in \u001b[0;36m<module>\u001b[0;34m\u001b[0m\n\u001b[1;32m      3\u001b[0m                               \u001b[0mpoisson\u001b[0m\u001b[0;34m=\u001b[0m\u001b[0margs\u001b[0m\u001b[0;34m.\u001b[0m\u001b[0muse_poisson\u001b[0m\u001b[0;34m,\u001b[0m\u001b[0;34m\u001b[0m\u001b[0;34m\u001b[0m\u001b[0m\n\u001b[1;32m      4\u001b[0m                              seed=0)\n\u001b[0;32m----> 5\u001b[0;31m     \u001b[0mfit\u001b[0m \u001b[0;34m=\u001b[0m \u001b[0msptr\u001b[0m\u001b[0;34m.\u001b[0m\u001b[0mget_one_fit_from_trial\u001b[0m\u001b[0;34m(\u001b[0m\u001b[0mtrial\u001b[0m\u001b[0;34m,\u001b[0m \u001b[0mmp_cpus\u001b[0m\u001b[0;34m=\u001b[0m\u001b[0margs\u001b[0m\u001b[0;34m.\u001b[0m\u001b[0mncpu\u001b[0m\u001b[0;34m)\u001b[0m\u001b[0;34m\u001b[0m\u001b[0;34m\u001b[0m\u001b[0m\n\u001b[0m\u001b[1;32m      6\u001b[0m \u001b[0;34m\u001b[0m\u001b[0m\n\u001b[1;32m      7\u001b[0m \u001b[0;34m\u001b[0m\u001b[0m\n",
      "\u001b[0;32m/storage/hive/project/phy-taboada/cchen641/icecube/software/csky/csky/trial.py\u001b[0m in \u001b[0;36mget_one_fit_from_trial\u001b[0;34m(self, trial, flat, logging, mp_cpus, **fitter_args)\u001b[0m\n\u001b[1;32m   1216\u001b[0m     def get_one_fit_from_trial(self, trial, flat=True, logging=False, mp_cpus=None,\n\u001b[1;32m   1217\u001b[0m                                 **fitter_args):\n\u001b[0;32m-> 1218\u001b[0;31m         \u001b[0mscan\u001b[0m \u001b[0;34m=\u001b[0m \u001b[0mself\u001b[0m\u001b[0;34m.\u001b[0m\u001b[0mget_one_scan_from_trial\u001b[0m\u001b[0;34m(\u001b[0m\u001b[0mtrial\u001b[0m\u001b[0;34m,\u001b[0m \u001b[0mlogging\u001b[0m\u001b[0;34m=\u001b[0m\u001b[0mlogging\u001b[0m\u001b[0;34m,\u001b[0m \u001b[0mmp_cpus\u001b[0m\u001b[0;34m=\u001b[0m\u001b[0mmp_cpus\u001b[0m\u001b[0;34m,\u001b[0m \u001b[0;34m**\u001b[0m\u001b[0mfitter_args\u001b[0m\u001b[0;34m)\u001b[0m\u001b[0;34m\u001b[0m\u001b[0;34m\u001b[0m\u001b[0m\n\u001b[0m\u001b[1;32m   1219\u001b[0m         \u001b[0;31m# this effectively modulates the ts with each of the spatial prior function\u001b[0m\u001b[0;34m\u001b[0m\u001b[0;34m\u001b[0m\u001b[0;34m\u001b[0m\u001b[0m\n\u001b[1;32m   1220\u001b[0m         \u001b[0mscan_ts\u001b[0m \u001b[0;34m=\u001b[0m \u001b[0mnp\u001b[0m\u001b[0;34m.\u001b[0m\u001b[0marray\u001b[0m\u001b[0;34m(\u001b[0m\u001b[0;34m[\u001b[0m\u001b[0mscan\u001b[0m\u001b[0;34m[\u001b[0m\u001b[0;36m0\u001b[0m\u001b[0;34m]\u001b[0m \u001b[0;34m+\u001b[0m \u001b[0;36m2\u001b[0m \u001b[0;34m*\u001b[0m \u001b[0mpt\u001b[0m \u001b[0;32mfor\u001b[0m \u001b[0mpt\u001b[0m \u001b[0;32min\u001b[0m \u001b[0mself\u001b[0m\u001b[0;34m.\u001b[0m\u001b[0mllh_prior_term\u001b[0m\u001b[0;34m]\u001b[0m\u001b[0;34m)\u001b[0m\u001b[0;34m\u001b[0m\u001b[0;34m\u001b[0m\u001b[0m\n",
      "\u001b[0;32m/storage/hive/project/phy-taboada/cchen641/icecube/software/csky/csky/trial.py\u001b[0m in \u001b[0;36mget_one_scan_from_trial\u001b[0;34m(self, trial, logging, mp_cpus, **fitter_args)\u001b[0m\n\u001b[1;32m   1203\u001b[0m             \u001b[0mscan_tr\u001b[0m \u001b[0;34m=\u001b[0m \u001b[0mself\u001b[0m\u001b[0;34m.\u001b[0m\u001b[0m_get_sky_scan_tr\u001b[0m\u001b[0;34m(\u001b[0m\u001b[0mmask\u001b[0m\u001b[0;34m=\u001b[0m\u001b[0mmask\u001b[0m\u001b[0;34m,\u001b[0m \u001b[0mmp_cpus\u001b[0m\u001b[0;34m=\u001b[0m\u001b[0mmp_cpus\u001b[0m\u001b[0;34m)\u001b[0m\u001b[0;34m\u001b[0m\u001b[0;34m\u001b[0m\u001b[0m\n\u001b[1;32m   1204\u001b[0m             scan = scan_tr.get_one_scan_from_trial(\n\u001b[0;32m-> 1205\u001b[0;31m                 trial, logging=logging, mp_cpus=mp_cpus, **fitter_args)\n\u001b[0m\u001b[1;32m   1206\u001b[0m             \u001b[0;31m# drop p-value\u001b[0m\u001b[0;34m\u001b[0m\u001b[0;34m\u001b[0m\u001b[0;34m\u001b[0m\u001b[0m\n\u001b[1;32m   1207\u001b[0m             \u001b[0mscan\u001b[0m \u001b[0;34m=\u001b[0m \u001b[0mscan\u001b[0m\u001b[0;34m[\u001b[0m\u001b[0;36m1\u001b[0m\u001b[0;34m:\u001b[0m\u001b[0;34m]\u001b[0m\u001b[0;34m\u001b[0m\u001b[0;34m\u001b[0m\u001b[0m\n",
      "\u001b[0;32m/storage/hive/project/phy-taboada/cchen641/icecube/software/csky/csky/trial.py\u001b[0m in \u001b[0;36mget_one_scan_from_trial\u001b[0;34m(self, trial, logging, mp_cpus, mask, **fitter_args)\u001b[0m\n\u001b[1;32m   1027\u001b[0m                 \u001b[0mflat_evss\u001b[0m \u001b[0;34m=\u001b[0m \u001b[0;34m[\u001b[0m\u001b[0mev\u001b[0m \u001b[0;32mfor\u001b[0m \u001b[0mevs\u001b[0m \u001b[0;32min\u001b[0m \u001b[0mevss\u001b[0m \u001b[0;32mfor\u001b[0m \u001b[0mev\u001b[0m \u001b[0;32min\u001b[0m \u001b[0mevs\u001b[0m\u001b[0;34m]\u001b[0m\u001b[0;34m\u001b[0m\u001b[0;34m\u001b[0m\u001b[0m\n\u001b[1;32m   1028\u001b[0m                 \u001b[0;32mif\u001b[0m \u001b[0mflat_evss\u001b[0m\u001b[0;34m:\u001b[0m\u001b[0;34m\u001b[0m\u001b[0;34m\u001b[0m\u001b[0m\n\u001b[0;32m-> 1029\u001b[0;31m                     \u001b[0mev\u001b[0m \u001b[0;34m=\u001b[0m \u001b[0mutils\u001b[0m\u001b[0;34m.\u001b[0m\u001b[0mArrays\u001b[0m\u001b[0;34m.\u001b[0m\u001b[0mconcatenate\u001b[0m\u001b[0;34m(\u001b[0m\u001b[0mflat_evss\u001b[0m\u001b[0;34m)\u001b[0m\u001b[0;34m\u001b[0m\u001b[0;34m\u001b[0m\u001b[0m\n\u001b[0m\u001b[1;32m   1030\u001b[0m                     \u001b[0mmask\u001b[0m\u001b[0;34m[\u001b[0m\u001b[0mself\u001b[0m\u001b[0;34m.\u001b[0m\u001b[0mget_pix\u001b[0m\u001b[0;34m(\u001b[0m\u001b[0mself\u001b[0m\u001b[0;34m.\u001b[0m\u001b[0mnside\u001b[0m\u001b[0;34m,\u001b[0m \u001b[0mev\u001b[0m\u001b[0;34m,\u001b[0m \u001b[0;36m3\u001b[0m\u001b[0;34m)\u001b[0m\u001b[0;34m]\u001b[0m \u001b[0;34m=\u001b[0m \u001b[0;32mTrue\u001b[0m\u001b[0;34m\u001b[0m\u001b[0;34m\u001b[0m\u001b[0m\n\u001b[1;32m   1031\u001b[0m             \u001b[0;32melif\u001b[0m \u001b[0mself\u001b[0m\u001b[0;34m.\u001b[0m\u001b[0mpixmask\u001b[0m \u001b[0;32mis\u001b[0m \u001b[0;32mnot\u001b[0m \u001b[0;32mNone\u001b[0m\u001b[0;34m:\u001b[0m\u001b[0;34m\u001b[0m\u001b[0;34m\u001b[0m\u001b[0m\n",
      "\u001b[0;32m/storage/hive/project/phy-taboada/cchen641/icecube/software/csky/csky/utils.py\u001b[0m in \u001b[0;36mconcatenate\u001b[0;34m(arrays)\u001b[0m\n\u001b[1;32m    267\u001b[0m             \u001b[0mk1\u001b[0m\u001b[0;34m,\u001b[0m \u001b[0mk2\u001b[0m \u001b[0;34m=\u001b[0m \u001b[0marrays\u001b[0m\u001b[0;34m[\u001b[0m\u001b[0mi\u001b[0m\u001b[0;34m]\u001b[0m\u001b[0;34m.\u001b[0m\u001b[0mkeys\u001b[0m\u001b[0;34m(\u001b[0m\u001b[0;34m)\u001b[0m\u001b[0;34m,\u001b[0m \u001b[0marrays\u001b[0m\u001b[0;34m[\u001b[0m\u001b[0mi\u001b[0m\u001b[0;34m+\u001b[0m\u001b[0;36m1\u001b[0m\u001b[0;34m]\u001b[0m\u001b[0;34m.\u001b[0m\u001b[0mkeys\u001b[0m\u001b[0;34m(\u001b[0m\u001b[0;34m)\u001b[0m\u001b[0;34m\u001b[0m\u001b[0;34m\u001b[0m\u001b[0m\n\u001b[1;32m    268\u001b[0m             \u001b[0;32mif\u001b[0m \u001b[0marrays\u001b[0m\u001b[0;34m[\u001b[0m\u001b[0mi\u001b[0m\u001b[0;34m]\u001b[0m\u001b[0;34m.\u001b[0m\u001b[0mkeys\u001b[0m\u001b[0;34m(\u001b[0m\u001b[0;34m)\u001b[0m \u001b[0;34m!=\u001b[0m \u001b[0marrays\u001b[0m\u001b[0;34m[\u001b[0m\u001b[0mi\u001b[0m\u001b[0;34m+\u001b[0m\u001b[0;36m1\u001b[0m\u001b[0;34m]\u001b[0m\u001b[0;34m.\u001b[0m\u001b[0mkeys\u001b[0m\u001b[0;34m(\u001b[0m\u001b[0;34m)\u001b[0m\u001b[0;34m:\u001b[0m\u001b[0;34m\u001b[0m\u001b[0;34m\u001b[0m\u001b[0m\n\u001b[0;32m--> 269\u001b[0;31m                 \u001b[0;32mraise\u001b[0m \u001b[0mValueError\u001b[0m\u001b[0;34m(\u001b[0m\u001b[0;34m'keys do not match:\\n{}\\nvs\\n{}'\u001b[0m\u001b[0;34m.\u001b[0m\u001b[0mformat\u001b[0m\u001b[0;34m(\u001b[0m\u001b[0mk1\u001b[0m\u001b[0;34m,\u001b[0m \u001b[0mk2\u001b[0m\u001b[0;34m)\u001b[0m\u001b[0;34m)\u001b[0m\u001b[0;34m\u001b[0m\u001b[0;34m\u001b[0m\u001b[0m\n\u001b[0m\u001b[1;32m    270\u001b[0m         \u001b[0minit\u001b[0m \u001b[0;34m=\u001b[0m \u001b[0;34m{\u001b[0m\u001b[0;34m}\u001b[0m\u001b[0;34m\u001b[0m\u001b[0;34m\u001b[0m\u001b[0m\n\u001b[1;32m    271\u001b[0m         \u001b[0mkeys\u001b[0m \u001b[0;34m=\u001b[0m \u001b[0marrays\u001b[0m\u001b[0;34m[\u001b[0m\u001b[0;36m0\u001b[0m\u001b[0;34m]\u001b[0m\u001b[0;34m.\u001b[0m\u001b[0mkeys\u001b[0m\u001b[0;34m(\u001b[0m\u001b[0;34m)\u001b[0m\u001b[0;34m\u001b[0m\u001b[0;34m\u001b[0m\u001b[0m\n",
      "\u001b[0;31mValueError\u001b[0m: keys do not match:\n['azimuth', 'dec', 'energy', 'idx', 'inj', 'log10energy', 'mjd', 'ra', 'sigma', 'sindec']\nvs\n['azimuth', 'dec', 'idx', 'inj', 'log10energy', 'mjd', 'ra', 'sigma', 'sindec']"
     ]
    }
   ],
   "source": [
    "with time('Doing injections'):\n",
    "    trial = sptr.get_one_trial(n_sig=args.n_inj, \n",
    "                              poisson=args.use_poisson,\n",
    "                             seed=0)\n",
    "    fit = sptr.get_one_fit_from_trial(trial, mp_cpus=args.ncpu)\n",
    "    \n",
    "    \n",
    "    "
   ]
  },
  {
   "cell_type": "code",
   "execution_count": 29,
   "metadata": {},
   "outputs": [],
   "source": [
    "import collections\n",
    "Trial = collections.namedtuple('Trial', 'evss n_exs')\n",
    "def Clean_sig_trial(fun_trial, tr, src):\n",
    "    trial = fun_trial\n",
    "    flat_dec = tr.scan_dec\n",
    "    flat_ra = tr.scan_ra\n",
    "    cut_n_sigma = 5\n",
    "    evss = trial.evss\n",
    "    if( evss[0] ):\n",
    "        all_evs = evss[0][0][:0]\n",
    "        for ev_list in evss:\n",
    "            for evs in ev_list:\n",
    "                for ev in evs:\n",
    "                    if( src.mjd[0]<ev.mjd[0]<(src.mjd[0]+src.t_100[0]) ):\n",
    "                        all_evs += ev\n",
    "        trial = Trial([[all_evs]], [0])\n",
    "\n",
    "        if( len(all_evs)==0 ):\n",
    "            trial = None\n",
    "        elif( len(all_evs)<100 ):\n",
    "            delta_angle_pix_evss = cy.coord.delta_angle(\n",
    "                flat_dec, flat_ra, all_evs.dec, all_evs.ra, latlon=True)\n",
    "            min_sigma_per_pix = np.amin(\n",
    "                delta_angle_pix_evss/all_evs.sigma, axis=1)\n",
    "            evs_mask = min_sigma_per_pix<cut_n_sigma\n",
    "\n",
    "            mask = tr.llh_mask_all & evs_mask      \n",
    "            if( not np.any(mask) ):\n",
    "                trial = None\n",
    "    else:\n",
    "        trial = None\n",
    "    return trial\n",
    "\n",
    "cleaned_trial = Clean_sig_trial(trial, sptr, src)"
   ]
  },
  {
   "cell_type": "code",
   "execution_count": 31,
   "metadata": {},
   "outputs": [
    {
     "name": "stdout",
     "output_type": "stream",
     "text": [
      "Scanning 1667 locations using 4 cores:\n",
      "       1667/1667 coordinates complete.   \n"
     ]
    }
   ],
   "source": [
    "fit = sptr.get_one_fit_from_trial(cleaned_trial, mp_cpus=args.ncpu, logging=True)"
   ]
  },
  {
   "cell_type": "code",
   "execution_count": 4,
   "metadata": {},
   "outputs": [],
   "source": [
    "import numpy as np\n",
    "test = np.load(\"/storage/home/hhive1/cchen641/icecube/greco_grb/data/csky_output/prior_injection/tw10/GRB140807A/GRB140807A_batchSize10_batchIndex0_tw10_ninj10.npy\")"
   ]
  },
  {
   "cell_type": "code",
   "execution_count": 5,
   "metadata": {},
   "outputs": [
    {
     "data": {
      "text/plain": [
       "array([( 8.97404243, 172.43552022), ( 8.99379892, 171.28399717),\n",
       "       ( 8.93158676, 103.15692399), (11.9857412 , 174.37020861),\n",
       "       ( 6.9799769 , 104.55989851), (14.98986089, 256.2133489 ),\n",
       "       (10.91778439, 167.88074534), ( 8.92523729, 132.86868975),\n",
       "       ( 4.99357521,  63.89780643), ( 9.96610522, 139.47466187)],\n",
       "      dtype=[('ns', '<f8'), ('ts', '<f8')])"
      ]
     },
     "execution_count": 5,
     "metadata": {},
     "output_type": "execute_result"
    }
   ],
   "source": [
    "test"
   ]
  },
  {
   "cell_type": "code",
   "execution_count": 6,
   "metadata": {},
   "outputs": [],
   "source": [
    "import numpy as np\n",
    "test2 = np.load(\"/storage/home/hhive1/cchen641/icecube/greco_grb/data/csky_output/prior_injection/tw10/GRB180423A/GRB180423A_batchSize500_batchIndex0_tw10_ninj9.0.npy\")"
   ]
  },
  {
   "cell_type": "code",
   "execution_count": 7,
   "metadata": {},
   "outputs": [
    {
     "data": {
      "text/plain": [
       "array([(13.96473898, 187.21068609), ( 8.94435888,  91.22549741),\n",
       "       (10.98787625, 172.81580577), (11.9036349 , 159.35081879),\n",
       "       ( 8.99124623, 146.10606626), (10.98068326, 142.57876823),\n",
       "       ( 9.9808473 , 136.00272401), ( 8.94257345, 103.22646645),\n",
       "       ( 8.95545172, 100.8496141 ), (14.95563686, 201.02885593),\n",
       "       ( 7.99294436, 119.9894989 ), (13.93977262, 195.32660849),\n",
       "       ( 7.76763558,  64.1126611 ), ( 8.97870949, 111.05633204),\n",
       "       ( 5.99051957,  70.74349401), ( 6.97627362,  95.21435036),\n",
       "       ( 5.88100412,  63.65778383), ( 9.95074523, 161.7735011 ),\n",
       "       ( 8.96523918,  94.59466548), (13.97684099, 187.12658534),\n",
       "       ( 5.99451596, 100.99895396), ( 6.96892886,  93.34876242),\n",
       "       ( 9.97770913, 127.43662966), (10.98536796, 149.49509128),\n",
       "       ( 6.98448539, 106.24783771), ( 5.97716756,  56.50111452),\n",
       "       ( 5.98414553,  77.03850734), ( 5.95296104,  83.63295026),\n",
       "       ( 7.97755777,  97.24359419), ( 9.9727633 , 133.11437292),\n",
       "       (10.97496346, 157.76221364), (11.96817727, 188.82898096),\n",
       "       ( 8.97957475, 131.30007825), (10.9710192 , 135.39613802),\n",
       "       ( 6.94983206,  67.88245469), ( 5.98357213,  67.56298689),\n",
       "       ( 6.91939292, 107.27031629), ( 6.97943461,  77.09261304),\n",
       "       ( 7.98820176, 115.12024013), (10.99026155, 179.69145513),\n",
       "       (10.73828448, 134.55770667), (12.9854633 , 204.76714261),\n",
       "       ( 2.98090949,  34.8671418 ), ( 5.96298621,  61.41818166),\n",
       "       ( 6.95244374,  87.84854189), ( 7.96402147, 103.95284192),\n",
       "       ( 8.98076684,  99.76498723), (10.9931993 , 170.13494656),\n",
       "       ( 5.97940764,  78.21263644), (10.97682814, 141.86746933),\n",
       "       (10.98481219, 175.97936073), ( 9.95266542, 115.53743872),\n",
       "       (15.98315988, 268.74241627), ( 8.97932293, 116.0293057 ),\n",
       "       ( 5.97079618,  59.19619068), ( 6.95885143, 101.14435685),\n",
       "       ( 5.91426038,  74.77026234), ( 7.95671457,  92.39140469),\n",
       "       ( 6.98005153,  85.47447458), ( 3.9926635 ,  55.41770091),\n",
       "       (12.96015162, 172.28117085), (11.98580931, 182.8427707 ),\n",
       "       ( 7.871855  ,  93.90899244), ( 9.97134194, 130.41947861),\n",
       "       ( 8.97560748, 127.95850236), ( 9.98208828, 153.8128684 ),\n",
       "       ( 6.98178188, 103.19720975), (11.99259103, 213.6737805 ),\n",
       "       ( 9.9634192 , 115.08557338), ( 5.98448658,  78.74611037),\n",
       "       ( 4.99596392,  78.57966133), ( 5.97934823,  67.44858317),\n",
       "       ( 9.71494252, 123.72056301), ( 7.96872049, 116.17421341),\n",
       "       ( 8.95461593, 117.29366764), (12.92167069, 157.36265119),\n",
       "       ( 8.97743717, 135.08415828), (13.97177511, 157.85850628),\n",
       "       (10.98062471, 154.0174096 ), ( 2.96192392,  31.27768475),\n",
       "       (12.97343197, 196.54706799), (11.93692836, 151.97365705),\n",
       "       ( 5.39011848,  51.04989353), (10.9637242 , 171.43911854),\n",
       "       ( 3.99458736,  68.92464907), ( 5.9882712 ,  81.84687789),\n",
       "       ( 8.89209947, 159.92707265), ( 7.95154201,  75.91453053),\n",
       "       ( 9.98049619, 118.29566937), ( 6.96647654,  87.41162996),\n",
       "       ( 8.99530057, 147.9693451 ), ( 6.95292855,  86.27420446),\n",
       "       ( 7.98035114,  92.19936273), (14.97477342, 234.14256807),\n",
       "       ( 8.95384389, 118.09159411), ( 4.98066144,  55.45491658),\n",
       "       ( 7.86517304,  87.47975527), ( 4.97213313,  55.76259958),\n",
       "       ( 6.92206065, 103.12388986), (12.98868464, 181.17386279),\n",
       "       (13.98613076, 212.99817426), ( 8.94560356,  97.12151365),\n",
       "       ( 5.96761473,  62.69883444), (10.96580971, 160.9664101 ),\n",
       "       ( 8.98250985, 129.62579008), ( 5.95296452,  61.21830977),\n",
       "       ( 7.94993082,  88.91124937), ( 5.96899693,  64.09084043),\n",
       "       ( 8.86070876, 107.39529781), (10.98479314, 150.18036064),\n",
       "       (11.80402758, 132.96917166), (13.98020461, 186.70087173),\n",
       "       ( 7.95046165, 119.82852174), ( 9.9727761 , 121.98949921),\n",
       "       ( 4.96934806,  68.43906834), ( 8.77006701,  83.23418563),\n",
       "       ( 7.9807883 ,  98.36669531), ( 4.96335386,  46.41708891),\n",
       "       ( 7.95247188, 105.22173607), ( 9.99525045, 171.76884845),\n",
       "       ( 6.96448123,  73.74521489), ( 9.95929157, 101.04720502),\n",
       "       ( 4.84966755,  32.25746887), ( 8.99286671, 140.13951523),\n",
       "       ( 6.98437022,  81.68970226), ( 5.92662998,  51.64167639),\n",
       "       ( 9.87514082, 134.11021799), ( 9.99175586, 126.05031281),\n",
       "       ( 3.91042187,  59.87557194), ( 6.9695335 ,  79.09495194),\n",
       "       ( 8.90666062, 100.66836428), ( 9.98862831, 132.06650928),\n",
       "       ( 7.99243122, 115.24453398), ( 9.97341567, 135.45252565),\n",
       "       (11.9749881 , 146.21198419), (10.93022001, 133.9730815 ),\n",
       "       ( 4.98295684,  60.57331758), ( 7.98125825, 103.09871772),\n",
       "       ( 3.97258922,  37.798008  ), ( 8.97632074, 112.36382878),\n",
       "       (11.9661216 , 142.0104835 ), ( 4.95528689,  69.22888921),\n",
       "       ( 5.93539472,  66.50314073), (13.93399214, 166.72789461),\n",
       "       ( 6.96999614,  70.7698751 ), ( 6.65710331,  62.34856717),\n",
       "       (13.90574658, 204.85571485), ( 7.9829053 , 111.07193829),\n",
       "       ( 7.98332031, 117.1581971 ), ( 7.98734485, 111.69247445),\n",
       "       ( 3.98685811,  45.62510516), ( 2.98541836,  29.92031898),\n",
       "       ( 8.91437907, 114.37374091), ( 5.96917982,  72.47077357),\n",
       "       ( 6.95523691, 100.81876536), ( 4.83093543,  49.68144084),\n",
       "       ( 9.94366797, 130.72828994), ( 6.99638392, 124.55594406),\n",
       "       (10.94212239, 133.33360577), ( 6.86437859,  60.50141804),\n",
       "       ( 6.98235042,  75.38321742), ( 4.6929434 ,  50.74400204),\n",
       "       ( 9.95196071, 115.7478077 ), (14.74245515, 169.26834   ),\n",
       "       ( 9.988862  , 143.29949108), ( 4.39429638,  34.01283058),\n",
       "       ( 5.93327406,  69.54801683), ( 1.99994381,  38.08533758),\n",
       "       ( 6.98664143, 107.31352722), ( 4.9977387 ,  76.84410203),\n",
       "       ( 7.96892568,  86.72877044), ( 6.97497688,  89.57149894),\n",
       "       ( 9.7593971 , 110.78604594), ( 9.96860344, 116.00626971),\n",
       "       (11.9797068 , 148.67178522), ( 9.98105127, 141.01337066),\n",
       "       ( 8.94676491,  93.9385701 ), (11.9534038 , 128.96312254),\n",
       "       (10.96926041, 131.94043947), (10.97649235, 164.07293861),\n",
       "       (13.89563451, 170.22598506), ( 5.98349881,  92.87348128),\n",
       "       ( 9.95013893, 132.96416007), ( 4.95269555,  71.74237085),\n",
       "       ( 8.94364456, 104.70346809), ( 6.98825866,  85.66119603),\n",
       "       (10.90611394, 152.01437734), ( 9.71376515, 131.58470861),\n",
       "       ( 9.98483372, 150.86757976), ( 1.98398301,  16.12781816),\n",
       "       (13.95417993, 190.01058428), ( 5.96486769,  54.95356791),\n",
       "       ( 2.97054278,  33.9329035 ), ( 6.76805712,  62.76877246),\n",
       "       (10.99480101, 184.17682938), (10.99161844, 176.55577164),\n",
       "       (10.99067452, 171.66135933), (11.95818927, 140.85653268),\n",
       "       (11.98024821, 158.01545212), ( 4.93845569,  48.2784832 ),\n",
       "       ( 7.98999921, 113.98339463), ( 3.98035493,  49.48304612),\n",
       "       ( 4.97389553,  49.93974221), ( 5.92675021,  69.68227037),\n",
       "       ( 8.97285186, 110.19032141), ( 7.95536555,  75.27135189),\n",
       "       (12.9575384 , 178.93452724), ( 7.94784215, 125.83426704),\n",
       "       ( 8.96460822, 120.31286928), (10.97752526, 133.5975478 ),\n",
       "       ( 8.87339184, 104.21321327), ( 8.97202472, 107.05511289),\n",
       "       ( 5.97094911,  64.22740199), ( 7.92677751, 111.90413836),\n",
       "       ( 9.95812239, 121.82298379), ( 5.98161277,  77.82665395),\n",
       "       ( 6.98198373,  92.95504658), ( 6.98901415,  97.45133449),\n",
       "       ( 4.97549252,  53.30239335), ( 6.97375101,  96.84558367),\n",
       "       ( 8.98015876, 100.90713165), (10.42015928,  92.50242534),\n",
       "       (11.93489946, 130.25201083), ( 7.84492139,  90.97999589),\n",
       "       ( 8.98122649, 104.97938152), ( 8.95932828,  97.30719508),\n",
       "       ( 3.99241911,  70.74021753), ( 8.98438418, 110.15271846),\n",
       "       ( 5.99515214,  87.4926693 ), ( 2.90142652,  25.84019064),\n",
       "       ( 5.97059312,  64.11143907), ( 5.85388222,  64.28575798),\n",
       "       (10.93858673, 143.90152178), ( 9.97661137, 110.92404934),\n",
       "       ( 5.94479554,  71.30637973), ( 8.97237251, 110.35831395),\n",
       "       (10.9872115 , 145.21206974), ( 6.96976964,  99.07805822),\n",
       "       ( 8.9481106 , 142.38117485), ( 6.99642277, 106.95588961),\n",
       "       ( 6.96743803,  80.85664258), ( 8.81601822, 133.50415416),\n",
       "       ( 6.98230733,  98.54890948), ( 8.97850322, 109.67722143),\n",
       "       ( 6.97577897,  94.40000558), ( 4.91503268,  65.28789426),\n",
       "       (13.75417066, 185.54857092), (14.9592463 , 190.77817043),\n",
       "       ( 5.93364927,  64.00652452), ( 7.95525795, 107.46383053),\n",
       "       (10.96448366, 134.1622052 ), (11.96117337, 179.23229176),\n",
       "       ( 8.77134713,  71.75444114), (12.98631181, 179.82042961),\n",
       "       ( 8.88411143, 132.88025993), ( 5.97872561,  88.13928683),\n",
       "       ( 7.98870152, 102.31785786), ( 6.88633228,  80.12037446),\n",
       "       (10.95701709, 144.66019671), ( 9.97866634, 129.83774975),\n",
       "       (11.95039995, 164.43113313), ( 5.98743125,  77.16675054),\n",
       "       ( 4.77820425,  41.19878808), ( 7.9526132 ,  75.48429682),\n",
       "       (11.98558714, 157.3345081 ), ( 4.89654265,  40.63089083),\n",
       "       ( 8.96549369, 114.33583646), ( 9.94933472, 130.8816918 ),\n",
       "       ( 7.99183942, 110.06562213), ( 4.93054718,  69.23534308),\n",
       "       ( 3.96958353,  41.56797643), ( 7.97066414, 102.00642301),\n",
       "       ( 6.35452034,  49.8604888 ), ( 5.92399019,  57.65885635),\n",
       "       ( 3.99622327,  62.65091519), ( 9.9771228 , 137.825633  ),\n",
       "       ( 9.96456328, 110.59833256), ( 7.92385481,  90.03070704),\n",
       "       (13.97164095, 222.89281726), ( 7.9824683 , 111.83843702),\n",
       "       ( 7.98457059, 112.3068389 ), (13.98644661, 202.79761916),\n",
       "       (12.90782645, 171.78383192), ( 2.92146988,  17.95051164),\n",
       "       ( 9.96541517, 127.13211874), (12.97228126, 195.45928608),\n",
       "       ( 8.87867762, 102.64505445), (10.98305969, 174.59525058),\n",
       "       ( 4.99363593,  65.76935496), ( 9.93903494, 111.27395785),\n",
       "       ( 9.93861803, 155.83555361), (10.98767832, 158.56517221),\n",
       "       (10.96746328, 177.6929329 ), ( 2.9870927 ,  31.74429533),\n",
       "       (13.97302957, 202.67147339), ( 9.98378409, 137.83515203),\n",
       "       ( 9.95044903, 115.91516236), ( 5.94991727,  57.83987387),\n",
       "       ( 5.95967169,  73.1769621 ), ( 6.89053403,  62.67148715),\n",
       "       (11.97395009, 153.00468569), (10.85037631, 130.3920924 ),\n",
       "       (10.96910349, 177.6543242 ), ( 1.98596534,  15.9363435 ),\n",
       "       (12.94260244, 146.30638052), (14.95575263, 205.17828457),\n",
       "       (11.98478928, 178.27419919), ( 8.99371129, 134.0240199 ),\n",
       "       ( 9.95381793, 133.49255157), ( 6.72182222,  88.53317015),\n",
       "       (10.9643077 , 145.12983074), ( 8.97176055, 119.49485621),\n",
       "       (11.94764415, 158.45941079), ( 7.92935594,  90.10643481),\n",
       "       ( 9.98196636, 132.70271091), (13.98180066, 178.28983076),\n",
       "       (13.96187134, 189.85515052), (10.96975577, 177.63306648),\n",
       "       ( 6.98255974,  75.53749798), ( 5.92128671,  77.44206892),\n",
       "       ( 5.15928704,  43.34591012), (11.97136256, 172.12793403),\n",
       "       ( 7.9524966 ,  77.02405132), ( 7.96925691,  80.63449634),\n",
       "       ( 7.98778394,  99.90097564), ( 4.95758316,  49.73600748),\n",
       "       ( 8.99423887, 139.7814235 ), ( 9.97781289, 148.35399862),\n",
       "       ( 4.96469252,  48.78021321), ( 7.77807532,  79.1344739 ),\n",
       "       ( 6.95505472,  73.50185051), (11.80441176, 116.27742785),\n",
       "       (16.93039828, 214.00972448), (10.96174054, 159.29678192),\n",
       "       ( 9.98726018, 148.93043662), ( 4.97821649,  74.99048372),\n",
       "       (11.90937163, 161.00946858), ( 2.97387939,  24.6669431 ),\n",
       "       ( 8.98652986, 118.89925055), (11.97879474, 181.10832644),\n",
       "       ( 5.99822368, 103.23886986), ( 5.98630958,  74.60255194),\n",
       "       (15.90515614, 208.58937422), (11.98863573, 190.99646618),\n",
       "       (12.98069114, 172.71064272), ( 7.97922098, 103.13143009),\n",
       "       ( 7.98274698, 111.00292379), ( 4.91252036,  55.40016012),\n",
       "       ( 9.95583279, 114.78567329), ( 7.97843629, 108.58359011),\n",
       "       ( 7.99143749, 104.40124349), ( 7.98654162, 116.18689686),\n",
       "       ( 2.99635823,  46.17388463), ( 5.98606154,  72.05167349),\n",
       "       (13.96909197, 178.36326049), ( 1.97965232,  16.86107311),\n",
       "       ( 8.97744823, 111.24133929), ( 7.89042877, 103.85422302),\n",
       "       ( 8.98665712, 125.47725435), ( 5.91927126,  53.59383044),\n",
       "       ( 5.95277806,  76.90851736), ( 5.98979872,  83.8635129 ),\n",
       "       (14.97304206, 240.17815099), ( 5.96398127,  59.50910571),\n",
       "       ( 8.88968382, 110.00374245), ( 9.96214149, 123.02122688),\n",
       "       ( 8.98790582, 116.08415465), ( 5.74124267,  64.24374919),\n",
       "       ( 9.61127852, 126.84892833), (10.80727442, 133.87619071),\n",
       "       ( 9.97806026, 127.88572307), ( 8.95968813, 108.12090025),\n",
       "       ( 9.98176443, 157.6015786 ), ( 3.99173118,  63.82681493),\n",
       "       (11.87080559, 133.36573499), ( 4.98743183,  65.79121057),\n",
       "       ( 8.92627602, 116.19212695), ( 7.97197576,  80.94613286),\n",
       "       ( 6.99202794,  86.61583791), (10.98061407, 177.3380365 ),\n",
       "       ( 4.98855776,  67.18642061), ( 7.98147585, 110.43279529),\n",
       "       (12.9290483 , 153.40601588), ( 8.99390131, 133.7229294 ),\n",
       "       (12.99196985, 214.34544373), ( 8.97812773, 116.79355924),\n",
       "       ( 6.97778118,  90.11113475), (11.55021088, 147.23664926),\n",
       "       ( 5.99147898,  85.88736821), (17.96301403, 254.13461647),\n",
       "       (10.96237072, 147.38412763), ( 7.98123967, 100.9719641 ),\n",
       "       ( 6.99483997, 117.31419522), ( 7.98019953, 100.95274847),\n",
       "       ( 6.98791537, 100.90703267), (14.98327431, 210.02626991),\n",
       "       ( 6.98855848,  91.64126723), (10.94819693, 134.44119233),\n",
       "       ( 6.95358891,  77.19683531), ( 7.87950318,  86.57448166),\n",
       "       ( 7.98974509, 115.0045706 ), (10.98280202, 159.70151967),\n",
       "       ( 9.98242178, 172.25764651), ( 4.95569642,  44.43560023),\n",
       "       (11.98754923, 184.99689546), (11.98881483, 188.9267219 ),\n",
       "       (13.97249355, 192.3514363 ), (12.89030643, 166.37510752),\n",
       "       ( 9.96825481, 132.39332281), ( 5.93302562,  71.97608525),\n",
       "       ( 7.9331289 ,  99.66149036), (11.97058341, 160.40532355),\n",
       "       (11.77976961, 165.9667861 ), (13.90309818, 158.25092894),\n",
       "       ( 6.9703882 , 100.33041064), ( 4.99102389,  68.94183482),\n",
       "       (15.96218332, 232.36311714), (12.98865505, 191.04001631),\n",
       "       ( 8.90030792, 130.21243359), (12.97232983, 188.31232319),\n",
       "       ( 5.99095804,  76.40640215), ( 4.73649813,  55.54061786),\n",
       "       ( 7.86132639,  83.86409517), ( 8.85192307,  81.82425392),\n",
       "       ( 7.96304045, 117.48638187), ( 4.98649514,  55.95268022),\n",
       "       (11.65926776, 119.16815063), ( 8.84801653, 100.33146132),\n",
       "       ( 1.99397244,  19.38310661), ( 7.95646314,  86.57981491),\n",
       "       ( 3.95984852,  43.19554018), (14.97771468, 242.60089964),\n",
       "       (11.89579596, 183.22868871), ( 8.98929689, 125.89325273),\n",
       "       ( 5.97359801,  69.21467974), (10.9883573 , 137.05049919),\n",
       "       (11.95217395, 140.09967231), ( 7.96594586,  97.16529498),\n",
       "       (10.8727793 , 128.20473775), ( 6.96841969, 102.00265091),\n",
       "       ( 8.89367271,  96.15076646), ( 7.90962457, 107.46085189),\n",
       "       ( 9.78397848, 107.09040654), ( 8.95603359,  99.38990323),\n",
       "       ( 9.98983405, 167.10964561), ( 4.91951619,  57.32773393),\n",
       "       ( 6.89349832,  92.34339441), ( 5.94510549,  71.40345416),\n",
       "       ( 7.91469669,  96.58982007), ( 9.96077496, 133.67042062),\n",
       "       (10.9786464 , 167.06528174), ( 9.68636919,  90.72486043),\n",
       "       ( 7.52270837,  70.71068818), ( 6.98141613,  84.94794204),\n",
       "       ( 3.94387382,  34.61242846), ( 6.98849516,  97.82275051),\n",
       "       ( 5.93848494,  64.0917962 ), (12.94603342, 142.44568582),\n",
       "       (11.97937243, 203.79411036), ( 6.9856996 , 105.32539637),\n",
       "       (14.96768574, 219.65965603), (16.98080533, 224.28885765),\n",
       "       ( 8.98659794, 118.97728348), ( 3.98502967,  40.86161479),\n",
       "       ( 4.96813149,  59.47448981), ( 8.98356138, 109.12647709),\n",
       "       ( 8.99213673, 143.59515026), ( 2.89323998,  19.3567146 ),\n",
       "       (12.98145038, 175.31219435), ( 5.97139905,  77.71527553),\n",
       "       (10.97784188, 156.00385734), ( 4.97241272,  70.69520932),\n",
       "       ( 3.87429775,  34.44946716), ( 9.91437094, 108.3103751 ),\n",
       "       ( 5.97678266,  63.04535071), (13.98214999, 191.43424152),\n",
       "       ( 4.96088772,  45.47928653), (11.97321629, 160.39357959),\n",
       "       ( 9.97741821, 146.64891375), ( 7.97606253, 108.00607432),\n",
       "       ( 7.93863537,  84.98554912), ( 6.98824246,  92.1487942 ),\n",
       "       (10.97037305, 122.97280261), ( 2.98484012,  41.48386543),\n",
       "       ( 9.94936284, 138.71037955), ( 8.95174051, 116.7215052 ),\n",
       "       ( 7.99218196, 113.03359434), (10.96723933, 124.29806044),\n",
       "       (10.94616225, 138.49793524), ( 5.92472961,  83.05513052),\n",
       "       ( 6.93776264,  85.12357739), (11.84107058, 125.0089074 ),\n",
       "       ( 9.98418507, 146.58034087), ( 3.53907729,  28.02049716),\n",
       "       ( 8.6571461 ,  64.3880396 ), ( 8.8650039 ,  97.73363705),\n",
       "       ( 6.9680034 ,  95.55289833), (15.89559199, 200.44744054),\n",
       "       ( 4.99034459,  58.1094569 ), (10.97345397, 168.52090368)],\n",
       "      dtype=[('ns', '<f8'), ('ts', '<f8')])"
      ]
     },
     "execution_count": 7,
     "metadata": {},
     "output_type": "execute_result"
    }
   ],
   "source": [
    "test2"
   ]
  },
  {
   "cell_type": "code",
   "execution_count": null,
   "metadata": {},
   "outputs": [],
   "source": []
  },
  {
   "cell_type": "code",
   "execution_count": 35,
   "metadata": {},
   "outputs": [],
   "source": [
    "### used for basic trial_runner\n",
    "conf = {\n",
    "    'ana': ana,\n",
    "    #### llh basics: csky.conf\n",
    "    'space': 'prior', # ps/fitps/template/prior\n",
    "    'time': 'transient', # utf/lc/transient\n",
    "    'energy': 'customflux', # fit/customflux\n",
    "    'flux': cy.hyp.PowerLawFlux(2.5),\n",
    "    #### inj.py - prior has some duplications against space's prior\n",
    "    'sig': 'transient', # ps/tw/lc/transient/template/prior\n",
    "    'full_sky': True,\n",
    "    'extended': True,\n",
    "    'mp_cpus': args.ncpu,\n",
    "    'cut_n_sigma': 3\n",
    "}\n",
    "cy.CONF.update(conf)\n",
    "healpix = healpix / np.sum(healpix)\n",
    "src = cy.sources(\n",
    "    ra=ra,\n",
    "    dec=dec,\n",
    "    deg=True,\n",
    "    mjd=tw_start, \n",
    "    sigma_t=np.zeros_like(tw), \n",
    "    t_100=tw,  # in days\n",
    "    prior=[hl.heal.HealHist(healpix)],\n",
    "    name=args.grb_name\n",
    ")\n",
    "tr = cy.get_trial_runner(conf=cy.CONF, ana=ana, src=src)"
   ]
  },
  {
   "cell_type": "code",
   "execution_count": 38,
   "metadata": {},
   "outputs": [
    {
     "name": "stdout",
     "output_type": "stream",
     "text": [
      "Scanning 1667 locations using 4 cores:\n",
      "       1667/1667 coordinates complete.   \n",
      "Scanning 1667 locations using 4 cores:\n",
      "       1667/1667 coordinates complete.   \n"
     ]
    }
   ],
   "source": [
    "trial_basic = tr.get_one_trial(n_sig=args.n_inj, \n",
    "                              poisson=args.use_poisson,\n",
    "                             seed=0)\n",
    "fit_basic = tr.get_one_fit_from_trial(trial_basic, logging=True)"
   ]
  },
  {
   "cell_type": "code",
   "execution_count": 39,
   "metadata": {},
   "outputs": [
    {
     "data": {
      "text/plain": [
       "[94.42793851256872, 11.230967778732412]"
      ]
     },
     "execution_count": 39,
     "metadata": {},
     "output_type": "execute_result"
    }
   ],
   "source": [
    "fit_basic"
   ]
  },
  {
   "cell_type": "code",
   "execution_count": null,
   "metadata": {},
   "outputs": [],
   "source": []
  },
  {
   "cell_type": "code",
   "execution_count": 11,
   "metadata": {},
   "outputs": [
    {
     "name": "stderr",
     "output_type": "stream",
     "text": [
      "Process Process-2:\n",
      "Process Process-1:\n",
      "Process Process-3:\n",
      "Process Process-4:\n",
      "Traceback (most recent call last):\n",
      "Traceback (most recent call last):\n",
      "Traceback (most recent call last):\n",
      "Traceback (most recent call last):\n",
      "  File \"/storage/home/hhive1/cchen641/.conda/envs/icecube_py3/lib/python3.7/multiprocessing/process.py\", line 297, in _bootstrap\n",
      "    self.run()\n",
      "  File \"/storage/home/hhive1/cchen641/.conda/envs/icecube_py3/lib/python3.7/multiprocessing/process.py\", line 297, in _bootstrap\n",
      "    self.run()\n",
      "  File \"/storage/home/hhive1/cchen641/.conda/envs/icecube_py3/lib/python3.7/multiprocessing/process.py\", line 99, in run\n",
      "    self._target(*self._args, **self._kwargs)\n",
      "  File \"/storage/home/hhive1/cchen641/.conda/envs/icecube_py3/lib/python3.7/multiprocessing/process.py\", line 99, in run\n",
      "    self._target(*self._args, **self._kwargs)\n",
      "  File \"/storage/hive/project/phy-taboada/cchen641/icecube/software/csky/csky/trial.py\", line 310, in _get_some_fits\n",
      "    fit = self.get_one_fit(n_sig=n_sig, poisson=poisson, seed=seeds[i], **kw)\n",
      "  File \"/storage/hive/project/phy-taboada/cchen641/icecube/software/csky/csky/trial.py\", line 310, in _get_some_fits\n",
      "    fit = self.get_one_fit(n_sig=n_sig, poisson=poisson, seed=seeds[i], **kw)\n",
      "  File \"/storage/hive/project/phy-taboada/cchen641/icecube/software/csky/csky/trial.py\", line 289, in get_one_fit\n",
      "    return self.get_one_fit_from_trial(evss_ns_excluded_tuple, flat=flat, **fitter_args)\n",
      "  File \"/storage/hive/project/phy-taboada/cchen641/icecube/software/csky/csky/trial.py\", line 289, in get_one_fit\n",
      "    return self.get_one_fit_from_trial(evss_ns_excluded_tuple, flat=flat, **fitter_args)\n",
      "  File \"/storage/hive/project/phy-taboada/cchen641/icecube/software/csky/csky/trial.py\", line 1218, in get_one_fit_from_trial\n",
      "    scan = self.get_one_scan_from_trial(trial, logging=logging, mp_cpus=mp_cpus, **fitter_args)\n",
      "  File \"/storage/hive/project/phy-taboada/cchen641/icecube/software/csky/csky/trial.py\", line 1218, in get_one_fit_from_trial\n",
      "    scan = self.get_one_scan_from_trial(trial, logging=logging, mp_cpus=mp_cpus, **fitter_args)\n",
      "  File \"/storage/hive/project/phy-taboada/cchen641/icecube/software/csky/csky/trial.py\", line 1205, in get_one_scan_from_trial\n",
      "    trial, logging=logging, mp_cpus=mp_cpus, **fitter_args)\n",
      "  File \"/storage/hive/project/phy-taboada/cchen641/icecube/software/csky/csky/trial.py\", line 1029, in get_one_scan_from_trial\n",
      "    ev = utils.Arrays.concatenate(flat_evss)\n",
      "  File \"/storage/hive/project/phy-taboada/cchen641/icecube/software/csky/csky/trial.py\", line 1205, in get_one_scan_from_trial\n",
      "    trial, logging=logging, mp_cpus=mp_cpus, **fitter_args)\n",
      "  File \"/storage/hive/project/phy-taboada/cchen641/icecube/software/csky/csky/utils.py\", line 269, in concatenate\n",
      "    raise ValueError('keys do not match:\\n{}\\nvs\\n{}'.format(k1, k2))\n",
      "  File \"/storage/hive/project/phy-taboada/cchen641/icecube/software/csky/csky/trial.py\", line 1029, in get_one_scan_from_trial\n",
      "    ev = utils.Arrays.concatenate(flat_evss)\n",
      "ValueError: keys do not match:\n",
      "['azimuth', 'dec', 'energy', 'idx', 'inj', 'log10energy', 'mjd', 'ra', 'sigma', 'sindec']\n",
      "vs\n",
      "['azimuth', 'dec', 'idx', 'inj', 'log10energy', 'mjd', 'ra', 'sigma', 'sindec']\n",
      "  File \"/storage/hive/project/phy-taboada/cchen641/icecube/software/csky/csky/utils.py\", line 269, in concatenate\n",
      "    raise ValueError('keys do not match:\\n{}\\nvs\\n{}'.format(k1, k2))\n",
      "  File \"/storage/home/hhive1/cchen641/.conda/envs/icecube_py3/lib/python3.7/multiprocessing/process.py\", line 297, in _bootstrap\n",
      "    self.run()\n",
      "ValueError: keys do not match:\n",
      "['azimuth', 'dec', 'energy', 'idx', 'inj', 'log10energy', 'mjd', 'ra', 'sigma', 'sindec']\n",
      "vs\n",
      "['azimuth', 'dec', 'idx', 'inj', 'log10energy', 'mjd', 'ra', 'sigma', 'sindec']\n",
      "  File \"/storage/home/hhive1/cchen641/.conda/envs/icecube_py3/lib/python3.7/multiprocessing/process.py\", line 99, in run\n",
      "    self._target(*self._args, **self._kwargs)\n",
      "  File \"/storage/hive/project/phy-taboada/cchen641/icecube/software/csky/csky/trial.py\", line 310, in _get_some_fits\n",
      "    fit = self.get_one_fit(n_sig=n_sig, poisson=poisson, seed=seeds[i], **kw)\n",
      "  File \"/storage/hive/project/phy-taboada/cchen641/icecube/software/csky/csky/trial.py\", line 289, in get_one_fit\n",
      "    return self.get_one_fit_from_trial(evss_ns_excluded_tuple, flat=flat, **fitter_args)\n",
      "  File \"/storage/hive/project/phy-taboada/cchen641/icecube/software/csky/csky/trial.py\", line 1218, in get_one_fit_from_trial\n",
      "    scan = self.get_one_scan_from_trial(trial, logging=logging, mp_cpus=mp_cpus, **fitter_args)\n",
      "  File \"/storage/hive/project/phy-taboada/cchen641/icecube/software/csky/csky/trial.py\", line 1205, in get_one_scan_from_trial\n",
      "    trial, logging=logging, mp_cpus=mp_cpus, **fitter_args)\n",
      "  File \"/storage/hive/project/phy-taboada/cchen641/icecube/software/csky/csky/trial.py\", line 1029, in get_one_scan_from_trial\n",
      "    ev = utils.Arrays.concatenate(flat_evss)\n",
      "  File \"/storage/hive/project/phy-taboada/cchen641/icecube/software/csky/csky/utils.py\", line 269, in concatenate\n",
      "    raise ValueError('keys do not match:\\n{}\\nvs\\n{}'.format(k1, k2))\n",
      "ValueError: keys do not match:\n",
      "['azimuth', 'dec', 'energy', 'idx', 'inj', 'log10energy', 'mjd', 'ra', 'sigma', 'sindec']\n",
      "vs\n",
      "['azimuth', 'dec', 'idx', 'inj', 'log10energy', 'mjd', 'ra', 'sigma', 'sindec']\n",
      "  File \"/storage/home/hhive1/cchen641/.conda/envs/icecube_py3/lib/python3.7/multiprocessing/process.py\", line 297, in _bootstrap\n",
      "    self.run()\n",
      "  File \"/storage/home/hhive1/cchen641/.conda/envs/icecube_py3/lib/python3.7/multiprocessing/process.py\", line 99, in run\n",
      "    self._target(*self._args, **self._kwargs)\n",
      "  File \"/storage/hive/project/phy-taboada/cchen641/icecube/software/csky/csky/trial.py\", line 310, in _get_some_fits\n",
      "    fit = self.get_one_fit(n_sig=n_sig, poisson=poisson, seed=seeds[i], **kw)\n",
      "  File \"/storage/hive/project/phy-taboada/cchen641/icecube/software/csky/csky/trial.py\", line 289, in get_one_fit\n",
      "    return self.get_one_fit_from_trial(evss_ns_excluded_tuple, flat=flat, **fitter_args)\n",
      "  File \"/storage/hive/project/phy-taboada/cchen641/icecube/software/csky/csky/trial.py\", line 1218, in get_one_fit_from_trial\n",
      "    scan = self.get_one_scan_from_trial(trial, logging=logging, mp_cpus=mp_cpus, **fitter_args)\n",
      "  File \"/storage/hive/project/phy-taboada/cchen641/icecube/software/csky/csky/trial.py\", line 1205, in get_one_scan_from_trial\n",
      "    trial, logging=logging, mp_cpus=mp_cpus, **fitter_args)\n",
      "  File \"/storage/hive/project/phy-taboada/cchen641/icecube/software/csky/csky/trial.py\", line 1029, in get_one_scan_from_trial\n",
      "    ev = utils.Arrays.concatenate(flat_evss)\n",
      "  File \"/storage/hive/project/phy-taboada/cchen641/icecube/software/csky/csky/utils.py\", line 269, in concatenate\n",
      "    raise ValueError('keys do not match:\\n{}\\nvs\\n{}'.format(k1, k2))\n",
      "ValueError: keys do not match:\n",
      "['azimuth', 'dec', 'energy', 'idx', 'inj', 'log10energy', 'mjd', 'ra', 'sigma', 'sindec']\n",
      "vs\n",
      "['azimuth', 'dec', 'idx', 'inj', 'log10energy', 'mjd', 'ra', 'sigma', 'sindec']\n"
     ]
    },
    {
     "name": "stdout",
     "output_type": "stream",
     "text": [
      "\n",
      "KeyboardInterrupt: terminating early.\n",
      "\n",
      "0:05:13.768530 elapsed.\n"
     ]
    },
    {
     "ename": "KeyboardInterrupt",
     "evalue": "",
     "output_type": "error",
     "traceback": [
      "\u001b[0;31m---------------------------------------------------------------------------\u001b[0m",
      "\u001b[0;31mKeyboardInterrupt\u001b[0m                         Traceback (most recent call last)",
      "\u001b[0;32m<ipython-input-11-8667e17060cd>\u001b[0m in \u001b[0;36m<module>\u001b[0;34m\u001b[0m\n\u001b[1;32m      4\u001b[0m                           \u001b[0mpoisson\u001b[0m\u001b[0;34m=\u001b[0m\u001b[0margs\u001b[0m\u001b[0;34m.\u001b[0m\u001b[0muse_poisson\u001b[0m\u001b[0;34m,\u001b[0m\u001b[0;34m\u001b[0m\u001b[0;34m\u001b[0m\u001b[0m\n\u001b[1;32m      5\u001b[0m                           \u001b[0mseed\u001b[0m\u001b[0;34m=\u001b[0m\u001b[0;36m0\u001b[0m\u001b[0;34m,\u001b[0m\u001b[0;34m\u001b[0m\u001b[0;34m\u001b[0m\u001b[0m\n\u001b[0;32m----> 6\u001b[0;31m                           logging=False)\n\u001b[0m",
      "\u001b[0;32m/storage/hive/project/phy-taboada/cchen641/icecube/software/csky/csky/trial.py\u001b[0m in \u001b[0;36mget_many_fits\u001b[0;34m(self, n_trials, n_sig, poisson, seed, mp_cpus, logging, **fitter_args)\u001b[0m\n\u001b[1;32m    388\u001b[0m                 \u001b[0mprint\u001b[0m\u001b[0;34m(\u001b[0m\u001b[0;34m'\\nKeyboardInterrupt: terminating early.'\u001b[0m\u001b[0;34m)\u001b[0m\u001b[0;34m\u001b[0m\u001b[0;34m\u001b[0m\u001b[0m\n\u001b[1;32m    389\u001b[0m             \u001b[0;31m# collect results and join jobs\u001b[0m\u001b[0;34m\u001b[0m\u001b[0;34m\u001b[0m\u001b[0;34m\u001b[0m\u001b[0m\n\u001b[0;32m--> 390\u001b[0;31m             \u001b[0mfitss\u001b[0m \u001b[0;34m=\u001b[0m \u001b[0;34m[\u001b[0m\u001b[0mqueue\u001b[0m\u001b[0;34m.\u001b[0m\u001b[0mget\u001b[0m\u001b[0;34m(\u001b[0m\u001b[0;34m)\u001b[0m \u001b[0;32mfor\u001b[0m \u001b[0mproc\u001b[0m \u001b[0;32min\u001b[0m \u001b[0mprocs\u001b[0m\u001b[0;34m]\u001b[0m\u001b[0;34m\u001b[0m\u001b[0;34m\u001b[0m\u001b[0m\n\u001b[0m\u001b[1;32m    391\u001b[0m             \u001b[0;34m[\u001b[0m\u001b[0mproc\u001b[0m\u001b[0;34m.\u001b[0m\u001b[0mjoin\u001b[0m\u001b[0;34m(\u001b[0m\u001b[0;34m)\u001b[0m \u001b[0;32mfor\u001b[0m \u001b[0mproc\u001b[0m \u001b[0;32min\u001b[0m \u001b[0mprocs\u001b[0m\u001b[0;34m]\u001b[0m\u001b[0;34m\u001b[0m\u001b[0;34m\u001b[0m\u001b[0m\n\u001b[1;32m    392\u001b[0m             \u001b[0mfitss\u001b[0m \u001b[0;34m=\u001b[0m \u001b[0;34m[\u001b[0m\u001b[0mself\u001b[0m\u001b[0;34m.\u001b[0m\u001b[0m_fits_np_to_Arrays\u001b[0m\u001b[0;34m(\u001b[0m\u001b[0mfits\u001b[0m\u001b[0;34m[\u001b[0m\u001b[0;36m1\u001b[0m\u001b[0;34m]\u001b[0m\u001b[0;34m)\u001b[0m \u001b[0;32mfor\u001b[0m \u001b[0mfits\u001b[0m \u001b[0;32min\u001b[0m \u001b[0msorted\u001b[0m\u001b[0;34m(\u001b[0m\u001b[0mfitss\u001b[0m\u001b[0;34m)\u001b[0m\u001b[0;34m]\u001b[0m\u001b[0;34m\u001b[0m\u001b[0;34m\u001b[0m\u001b[0m\n",
      "\u001b[0;32m/storage/hive/project/phy-taboada/cchen641/icecube/software/csky/csky/trial.py\u001b[0m in \u001b[0;36m<listcomp>\u001b[0;34m(.0)\u001b[0m\n\u001b[1;32m    388\u001b[0m                 \u001b[0mprint\u001b[0m\u001b[0;34m(\u001b[0m\u001b[0;34m'\\nKeyboardInterrupt: terminating early.'\u001b[0m\u001b[0;34m)\u001b[0m\u001b[0;34m\u001b[0m\u001b[0;34m\u001b[0m\u001b[0m\n\u001b[1;32m    389\u001b[0m             \u001b[0;31m# collect results and join jobs\u001b[0m\u001b[0;34m\u001b[0m\u001b[0;34m\u001b[0m\u001b[0;34m\u001b[0m\u001b[0m\n\u001b[0;32m--> 390\u001b[0;31m             \u001b[0mfitss\u001b[0m \u001b[0;34m=\u001b[0m \u001b[0;34m[\u001b[0m\u001b[0mqueue\u001b[0m\u001b[0;34m.\u001b[0m\u001b[0mget\u001b[0m\u001b[0;34m(\u001b[0m\u001b[0;34m)\u001b[0m \u001b[0;32mfor\u001b[0m \u001b[0mproc\u001b[0m \u001b[0;32min\u001b[0m \u001b[0mprocs\u001b[0m\u001b[0;34m]\u001b[0m\u001b[0;34m\u001b[0m\u001b[0;34m\u001b[0m\u001b[0m\n\u001b[0m\u001b[1;32m    391\u001b[0m             \u001b[0;34m[\u001b[0m\u001b[0mproc\u001b[0m\u001b[0;34m.\u001b[0m\u001b[0mjoin\u001b[0m\u001b[0;34m(\u001b[0m\u001b[0;34m)\u001b[0m \u001b[0;32mfor\u001b[0m \u001b[0mproc\u001b[0m \u001b[0;32min\u001b[0m \u001b[0mprocs\u001b[0m\u001b[0;34m]\u001b[0m\u001b[0;34m\u001b[0m\u001b[0;34m\u001b[0m\u001b[0m\n\u001b[1;32m    392\u001b[0m             \u001b[0mfitss\u001b[0m \u001b[0;34m=\u001b[0m \u001b[0;34m[\u001b[0m\u001b[0mself\u001b[0m\u001b[0;34m.\u001b[0m\u001b[0m_fits_np_to_Arrays\u001b[0m\u001b[0;34m(\u001b[0m\u001b[0mfits\u001b[0m\u001b[0;34m[\u001b[0m\u001b[0;36m1\u001b[0m\u001b[0;34m]\u001b[0m\u001b[0;34m)\u001b[0m \u001b[0;32mfor\u001b[0m \u001b[0mfits\u001b[0m \u001b[0;32min\u001b[0m \u001b[0msorted\u001b[0m\u001b[0;34m(\u001b[0m\u001b[0mfitss\u001b[0m\u001b[0;34m)\u001b[0m\u001b[0;34m]\u001b[0m\u001b[0;34m\u001b[0m\u001b[0;34m\u001b[0m\u001b[0m\n",
      "\u001b[0;32m~/.conda/envs/icecube_py3/lib/python3.7/multiprocessing/queues.py\u001b[0m in \u001b[0;36mget\u001b[0;34m(self, block, timeout)\u001b[0m\n\u001b[1;32m     92\u001b[0m         \u001b[0;32mif\u001b[0m \u001b[0mblock\u001b[0m \u001b[0;32mand\u001b[0m \u001b[0mtimeout\u001b[0m \u001b[0;32mis\u001b[0m \u001b[0;32mNone\u001b[0m\u001b[0;34m:\u001b[0m\u001b[0;34m\u001b[0m\u001b[0;34m\u001b[0m\u001b[0m\n\u001b[1;32m     93\u001b[0m             \u001b[0;32mwith\u001b[0m \u001b[0mself\u001b[0m\u001b[0;34m.\u001b[0m\u001b[0m_rlock\u001b[0m\u001b[0;34m:\u001b[0m\u001b[0;34m\u001b[0m\u001b[0;34m\u001b[0m\u001b[0m\n\u001b[0;32m---> 94\u001b[0;31m                 \u001b[0mres\u001b[0m \u001b[0;34m=\u001b[0m \u001b[0mself\u001b[0m\u001b[0;34m.\u001b[0m\u001b[0m_recv_bytes\u001b[0m\u001b[0;34m(\u001b[0m\u001b[0;34m)\u001b[0m\u001b[0;34m\u001b[0m\u001b[0;34m\u001b[0m\u001b[0m\n\u001b[0m\u001b[1;32m     95\u001b[0m             \u001b[0mself\u001b[0m\u001b[0;34m.\u001b[0m\u001b[0m_sem\u001b[0m\u001b[0;34m.\u001b[0m\u001b[0mrelease\u001b[0m\u001b[0;34m(\u001b[0m\u001b[0;34m)\u001b[0m\u001b[0;34m\u001b[0m\u001b[0;34m\u001b[0m\u001b[0m\n\u001b[1;32m     96\u001b[0m         \u001b[0;32melse\u001b[0m\u001b[0;34m:\u001b[0m\u001b[0;34m\u001b[0m\u001b[0;34m\u001b[0m\u001b[0m\n",
      "\u001b[0;32m~/.conda/envs/icecube_py3/lib/python3.7/multiprocessing/connection.py\u001b[0m in \u001b[0;36mrecv_bytes\u001b[0;34m(self, maxlength)\u001b[0m\n\u001b[1;32m    214\u001b[0m         \u001b[0;32mif\u001b[0m \u001b[0mmaxlength\u001b[0m \u001b[0;32mis\u001b[0m \u001b[0;32mnot\u001b[0m \u001b[0;32mNone\u001b[0m \u001b[0;32mand\u001b[0m \u001b[0mmaxlength\u001b[0m \u001b[0;34m<\u001b[0m \u001b[0;36m0\u001b[0m\u001b[0;34m:\u001b[0m\u001b[0;34m\u001b[0m\u001b[0;34m\u001b[0m\u001b[0m\n\u001b[1;32m    215\u001b[0m             \u001b[0;32mraise\u001b[0m \u001b[0mValueError\u001b[0m\u001b[0;34m(\u001b[0m\u001b[0;34m\"negative maxlength\"\u001b[0m\u001b[0;34m)\u001b[0m\u001b[0;34m\u001b[0m\u001b[0;34m\u001b[0m\u001b[0m\n\u001b[0;32m--> 216\u001b[0;31m         \u001b[0mbuf\u001b[0m \u001b[0;34m=\u001b[0m \u001b[0mself\u001b[0m\u001b[0;34m.\u001b[0m\u001b[0m_recv_bytes\u001b[0m\u001b[0;34m(\u001b[0m\u001b[0mmaxlength\u001b[0m\u001b[0;34m)\u001b[0m\u001b[0;34m\u001b[0m\u001b[0;34m\u001b[0m\u001b[0m\n\u001b[0m\u001b[1;32m    217\u001b[0m         \u001b[0;32mif\u001b[0m \u001b[0mbuf\u001b[0m \u001b[0;32mis\u001b[0m \u001b[0;32mNone\u001b[0m\u001b[0;34m:\u001b[0m\u001b[0;34m\u001b[0m\u001b[0;34m\u001b[0m\u001b[0m\n\u001b[1;32m    218\u001b[0m             \u001b[0mself\u001b[0m\u001b[0;34m.\u001b[0m\u001b[0m_bad_message_length\u001b[0m\u001b[0;34m(\u001b[0m\u001b[0;34m)\u001b[0m\u001b[0;34m\u001b[0m\u001b[0;34m\u001b[0m\u001b[0m\n",
      "\u001b[0;32m~/.conda/envs/icecube_py3/lib/python3.7/multiprocessing/connection.py\u001b[0m in \u001b[0;36m_recv_bytes\u001b[0;34m(self, maxsize)\u001b[0m\n\u001b[1;32m    405\u001b[0m \u001b[0;34m\u001b[0m\u001b[0m\n\u001b[1;32m    406\u001b[0m     \u001b[0;32mdef\u001b[0m \u001b[0m_recv_bytes\u001b[0m\u001b[0;34m(\u001b[0m\u001b[0mself\u001b[0m\u001b[0;34m,\u001b[0m \u001b[0mmaxsize\u001b[0m\u001b[0;34m=\u001b[0m\u001b[0;32mNone\u001b[0m\u001b[0;34m)\u001b[0m\u001b[0;34m:\u001b[0m\u001b[0;34m\u001b[0m\u001b[0;34m\u001b[0m\u001b[0m\n\u001b[0;32m--> 407\u001b[0;31m         \u001b[0mbuf\u001b[0m \u001b[0;34m=\u001b[0m \u001b[0mself\u001b[0m\u001b[0;34m.\u001b[0m\u001b[0m_recv\u001b[0m\u001b[0;34m(\u001b[0m\u001b[0;36m4\u001b[0m\u001b[0;34m)\u001b[0m\u001b[0;34m\u001b[0m\u001b[0;34m\u001b[0m\u001b[0m\n\u001b[0m\u001b[1;32m    408\u001b[0m         \u001b[0msize\u001b[0m\u001b[0;34m,\u001b[0m \u001b[0;34m=\u001b[0m \u001b[0mstruct\u001b[0m\u001b[0;34m.\u001b[0m\u001b[0munpack\u001b[0m\u001b[0;34m(\u001b[0m\u001b[0;34m\"!i\"\u001b[0m\u001b[0;34m,\u001b[0m \u001b[0mbuf\u001b[0m\u001b[0;34m.\u001b[0m\u001b[0mgetvalue\u001b[0m\u001b[0;34m(\u001b[0m\u001b[0;34m)\u001b[0m\u001b[0;34m)\u001b[0m\u001b[0;34m\u001b[0m\u001b[0;34m\u001b[0m\u001b[0m\n\u001b[1;32m    409\u001b[0m         \u001b[0;32mif\u001b[0m \u001b[0mmaxsize\u001b[0m \u001b[0;32mis\u001b[0m \u001b[0;32mnot\u001b[0m \u001b[0;32mNone\u001b[0m \u001b[0;32mand\u001b[0m \u001b[0msize\u001b[0m \u001b[0;34m>\u001b[0m \u001b[0mmaxsize\u001b[0m\u001b[0;34m:\u001b[0m\u001b[0;34m\u001b[0m\u001b[0;34m\u001b[0m\u001b[0m\n",
      "\u001b[0;32m~/.conda/envs/icecube_py3/lib/python3.7/multiprocessing/connection.py\u001b[0m in \u001b[0;36m_recv\u001b[0;34m(self, size, read)\u001b[0m\n\u001b[1;32m    377\u001b[0m         \u001b[0mremaining\u001b[0m \u001b[0;34m=\u001b[0m \u001b[0msize\u001b[0m\u001b[0;34m\u001b[0m\u001b[0;34m\u001b[0m\u001b[0m\n\u001b[1;32m    378\u001b[0m         \u001b[0;32mwhile\u001b[0m \u001b[0mremaining\u001b[0m \u001b[0;34m>\u001b[0m \u001b[0;36m0\u001b[0m\u001b[0;34m:\u001b[0m\u001b[0;34m\u001b[0m\u001b[0;34m\u001b[0m\u001b[0m\n\u001b[0;32m--> 379\u001b[0;31m             \u001b[0mchunk\u001b[0m \u001b[0;34m=\u001b[0m \u001b[0mread\u001b[0m\u001b[0;34m(\u001b[0m\u001b[0mhandle\u001b[0m\u001b[0;34m,\u001b[0m \u001b[0mremaining\u001b[0m\u001b[0;34m)\u001b[0m\u001b[0;34m\u001b[0m\u001b[0;34m\u001b[0m\u001b[0m\n\u001b[0m\u001b[1;32m    380\u001b[0m             \u001b[0mn\u001b[0m \u001b[0;34m=\u001b[0m \u001b[0mlen\u001b[0m\u001b[0;34m(\u001b[0m\u001b[0mchunk\u001b[0m\u001b[0;34m)\u001b[0m\u001b[0;34m\u001b[0m\u001b[0;34m\u001b[0m\u001b[0m\n\u001b[1;32m    381\u001b[0m             \u001b[0;32mif\u001b[0m \u001b[0mn\u001b[0m \u001b[0;34m==\u001b[0m \u001b[0;36m0\u001b[0m\u001b[0;34m:\u001b[0m\u001b[0;34m\u001b[0m\u001b[0;34m\u001b[0m\u001b[0m\n",
      "\u001b[0;31mKeyboardInterrupt\u001b[0m: "
     ]
    }
   ],
   "source": [
    "with time('Doing injections'):\n",
    "    trials = sptr.get_many_fits(args.n_trials, \n",
    "                          n_sig=args.n_inj, \n",
    "                          poisson=args.use_poisson, \n",
    "                          seed=0, \n",
    "                          logging=False)"
   ]
  },
  {
   "cell_type": "code",
   "execution_count": 47,
   "metadata": {},
   "outputs": [
    {
     "name": "stdout",
     "output_type": "stream",
     "text": [
      "\n",
      "0:00:00.548518 elapsed.\n"
     ]
    }
   ],
   "source": [
    "with time('Doing injections'):\n",
    "    trials = tr.get_many_fits(args.n_trials, \n",
    "                          n_sig=args.n_inj, \n",
    "                          poisson=args.use_poisson, \n",
    "                          seed=0, \n",
    "                          logging=False)"
   ]
  },
  {
   "cell_type": "code",
   "execution_count": 48,
   "metadata": {},
   "outputs": [
    {
     "data": {
      "text/plain": [
       "array([(6.9576913 , 30.02678368), (5.52350112, 34.53597678),\n",
       "       (8.8162969 , 53.38345132), (8.87380295, 61.72560512),\n",
       "       (6.28234672, 45.14862572)], dtype=[('ns', '<f8'), ('ts', '<f8')])"
      ]
     },
     "execution_count": 48,
     "metadata": {},
     "output_type": "execute_result"
    }
   ],
   "source": [
    "trials.as_array"
   ]
  },
  {
   "cell_type": "code",
   "execution_count": 16,
   "metadata": {},
   "outputs": [
    {
     "data": {
      "text/plain": [
       "20"
      ]
     },
     "execution_count": 16,
     "metadata": {},
     "output_type": "execute_result"
    }
   ],
   "source": [
    "len(sens['tss'][0])"
   ]
  },
  {
   "cell_type": "code",
   "execution_count": 17,
   "metadata": {},
   "outputs": [
    {
     "data": {
      "text/plain": [
       "7.066666666666666"
      ]
     },
     "execution_count": 17,
     "metadata": {},
     "output_type": "execute_result"
    }
   ],
   "source": [
    "(42*60+24) / 360\n"
   ]
  },
  {
   "cell_type": "code",
   "execution_count": null,
   "metadata": {},
   "outputs": [],
   "source": []
  }
 ],
 "metadata": {
  "kernelspec": {
   "display_name": "Python [conda env:icecube_py3]",
   "language": "python",
   "name": "conda-env-icecube_py3-py"
  },
  "language_info": {
   "codemirror_mode": {
    "name": "ipython",
    "version": 3
   },
   "file_extension": ".py",
   "mimetype": "text/x-python",
   "name": "python",
   "nbconvert_exporter": "python",
   "pygments_lexer": "ipython3",
   "version": "3.7.3"
  }
 },
 "nbformat": 4,
 "nbformat_minor": 4
}
