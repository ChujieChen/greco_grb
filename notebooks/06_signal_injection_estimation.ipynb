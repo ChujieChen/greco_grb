{
 "cells": [
  {
   "cell_type": "code",
   "execution_count": 1,
   "metadata": {},
   "outputs": [
    {
     "data": {
      "text/plain": [
       "'\\nUse background TS obtained from scripts/02. Inject n_inj with `batch` injection\\nto find what a good batchNtrail is and what a good n_inj range is.\\n\\nFor the signal injection, spatial prior needs to he included.\\n'"
      ]
     },
     "execution_count": 1,
     "metadata": {},
     "output_type": "execute_result"
    }
   ],
   "source": [
    "\"\"\"\n",
    "Use background TS obtained from scripts/02. Inject n_inj with `batch` injection\n",
    "to find what a good batchNtrail is and what a good n_inj range is.\n",
    "\n",
    "For the signal injection, spatial prior needs to he included.\n",
    "\"\"\""
   ]
  },
  {
   "cell_type": "code",
   "execution_count": 19,
   "metadata": {},
   "outputs": [
    {
     "name": "stdout",
     "output_type": "stream",
     "text": [
      "Python version:  3.7.3 (default, Mar 27 2019, 22:11:17) \n",
      "[GCC 7.3.0]\n",
      "\n",
      "#### Working at GT ####\n",
      "\n",
      "LOCATION: \t GT\n",
      "USER: \t cchen641\n",
      "ICDATA_DIR: \t /storage/home/hhive1/cchen641/data/icecube/data/analyses/online_GRECO/candidate-002-p10\n",
      "DATA_DIR: \t /storage/home/hhive1/cchen641/data/icecube/data/greco_grb/data\n",
      "ANA_DIR: \t /storage/home/hhive1/cchen641/data/icecube/data/greco_grb/data/csky_output\n",
      "\n"
     ]
    }
   ],
   "source": [
    "import os\n",
    "import sys\n",
    "print(\"Python version: \", end=' ')\n",
    "print(sys.version)\n",
    "\n",
    "import numpy as np\n",
    "import healpy as hp\n",
    "import histlite as hl\n",
    "import csky as cy\n",
    "import pandas as pd\n",
    "from scipy import sparse\n",
    "\n",
    "import matplotlib.pyplot as plt\n",
    "from matplotlib import cm\n",
    "import matplotlib.colors as colors\n",
    "############# comment out below two lines on clusters ##########\n",
    "%matplotlib inline\n",
    "# %matplotlib notebook\n",
    "################################################################\n",
    "from glob import glob\n",
    "timer = cy.timing.Timer()\n",
    "time = timer.time\n",
    "\n",
    "###### Local Import ######\n",
    "sys.path.append('../../')\n",
    "from greco_grb.scripts import SETTING\n",
    "paths = SETTING.PATH()\n",
    "print(paths)\n",
    "LOCATION = paths.LOCATION\n",
    "USER = paths.USER\n",
    "ICDATA_DIR = paths.ICDATA_DIR\n",
    "DATA_DIR = paths.DATA_DIR\n",
    "ANA_DIR = paths.ANA_DIR\n",
    "\n",
    "from greco_grb.scripts.utils import *"
   ]
  },
  {
   "cell_type": "code",
   "execution_count": 20,
   "metadata": {},
   "outputs": [
    {
     "name": "stdout",
     "output_type": "stream",
     "text": [
      "Background TS folder path: /storage/home/hhive1/cchen641/data/icecube/data/greco_grb/data/csky_output/allsky_scan/with_prior_background/twXXX/XXX.npz\n"
     ]
    }
   ],
   "source": [
    "print(\"Background TS folder path: {}/allsky_scan/with_prior_background/twXXX/XXX.npz\".format(ANA_DIR))\n"
   ]
  },
  {
   "cell_type": "code",
   "execution_count": 40,
   "metadata": {},
   "outputs": [],
   "source": [
    "import argparse\n",
    "\n",
    "######################### CONFIGURE ARGUEMENTS #############################\n",
    "# p = argparse.ArgumentParser(description=\"Background Trials\",\n",
    "#                             formatter_class=argparse.RawTextHelpFormatter)\n",
    "# p.add_argument(\"--grb_name\", default=\"GRB180423A\", type=str, help=\"Name of one GRB\")\n",
    "# p.add_argument(\"--batchNtrials\", default=10, type=int, help=\"Number of trials in this batch\")\n",
    "# p.add_argument(\"--batchIndex\", default=0, type=int, help=\"Index of current batch\")\n",
    "# p.add_argument(\"--tw_in_second\", default=10, type=int, help=\"Length of the time window in seconds\")\n",
    "# p.add_argument(\"--ncpu\", default=1, type=int, help=\"Number of CPU to give Csky\")\n",
    "# p.add_argument(\"--mode\", default=\"production\", type=str, help=\"Mode: production or testing\")\n",
    "# p.add_argument(\"--outfilename\", default=\"\", type=str, help=\"Output filename should have type .npz. Highly recommended on OSG\")\n",
    "# args = p.parse_args()\n",
    "###########################################################################\n",
    "\n",
    "\n",
    "### testing on jupyter ###\n",
    "\n",
    "class args:\n",
    "    grb_name = \"GRB180423A\"    # real healpix example\n",
    "    # ~grb_name = \"GRB190415A\"~    # ~fake healpix example~ this one is IPN-GBM\n",
    "    # grb_name = \"GRB170529A\"  # fake healpix example\n",
    "    batchNtrials = 20\n",
    "    tw_in_second = 500\n",
    "    ncpu = 4\n",
    "    n_trials=5\n",
    "    n_inj=5.4 \n",
    "    use_poisson=True\n",
    "\n",
    "##########################"
   ]
  },
  {
   "cell_type": "code",
   "execution_count": 22,
   "metadata": {},
   "outputs": [
    {
     "name": "stdout",
     "output_type": "stream",
     "text": [
      "\n",
      "===== Loading no-healpix df =====\n",
      "\n",
      "\n",
      "===== Loading healpix of GRB180423A=====\n",
      "\n",
      "\n",
      "...Done\n",
      "\n"
     ]
    }
   ],
   "source": [
    "print(\"\\n===== Loading no-healpix df =====\\n\")\n",
    "df = pd.read_pickle(DATA_DIR+\"/grbwebgbm/grbweb_gbm_noHealpix_2268.pkl\")\n",
    "# realHealpix: df.gbm & df.hasHealpix\n",
    "# fakeHealpix: ~(df.gbm & df.hasHealpix)\n",
    "df.head()\n",
    "\n",
    "print(\"\\n===== Loading healpix of {}=====\\n\".format(args.grb_name))   \n",
    "try:\n",
    "    healpix = np.load(DATA_DIR+\"/grbwebgbm/healpix/{}_healpix_nside64.npy\".format(args.grb_name))\n",
    "    # healpix can contain negative values: faults due to Fermi-GBM\n",
    "    healpix = np.maximum(healpix,0)\n",
    "    ########## healpix reduce ##########\n",
    "    healpix[healpix < isf_healpix(healpix, q=0.99)] = 0\n",
    "except:\n",
    "    raise Exception(\"Cannot load the healpix for grb: {}\\n\".format(args.grb_name))\n",
    "    \n",
    "grb_row = df.loc[df['grb_name'] == args.grb_name]\n",
    "tw = args.tw_in_second/86400.\n",
    "tw_start = grb_row.t_center - 0.5*tw\n",
    "ra = grb_row.ra\n",
    "dec = grb_row.dec\n",
    "print(\"\\n...Done\\n\")"
   ]
  },
  {
   "cell_type": "code",
   "execution_count": 23,
   "metadata": {},
   "outputs": [
    {
     "name": "stdout",
     "output_type": "stream",
     "text": [
      "\n",
      "===== Setting up csky =====\n",
      "\n",
      "Setting up Analysis for:\n",
      "greco_v2.10\n",
      "Setting up greco_v2.10...\n",
      "Energy PDF Ratio Model...\n",
      "  * gamma = 4.0000 ...\n",
      "Signal Acceptance Model...\n",
      "  * gamma = 4.0000 ...\n",
      "Done.\n"
     ]
    }
   ],
   "source": [
    "print(\"\\n===== Setting up csky =====\\n\")\n",
    "data_dir = ICDATA_DIR\n",
    "data_filenames = sorted(glob(data_dir + '/IC86_20*.data.npy'))\n",
    "sig_filenames = sorted(glob(data_dir + '/IC86_2012.nu*_merged.npy'))\n",
    "grl_filenames = sorted(glob(data_dir + '/GRL/IC86_20*.data.npy'))\n",
    "\n",
    "################ energy lower bound #############\n",
    "min_log_e = np.log10(10)\n",
    "#################################################\n",
    "bins_sindec = np.linspace(-1, 1, 25+1)  \n",
    "bins_logenergy = np.linspace(min_log_e, 4, 25+1)\n",
    "\n",
    "data = [np.load(data_filename) for data_filename in data_filenames]\n",
    "data = np.hstack(data)\n",
    "sig = [np.load(sig_filename) for sig_filename in sig_filenames]\n",
    "sig = np.hstack(sig)\n",
    "grl = [np.load(grl_filename) for grl_filename in grl_filenames]\n",
    "grl = np.hstack(grl)\n",
    "if min_log_e is not None:\n",
    "    data_mask = data['logE'] > min_log_e\n",
    "    data = data[data_mask]\n",
    "    sig_mask = sig['logE'] > min_log_e\n",
    "    sig = sig[sig_mask]\n",
    "    \n",
    "dataset_spec = cy.selections.CustomDataSpecs.CustomDataSpec(data, sig, np.sum(grl['livetime']),\n",
    "                                                     sindec_bins=bins_sindec,\n",
    "                                                     logenergy_bins=bins_logenergy,\n",
    "                                                     grl=grl, key='greco_v2.10', cascades=True)\n",
    "\n",
    "ANA_DIR = cy.utils.ensure_dir(ANA_DIR)\n",
    "# on OSG\n",
    "# ana_dir = \"./\"\n",
    "ana = cy.get_analysis(cy.selections.repo\n",
    "                      , dataset_spec\n",
    "                      , dir=ANA_DIR\n",
    "                      , load_sig=True)  # false to save memory if needed \n",
    "\n",
    "\n"
   ]
  },
  {
   "cell_type": "code",
   "execution_count": 24,
   "metadata": {},
   "outputs": [],
   "source": [
    "#### used for spatial_prior_trial_runner\n",
    "conf = {\n",
    "    'ana': ana,\n",
    "    #### llh basics: csky.conf\n",
    "    'space': 'ps', # ps/fitps/template/prior\n",
    "    'time': 'transient', # utf/lc/transient\n",
    "    'energy': 'customflux', # fit/customflux\n",
    "    'flux': cy.hyp.PowerLawFlux(2.5),\n",
    "    #### inj.py - prior has some duplications against space's prior\n",
    "    'sig': 'transient', # ps/tw/lc/transient/template/prior\n",
    "    'full_sky': True,\n",
    "    'extended': True,\n",
    "    'mp_cpus': args.ncpu,\n",
    "    'cut_n_sigma': 3\n",
    "    }\n",
    "\n",
    "cy.CONF.update(conf)\n",
    "\n",
    "#### used for basic trial_runner\n",
    "# conf = {\n",
    "#     'ana': ana,\n",
    "#     #### llh basics: csky.conf\n",
    "#     'space': 'prior', # ps/fitps/template/prior\n",
    "#     'time': 'transient', # utf/lc/transient\n",
    "#     'energy': 'customflux', # fit/customflux\n",
    "#     'flux': cy.hyp.PowerLawFlux(2.5),\n",
    "#     #### inj.py - prior has some duplications against space's prior\n",
    "#     'sig': 'transient', # ps/tw/lc/transient/template/prior\n",
    "#     'full_sky': True,\n",
    "#     'extended': True,\n",
    "#     'mp_cpus': args.ncpu,\n",
    "#     'cut_n_sigma': 3\n",
    "# }\n",
    "# cy.CONF.update(conf)\n"
   ]
  },
  {
   "cell_type": "code",
   "execution_count": 25,
   "metadata": {},
   "outputs": [
    {
     "data": {
      "text/plain": [
       "{'mp_cpus': 4,\n",
       " 'ana': Analysis(keys=[greco_v2.10]),\n",
       " 'space': 'ps',\n",
       " 'time': 'transient',\n",
       " 'energy': 'customflux',\n",
       " 'flux': PowerLawFlux(gamma=2.5),\n",
       " 'sig': 'transient',\n",
       " 'full_sky': True,\n",
       " 'extended': True,\n",
       " 'cut_n_sigma': 3}"
      ]
     },
     "execution_count": 25,
     "metadata": {},
     "output_type": "execute_result"
    }
   ],
   "source": [
    "cy.CONF"
   ]
  },
  {
   "cell_type": "code",
   "execution_count": 26,
   "metadata": {},
   "outputs": [
    {
     "data": {
      "text/plain": [
       "Chi2TSD(1000000 trials, eta=0.198, ndof=0.923, median=0.000 (from fit 0.000))"
      ]
     },
     "execution_count": 26,
     "metadata": {},
     "output_type": "execute_result"
    }
   ],
   "source": [
    "bg_files = glob(ANA_DIR+\"/allsky_scan/with_prior_background/tw{}/{}*.npz\".format(args.tw_in_second, args.grb_name))\n",
    "bg = cy.dists.Chi2TSD(np.ravel([sparse.load_npz(bg_file).toarray() for bg_file in bg_files]))\n",
    "bg"
   ]
  },
  {
   "cell_type": "code",
   "execution_count": 27,
   "metadata": {},
   "outputs": [
    {
     "name": "stdout",
     "output_type": "stream",
     "text": [
      "Chi2TSD from 1000000 trials:\n",
      "           eta = 0.198\n",
      "          ndof = 0.923\n",
      "           loc = 0.000\n",
      "         scale = 1.417\n",
      "Thresholds from trials:\n",
      "        median = 0.000\n",
      "       1 sigma = 0.07\n",
      "       2 sigma = 3.29\n",
      "       3 sigma = 10.03\n",
      "       4 sigma = 19.77\n",
      "       5 sigma = 32.41\n",
      "Thresholds from fit:\n",
      "        median = 0.000\n",
      "       1 sigma = 0.07\n",
      "       2 sigma = 3.29\n",
      "       3 sigma = 10.03\n",
      "       4 sigma = 19.77\n",
      "       5 sigma = 32.41\n"
     ]
    }
   ],
   "source": [
    "print(bg.description)"
   ]
  },
  {
   "cell_type": "code",
   "execution_count": 28,
   "metadata": {
    "scrolled": false
   },
   "outputs": [
    {
     "name": "stderr",
     "output_type": "stream",
     "text": [
      "/storage/home/hhive1/cchen641/.local/lib/python3.7/site-packages/numpy/core/_asarray.py:102: UserWarning: Warning: converting a masked element to nan.\n",
      "  return array(a, dtype, copy=False, order=order)\n"
     ]
    },
    {
     "data": {
      "image/png": "[encoded data removed]",
      "text/plain": [
       "<Figure size 432x288 with 1 Axes>"
      ]
     },
     "metadata": {
      "needs_background": "light"
     },
     "output_type": "display_data"
    }
   ],
   "source": [
    "fig, ax = plt.subplots()\n",
    "\n",
    "# csky uses histlite all over the place for PDF management\n",
    "# the background distribution fit integrates with histlite as well\n",
    "h = bg.get_hist(bins=50)\n",
    "hl.plot1d(ax, h, crosses=True,\n",
    "          label='{} bg trials'.format(bg.n_total))\n",
    "\n",
    "# # compare with the chi2 fit:\n",
    "# x = h.centers[0]\n",
    "# norm = h.integrate().values\n",
    "# ax.semilogy(x, norm * bg.pdf(x), lw=1, ls='--',\n",
    "#             label=r'$\\chi^2[{:.2f}\\mathrm{{dof}},\\ \\eta={:.3f}]$'.format(bg.ndof, bg.eta))\n",
    "\n",
    "# always label your plots, folks\n",
    "ax.set_xlabel(r'TS')\n",
    "ax.set_ylabel(r'number of trials')\n",
    "ax.set_yscale('symlog')\n",
    "ax.legend()\n",
    "plt.tight_layout()"
   ]
  },
  {
   "cell_type": "code",
   "execution_count": 46,
   "metadata": {},
   "outputs": [],
   "source": [
    "src = cy.sources(\n",
    "    ra=ra,\n",
    "    dec=dec,\n",
    "    deg=True,\n",
    "    mjd=tw_start, \n",
    "    sigma_t=np.zeros_like(tw), \n",
    "    t_100=tw,  # in days\n",
    "    prior=[hl.heal.HealHist(healpix)],\n",
    "    name=args.grb_name\n",
    ")\n",
    "\n",
    "# sptr seems broken\n",
    "sptr = cy.get_spatial_prior_trial_runner(conf=cy.CONF\n",
    "                                         ,src_tr=src\n",
    "                                         ,llh_priors=[healpix]\n",
    "                                         ,cut_n_sigma=5.) # src_tr is must for transient\n",
    "\n",
    "tr = cy.get_trial_runner(conf=cy.CONF, ana=ana, src=src)"
   ]
  },
  {
   "cell_type": "code",
   "execution_count": 30,
   "metadata": {},
   "outputs": [],
   "source": [
    "# sptr.to_E2dNdE(2, E0=1e3, unit=1e1)  # 1/GeV/cm2/s  @  10^3 GeV; does not work\n",
    "# tr.to_E2dNdE(2, E0=1e3, unit=1e1)  # 1/GeV/cm2/s  @  10^3 GeV"
   ]
  },
  {
   "cell_type": "code",
   "execution_count": 18,
   "metadata": {
    "scrolled": false
   },
   "outputs": [
    {
     "name": "stdout",
     "output_type": "stream",
     "text": [
      "Start time: 2021-10-28 14:29:20.628221\n",
      "Using 4 cores.\n",
      "* Starting initial scan for 90% of 10 trials with TS >= 0.000...\n",
      "  n_sig = 1.000 ... frac = 0.40000\n",
      "  n_sig = 2.000 ... frac = 0.70000\n",
      "  n_sig = 3.000 ... frac = 1.00000\n",
      "* Generating batches of 10 trials...\n",
      "n_trials | n_inj    0.00    1.20    2.40    3.60    4.80    6.00  |  n_sig(relative error)\n",
      "10       |         30.0%   50.0%   70.0%   90.0%  100.0%  100.0%  |      3.600 (+/- 16.3%) [spline]\n",
      "20       |         20.0%   50.0%   85.0%   90.0%  100.0%   95.0%  |      3.188 (+/- 22.2%) [chi2.cdf]\n",
      "30       |         23.3%   60.0%   83.3%   93.3%  100.0%   96.7%  |      3.008 (+/- 14.3%) [chi2.cdf]\n",
      "40       |         25.0%   62.5%   80.0%   87.5%  100.0%   95.0%  |      3.438 (+/- 11.1%) [chi2.cdf]\n",
      "50       |         24.0%   60.0%   82.0%   88.0%  100.0%   96.0%  |      3.299 (+/- 11.6%) [chi2.cdf]\n",
      "60       |         25.0%   61.7%   83.3%   86.7%  100.0%   96.7%  |      3.216 (+/-  8.8%) [chi2.cdf]\n",
      "End time: 2021-10-28 14:29:49.048990\n",
      "Elapsed time: 0:00:28.420769\n",
      "\n",
      "0:00:28.421523 elapsed.\n"
     ]
    }
   ],
   "source": [
    "with time('ps sensitivity / discovery potential'):\n",
    "    sens = tr.find_n_sig(\n",
    "#     sens = sptr.find_n_sig(  # this won't work\n",
    "        # ts, threshold\n",
    "        bg.median(), # for sens \n",
    "        # bg.isf_nsigma(3), # for disc\n",
    "        # beta, fraction of trials which should exceed the threshold\n",
    "        0.9, # for sens\n",
    "        # 0.9, # for disc\n",
    "        # n_inj step size for initial scan\n",
    "        n_sig_step=1,\n",
    "        # this many trials at a time\n",
    "        batch_size=10,\n",
    "        # tolerance, as estimated relative error\n",
    "        tol=.10,\n",
    "        first_batch_size=10\n",
    "    )"
   ]
  },
  {
   "cell_type": "code",
   "execution_count": 41,
   "metadata": {},
   "outputs": [
    {
     "name": "stderr",
     "output_type": "stream",
     "text": [
      "Process Process-189:\n",
      "Process Process-190:\n",
      "Traceback (most recent call last):\n",
      "  File \"/storage/home/hhive1/cchen641/.conda/envs/icecube_py3/lib/python3.7/multiprocessing/process.py\", line 297, in _bootstrap\n",
      "    self.run()\n",
      "  File \"/storage/home/hhive1/cchen641/.conda/envs/icecube_py3/lib/python3.7/multiprocessing/process.py\", line 99, in run\n",
      "    self._target(*self._args, **self._kwargs)\n",
      "Traceback (most recent call last):\n",
      "Process Process-191:\n",
      "  File \"/storage/hive/project/phy-taboada/cchen641/icecube/software/csky/csky/trial.py\", line 310, in _get_some_fits\n",
      "    fit = self.get_one_fit(n_sig=n_sig, poisson=poisson, seed=seeds[i], **kw)\n",
      "  File \"/storage/hive/project/phy-taboada/cchen641/icecube/software/csky/csky/trial.py\", line 289, in get_one_fit\n",
      "    return self.get_one_fit_from_trial(evss_ns_excluded_tuple, flat=flat, **fitter_args)\n",
      "Traceback (most recent call last):\n",
      "  File \"/storage/home/hhive1/cchen641/.conda/envs/icecube_py3/lib/python3.7/multiprocessing/process.py\", line 297, in _bootstrap\n",
      "    self.run()\n",
      "  File \"/storage/hive/project/phy-taboada/cchen641/icecube/software/csky/csky/trial.py\", line 1218, in get_one_fit_from_trial\n",
      "    scan = self.get_one_scan_from_trial(trial, logging=logging, mp_cpus=mp_cpus, **fitter_args)\n",
      "  File \"/storage/home/hhive1/cchen641/.conda/envs/icecube_py3/lib/python3.7/multiprocessing/process.py\", line 99, in run\n",
      "    self._target(*self._args, **self._kwargs)\n",
      "  File \"/storage/home/hhive1/cchen641/.conda/envs/icecube_py3/lib/python3.7/multiprocessing/process.py\", line 297, in _bootstrap\n",
      "    self.run()\n",
      "  File \"/storage/hive/project/phy-taboada/cchen641/icecube/software/csky/csky/trial.py\", line 1205, in get_one_scan_from_trial\n",
      "    trial, logging=logging, mp_cpus=mp_cpus, **fitter_args)\n",
      "  File \"/storage/home/hhive1/cchen641/.conda/envs/icecube_py3/lib/python3.7/multiprocessing/process.py\", line 99, in run\n",
      "    self._target(*self._args, **self._kwargs)\n",
      "  File \"/storage/hive/project/phy-taboada/cchen641/icecube/software/csky/csky/trial.py\", line 1029, in get_one_scan_from_trial\n",
      "    ev = utils.Arrays.concatenate(flat_evss)\n",
      "  File \"/storage/hive/project/phy-taboada/cchen641/icecube/software/csky/csky/trial.py\", line 310, in _get_some_fits\n",
      "    fit = self.get_one_fit(n_sig=n_sig, poisson=poisson, seed=seeds[i], **kw)\n",
      "  File \"/storage/hive/project/phy-taboada/cchen641/icecube/software/csky/csky/trial.py\", line 310, in _get_some_fits\n",
      "    fit = self.get_one_fit(n_sig=n_sig, poisson=poisson, seed=seeds[i], **kw)\n",
      "  File \"/storage/hive/project/phy-taboada/cchen641/icecube/software/csky/csky/trial.py\", line 289, in get_one_fit\n",
      "    return self.get_one_fit_from_trial(evss_ns_excluded_tuple, flat=flat, **fitter_args)\n",
      "  File \"/storage/hive/project/phy-taboada/cchen641/icecube/software/csky/csky/utils.py\", line 269, in concatenate\n",
      "    raise ValueError('keys do not match:\\n{}\\nvs\\n{}'.format(k1, k2))\n",
      "  File \"/storage/hive/project/phy-taboada/cchen641/icecube/software/csky/csky/trial.py\", line 289, in get_one_fit\n",
      "    return self.get_one_fit_from_trial(evss_ns_excluded_tuple, flat=flat, **fitter_args)\n",
      "  File \"/storage/hive/project/phy-taboada/cchen641/icecube/software/csky/csky/trial.py\", line 1218, in get_one_fit_from_trial\n",
      "    scan = self.get_one_scan_from_trial(trial, logging=logging, mp_cpus=mp_cpus, **fitter_args)\n",
      "ValueError: keys do not match:\n",
      "['azimuth', 'dec', 'energy', 'idx', 'inj', 'log10energy', 'mjd', 'ra', 'sigma', 'sindec']\n",
      "vs\n",
      "['azimuth', 'dec', 'idx', 'inj', 'log10energy', 'mjd', 'ra', 'sigma', 'sindec']\n",
      "  File \"/storage/hive/project/phy-taboada/cchen641/icecube/software/csky/csky/trial.py\", line 1218, in get_one_fit_from_trial\n",
      "    scan = self.get_one_scan_from_trial(trial, logging=logging, mp_cpus=mp_cpus, **fitter_args)\n",
      "  File \"/storage/hive/project/phy-taboada/cchen641/icecube/software/csky/csky/trial.py\", line 1205, in get_one_scan_from_trial\n",
      "    trial, logging=logging, mp_cpus=mp_cpus, **fitter_args)\n",
      "  File \"/storage/hive/project/phy-taboada/cchen641/icecube/software/csky/csky/trial.py\", line 1029, in get_one_scan_from_trial\n",
      "    ev = utils.Arrays.concatenate(flat_evss)\n",
      "  File \"/storage/hive/project/phy-taboada/cchen641/icecube/software/csky/csky/utils.py\", line 269, in concatenate\n",
      "    raise ValueError('keys do not match:\\n{}\\nvs\\n{}'.format(k1, k2))\n",
      "ValueError: keys do not match:\n",
      "['azimuth', 'dec', 'energy', 'idx', 'inj', 'log10energy', 'mjd', 'ra', 'sigma', 'sindec']\n",
      "vs\n",
      "['azimuth', 'dec', 'idx', 'inj', 'log10energy', 'mjd', 'ra', 'sigma', 'sindec']\n",
      "  File \"/storage/hive/project/phy-taboada/cchen641/icecube/software/csky/csky/trial.py\", line 1205, in get_one_scan_from_trial\n",
      "    trial, logging=logging, mp_cpus=mp_cpus, **fitter_args)\n",
      "Process Process-192:\n",
      "  File \"/storage/hive/project/phy-taboada/cchen641/icecube/software/csky/csky/trial.py\", line 1029, in get_one_scan_from_trial\n",
      "    ev = utils.Arrays.concatenate(flat_evss)\n",
      "  File \"/storage/hive/project/phy-taboada/cchen641/icecube/software/csky/csky/utils.py\", line 269, in concatenate\n",
      "    raise ValueError('keys do not match:\\n{}\\nvs\\n{}'.format(k1, k2))\n",
      "ValueError: keys do not match:\n",
      "['azimuth', 'dec', 'energy', 'idx', 'inj', 'log10energy', 'mjd', 'ra', 'sigma', 'sindec']\n",
      "vs\n",
      "['azimuth', 'dec', 'idx', 'inj', 'log10energy', 'mjd', 'ra', 'sigma', 'sindec']\n",
      "Traceback (most recent call last):\n",
      "  File \"/storage/home/hhive1/cchen641/.conda/envs/icecube_py3/lib/python3.7/multiprocessing/process.py\", line 297, in _bootstrap\n",
      "    self.run()\n",
      "  File \"/storage/home/hhive1/cchen641/.conda/envs/icecube_py3/lib/python3.7/multiprocessing/process.py\", line 99, in run\n",
      "    self._target(*self._args, **self._kwargs)\n",
      "  File \"/storage/hive/project/phy-taboada/cchen641/icecube/software/csky/csky/trial.py\", line 310, in _get_some_fits\n",
      "    fit = self.get_one_fit(n_sig=n_sig, poisson=poisson, seed=seeds[i], **kw)\n",
      "  File \"/storage/hive/project/phy-taboada/cchen641/icecube/software/csky/csky/trial.py\", line 289, in get_one_fit\n",
      "    return self.get_one_fit_from_trial(evss_ns_excluded_tuple, flat=flat, **fitter_args)\n",
      "  File \"/storage/hive/project/phy-taboada/cchen641/icecube/software/csky/csky/trial.py\", line 1218, in get_one_fit_from_trial\n",
      "    scan = self.get_one_scan_from_trial(trial, logging=logging, mp_cpus=mp_cpus, **fitter_args)\n",
      "  File \"/storage/hive/project/phy-taboada/cchen641/icecube/software/csky/csky/trial.py\", line 1205, in get_one_scan_from_trial\n",
      "    trial, logging=logging, mp_cpus=mp_cpus, **fitter_args)\n",
      "  File \"/storage/hive/project/phy-taboada/cchen641/icecube/software/csky/csky/trial.py\", line 1029, in get_one_scan_from_trial\n",
      "    ev = utils.Arrays.concatenate(flat_evss)\n",
      "  File \"/storage/hive/project/phy-taboada/cchen641/icecube/software/csky/csky/utils.py\", line 269, in concatenate\n",
      "    raise ValueError('keys do not match:\\n{}\\nvs\\n{}'.format(k1, k2))\n",
      "ValueError: keys do not match:\n",
      "['azimuth', 'dec', 'energy', 'idx', 'inj', 'log10energy', 'mjd', 'ra', 'sigma', 'sindec']\n",
      "vs\n",
      "['azimuth', 'dec', 'idx', 'inj', 'log10energy', 'mjd', 'ra', 'sigma', 'sindec']\n"
     ]
    },
    {
     "name": "stdout",
     "output_type": "stream",
     "text": [
      "\n",
      "KeyboardInterrupt: terminating early.\n",
      "\n",
      "0:00:48.913477 elapsed.\n"
     ]
    },
    {
     "ename": "KeyboardInterrupt",
     "evalue": "",
     "output_type": "error",
     "traceback": [
      "\u001b[0;31m---------------------------------------------------------------------------\u001b[0m",
      "\u001b[0;31mKeyboardInterrupt\u001b[0m                         Traceback (most recent call last)",
      "\u001b[0;32m<ipython-input-41-8667e17060cd>\u001b[0m in \u001b[0;36m<module>\u001b[0;34m\u001b[0m\n\u001b[1;32m      4\u001b[0m                           \u001b[0mpoisson\u001b[0m\u001b[0;34m=\u001b[0m\u001b[0margs\u001b[0m\u001b[0;34m.\u001b[0m\u001b[0muse_poisson\u001b[0m\u001b[0;34m,\u001b[0m\u001b[0;34m\u001b[0m\u001b[0;34m\u001b[0m\u001b[0m\n\u001b[1;32m      5\u001b[0m                           \u001b[0mseed\u001b[0m\u001b[0;34m=\u001b[0m\u001b[0;36m0\u001b[0m\u001b[0;34m,\u001b[0m\u001b[0;34m\u001b[0m\u001b[0;34m\u001b[0m\u001b[0m\n\u001b[0;32m----> 6\u001b[0;31m                           logging=False)\n\u001b[0m",
      "\u001b[0;32m/storage/hive/project/phy-taboada/cchen641/icecube/software/csky/csky/trial.py\u001b[0m in \u001b[0;36mget_many_fits\u001b[0;34m(self, n_trials, n_sig, poisson, seed, mp_cpus, logging, **fitter_args)\u001b[0m\n\u001b[1;32m    388\u001b[0m                 \u001b[0mprint\u001b[0m\u001b[0;34m(\u001b[0m\u001b[0;34m'\\nKeyboardInterrupt: terminating early.'\u001b[0m\u001b[0;34m)\u001b[0m\u001b[0;34m\u001b[0m\u001b[0;34m\u001b[0m\u001b[0m\n\u001b[1;32m    389\u001b[0m             \u001b[0;31m# collect results and join jobs\u001b[0m\u001b[0;34m\u001b[0m\u001b[0;34m\u001b[0m\u001b[0;34m\u001b[0m\u001b[0m\n\u001b[0;32m--> 390\u001b[0;31m             \u001b[0mfitss\u001b[0m \u001b[0;34m=\u001b[0m \u001b[0;34m[\u001b[0m\u001b[0mqueue\u001b[0m\u001b[0;34m.\u001b[0m\u001b[0mget\u001b[0m\u001b[0;34m(\u001b[0m\u001b[0;34m)\u001b[0m \u001b[0;32mfor\u001b[0m \u001b[0mproc\u001b[0m \u001b[0;32min\u001b[0m \u001b[0mprocs\u001b[0m\u001b[0;34m]\u001b[0m\u001b[0;34m\u001b[0m\u001b[0;34m\u001b[0m\u001b[0m\n\u001b[0m\u001b[1;32m    391\u001b[0m             \u001b[0;34m[\u001b[0m\u001b[0mproc\u001b[0m\u001b[0;34m.\u001b[0m\u001b[0mjoin\u001b[0m\u001b[0;34m(\u001b[0m\u001b[0;34m)\u001b[0m \u001b[0;32mfor\u001b[0m \u001b[0mproc\u001b[0m \u001b[0;32min\u001b[0m \u001b[0mprocs\u001b[0m\u001b[0;34m]\u001b[0m\u001b[0;34m\u001b[0m\u001b[0;34m\u001b[0m\u001b[0m\n\u001b[1;32m    392\u001b[0m             \u001b[0mfitss\u001b[0m \u001b[0;34m=\u001b[0m \u001b[0;34m[\u001b[0m\u001b[0mself\u001b[0m\u001b[0;34m.\u001b[0m\u001b[0m_fits_np_to_Arrays\u001b[0m\u001b[0;34m(\u001b[0m\u001b[0mfits\u001b[0m\u001b[0;34m[\u001b[0m\u001b[0;36m1\u001b[0m\u001b[0;34m]\u001b[0m\u001b[0;34m)\u001b[0m \u001b[0;32mfor\u001b[0m \u001b[0mfits\u001b[0m \u001b[0;32min\u001b[0m \u001b[0msorted\u001b[0m\u001b[0;34m(\u001b[0m\u001b[0mfitss\u001b[0m\u001b[0;34m)\u001b[0m\u001b[0;34m]\u001b[0m\u001b[0;34m\u001b[0m\u001b[0;34m\u001b[0m\u001b[0m\n",
      "\u001b[0;32m/storage/hive/project/phy-taboada/cchen641/icecube/software/csky/csky/trial.py\u001b[0m in \u001b[0;36m<listcomp>\u001b[0;34m(.0)\u001b[0m\n\u001b[1;32m    388\u001b[0m                 \u001b[0mprint\u001b[0m\u001b[0;34m(\u001b[0m\u001b[0;34m'\\nKeyboardInterrupt: terminating early.'\u001b[0m\u001b[0;34m)\u001b[0m\u001b[0;34m\u001b[0m\u001b[0;34m\u001b[0m\u001b[0m\n\u001b[1;32m    389\u001b[0m             \u001b[0;31m# collect results and join jobs\u001b[0m\u001b[0;34m\u001b[0m\u001b[0;34m\u001b[0m\u001b[0;34m\u001b[0m\u001b[0m\n\u001b[0;32m--> 390\u001b[0;31m             \u001b[0mfitss\u001b[0m \u001b[0;34m=\u001b[0m \u001b[0;34m[\u001b[0m\u001b[0mqueue\u001b[0m\u001b[0;34m.\u001b[0m\u001b[0mget\u001b[0m\u001b[0;34m(\u001b[0m\u001b[0;34m)\u001b[0m \u001b[0;32mfor\u001b[0m \u001b[0mproc\u001b[0m \u001b[0;32min\u001b[0m \u001b[0mprocs\u001b[0m\u001b[0;34m]\u001b[0m\u001b[0;34m\u001b[0m\u001b[0;34m\u001b[0m\u001b[0m\n\u001b[0m\u001b[1;32m    391\u001b[0m             \u001b[0;34m[\u001b[0m\u001b[0mproc\u001b[0m\u001b[0;34m.\u001b[0m\u001b[0mjoin\u001b[0m\u001b[0;34m(\u001b[0m\u001b[0;34m)\u001b[0m \u001b[0;32mfor\u001b[0m \u001b[0mproc\u001b[0m \u001b[0;32min\u001b[0m \u001b[0mprocs\u001b[0m\u001b[0;34m]\u001b[0m\u001b[0;34m\u001b[0m\u001b[0;34m\u001b[0m\u001b[0m\n\u001b[1;32m    392\u001b[0m             \u001b[0mfitss\u001b[0m \u001b[0;34m=\u001b[0m \u001b[0;34m[\u001b[0m\u001b[0mself\u001b[0m\u001b[0;34m.\u001b[0m\u001b[0m_fits_np_to_Arrays\u001b[0m\u001b[0;34m(\u001b[0m\u001b[0mfits\u001b[0m\u001b[0;34m[\u001b[0m\u001b[0;36m1\u001b[0m\u001b[0;34m]\u001b[0m\u001b[0;34m)\u001b[0m \u001b[0;32mfor\u001b[0m \u001b[0mfits\u001b[0m \u001b[0;32min\u001b[0m \u001b[0msorted\u001b[0m\u001b[0;34m(\u001b[0m\u001b[0mfitss\u001b[0m\u001b[0;34m)\u001b[0m\u001b[0;34m]\u001b[0m\u001b[0;34m\u001b[0m\u001b[0;34m\u001b[0m\u001b[0m\n",
      "\u001b[0;32m~/.conda/envs/icecube_py3/lib/python3.7/multiprocessing/queues.py\u001b[0m in \u001b[0;36mget\u001b[0;34m(self, block, timeout)\u001b[0m\n\u001b[1;32m     92\u001b[0m         \u001b[0;32mif\u001b[0m \u001b[0mblock\u001b[0m \u001b[0;32mand\u001b[0m \u001b[0mtimeout\u001b[0m \u001b[0;32mis\u001b[0m \u001b[0;32mNone\u001b[0m\u001b[0;34m:\u001b[0m\u001b[0;34m\u001b[0m\u001b[0;34m\u001b[0m\u001b[0m\n\u001b[1;32m     93\u001b[0m             \u001b[0;32mwith\u001b[0m \u001b[0mself\u001b[0m\u001b[0;34m.\u001b[0m\u001b[0m_rlock\u001b[0m\u001b[0;34m:\u001b[0m\u001b[0;34m\u001b[0m\u001b[0;34m\u001b[0m\u001b[0m\n\u001b[0;32m---> 94\u001b[0;31m                 \u001b[0mres\u001b[0m \u001b[0;34m=\u001b[0m \u001b[0mself\u001b[0m\u001b[0;34m.\u001b[0m\u001b[0m_recv_bytes\u001b[0m\u001b[0;34m(\u001b[0m\u001b[0;34m)\u001b[0m\u001b[0;34m\u001b[0m\u001b[0;34m\u001b[0m\u001b[0m\n\u001b[0m\u001b[1;32m     95\u001b[0m             \u001b[0mself\u001b[0m\u001b[0;34m.\u001b[0m\u001b[0m_sem\u001b[0m\u001b[0;34m.\u001b[0m\u001b[0mrelease\u001b[0m\u001b[0;34m(\u001b[0m\u001b[0;34m)\u001b[0m\u001b[0;34m\u001b[0m\u001b[0;34m\u001b[0m\u001b[0m\n\u001b[1;32m     96\u001b[0m         \u001b[0;32melse\u001b[0m\u001b[0;34m:\u001b[0m\u001b[0;34m\u001b[0m\u001b[0;34m\u001b[0m\u001b[0m\n",
      "\u001b[0;32m~/.conda/envs/icecube_py3/lib/python3.7/multiprocessing/connection.py\u001b[0m in \u001b[0;36mrecv_bytes\u001b[0;34m(self, maxlength)\u001b[0m\n\u001b[1;32m    214\u001b[0m         \u001b[0;32mif\u001b[0m \u001b[0mmaxlength\u001b[0m \u001b[0;32mis\u001b[0m \u001b[0;32mnot\u001b[0m \u001b[0;32mNone\u001b[0m \u001b[0;32mand\u001b[0m \u001b[0mmaxlength\u001b[0m \u001b[0;34m<\u001b[0m \u001b[0;36m0\u001b[0m\u001b[0;34m:\u001b[0m\u001b[0;34m\u001b[0m\u001b[0;34m\u001b[0m\u001b[0m\n\u001b[1;32m    215\u001b[0m             \u001b[0;32mraise\u001b[0m \u001b[0mValueError\u001b[0m\u001b[0;34m(\u001b[0m\u001b[0;34m\"negative maxlength\"\u001b[0m\u001b[0;34m)\u001b[0m\u001b[0;34m\u001b[0m\u001b[0;34m\u001b[0m\u001b[0m\n\u001b[0;32m--> 216\u001b[0;31m         \u001b[0mbuf\u001b[0m \u001b[0;34m=\u001b[0m \u001b[0mself\u001b[0m\u001b[0;34m.\u001b[0m\u001b[0m_recv_bytes\u001b[0m\u001b[0;34m(\u001b[0m\u001b[0mmaxlength\u001b[0m\u001b[0;34m)\u001b[0m\u001b[0;34m\u001b[0m\u001b[0;34m\u001b[0m\u001b[0m\n\u001b[0m\u001b[1;32m    217\u001b[0m         \u001b[0;32mif\u001b[0m \u001b[0mbuf\u001b[0m \u001b[0;32mis\u001b[0m \u001b[0;32mNone\u001b[0m\u001b[0;34m:\u001b[0m\u001b[0;34m\u001b[0m\u001b[0;34m\u001b[0m\u001b[0m\n\u001b[1;32m    218\u001b[0m             \u001b[0mself\u001b[0m\u001b[0;34m.\u001b[0m\u001b[0m_bad_message_length\u001b[0m\u001b[0;34m(\u001b[0m\u001b[0;34m)\u001b[0m\u001b[0;34m\u001b[0m\u001b[0;34m\u001b[0m\u001b[0m\n",
      "\u001b[0;32m~/.conda/envs/icecube_py3/lib/python3.7/multiprocessing/connection.py\u001b[0m in \u001b[0;36m_recv_bytes\u001b[0;34m(self, maxsize)\u001b[0m\n\u001b[1;32m    405\u001b[0m \u001b[0;34m\u001b[0m\u001b[0m\n\u001b[1;32m    406\u001b[0m     \u001b[0;32mdef\u001b[0m \u001b[0m_recv_bytes\u001b[0m\u001b[0;34m(\u001b[0m\u001b[0mself\u001b[0m\u001b[0;34m,\u001b[0m \u001b[0mmaxsize\u001b[0m\u001b[0;34m=\u001b[0m\u001b[0;32mNone\u001b[0m\u001b[0;34m)\u001b[0m\u001b[0;34m:\u001b[0m\u001b[0;34m\u001b[0m\u001b[0;34m\u001b[0m\u001b[0m\n\u001b[0;32m--> 407\u001b[0;31m         \u001b[0mbuf\u001b[0m \u001b[0;34m=\u001b[0m \u001b[0mself\u001b[0m\u001b[0;34m.\u001b[0m\u001b[0m_recv\u001b[0m\u001b[0;34m(\u001b[0m\u001b[0;36m4\u001b[0m\u001b[0;34m)\u001b[0m\u001b[0;34m\u001b[0m\u001b[0;34m\u001b[0m\u001b[0m\n\u001b[0m\u001b[1;32m    408\u001b[0m         \u001b[0msize\u001b[0m\u001b[0;34m,\u001b[0m \u001b[0;34m=\u001b[0m \u001b[0mstruct\u001b[0m\u001b[0;34m.\u001b[0m\u001b[0munpack\u001b[0m\u001b[0;34m(\u001b[0m\u001b[0;34m\"!i\"\u001b[0m\u001b[0;34m,\u001b[0m \u001b[0mbuf\u001b[0m\u001b[0;34m.\u001b[0m\u001b[0mgetvalue\u001b[0m\u001b[0;34m(\u001b[0m\u001b[0;34m)\u001b[0m\u001b[0;34m)\u001b[0m\u001b[0;34m\u001b[0m\u001b[0;34m\u001b[0m\u001b[0m\n\u001b[1;32m    409\u001b[0m         \u001b[0;32mif\u001b[0m \u001b[0mmaxsize\u001b[0m \u001b[0;32mis\u001b[0m \u001b[0;32mnot\u001b[0m \u001b[0;32mNone\u001b[0m \u001b[0;32mand\u001b[0m \u001b[0msize\u001b[0m \u001b[0;34m>\u001b[0m \u001b[0mmaxsize\u001b[0m\u001b[0;34m:\u001b[0m\u001b[0;34m\u001b[0m\u001b[0;34m\u001b[0m\u001b[0m\n",
      "\u001b[0;32m~/.conda/envs/icecube_py3/lib/python3.7/multiprocessing/connection.py\u001b[0m in \u001b[0;36m_recv\u001b[0;34m(self, size, read)\u001b[0m\n\u001b[1;32m    377\u001b[0m         \u001b[0mremaining\u001b[0m \u001b[0;34m=\u001b[0m \u001b[0msize\u001b[0m\u001b[0;34m\u001b[0m\u001b[0;34m\u001b[0m\u001b[0m\n\u001b[1;32m    378\u001b[0m         \u001b[0;32mwhile\u001b[0m \u001b[0mremaining\u001b[0m \u001b[0;34m>\u001b[0m \u001b[0;36m0\u001b[0m\u001b[0;34m:\u001b[0m\u001b[0;34m\u001b[0m\u001b[0;34m\u001b[0m\u001b[0m\n\u001b[0;32m--> 379\u001b[0;31m             \u001b[0mchunk\u001b[0m \u001b[0;34m=\u001b[0m \u001b[0mread\u001b[0m\u001b[0;34m(\u001b[0m\u001b[0mhandle\u001b[0m\u001b[0;34m,\u001b[0m \u001b[0mremaining\u001b[0m\u001b[0;34m)\u001b[0m\u001b[0;34m\u001b[0m\u001b[0;34m\u001b[0m\u001b[0m\n\u001b[0m\u001b[1;32m    380\u001b[0m             \u001b[0mn\u001b[0m \u001b[0;34m=\u001b[0m \u001b[0mlen\u001b[0m\u001b[0;34m(\u001b[0m\u001b[0mchunk\u001b[0m\u001b[0;34m)\u001b[0m\u001b[0;34m\u001b[0m\u001b[0;34m\u001b[0m\u001b[0m\n\u001b[1;32m    381\u001b[0m             \u001b[0;32mif\u001b[0m \u001b[0mn\u001b[0m \u001b[0;34m==\u001b[0m \u001b[0;36m0\u001b[0m\u001b[0;34m:\u001b[0m\u001b[0;34m\u001b[0m\u001b[0;34m\u001b[0m\u001b[0m\n",
      "\u001b[0;31mKeyboardInterrupt\u001b[0m: "
     ]
    }
   ],
   "source": [
    "with time('Doing injections'):\n",
    "    trials = sptr.get_many_fits(args.n_trials, \n",
    "                          n_sig=args.n_inj, \n",
    "                          poisson=args.use_poisson, \n",
    "                          seed=0, \n",
    "                          logging=False)"
   ]
  },
  {
   "cell_type": "code",
   "execution_count": 47,
   "metadata": {},
   "outputs": [
    {
     "name": "stdout",
     "output_type": "stream",
     "text": [
      "\n",
      "0:00:00.548518 elapsed.\n"
     ]
    }
   ],
   "source": [
    "with time('Doing injections'):\n",
    "    trials = tr.get_many_fits(args.n_trials, \n",
    "                          n_sig=args.n_inj, \n",
    "                          poisson=args.use_poisson, \n",
    "                          seed=0, \n",
    "                          logging=False)"
   ]
  },
  {
   "cell_type": "code",
   "execution_count": 48,
   "metadata": {},
   "outputs": [
    {
     "data": {
      "text/plain": [
       "array([(6.9576913 , 30.02678368), (5.52350112, 34.53597678),\n",
       "       (8.8162969 , 53.38345132), (8.87380295, 61.72560512),\n",
       "       (6.28234672, 45.14862572)], dtype=[('ns', '<f8'), ('ts', '<f8')])"
      ]
     },
     "execution_count": 48,
     "metadata": {},
     "output_type": "execute_result"
    }
   ],
   "source": [
    "trials.as_array"
   ]
  },
  {
   "cell_type": "code",
   "execution_count": 16,
   "metadata": {},
   "outputs": [
    {
     "data": {
      "text/plain": [
       "20"
      ]
     },
     "execution_count": 16,
     "metadata": {},
     "output_type": "execute_result"
    }
   ],
   "source": [
    "len(sens['tss'][0])"
   ]
  },
  {
   "cell_type": "code",
   "execution_count": 17,
   "metadata": {},
   "outputs": [
    {
     "data": {
      "text/plain": [
       "7.066666666666666"
      ]
     },
     "execution_count": 17,
     "metadata": {},
     "output_type": "execute_result"
    }
   ],
   "source": [
    "(42*60+24) / 360\n"
   ]
  },
  {
   "cell_type": "code",
   "execution_count": null,
   "metadata": {},
   "outputs": [],
   "source": []
  }
 ],
 "metadata": {
  "kernelspec": {
   "display_name": "Python [conda env:icecube_py3]",
   "language": "python",
   "name": "conda-env-icecube_py3-py"
  },
  "language_info": {
   "codemirror_mode": {
    "name": "ipython",
    "version": 3
   },
   "file_extension": ".py",
   "mimetype": "text/x-python",
   "name": "python",
   "nbconvert_exporter": "python",
   "pygments_lexer": "ipython3",
   "version": "3.7.3"
  }
 },
 "nbformat": 4,
 "nbformat_minor": 4
}
