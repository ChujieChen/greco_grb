{
 "cells": [
  {
   "cell_type": "code",
   "execution_count": 1,
   "metadata": {},
   "outputs": [
    {
     "data": {
      "text/plain": [
       "'\\nUse background TS obtained from scripts/02. Inject n_inj with `batch` injection\\nto find what a good batchNtrail is and what a good n_inj range is.\\n\\nFor the signal injection, spatial prior needs to he included.\\n'"
      ]
     },
     "execution_count": 1,
     "metadata": {},
     "output_type": "execute_result"
    }
   ],
   "source": [
    "\"\"\"\n",
    "Use background TS obtained from scripts/02. Inject n_inj with `batch` injection\n",
    "to find what a good batchNtrail is and what a good n_inj range is.\n",
    "\n",
    "For the signal injection, spatial prior needs to he included.\n",
    "\"\"\""
   ]
  },
  {
   "cell_type": "code",
   "execution_count": 2,
   "metadata": {},
   "outputs": [
    {
     "name": "stdout",
     "output_type": "stream",
     "text": [
      "Python version:  3.7.3 (default, Mar 27 2019, 22:11:17) \n",
      "[GCC 7.3.0]\n",
      "\n",
      "#### Working at GT ####\n",
      "\n",
      "LOCATION: \t GT\n",
      "USER: \t cchen641\n",
      "ICDATA_DIR: \t /storage/home/hhive1/cchen641/data/icecube/data/analyses/online_GRECO/version-002-p04\n",
      "DATA_DIR: \t /storage/home/hhive1/cchen641/data/icecube/data/greco_grb/data\n",
      "ANA_DIR: \t /storage/home/hhive1/cchen641/data/icecube/data/greco_grb/data/csky_output\n",
      "\n"
     ]
    }
   ],
   "source": [
    "import os\n",
    "import sys\n",
    "print(\"Python version: \", end=' ')\n",
    "print(sys.version)\n",
    "\n",
    "import numpy as np\n",
    "import healpy as hp\n",
    "import histlite as hl\n",
    "import csky as cy\n",
    "import pandas as pd\n",
    "from scipy import sparse\n",
    "\n",
    "import matplotlib.pyplot as plt\n",
    "from matplotlib import cm\n",
    "import matplotlib.colors as colors\n",
    "############# comment out below two lines on clusters ##########\n",
    "%matplotlib inline\n",
    "# %matplotlib notebook\n",
    "################################################################\n",
    "from glob import glob\n",
    "timer = cy.timing.Timer()\n",
    "time = timer.time\n",
    "\n",
    "###### Local Import ######\n",
    "import SETTING\n",
    "paths = SETTING.PATH(osg=False)\n",
    "print(paths)\n",
    "LOCATION = paths.LOCATION\n",
    "USER = paths.USER\n",
    "ICDATA_DIR = paths.ICDATA_DIR\n",
    "DATA_DIR = paths.DATA_DIR\n",
    "ANA_DIR = paths.ANA_DIR\n",
    "\n",
    "from utils import *\n",
    "\n",
    "from scipy import sparse"
   ]
  },
  {
   "cell_type": "code",
   "execution_count": 3,
   "metadata": {},
   "outputs": [
    {
     "name": "stdout",
     "output_type": "stream",
     "text": [
      "Background TS folder path: /storage/home/hhive1/cchen641/data/icecube/data/greco_grb/data/csky_output/allsky_scan/with_prior_background/twXXX/XXX.npz\n"
     ]
    }
   ],
   "source": [
    "print(\"Background TS folder path: {}/allsky_scan/with_prior_background/twXXX/XXX.npz\".format(ANA_DIR))\n"
   ]
  },
  {
   "cell_type": "code",
   "execution_count": 4,
   "metadata": {},
   "outputs": [],
   "source": [
    "import argparse\n",
    "\n",
    "######################### CONFIGURE ARGUEMENTS #############################\n",
    "# p = argparse.ArgumentParser(description=\"Background Trials\",\n",
    "#                             formatter_class=argparse.RawTextHelpFormatter)\n",
    "# p.add_argument(\"--grb_name\", default=\"GRB180423A\", type=str, help=\"Name of one GRB\")\n",
    "# p.add_argument(\"--batchNtrials\", default=10, type=int, help=\"Number of trials in this batch\")\n",
    "# p.add_argument(\"--batchIndex\", default=0, type=int, help=\"Index of current batch\")\n",
    "# p.add_argument(\"--tw_in_second\", default=10, type=int, help=\"Length of the time window in seconds\")\n",
    "# p.add_argument(\"--ncpu\", default=1, type=int, help=\"Number of CPU to give Csky\")\n",
    "# p.add_argument(\"--mode\", default=\"production\", type=str, help=\"Mode: production or testing\")\n",
    "# p.add_argument(\"--outfilename\", default=\"\", type=str, help=\"Output filename should have type .npz. Highly recommended on OSG\")\n",
    "# args = p.parse_args()\n",
    "###########################################################################\n",
    "\n",
    "\n",
    "### testing on jupyter ###\n",
    "\n",
    "class args:\n",
    "    grb_name = \"GRB180423A\"    # real healpix example\n",
    "    # grb_name = \"GRB190415A\"    # fake healpix example\n",
    "    batchNtrials = 20\n",
    "    tw_in_second = 10\n",
    "    ncpu = 4\n",
    "\n",
    "##########################"
   ]
  },
  {
   "cell_type": "code",
   "execution_count": 5,
   "metadata": {},
   "outputs": [
    {
     "name": "stdout",
     "output_type": "stream",
     "text": [
      "\n",
      "===== Loading no-healpix df =====\n",
      "\n",
      "\n",
      "===== Loading healpix of GRB180423A=====\n",
      "\n",
      "\n",
      "...Done\n",
      "\n"
     ]
    }
   ],
   "source": [
    "print(\"\\n===== Loading no-healpix df =====\\n\")\n",
    "df = pd.read_pickle(DATA_DIR+\"/grbwebgbm/grbweb_gbm_noHeaplix.pkl\")\n",
    "# realHealpix: df.gbm & df.hasHealpix\n",
    "# fakeHealpix: ~(df.gbm & df.hasHealpix)\n",
    "df.head()\n",
    "\n",
    "print(\"\\n===== Loading healpix of {}=====\\n\".format(args.grb_name))   \n",
    "try:\n",
    "    healpix = np.load(DATA_DIR+\"/grbwebgbm/healpix/{}_healpix_nside64.npy\".format(args.grb_name))\n",
    "    # healpix can contain negative values: faults due to Fermi-GBM\n",
    "    healpix = np.maximum(healpix,0)\n",
    "    ########## healpix reduce ##########\n",
    "    healpix[healpix < isf_healpix(healpix, q=0.99)] = 0\n",
    "except:\n",
    "    raise Exception(\"Cannot load the healpix for grb: {}\\n\".format(args.grb_name))\n",
    "    \n",
    "grb_row = df.loc[df['grb_name'] == args.grb_name]\n",
    "tw = args.tw_in_second/86400.\n",
    "tw_start = grb_row.t_center - 0.5*tw\n",
    "ra = grb_row.ra\n",
    "dec = grb_row.dec\n",
    "print(\"\\n...Done\\n\")"
   ]
  },
  {
   "cell_type": "code",
   "execution_count": 6,
   "metadata": {},
   "outputs": [
    {
     "name": "stdout",
     "output_type": "stream",
     "text": [
      "\n",
      "===== Setting up csky =====\n",
      "\n",
      "Setting up Analysis for:\n",
      "greco_v2.4\n",
      "Setting up greco_v2.4...\n",
      "Energy PDF Ratio Model...\n",
      "  * gamma = 4.0000 ...\n",
      "Signal Acceptance Model...\n",
      "  * gamma = 4.0000 ...\n",
      "Done.\n"
     ]
    }
   ],
   "source": [
    "print(\"\\n===== Setting up csky =====\\n\")\n",
    "data_dir = ICDATA_DIR\n",
    "data_filenames = sorted(glob(data_dir + '/IC86_20*.data_with_angErr.npy'))\n",
    "sig_filenames = sorted(glob(data_dir + '/IC86_2012.nu*_merged_with_angErr.npy'))\n",
    "# load nue only to save memory, never used in this .py\n",
    "# sig_filenames = sorted(glob(data_dir + '/IC86_2012.nue_merged_with_angErr.npy'))\n",
    "grl_filenames = sorted(glob(data_dir + '/GRL/IC86_20*.data.npy'))\n",
    "\n",
    "################ energy lower bound #############\n",
    "min_log_e = np.log10(10)\n",
    "#################################################\n",
    "bins_sindec = np.linspace(-1, 1, 25+1)  \n",
    "bins_logenergy = np.linspace(min_log_e, 5, 30+1)\n",
    "\n",
    "data = [np.load(data_filename) for data_filename in data_filenames]\n",
    "data = np.hstack(data)\n",
    "sig = [np.load(sig_filename) for sig_filename in sig_filenames]\n",
    "sig = np.hstack(sig)\n",
    "grl = [np.load(grl_filename) for grl_filename in grl_filenames]\n",
    "grl = np.hstack(grl)\n",
    "if min_log_e is not None:\n",
    "    data_mask = data['logE'] > min_log_e\n",
    "    data = data[data_mask]\n",
    "    sig_mask = sig['logE'] > min_log_e\n",
    "    sig = sig[sig_mask]\n",
    "    \n",
    "dataset_spec = cy.selections.CustomDataSpecs.CustomDataSpec(data, sig, np.sum(grl['livetime']),\n",
    "                                                     sindec_bins=bins_sindec,\n",
    "                                                     logenergy_bins=bins_logenergy,\n",
    "                                                     grl=grl, key='greco_v2.4', cascades=True)\n",
    "\n",
    "ANA_DIR = cy.utils.ensure_dir(ANA_DIR)\n",
    "# on OSG\n",
    "# ana_dir = \"./\"\n",
    "ana = cy.get_analysis(cy.selections.repo\n",
    "                      , dataset_spec\n",
    "                      , dir=ANA_DIR\n",
    "                      , load_sig=True)  # false to save memory if needed \n",
    "\n",
    "\n"
   ]
  },
  {
   "cell_type": "code",
   "execution_count": 7,
   "metadata": {},
   "outputs": [],
   "source": [
    "#### used for spatial_prior_trial_runner\n",
    "conf = {\n",
    "    'ana': ana,\n",
    "    #### llh basics: csky.conf\n",
    "    'space': 'ps', # ps/fitps/template/prior\n",
    "    'time': 'transient', # utf/lc/transient\n",
    "    'energy': 'customflux', # fit/customflux\n",
    "    'flux': cy.hyp.PowerLawFlux(2),\n",
    "    #### inj.py - prior has some duplications against space's prior\n",
    "    'sig': 'transient', # ps/tw/lc/transient/template/prior\n",
    "    'full_sky': True,\n",
    "    'extended': True,\n",
    "    'mp_cpus': args.ncpu,\n",
    "    'cut_n_sigma': 3\n",
    "    }\n",
    "cy.CONF.update(conf)\n",
    "\n",
    "#### used for basic trial_runner\n",
    "# conf = {\n",
    "#     'ana': ana,\n",
    "#     #### llh basics: csky.conf\n",
    "#     'space': 'prior', # ps/fitps/template/prior\n",
    "#     'time': 'transient', # utf/lc/transient\n",
    "#     'energy': 'customflux', # fit/customflux\n",
    "#     'flux': cy.hyp.PowerLawFlux(2),\n",
    "#     #### inj.py - prior has some duplications against space's prior\n",
    "#     'sig': 'transient', # ps/tw/lc/transient/template/prior\n",
    "#     'full_sky': True,\n",
    "#     'extended': True,\n",
    "#     'mp_cpus': args.ncpu,\n",
    "#     'cut_n_sigma': 3\n",
    "# }\n",
    "# cy.CONF.update(conf)\n"
   ]
  },
  {
   "cell_type": "code",
   "execution_count": 8,
   "metadata": {},
   "outputs": [
    {
     "data": {
      "text/plain": [
       "{'mp_cpus': 4,\n",
       " 'ana': Analysis(keys=[greco_v2.4]),\n",
       " 'space': 'ps',\n",
       " 'time': 'transient',\n",
       " 'energy': 'customflux',\n",
       " 'flux': PowerLawFlux(gamma=2),\n",
       " 'sig': 'transient',\n",
       " 'full_sky': True,\n",
       " 'extended': True,\n",
       " 'cut_n_sigma': 3}"
      ]
     },
     "execution_count": 8,
     "metadata": {},
     "output_type": "execute_result"
    }
   ],
   "source": [
    "cy.CONF"
   ]
  },
  {
   "cell_type": "code",
   "execution_count": 9,
   "metadata": {},
   "outputs": [
    {
     "data": {
      "text/plain": [
       "Chi2TSD(1000000 trials, eta=0.021, ndof=1.637, median=0.000 (from fit 0.000))"
      ]
     },
     "execution_count": 9,
     "metadata": {},
     "output_type": "execute_result"
    }
   ],
   "source": [
    "bg_files = glob(ANA_DIR+\"/allsky_scan/with_prior_background/tw{}/{}*.npz\".format(args.tw_in_second, args.grb_name))\n",
    "bg = cy.dists.Chi2TSD(np.ravel([sparse.load_npz(bg_file).toarray() for bg_file in bg_files]))\n",
    "bg"
   ]
  },
  {
   "cell_type": "code",
   "execution_count": 10,
   "metadata": {},
   "outputs": [
    {
     "name": "stdout",
     "output_type": "stream",
     "text": [
      "Chi2TSD from 1000000 trials:\n",
      "           eta = 0.021\n",
      "          ndof = 1.637\n",
      "           loc = 0.000\n",
      "         scale = 1.728\n",
      "Thresholds from trials:\n",
      "        median = 0.000\n",
      "       1 sigma = 0.00\n",
      "       2 sigma = 0.00\n",
      "       3 sigma = 8.32\n",
      "       4 sigma = 20.82\n",
      "       5 sigma = 36.76\n",
      "Thresholds from fit:\n",
      "        median = 0.000\n",
      "       1 sigma = 0.00\n",
      "       2 sigma = 0.00\n",
      "       3 sigma = 8.32\n",
      "       4 sigma = 20.82\n",
      "       5 sigma = 36.76\n"
     ]
    }
   ],
   "source": [
    "print(bg.description)"
   ]
  },
  {
   "cell_type": "code",
   "execution_count": 11,
   "metadata": {
    "scrolled": false
   },
   "outputs": [
    {
     "name": "stderr",
     "output_type": "stream",
     "text": [
      "/storage/home/hhive1/cchen641/.local/lib/python3.7/site-packages/numpy/core/_asarray.py:102: UserWarning: Warning: converting a masked element to nan.\n",
      "  return array(a, dtype, copy=False, order=order)\n"
     ]
    },
    {
     "data": {
      "image/png": "[encoded data removed]",
      "text/plain": [
       "<Figure size 432x288 with 1 Axes>"
      ]
     },
     "metadata": {
      "needs_background": "light"
     },
     "output_type": "display_data"
    }
   ],
   "source": [
    "fig, ax = plt.subplots()\n",
    "\n",
    "# csky uses histlite all over the place for PDF management\n",
    "# the background distribution fit integrates with histlite as well\n",
    "h = bg.get_hist(bins=50)\n",
    "hl.plot1d(ax, h, crosses=True,\n",
    "          label='{} bg trials'.format(bg.n_total))\n",
    "\n",
    "# # compare with the chi2 fit:\n",
    "# x = h.centers[0]\n",
    "# norm = h.integrate().values\n",
    "# ax.semilogy(x, norm * bg.pdf(x), lw=1, ls='--',\n",
    "#             label=r'$\\chi^2[{:.2f}\\mathrm{{dof}},\\ \\eta={:.3f}]$'.format(bg.ndof, bg.eta))\n",
    "\n",
    "# always label your plots, folks\n",
    "ax.set_xlabel(r'TS')\n",
    "ax.set_ylabel(r'number of trials')\n",
    "ax.set_yscale('symlog')\n",
    "ax.legend()\n",
    "plt.tight_layout()"
   ]
  },
  {
   "cell_type": "code",
   "execution_count": 12,
   "metadata": {},
   "outputs": [],
   "source": [
    "src = cy.sources(\n",
    "    ra=ra,\n",
    "    dec=dec,\n",
    "    deg=True,\n",
    "    mjd=tw_start, \n",
    "    sigma_t=np.zeros_like(tw), \n",
    "    t_100=tw,  # in days\n",
    "    prior=[hl.heal.HealHist(healpix)],\n",
    "    name=args.grb_name\n",
    ")\n",
    "\n",
    "sptr = cy.get_spatial_prior_trial_runner(conf=cy.CONF\n",
    "                                         ,src_tr=src\n",
    "                                         ,llh_priors=[healpix]\n",
    "                                         ,cut_n_sigma=5.) # src_tr is must for transient\n",
    "\n",
    "# tr = cy.get_trial_runner(ana=ana, src=src)"
   ]
  },
  {
   "cell_type": "code",
   "execution_count": 13,
   "metadata": {},
   "outputs": [],
   "source": [
    "# sptr.to_E2dNdE(2, E0=1e3, unit=1e1)  # 1/GeV/cm2/s  @  10^3 GeV; does not work\n",
    "# tr.to_E2dNdE(2, E0=1e3, unit=1e1)  # 1/GeV/cm2/s  @  10^3 GeV"
   ]
  },
  {
   "cell_type": "code",
   "execution_count": null,
   "metadata": {
    "scrolled": false
   },
   "outputs": [
    {
     "name": "stdout",
     "output_type": "stream",
     "text": [
      "Start time: 2021-04-27 01:17:02.466034\n",
      "Using 4 cores.\n",
      "* Starting initial scan for 90% of 10 trials with TS >= 0.000...\n",
      "  n_sig = 1.000 ... frac = 0.60000\n",
      "  n_sig = 2.000 ... frac = 0.70000\n",
      "  n_sig = 3.000 ... frac = 0.80000\n",
      "  n_sig = 4.000 ... frac = 1.00000\n",
      "* Generating batches of 10 trials...\n",
      "n_trials | n_inj    0.00    1.60    3.20    4.80    6.40    8.00  |  n_sig(relative error)\n",
      "10       |          0.0%   80.0%   90.0%  100.0%  100.0%  100.0%  | "
     ]
    },
    {
     "name": "stderr",
     "output_type": "stream",
     "text": [
      "Process Process-109:\n",
      "Traceback (most recent call last):\n",
      "  File \"/storage/home/hhive1/cchen641/.conda/envs/icecube_py3/lib/python3.7/multiprocessing/process.py\", line 297, in _bootstrap\n",
      "    self.run()\n",
      "Process Process-112:\n",
      "  File \"/storage/home/hhive1/cchen641/.conda/envs/icecube_py3/lib/python3.7/multiprocessing/process.py\", line 99, in run\n",
      "    self._target(*self._args, **self._kwargs)\n",
      "  File \"/storage/hive/project/phy-taboada/cchen641/icecube/software/csky/csky/trial.py\", line 2258, in get_n_sig_bootstraps\n",
      "    for seed in seeds])\n",
      "  File \"/storage/hive/project/phy-taboada/cchen641/icecube/software/csky/csky/trial.py\", line 2258, in <listcomp>\n",
      "    for seed in seeds])\n",
      "  File \"/storage/hive/project/phy-taboada/cchen641/icecube/software/csky/csky/trial.py\", line 2204, in get_n_sig_batches\n",
      "    sigmas[~i] = np.min(sigmas[i])\n",
      "  File \"<__array_function__ internals>\", line 6, in amin\n",
      "  File \"/storage/home/hhive1/cchen641/.local/lib/python3.7/site-packages/numpy/core/fromnumeric.py\", line 2859, in amin\n",
      "    keepdims=keepdims, initial=initial, where=where)\n",
      "  File \"/storage/home/hhive1/cchen641/.local/lib/python3.7/site-packages/numpy/core/fromnumeric.py\", line 87, in _wrapreduction\n",
      "    return ufunc.reduce(obj, axis, dtype, out, **passkwargs)\n",
      "Traceback (most recent call last):\n",
      "ValueError: zero-size array to reduction operation minimum which has no identity\n",
      "  File \"/storage/home/hhive1/cchen641/.conda/envs/icecube_py3/lib/python3.7/multiprocessing/process.py\", line 297, in _bootstrap\n",
      "    self.run()\n",
      "  File \"/storage/home/hhive1/cchen641/.conda/envs/icecube_py3/lib/python3.7/multiprocessing/process.py\", line 99, in run\n",
      "    self._target(*self._args, **self._kwargs)\n",
      "  File \"/storage/hive/project/phy-taboada/cchen641/icecube/software/csky/csky/trial.py\", line 2258, in get_n_sig_bootstraps\n",
      "    for seed in seeds])\n",
      "  File \"/storage/hive/project/phy-taboada/cchen641/icecube/software/csky/csky/trial.py\", line 2258, in <listcomp>\n",
      "    for seed in seeds])\n",
      "  File \"/storage/hive/project/phy-taboada/cchen641/icecube/software/csky/csky/trial.py\", line 2204, in get_n_sig_batches\n",
      "    sigmas[~i] = np.min(sigmas[i])\n",
      "  File \"<__array_function__ internals>\", line 6, in amin\n",
      "  File \"/storage/home/hhive1/cchen641/.local/lib/python3.7/site-packages/numpy/core/fromnumeric.py\", line 2859, in amin\n",
      "    keepdims=keepdims, initial=initial, where=where)\n",
      "  File \"/storage/home/hhive1/cchen641/.local/lib/python3.7/site-packages/numpy/core/fromnumeric.py\", line 87, in _wrapreduction\n",
      "    return ufunc.reduce(obj, axis, dtype, out, **passkwargs)\n",
      "ValueError: zero-size array to reduction operation minimum which has no identity\n"
     ]
    }
   ],
   "source": [
    "with time('ps sensitivity / discovery potential'):\n",
    "    sens = sptr.find_n_sig(\n",
    "        # ts, threshold\n",
    "        bg.median(), # for sens \n",
    "        # bg.isf_nsigma(5), # for disc\n",
    "        # beta, fraction of trials which should exceed the threshold\n",
    "        0.9, # for sens\n",
    "        # 0.5, # for disc\n",
    "        # n_inj step size for initial scan\n",
    "        n_sig_step=1,\n",
    "        # this many trials at a time\n",
    "        batch_size=10,\n",
    "        # tolerance, as estimated relative error\n",
    "        tol=.10,\n",
    "        first_batch_size=10\n",
    "    )"
   ]
  },
  {
   "cell_type": "code",
   "execution_count": 15,
   "metadata": {},
   "outputs": [
    {
     "data": {
      "text/plain": [
       "6"
      ]
     },
     "execution_count": 15,
     "metadata": {},
     "output_type": "execute_result"
    }
   ],
   "source": [
    "len(sens['tss'].keys())"
   ]
  },
  {
   "cell_type": "code",
   "execution_count": 16,
   "metadata": {},
   "outputs": [
    {
     "data": {
      "text/plain": [
       "20"
      ]
     },
     "execution_count": 16,
     "metadata": {},
     "output_type": "execute_result"
    }
   ],
   "source": [
    "len(sens['tss'][0])"
   ]
  },
  {
   "cell_type": "code",
   "execution_count": 17,
   "metadata": {},
   "outputs": [
    {
     "data": {
      "text/plain": [
       "7.066666666666666"
      ]
     },
     "execution_count": 17,
     "metadata": {},
     "output_type": "execute_result"
    }
   ],
   "source": [
    "(42*60+24) / 360\n"
   ]
  },
  {
   "cell_type": "code",
   "execution_count": null,
   "metadata": {},
   "outputs": [],
   "source": []
  }
 ],
 "metadata": {
  "kernelspec": {
   "display_name": "Python [conda env:icecube_py3]",
   "language": "python",
   "name": "conda-env-icecube_py3-py"
  },
  "language_info": {
   "codemirror_mode": {
    "name": "ipython",
    "version": 3
   },
   "file_extension": ".py",
   "mimetype": "text/x-python",
   "name": "python",
   "nbconvert_exporter": "python",
   "pygments_lexer": "ipython3",
   "version": "3.7.3"
  }
 },
 "nbformat": 4,
 "nbformat_minor": 4
}
