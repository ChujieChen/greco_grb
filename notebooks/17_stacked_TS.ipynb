{
 "cells": [
  {
   "cell_type": "code",
   "execution_count": 1,
   "id": "0d0938e6",
   "metadata": {},
   "outputs": [
    {
     "name": "stdout",
     "output_type": "stream",
     "text": [
      "\n",
      "#### Working at GT ####\n",
      "\n",
      "LOCATION: \t GT\n",
      "USER: \t cchen641\n",
      "ICDATA_DIR: \t /storage/home/hhive1/cchen641/data/icecube/data/analyses/online_GRECO/candidate-002-p10\n",
      "DATA_DIR: \t /storage/home/hhive1/cchen641/data/icecube/data/greco_grb/data\n",
      "ANA_DIR: \t /storage/home/hhive1/cchen641/data/icecube/data/greco_grb/data/csky_output\n",
      "\n"
     ]
    }
   ],
   "source": [
    "# Only import neccessary packages\n",
    "import pandas as pd\n",
    "import sys\n",
    "sys.path.append('../../')\n",
    "import csky as cy\n",
    "from greco_grb.scripts import SETTING\n",
    "paths = SETTING.PATH()\n",
    "print(paths)\n",
    "USER = paths.USER\n",
    "ICDATA_DIR = paths.ICDATA_DIR\n",
    "DATA_DIR = paths.DATA_DIR\n",
    "ANA_DIR = paths.ANA_DIR\n",
    "from greco_grb.scripts.utils import *\n",
    "from glob import glob\n",
    "import histlite as hl\n",
    "import scipy"
   ]
  },
  {
   "cell_type": "code",
   "execution_count": 2,
   "id": "0e9a7261",
   "metadata": {},
   "outputs": [],
   "source": [
    "UNBLIND_PATH = \"/storage/home/hhive1/cchen641/icecube/greco_grb/data/csky_output/unblind\"\n",
    "UNBLIND_RESULT = f\"{UNBLIND_PATH}/result02.pkl\""
   ]
  },
  {
   "cell_type": "code",
   "execution_count": 3,
   "id": "4135061a",
   "metadata": {},
   "outputs": [],
   "source": [
    "result02 = pd.read_pickle(UNBLIND_RESULT)\n"
   ]
  },
  {
   "cell_type": "code",
   "execution_count": 4,
   "id": "1768559d",
   "metadata": {},
   "outputs": [
    {
     "data": {
      "text/plain": [
       "Index(['grb_name', 'grb_name_GBM', 'ra', 'dec', 'source_uncertainty',\n",
       "       'mjd_start', 't100', 't90', 'gbm', 'ra_source', 'decl_source',\n",
       "       'pos_error_source', 'fluence', 'redshift', 't_center', 'hasHealpix',\n",
       "       'tw', 'ts', 'ns', 'pre_p', 'post_p', 'mjd_start_utc'],\n",
       "      dtype='object')"
      ]
     },
     "execution_count": 4,
     "metadata": {},
     "output_type": "execute_result"
    }
   ],
   "source": [
    "result02.columns"
   ]
  },
  {
   "cell_type": "markdown",
   "id": "99148b5e",
   "metadata": {},
   "source": [
    "# Unblind SoB at each TW\n",
    "For each GRB, specify TW = 10, 25, 50, 100, 250, 500 and **prompt (T100)**, get the unblind events SoB"
   ]
  },
  {
   "cell_type": "code",
   "execution_count": 5,
   "id": "f7c104e5",
   "metadata": {},
   "outputs": [
    {
     "name": "stdout",
     "output_type": "stream",
     "text": [
      "\n",
      "===== Setting up csky =====\n",
      "\n",
      "Setting up Analysis for:\n",
      "greco_v2.10\n",
      "Setting up greco_v2.10...\n",
      "Energy PDF Ratio Model...\n",
      "  * gamma = 4.0000 ...\n",
      "Signal Acceptance Model...\n",
      "  * gamma = 4.0000 ...\n",
      "Done.\n"
     ]
    }
   ],
   "source": [
    "print(\"\\n===== Setting up csky =====\\n\")\n",
    "data_dir = ICDATA_DIR\n",
    "data_filenames = sorted(glob(data_dir + '/IC86_20*.data.npy'))\n",
    "sig_filenames = sorted(glob(data_dir + '/IC86_2012.nu*_merged.npy'))\n",
    "grl_filenames = sorted(glob(data_dir + '/GRL/IC86_20*.data.npy'))\n",
    "\n",
    "################ energy lower bound #############\n",
    "min_log_e = np.log10(10)\n",
    "#################################################\n",
    "bins_sindec = np.linspace(-1, 1, 25+1)  \n",
    "bins_logenergy = np.linspace(min_log_e, 4, 25+1)\n",
    "\n",
    "data = [np.load(data_filename) for data_filename in data_filenames]\n",
    "data = np.hstack(data)\n",
    "sig = [np.load(sig_filename) for sig_filename in sig_filenames]\n",
    "sig = np.hstack(sig)\n",
    "grl = [np.load(grl_filename) for grl_filename in grl_filenames]\n",
    "grl = np.hstack(grl)\n",
    "if min_log_e is not None:\n",
    "    data_mask = data['logE'] > min_log_e\n",
    "    data = data[data_mask]\n",
    "    sig_mask = sig['logE'] > min_log_e\n",
    "    sig = sig[sig_mask]\n",
    "    \n",
    "dataset_spec = cy.selections.CustomDataSpecs.CustomDataSpec(data, sig, np.sum(grl['livetime']),\n",
    "                                                     sindec_bins=bins_sindec,\n",
    "                                                     logenergy_bins=bins_logenergy,\n",
    "                                                     grl=grl, key='greco_v2.10', cascades=True)\n",
    "\n",
    "ANA_DIR = cy.utils.ensure_dir(ANA_DIR)\n",
    "# on OSG\n",
    "# ana_dir = \"./\"\n",
    "ana = cy.get_analysis(cy.selections.repo\n",
    "                      , dataset_spec\n",
    "                      , dir=ANA_DIR\n",
    "                      , load_sig=True)  # to save memory: use False\n"
   ]
  },
  {
   "cell_type": "code",
   "execution_count": 131,
   "id": "36b443c4",
   "metadata": {},
   "outputs": [],
   "source": [
    "class args:\n",
    "    grb_idx_start = 0 \n",
    "    grb_idx_end = 1 \n",
    "    ncpu = 24         ################### Number of Cores #############\n",
    "    out_dir = \"/storage/home/hhive1/cchen641/data/icecube/data/greco_grb/data/csky_output\"\n",
    "############# used for spatial_prior_trial_runner\n",
    "conf = {\n",
    "    'ana': ana,\n",
    "    #### llh basics: csky.conf\n",
    "    'space': 'ps', # ps/fitps/template/prior\n",
    "    'time': 'transient', # utf/lc/transient\n",
    "    'energy': 'customflux', # fit/customflux\n",
    "    'flux': cy.hyp.PowerLawFlux(2.5),\n",
    "    #### inj.py - prior has some duplications against space's prior\n",
    "    'sig': 'transient', # ps/tw/lc/transient/template/prior\n",
    "    'full_sky': True,\n",
    "    'extended': True,\n",
    "    'mp_cpus': args.ncpu,\n",
    "    'cut_n_sigma': 3,\n",
    "}\n",
    "\n",
    "cy.CONF.update(conf)"
   ]
  },
  {
   "cell_type": "code",
   "execution_count": 7,
   "id": "6737d718",
   "metadata": {},
   "outputs": [],
   "source": [
    "df = pd.read_pickle(DATA_DIR+\"/grbwebgbm/grbweb_gbm_noHealpix_2268.pkl\")"
   ]
  },
  {
   "cell_type": "code",
   "execution_count": 8,
   "id": "3372c0d4",
   "metadata": {},
   "outputs": [
    {
     "data": {
      "text/html": [
       "<div>\n",
       "<style scoped>\n",
       "    .dataframe tbody tr th:only-of-type {\n",
       "        vertical-align: middle;\n",
       "    }\n",
       "\n",
       "    .dataframe tbody tr th {\n",
       "        vertical-align: top;\n",
       "    }\n",
       "\n",
       "    .dataframe thead th {\n",
       "        text-align: right;\n",
       "    }\n",
       "</style>\n",
       "<table border=\"1\" class=\"dataframe\">\n",
       "  <thead>\n",
       "    <tr style=\"text-align: right;\">\n",
       "      <th></th>\n",
       "      <th>grb_name</th>\n",
       "      <th>grb_name_GBM</th>\n",
       "      <th>ra</th>\n",
       "      <th>dec</th>\n",
       "      <th>source_uncertainty</th>\n",
       "      <th>mjd_start</th>\n",
       "      <th>t100</th>\n",
       "      <th>t90</th>\n",
       "      <th>gbm</th>\n",
       "      <th>ra_source</th>\n",
       "      <th>decl_source</th>\n",
       "      <th>pos_error_source</th>\n",
       "      <th>fluence</th>\n",
       "      <th>redshift</th>\n",
       "      <th>t_center</th>\n",
       "      <th>hasHealpix</th>\n",
       "    </tr>\n",
       "  </thead>\n",
       "  <tbody>\n",
       "    <tr>\n",
       "      <th>0</th>\n",
       "      <td>GRB200529B</td>\n",
       "      <td>GRB200529504</td>\n",
       "      <td>337.200000</td>\n",
       "      <td>55.230000</td>\n",
       "      <td>3.506136</td>\n",
       "      <td>58998.503432</td>\n",
       "      <td>0.000539</td>\n",
       "      <td>0.000539</td>\n",
       "      <td>1</td>\n",
       "      <td>Fermi_GBM</td>\n",
       "      <td>Fermi_GBM</td>\n",
       "      <td>Fermi_GBM</td>\n",
       "      <td>5.001000e-06</td>\n",
       "      <td>NaN</td>\n",
       "      <td>58998.503701</td>\n",
       "      <td>True</td>\n",
       "    </tr>\n",
       "    <tr>\n",
       "      <th>1</th>\n",
       "      <td>GRB200529A</td>\n",
       "      <td>GRB200529039</td>\n",
       "      <td>238.763917</td>\n",
       "      <td>-11.073639</td>\n",
       "      <td>0.000233</td>\n",
       "      <td>58998.039294</td>\n",
       "      <td>0.001004</td>\n",
       "      <td>0.000984</td>\n",
       "      <td>0</td>\n",
       "      <td>Swift</td>\n",
       "      <td>Swift</td>\n",
       "      <td>Swift</td>\n",
       "      <td>4.847700e-06</td>\n",
       "      <td>NaN</td>\n",
       "      <td>58998.039796</td>\n",
       "      <td>True</td>\n",
       "    </tr>\n",
       "    <tr>\n",
       "      <th>2</th>\n",
       "      <td>GRB200528A</td>\n",
       "      <td>GRB200528436</td>\n",
       "      <td>176.637458</td>\n",
       "      <td>58.192583</td>\n",
       "      <td>0.000194</td>\n",
       "      <td>58997.435683</td>\n",
       "      <td>0.000700</td>\n",
       "      <td>0.000655</td>\n",
       "      <td>0</td>\n",
       "      <td>Swift</td>\n",
       "      <td>Swift</td>\n",
       "      <td>Swift</td>\n",
       "      <td>2.905200e-05</td>\n",
       "      <td>NaN</td>\n",
       "      <td>58997.436033</td>\n",
       "      <td>True</td>\n",
       "    </tr>\n",
       "    <tr>\n",
       "      <th>3</th>\n",
       "      <td>GRB200525A</td>\n",
       "      <td>GRB200525611</td>\n",
       "      <td>20.610000</td>\n",
       "      <td>-8.520000</td>\n",
       "      <td>4.536708</td>\n",
       "      <td>58994.611328</td>\n",
       "      <td>0.001081</td>\n",
       "      <td>0.001081</td>\n",
       "      <td>1</td>\n",
       "      <td>Fermi_GBM</td>\n",
       "      <td>Fermi_GBM</td>\n",
       "      <td>Fermi_GBM</td>\n",
       "      <td>8.858900e-06</td>\n",
       "      <td>NaN</td>\n",
       "      <td>58994.611869</td>\n",
       "      <td>True</td>\n",
       "    </tr>\n",
       "    <tr>\n",
       "      <th>4</th>\n",
       "      <td>GRB200524A</td>\n",
       "      <td>GRB200524211</td>\n",
       "      <td>212.750000</td>\n",
       "      <td>60.966667</td>\n",
       "      <td>0.100000</td>\n",
       "      <td>58993.211115</td>\n",
       "      <td>0.000445</td>\n",
       "      <td>0.000437</td>\n",
       "      <td>0</td>\n",
       "      <td>IPN</td>\n",
       "      <td>IPN</td>\n",
       "      <td>IPN</td>\n",
       "      <td>1.396400e-05</td>\n",
       "      <td>1.256</td>\n",
       "      <td>58993.211338</td>\n",
       "      <td>True</td>\n",
       "    </tr>\n",
       "    <tr>\n",
       "      <th>...</th>\n",
       "      <td>...</td>\n",
       "      <td>...</td>\n",
       "      <td>...</td>\n",
       "      <td>...</td>\n",
       "      <td>...</td>\n",
       "      <td>...</td>\n",
       "      <td>...</td>\n",
       "      <td>...</td>\n",
       "      <td>...</td>\n",
       "      <td>...</td>\n",
       "      <td>...</td>\n",
       "      <td>...</td>\n",
       "      <td>...</td>\n",
       "      <td>...</td>\n",
       "      <td>...</td>\n",
       "      <td>...</td>\n",
       "    </tr>\n",
       "    <tr>\n",
       "      <th>2263</th>\n",
       "      <td>GRB120429B</td>\n",
       "      <td>GRB120429484</td>\n",
       "      <td>133.040000</td>\n",
       "      <td>-32.230000</td>\n",
       "      <td>6.505598</td>\n",
       "      <td>56046.484059</td>\n",
       "      <td>0.000178</td>\n",
       "      <td>0.000178</td>\n",
       "      <td>1</td>\n",
       "      <td>Fermi_GBM</td>\n",
       "      <td>Fermi_GBM</td>\n",
       "      <td>Fermi_GBM</td>\n",
       "      <td>2.367800e-06</td>\n",
       "      <td>NaN</td>\n",
       "      <td>56046.484148</td>\n",
       "      <td>True</td>\n",
       "    </tr>\n",
       "    <tr>\n",
       "      <th>2264</th>\n",
       "      <td>GRB120429A</td>\n",
       "      <td>GRB120429003</td>\n",
       "      <td>165.980000</td>\n",
       "      <td>-8.760000</td>\n",
       "      <td>9.378528</td>\n",
       "      <td>56046.002860</td>\n",
       "      <td>0.000019</td>\n",
       "      <td>0.000019</td>\n",
       "      <td>1</td>\n",
       "      <td>Fermi_GBM</td>\n",
       "      <td>Fermi_GBM</td>\n",
       "      <td>Fermi_GBM</td>\n",
       "      <td>2.793700e-07</td>\n",
       "      <td>NaN</td>\n",
       "      <td>56046.002869</td>\n",
       "      <td>True</td>\n",
       "    </tr>\n",
       "    <tr>\n",
       "      <th>2265</th>\n",
       "      <td>GRB120427B</td>\n",
       "      <td>GRB120427153</td>\n",
       "      <td>114.700000</td>\n",
       "      <td>50.210000</td>\n",
       "      <td>15.003090</td>\n",
       "      <td>56044.153189</td>\n",
       "      <td>0.000264</td>\n",
       "      <td>0.000264</td>\n",
       "      <td>1</td>\n",
       "      <td>Fermi_GBM</td>\n",
       "      <td>Fermi_GBM</td>\n",
       "      <td>Fermi_GBM</td>\n",
       "      <td>6.805100e-07</td>\n",
       "      <td>NaN</td>\n",
       "      <td>56044.153321</td>\n",
       "      <td>True</td>\n",
       "    </tr>\n",
       "    <tr>\n",
       "      <th>2266</th>\n",
       "      <td>GRB120427A</td>\n",
       "      <td>GRB120427054</td>\n",
       "      <td>224.935000</td>\n",
       "      <td>29.311000</td>\n",
       "      <td>NaN</td>\n",
       "      <td>56044.053773</td>\n",
       "      <td>0.000089</td>\n",
       "      <td>0.000062</td>\n",
       "      <td>0</td>\n",
       "      <td>GCN_circulars,IPN Triangulation</td>\n",
       "      <td>GCN_circulars,IPN Triangulation</td>\n",
       "      <td>None</td>\n",
       "      <td>7.429900e-06</td>\n",
       "      <td>NaN</td>\n",
       "      <td>56044.053818</td>\n",
       "      <td>True</td>\n",
       "    </tr>\n",
       "    <tr>\n",
       "      <th>2267</th>\n",
       "      <td>GRB120426B</td>\n",
       "      <td>GRB120426585</td>\n",
       "      <td>285.490000</td>\n",
       "      <td>-13.680000</td>\n",
       "      <td>4.660295</td>\n",
       "      <td>56043.584981</td>\n",
       "      <td>0.000359</td>\n",
       "      <td>0.000358</td>\n",
       "      <td>1</td>\n",
       "      <td>Fermi_GBM</td>\n",
       "      <td>Fermi_GBM</td>\n",
       "      <td>Fermi_GBM</td>\n",
       "      <td>3.658500e-06</td>\n",
       "      <td>NaN</td>\n",
       "      <td>56043.585160</td>\n",
       "      <td>True</td>\n",
       "    </tr>\n",
       "  </tbody>\n",
       "</table>\n",
       "<p>2268 rows × 16 columns</p>\n",
       "</div>"
      ],
      "text/plain": [
       "        grb_name  grb_name_GBM          ra        dec  source_uncertainty  \\\n",
       "0     GRB200529B  GRB200529504  337.200000  55.230000            3.506136   \n",
       "1     GRB200529A  GRB200529039  238.763917 -11.073639            0.000233   \n",
       "2     GRB200528A  GRB200528436  176.637458  58.192583            0.000194   \n",
       "3     GRB200525A  GRB200525611   20.610000  -8.520000            4.536708   \n",
       "4     GRB200524A  GRB200524211  212.750000  60.966667            0.100000   \n",
       "...          ...           ...         ...        ...                 ...   \n",
       "2263  GRB120429B  GRB120429484  133.040000 -32.230000            6.505598   \n",
       "2264  GRB120429A  GRB120429003  165.980000  -8.760000            9.378528   \n",
       "2265  GRB120427B  GRB120427153  114.700000  50.210000           15.003090   \n",
       "2266  GRB120427A  GRB120427054  224.935000  29.311000                 NaN   \n",
       "2267  GRB120426B  GRB120426585  285.490000 -13.680000            4.660295   \n",
       "\n",
       "         mjd_start      t100       t90  gbm                        ra_source  \\\n",
       "0     58998.503432  0.000539  0.000539    1                        Fermi_GBM   \n",
       "1     58998.039294  0.001004  0.000984    0                            Swift   \n",
       "2     58997.435683  0.000700  0.000655    0                            Swift   \n",
       "3     58994.611328  0.001081  0.001081    1                        Fermi_GBM   \n",
       "4     58993.211115  0.000445  0.000437    0                              IPN   \n",
       "...            ...       ...       ...  ...                              ...   \n",
       "2263  56046.484059  0.000178  0.000178    1                        Fermi_GBM   \n",
       "2264  56046.002860  0.000019  0.000019    1                        Fermi_GBM   \n",
       "2265  56044.153189  0.000264  0.000264    1                        Fermi_GBM   \n",
       "2266  56044.053773  0.000089  0.000062    0  GCN_circulars,IPN Triangulation   \n",
       "2267  56043.584981  0.000359  0.000358    1                        Fermi_GBM   \n",
       "\n",
       "                          decl_source pos_error_source       fluence  \\\n",
       "0                           Fermi_GBM        Fermi_GBM  5.001000e-06   \n",
       "1                               Swift            Swift  4.847700e-06   \n",
       "2                               Swift            Swift  2.905200e-05   \n",
       "3                           Fermi_GBM        Fermi_GBM  8.858900e-06   \n",
       "4                                 IPN              IPN  1.396400e-05   \n",
       "...                               ...              ...           ...   \n",
       "2263                        Fermi_GBM        Fermi_GBM  2.367800e-06   \n",
       "2264                        Fermi_GBM        Fermi_GBM  2.793700e-07   \n",
       "2265                        Fermi_GBM        Fermi_GBM  6.805100e-07   \n",
       "2266  GCN_circulars,IPN Triangulation             None  7.429900e-06   \n",
       "2267                        Fermi_GBM        Fermi_GBM  3.658500e-06   \n",
       "\n",
       "      redshift      t_center  hasHealpix  \n",
       "0          NaN  58998.503701        True  \n",
       "1          NaN  58998.039796        True  \n",
       "2          NaN  58997.436033        True  \n",
       "3          NaN  58994.611869        True  \n",
       "4        1.256  58993.211338        True  \n",
       "...        ...           ...         ...  \n",
       "2263       NaN  56046.484148        True  \n",
       "2264       NaN  56046.002869        True  \n",
       "2265       NaN  56044.153321        True  \n",
       "2266       NaN  56044.053818        True  \n",
       "2267       NaN  56043.585160        True  \n",
       "\n",
       "[2268 rows x 16 columns]"
      ]
     },
     "execution_count": 8,
     "metadata": {},
     "output_type": "execute_result"
    }
   ],
   "source": [
    "df"
   ]
  },
  {
   "cell_type": "markdown",
   "id": "f7db10d5",
   "metadata": {},
   "source": [
    "## 1. get s/b and n_b"
   ]
  },
  {
   "cell_type": "code",
   "execution_count": 9,
   "id": "0c3cbdc0",
   "metadata": {},
   "outputs": [],
   "source": [
    "## only uncomment below if want refreshed results"
   ]
  },
  {
   "cell_type": "code",
   "execution_count": 141,
   "id": "3a369d6d",
   "metadata": {
    "scrolled": true
   },
   "outputs": [],
   "source": [
    "# sob_matrix = [\n",
    "#     [],  # t100\n",
    "#     [],  # 10 \n",
    "#     [],  # 25\n",
    "#     [],  # 50\n",
    "#     [],  # 100\n",
    "#     [],  # 250\n",
    "#     [],  # 500\n",
    "# ]\n",
    "# n_b_list = [0,0,0,0,0,0,0]  # expect 1+6 values\n",
    "# # for each grb\n",
    "# # for grb_idx in range(args.grb_idx_start, args.grb_idx_end):\n",
    "# timer = cy.timing.Timer()\n",
    "# time = timer.time\n",
    "# with time(\"Test...\"):\n",
    "#     end_idx_plus_1 = 2268 # 2268\n",
    "#     for grb_idx in range(0, end_idx_plus_1):\n",
    "#         # load grb info\n",
    "#         grb_name = df.grb_name[grb_idx]\n",
    "#         if(grb_idx % 20 == 0):\n",
    "#             print(f\"(report every 20) Working on {grb_name}\")\n",
    "#         grb_row = df.loc[df['grb_name'] == grb_name]\n",
    "#         ra = grb_row.ra\n",
    "#         dec = grb_row.dec\n",
    "#         t100 = grb_row.t100 * 86400.\n",
    "#         # load grb healpix map\n",
    "#         healpix = np.load(DATA_DIR+\"/grbwebgbm/healpix/{}_healpix_nside64.npy\".format(grb_name))\n",
    "#         healpix = np.maximum(healpix,0)\n",
    "#         ########## healpix reduce (< instead of <=) ##########\n",
    "#         healpix[healpix < isf_healpix(healpix, q=0.99)] = 0\n",
    "#         healpix = healpix / np.sum(healpix)\n",
    "#         # for each tw_in_second\n",
    "#     #     tss, nss = [], []\n",
    "#         for tw_idx, tw_in_second in enumerate([t100, 10,25,50,100,250,500]):\n",
    "#             tw = tw_in_second/86400.\n",
    "#             tw_start = grb_row.t_center - 0.5*tw\n",
    "#             src = cy.sources(\n",
    "#                 ra=ra,\n",
    "#                 dec=dec,\n",
    "#                 deg=True,\n",
    "#                 mjd=tw_start, \n",
    "#                 sigma_t=np.zeros_like(tw), \n",
    "#                 t_100=tw,  # in days\n",
    "#                 prior=[hl.heal.HealHist(healpix)],\n",
    "#                 name=grb_name\n",
    "#             )\n",
    "#             tr = cy.get_trial_runner(conf=cy.CONF, ana=ana, src=src)\n",
    "#             L = tr.get_one_llh(TRUTH=True)\n",
    "#             #### i=0 for bg, i=1 for sig; unblind so i=0.\n",
    "#             SB_space = cy.inspect.get_space_eval(L, -1, 0)()[0]\n",
    "#             ## unblinded, no need for (gamma=xxx)\n",
    "#             SB_energy = cy.inspect.get_energy_eval(L, -1, 0)()[0]\n",
    "#             SB = SB_space * SB_energy\n",
    "            \n",
    "#             sob_matrix[tw_idx].append(SB)\n",
    "#             n_b_list[tw_idx] += L.llh_model.N_bg\n",
    "            \n",
    "# with time(\"Saving...\"):\n",
    "#     np.save(DATA_DIR+f\"/csky_output/comparison/unblind/{end_idx_plus_1}_sob_matrix.npy\", \n",
    "#                 np.array(sob_matrix,dtype=object))\n",
    "#     np.save(DATA_DIR+f\"/csky_output/comparison/unblind/{end_idx_plus_1}_n_b_list.npy\", \n",
    "#                 np.array(n_b_list,dtype=object))"
   ]
  },
  {
   "cell_type": "markdown",
   "id": "7824fb61",
   "metadata": {},
   "source": [
    "## 2. get `n_fit` and `TS_unblind` from `s/b` and `n_b`"
   ]
  },
  {
   "cell_type": "code",
   "execution_count": 142,
   "id": "04104ef4",
   "metadata": {},
   "outputs": [],
   "source": [
    "end_idx_plus_1 = 2268\n",
    "sob_matrix_from_file = np.load(DATA_DIR+f\"/csky_output/comparison/unblind/{end_idx_plus_1}_sob_matrix.npy\", allow_pickle=True)\n",
    "n_b_list_from_file = np.load(DATA_DIR+f\"/csky_output/comparison/unblind/{end_idx_plus_1}_n_b_list.npy\", allow_pickle=True)\n"
   ]
  },
  {
   "cell_type": "code",
   "execution_count": 144,
   "id": "2d654181",
   "metadata": {},
   "outputs": [
    {
     "data": {
      "text/plain": [
       "(array([[array([], dtype=float64), array([], dtype=float64),\n",
       "         array([], dtype=float64), ..., array([], dtype=float64),\n",
       "         array([], dtype=float64), array([], dtype=float64)],\n",
       "        [array([], dtype=float64), array([], dtype=float64),\n",
       "         array([], dtype=float64), ..., array([], dtype=float64),\n",
       "         array([], dtype=float64), array([], dtype=float64)],\n",
       "        [array([], dtype=float64), array([], dtype=float64),\n",
       "         array([], dtype=float64), ..., array([], dtype=float64),\n",
       "         array([], dtype=float64), array([], dtype=float64)],\n",
       "        ...,\n",
       "        [array([], dtype=float64), array([], dtype=float64),\n",
       "         array([], dtype=float64), ..., array([], dtype=float64),\n",
       "         array([0.42919967]), array([], dtype=float64)],\n",
       "        [array([0.40161226]), array([0.37091752]),\n",
       "         array([], dtype=float64), ..., array([], dtype=float64),\n",
       "         array([0.42919967]), array([], dtype=float64)],\n",
       "        [array([0.40161226]), array([1.7707964 , 0.37091752]),\n",
       "         array([], dtype=float64), ..., array([0.19790281]),\n",
       "         array([0.42919967, 5.22705277]), array([], dtype=float64)]],\n",
       "       dtype=object),\n",
       " array([440.6794152618813, 90.33959693660277, 225.8299629313832,\n",
       "        451.53490320347436, 902.4088314519523, 2253.7203954085285,\n",
       "        4504.838972876297], dtype=object))"
      ]
     },
     "execution_count": 144,
     "metadata": {},
     "output_type": "execute_result"
    }
   ],
   "source": [
    "sob_matrix_from_file, n_b_list_from_file"
   ]
  },
  {
   "cell_type": "code",
   "execution_count": 13,
   "id": "a799e397",
   "metadata": {},
   "outputs": [],
   "source": [
    "###########################\n",
    "#                         #\n",
    "#        Functions        #\n",
    "#                         #\n",
    "###########################\n",
    "\n",
    "\n",
    "def neg_TS(n_s, sobe_list, n_b):\n",
    "    \"\"\"\n",
    "    Calculate the test statistic for a given S/B list, \n",
    "        number of background events, and n_s.\n",
    "        \n",
    "    Define the function for use in a minimizer later.\n",
    "    \n",
    "    Returns the negative TS\n",
    "    \"\"\"\n",
    "    TS = -n_s + np.sum(np.log(n_s * (sobe_list/n_b) +1))\n",
    "    \n",
    "    return -TS\n",
    "\n",
    "def calc_stacked_TS(sobe_list, n_b):\n",
    "    \"\"\"\n",
    "    Calculate the TS for a set of S/B and a stacked n_b.  \n",
    "        This function calls a minimizer to find the n_s \n",
    "        that minimizes the negative TS value.\n",
    "        \n",
    "    sobe_list: numpy array\n",
    "        Concatenated list of S/B values for all GRBs.  These \n",
    "        are the signal/background values for every event \n",
    "        contributing to a GRB in a trial\n",
    "    n_b: float\n",
    "        Number of expected background events for the entire \n",
    "        stacked time window\n",
    "    \n",
    "    Returns a test statistic and fit ns value for the trial.\n",
    "    \"\"\"\n",
    "    \n",
    "    # See the last cell of this script for several examples of how to make this work\n",
    "\n",
    "    # A short function to sort out passed args versus what the minimizer should fit\n",
    "    def fit_neg_ts(n_s): return neg_TS(n_s, sobe_list, n_b)\n",
    "    \n",
    "    # Fit the results with a scipy minimizer\n",
    "    fit_results = scipy.optimize.minimize(fit_neg_ts, [1.], bounds=[(0.,len(sobe_list))]) \n",
    "\n",
    "    # Get the fit results\n",
    "    ns_fit = fit_results.x[0]\n",
    "    TS = -fit_results.fun[0]\n",
    "    \n",
    "    return TS, ns_fit\n",
    "\n",
    "\n",
    "\n",
    "def calc_unblind_TS(sobe_list, n_b):\n",
    "    \"\"\"\n",
    "    Calculate the unblinded TS for some subset of GRBs\n",
    "    \n",
    "    grb_results_array: numpy array\n",
    "        Sky and duration cuts to determine which GRBs are considered\n",
    "    TW_str: str\n",
    "        Prompt or 0-9 for time window\n",
    "        \n",
    "    Parameter:\n",
    "    ---------------\n",
    "    sobe_list : numpy array\n",
    "                the length of the list can be from 0 to a number greater than 2268\n",
    "                \n",
    "    n_b : float\n",
    "            one number obtained from all 2268 GRBs\n",
    "    \"\"\"\n",
    "    \n",
    "    if len(sobe_list) != 0:\n",
    "        sobe_list_combined = np.concatenate(sobe_list)\n",
    "    else:\n",
    "        sobe_list_combined = np.array([0.])\n",
    "\n",
    "    #n_b = total_time*0.007  # Fixed background rate so calculate n_b easily\n",
    "    \n",
    "    TS_unblind, ns_fit = calc_stacked_TS(sobe_list_combined, n_b)\n",
    "    if TS_unblind < 0:\n",
    "        TS_unblind = 0.\n",
    "        \n",
    "    return TS_unblind, ns_fit"
   ]
  },
  {
   "cell_type": "code",
   "execution_count": 14,
   "id": "db7ca985",
   "metadata": {},
   "outputs": [
    {
     "data": {
      "text/plain": [
       "((7, 2268), (7,))"
      ]
     },
     "execution_count": 14,
     "metadata": {},
     "output_type": "execute_result"
    }
   ],
   "source": [
    "sob_matrix_from_file.shape, n_b_list_from_file.shape"
   ]
  },
  {
   "cell_type": "code",
   "execution_count": 15,
   "id": "020bf070",
   "metadata": {},
   "outputs": [
    {
     "data": {
      "text/plain": [
       "[(0.0, 0.0),\n",
       " (0.0, 0.0),\n",
       " (0.0, 0.0),\n",
       " (0.0, 0.0),\n",
       " (0.06077506920024356, 1.5388555114402187),\n",
       " (0.0, 0.0),\n",
       " (0.0, 0.0)]"
      ]
     },
     "execution_count": 15,
     "metadata": {},
     "output_type": "execute_result"
    }
   ],
   "source": [
    "# [t100, 10,25,50,100,250,500]\n",
    "[calc_unblind_TS(sob_matrix_from_file[i], n_b_list_from_file[i]) for i in range(0, 7)]"
   ]
  },
  {
   "cell_type": "markdown",
   "id": "f390b9f1",
   "metadata": {},
   "source": [
    "# 3. Get sob, n_b and stacked TS from background runs"
   ]
  },
  {
   "cell_type": "code",
   "execution_count": 133,
   "id": "cb761cbc",
   "metadata": {},
   "outputs": [],
   "source": [
    "class args:\n",
    "    grb_name = \"GRB180423A\"    # real healpix example\n",
    "    # grb_name = \"GRB190415A\"    # fake healpix example \n",
    "    batchNtrials = 5\n",
    "    batchIndex = 0\n",
    "    ncpu = 24\n",
    "    outfilename = \"\""
   ]
  },
  {
   "cell_type": "code",
   "execution_count": 134,
   "id": "fcb2dce6",
   "metadata": {},
   "outputs": [
    {
     "name": "stdout",
     "output_type": "stream",
     "text": [
      "\n",
      "...Done\n",
      "\n"
     ]
    }
   ],
   "source": [
    "rng=np.random.default_rng(abs(java_hash(args.grb_name)))\n",
    "seeds = rng.integers(int(1e9), size=int(2e8))[args.batchNtrials*args.batchIndex: args.batchNtrials*(args.batchIndex + 1)]\n",
    "print(\"\\n...Done\\n\")"
   ]
  },
  {
   "cell_type": "code",
   "execution_count": 135,
   "id": "178793b4",
   "metadata": {},
   "outputs": [
    {
     "data": {
      "text/plain": [
       "array([840444166, 348822262, 164807178, 105228374,  13675713])"
      ]
     },
     "execution_count": 135,
     "metadata": {},
     "output_type": "execute_result"
    }
   ],
   "source": [
    "seeds"
   ]
  },
  {
   "cell_type": "code",
   "execution_count": 169,
   "id": "61cfab3c",
   "metadata": {},
   "outputs": [
    {
     "data": {
      "text/plain": [
       "0.000634074074074074"
      ]
     },
     "execution_count": 169,
     "metadata": {},
     "output_type": "execute_result"
    }
   ],
   "source": [
    "grb_row.t100.values[0]"
   ]
  },
  {
   "cell_type": "code",
   "execution_count": 170,
   "id": "de20c6d1",
   "metadata": {},
   "outputs": [
    {
     "name": "stdout",
     "output_type": "stream",
     "text": [
      "\n",
      "0:00:18.495897 elapsed.\n",
      "Saving SoB and n_b for GRB180423A with TW=54.78\n",
      "\n",
      "0:00:18.361897 elapsed.\n",
      "Saving SoB and n_b for GRB180423A with TW=10.00\n",
      "\n",
      "0:00:18.257248 elapsed.\n",
      "Saving SoB and n_b for GRB180423A with TW=25.00\n",
      "\n",
      "0:00:18.374427 elapsed.\n",
      "Saving SoB and n_b for GRB180423A with TW=50.00\n",
      "\n",
      "0:00:27.236933 elapsed.\n",
      "Saving SoB and n_b for GRB180423A with TW=100.00\n"
     ]
    },
    {
     "name": "stderr",
     "output_type": "stream",
     "text": [
      "/storage/home/hhive1/cchen641/.conda/envs/icecube_py3/lib/python3.7/site-packages/ipykernel_launcher.py:74: VisibleDeprecationWarning: Creating an ndarray from ragged nested sequences (which is a list-or-tuple of lists-or-tuples-or ndarrays with different lengths or shapes) is deprecated. If you meant to do this, you must specify 'dtype=object' when creating the ndarray.\n"
     ]
    },
    {
     "name": "stdout",
     "output_type": "stream",
     "text": [
      "\n",
      "0:00:33.152332 elapsed.\n",
      "Saving SoB and n_b for GRB180423A with TW=250.00\n",
      "\n",
      "0:00:42.305993 elapsed.\n",
      "Saving SoB and n_b for GRB180423A with TW=500.00\n"
     ]
    }
   ],
   "source": [
    "grb_name = args.grb_name\n",
    "grb_row = df.loc[df['grb_name'] == grb_name]\n",
    "ra = grb_row.ra\n",
    "dec = grb_row.dec\n",
    "t100 = grb_row.t100.values[0] * 86400.\n",
    "### load grb healpix map\n",
    "healpix = np.load(DATA_DIR+\"/grbwebgbm/healpix/{}_healpix_nside64.npy\".format(grb_name))\n",
    "healpix = np.maximum(healpix,0)\n",
    "########## healpix reduce (< instead of <=) ##########\n",
    "healpix[healpix < isf_healpix(healpix, q=0.99)] = 0\n",
    "healpix = healpix / np.sum(healpix)\n",
    "### for each tw_in_second\n",
    "for tw_idx, tw_in_second in enumerate([t100, 10,25,50,100,250,500]):\n",
    "    timer = cy.timing.Timer()\n",
    "    time = timer.time\n",
    "    with time(f\"Working on {grb_name} with TW{tw_in_second}...\"):\n",
    "        sob_list = []\n",
    "        n_b_list =[]\n",
    "        tw = tw_in_second/86400.\n",
    "        tw_start = grb_row.t_center - 0.5*tw\n",
    "        src = cy.sources(\n",
    "            ra=ra,\n",
    "            dec=dec,\n",
    "            deg=True,\n",
    "            mjd=tw_start, \n",
    "            sigma_t=np.zeros_like(tw), \n",
    "            t_100=tw,  # in days\n",
    "            prior=[hl.heal.HealHist(healpix)],\n",
    "            name=grb_name\n",
    "        )\n",
    "        for no_trial in range(args.batchNtrials):\n",
    "            sptr = cy.get_spatial_prior_trial_runner(conf=cy.CONF\n",
    "                                         ,src_tr=src\n",
    "                                         ,llh_priors=[healpix])\n",
    "\n",
    "            ############## ref: osg_stacked_bg_tsd.py ########################\n",
    "            ############## Get the pixelmax ##################################\n",
    "            try:\n",
    "                _, ts, ns, ra_fit, dec_fit = sptr.get_one_fit(TRUTH=False, \n",
    "                                                               mp_cpus=args.ncpu, \n",
    "                                                               logging=False,\n",
    "                                                              seed=seeds[no_trial])\n",
    "            except:\n",
    "                ts, ns, ra_fit, dec_fit = 0.0, 0.0, 0.0, 0.0\n",
    "            if ns == 0.0:\n",
    "                ra_fit, dec_fit = grb_row.ra, grb_row.dec\n",
    "            ############## Get SoB, n_b for point source: pixelmax ##########\n",
    "            src_fit = cy.sources(\n",
    "                            ra=ra_fit,\n",
    "                            dec=dec_fit,\n",
    "                            deg=True,\n",
    "                            mjd=tw_start, \n",
    "                            sigma_t=np.zeros_like(tw), \n",
    "                            t_100=tw,  # in days\n",
    "                            # prior=[hl.heal.HealHist(healpix)], # not important here\n",
    "                            name=grb_name\n",
    "                        )\n",
    "            tr = cy.get_trial_runner(conf=cy.CONF, ana=ana, src=src_fit)\n",
    "            L = tr.get_one_llh(TRUTH=False, seed=seeds[no_trial])\n",
    "            try:\n",
    "                #### i=0 for bg, i=1 for sig; unblind so i=0.\n",
    "                SB_space = cy.inspect.get_space_eval(L, -1, 0)()[0]\n",
    "                ## unblinded, no need for (gamma=xxx)\n",
    "                SB_energy = cy.inspect.get_energy_eval(L, -1, 0)()[0]\n",
    "                SB = SB_space * SB_energy\n",
    "            except:\n",
    "                SB = np.array([])\n",
    "            n_b = L.llh_model.N_bg\n",
    "            sob_list.append(SB)\n",
    "            n_b_list.append(n_b)\n",
    "    # Save sob_list and n_b_list for this GRB with this TW\n",
    "    print(f\"Saving SoB and n_b for {grb_name} with TW={tw_in_second:.2f}\")\n",
    "    output_path = cy.utils.ensure_dir(DATA_DIR+f\"/csky_output/comparison/background/{grb_name}\")\n",
    "    np.save(f\"{output_path}/{grb_name}_tw{tw_in_second:.2f}_batchIndex{args.batchIndex}_batchNtrials{args.batchNtrials}.npy\", np.array(sob_list))\n",
    "    np.save(f\"{output_path}/{grb_name}_tw{tw_in_second:.2f}_batchIndex{args.batchIndex}_batchNtrials{args.batchNtrials}.npy\", np.array(n_b_list))"
   ]
  },
  {
   "cell_type": "code",
   "execution_count": 140,
   "id": "41a9f233",
   "metadata": {},
   "outputs": [
    {
     "data": {
      "text/plain": [
       "[2080.6113763385733,\n",
       " 2080.6113763385733,\n",
       " 2080.6113763385733,\n",
       " 2080.6113763385733,\n",
       " 2080.6113763385733]"
      ]
     },
     "execution_count": 140,
     "metadata": {},
     "output_type": "execute_result"
    }
   ],
   "source": [
    "n_b_list"
   ]
  },
  {
   "cell_type": "code",
   "execution_count": 149,
   "id": "c71b4eae",
   "metadata": {},
   "outputs": [
    {
     "name": "stderr",
     "output_type": "stream",
     "text": [
      "/storage/home/hhive1/cchen641/.conda/envs/icecube_py3/lib/python3.7/site-packages/ipykernel_launcher.py:3: VisibleDeprecationWarning: Creating an ndarray from ragged nested sequences (which is a list-or-tuple of lists-or-tuples-or ndarrays with different lengths or shapes) is deprecated. If you meant to do this, you must specify 'dtype=object' when creating the ndarray.\n",
      "  This is separate from the ipykernel package so we can avoid doing imports until\n"
     ]
    }
   ],
   "source": []
  },
  {
   "cell_type": "code",
   "execution_count": null,
   "id": "768fa18c",
   "metadata": {},
   "outputs": [],
   "source": []
  },
  {
   "cell_type": "markdown",
   "id": "9ac90033",
   "metadata": {},
   "source": [
    "# 4. Calculate TS_upper_limit based on TS_median from background and TS_unblind above"
   ]
  },
  {
   "cell_type": "code",
   "execution_count": null,
   "id": "27e5dbac",
   "metadata": {},
   "outputs": [],
   "source": []
  }
 ],
 "metadata": {
  "kernelspec": {
   "display_name": "Python [conda env:.conda-icecube_py3]",
   "language": "python",
   "name": "conda-env-.conda-icecube_py3-py"
  },
  "language_info": {
   "codemirror_mode": {
    "name": "ipython",
    "version": 3
   },
   "file_extension": ".py",
   "mimetype": "text/x-python",
   "name": "python",
   "nbconvert_exporter": "python",
   "pygments_lexer": "ipython3",
   "version": "3.7.3"
  }
 },
 "nbformat": 4,
 "nbformat_minor": 5
}
