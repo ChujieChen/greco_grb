{
 "cells": [
  {
   "cell_type": "code",
   "execution_count": 3,
   "metadata": {},
   "outputs": [],
   "source": [
    "from scipy import stats"
   ]
  },
  {
   "cell_type": "code",
   "execution_count": 4,
   "metadata": {},
   "outputs": [
    {
     "data": {
      "text/plain": [
       "2.866515718791933e-07"
      ]
     },
     "execution_count": 4,
     "metadata": {},
     "output_type": "execute_result"
    }
   ],
   "source": [
    "stats.norm.sf(5)"
   ]
  },
  {
   "cell_type": "code",
   "execution_count": null,
   "metadata": {},
   "outputs": [],
   "source": []
  },
  {
   "cell_type": "code",
   "execution_count": 1,
   "metadata": {},
   "outputs": [
    {
     "name": "stdout",
     "output_type": "stream",
     "text": [
      "\n",
      "#### Working at GT ####\n",
      "\n",
      "LOCATION: \t GT\n",
      "USER: \t cchen641\n",
      "ICDATA_DIR: \t /storage/home/hhive1/cchen641/data/icecube/data/analyses/online_GRECO/candidate-002-p10\n",
      "DATA_DIR: \t /storage/home/hhive1/cchen641/data/icecube/data/greco_grb/data\n",
      "ANA_DIR: \t /storage/home/hhive1/cchen641/data/icecube/data/greco_grb/data/csky_output\n",
      "\n"
     ]
    }
   ],
   "source": [
    "import pandas as pd\n",
    "import sys\n",
    "###### Local Import ######\n",
    "sys.path.append('../../')\n",
    "from greco_grb.scripts import SETTING\n",
    "paths = SETTING.PATH()\n",
    "print(paths)\n",
    "LOCATION = paths.LOCATION\n",
    "USER = paths.USER\n",
    "ICDATA_DIR = paths.ICDATA_DIR\n",
    "DATA_DIR = paths.DATA_DIR\n",
    "ANA_DIR = paths.ANA_DIR\n",
    "from greco_grb.scripts.utils import *\n",
    "df = pd.read_pickle(DATA_DIR+\"/grbwebgbm/grbweb_gbm_noHealpix_2268.pkl\")"
   ]
  },
  {
   "cell_type": "code",
   "execution_count": 2,
   "metadata": {},
   "outputs": [
    {
     "data": {
      "text/plain": [
       "array(['GRB180423A', 'GRB150716A', 'GRB160822A', 'GRB190623A',\n",
       "       'GRB160709B'], dtype=object)"
      ]
     },
     "execution_count": 2,
     "metadata": {},
     "output_type": "execute_result"
    }
   ],
   "source": [
    "random = np.random.RandomState(1)\n",
    "np.r_[np.array(['GRB180423A', 'GRB150716A']), random.choice(df.grb_name.values, 3)]"
   ]
  },
  {
   "cell_type": "markdown",
   "metadata": {},
   "source": [
    "# New: Inject 500s, fit in smaller time windows"
   ]
  },
  {
   "cell_type": "code",
   "execution_count": 3,
   "metadata": {},
   "outputs": [
    {
     "name": "stdout",
     "output_type": "stream",
     "text": [
      "Python version:  3.7.3 (default, Mar 27 2019, 22:11:17) \n",
      "[GCC 7.3.0]\n",
      "\n",
      "#### Working at GT ####\n",
      "\n",
      "LOCATION: \t GT\n",
      "USER: \t cchen641\n",
      "ICDATA_DIR: \t /storage/home/hhive1/cchen641/data/icecube/data/analyses/online_GRECO/candidate-002-p10\n",
      "DATA_DIR: \t /storage/home/hhive1/cchen641/data/icecube/data/greco_grb/data\n",
      "ANA_DIR: \t /storage/home/hhive1/cchen641/data/icecube/data/greco_grb/data/csky_output\n",
      "\n"
     ]
    }
   ],
   "source": [
    "#!/bin/sh /cvmfs/icecube.opensciencegrid.org/py3-v4.1.0/icetray-start\n",
    "#METAPROJECT: combo/stable\n",
    "#!/usr/bin/env python\n",
    "\"\"\"\n",
    "1 GBM-GRB + 1 nonGBM-GRB = 2 GRBs (two different qsub)\n",
    "6 time windows\n",
    "40  different injections (0 ~ 9.1, step=0.2)\n",
    "500 trials for each n_inj (run on 1 core)\n",
    "20 s/trial\n",
    "= 2k cpu hr = 1000 hivecpu * 2 hr\n",
    "\n",
    "tws_in_second    = [  10,     25,    50,   100,   250,   500][::-1] \n",
    "\"\"\"\n",
    "\n",
    "import os\n",
    "import sys\n",
    "print(\"Python version: \", end=' ')\n",
    "print(sys.version)\n",
    "\n",
    "import numpy as np\n",
    "import healpy as hp\n",
    "import histlite as hl\n",
    "import csky as cy\n",
    "import pandas as pd\n",
    "from scipy import sparse\n",
    "\n",
    "############# comment out below lines on clusters ##########\n",
    "# import matplotlib.pyplot as plt\n",
    "# from matplotlib import cm\n",
    "# import matplotlib.colors as colors\n",
    "# %matplotlib inline\n",
    "# %matplotlib notebook\n",
    "############################################################\n",
    "\n",
    "from glob import glob\n",
    "timer = cy.timing.Timer()\n",
    "time = timer.time\n",
    "\n",
    "###### Local Import ######\n",
    "sys.path.append('../../')\n",
    "from greco_grb.scripts import SETTING\n",
    "paths = SETTING.PATH()\n",
    "print(paths)\n",
    "LOCATION = paths.LOCATION\n",
    "USER = paths.USER\n",
    "ICDATA_DIR = paths.ICDATA_DIR\n",
    "DATA_DIR = paths.DATA_DIR\n",
    "ANA_DIR = paths.ANA_DIR\n",
    "from greco_grb.scripts.utils import *\n"
   ]
  },
  {
   "cell_type": "code",
   "execution_count": 4,
   "metadata": {},
   "outputs": [
    {
     "name": "stdout",
     "output_type": "stream",
     "text": [
      "\n",
      "===== Loading no-healpix df =====\n",
      "\n",
      "\n",
      "===== Loading healpix of GRB150716A=====\n",
      "\n",
      "\n",
      "...Done\n",
      "\n",
      "\n",
      "===== Setting up csky =====\n",
      "\n",
      "Setting up Analysis for:\n",
      "greco_v2.10\n",
      "Setting up greco_v2.10...\n",
      "Energy PDF Ratio Model...\n",
      "  * gamma = 4.0000 ...\n",
      "Signal Acceptance Model...\n",
      "  * gamma = 4.0000 ...\n",
      "Done.\n"
     ]
    }
   ],
   "source": [
    "import argparse\n",
    "######################### CONFIGURE ARGUEMENTS #############################\n",
    "# p = argparse.ArgumentParser(description=\"Signal Trials\",\n",
    "#                             formatter_class=argparse.RawTextHelpFormatter)\n",
    "# p.add_argument(\"--grb_name\", default=\"GRB180423A\", type=str, help=\"GRB name: GRByymmddC\")\n",
    "# p.add_argument(\"--n_inj\", default=0, type=float, help=\"Number of (poisson mean) injection\")\n",
    "# p.add_argument(\"--n_trials\", default=500, type=int, help=\"Number of trials\")\n",
    "## p.add_argument(\"--tw_in_second\", default=10, type=int, help=\"Length of the time window in seconds\")\n",
    "# p.add_argument(\"--ncpu\", default=4, type=int, help=\"Number of cores used\")\n",
    "# p.add_argument(\"--batchIndex\", default=0, type=int, help=\"Current batchIdx for this n_inj with this tw_in_second\")\n",
    "# p.add_argument(\"--use_poisson\", default=True, type=bool, help=\"Use poisson for n_inj\")\n",
    "# args = p.parse_args()\n",
    "###########################################################################\n",
    "\n",
    "### testing on jupyter ###\n",
    "class args:\n",
    "    # grb_name = \"GRB180423A\"    # real healpix example\n",
    "    grb_name = \"GRB150716A\"\n",
    "    n_inj = 100\n",
    "    n_trials = 2\n",
    "    tw_in_second = 50000\n",
    "    ncpu = 4\n",
    "    batchIndex = 0\n",
    "    use_poisson = True\n",
    "##########################\n",
    "\n",
    "print(\"\\n===== Loading no-healpix df =====\\n\")\n",
    "df = pd.read_pickle(DATA_DIR+\"/grbwebgbm/grbweb_gbm_noHealpix_2268.pkl\")\n",
    "df.head()\n",
    "\n",
    "print(\"\\n===== Loading healpix of {}=====\\n\".format(args.grb_name))   \n",
    "try:\n",
    "    healpix = np.load(DATA_DIR+\"/grbwebgbm/healpix/{}_healpix_nside64.npy\".format(args.grb_name))\n",
    "    # healpix can contain negative values: faults due to Fermi-GBM\n",
    "    healpix = np.maximum(healpix,0)\n",
    "    ########## healpix reduce (< instead of <=) ##########\n",
    "    healpix[healpix < isf_healpix(healpix, q=0.99)] = 0\n",
    "    healpix = healpix / np.sum(healpix)\n",
    "except:\n",
    "    raise Exception(\"Cannot load the healpix for grb: {}\\n\".format(args.grb_name))\n",
    "    \n",
    "grb_row = df.loc[df['grb_name'] == args.grb_name]\n",
    "ra = grb_row.ra\n",
    "dec = grb_row.dec\n",
    "print(\"\\n...Done\\n\")\n",
    "\n",
    "print(\"\\n===== Setting up csky =====\\n\")\n",
    "data_dir = ICDATA_DIR\n",
    "data_filenames = sorted(glob(data_dir + '/IC86_20*.data.npy'))\n",
    "sig_filenames = sorted(glob(data_dir + '/IC86_2012.nu*_merged.npy'))\n",
    "grl_filenames = sorted(glob(data_dir + '/GRL/IC86_20*.data.npy'))\n",
    "\n",
    "################ energy lower bound #############\n",
    "min_log_e = np.log10(10)\n",
    "#################################################\n",
    "bins_sindec = np.linspace(-1, 1, 25+1)  \n",
    "bins_logenergy = np.linspace(min_log_e, 4, 25+1)\n",
    "\n",
    "data = [np.load(data_filename) for data_filename in data_filenames]\n",
    "data = np.hstack(data)\n",
    "sig = [np.load(sig_filename) for sig_filename in sig_filenames]\n",
    "sig = np.hstack(sig)\n",
    "grl = [np.load(grl_filename) for grl_filename in grl_filenames]\n",
    "grl = np.hstack(grl)\n",
    "if min_log_e is not None:\n",
    "    data_mask = data['logE'] > min_log_e\n",
    "    data = data[data_mask]\n",
    "    sig_mask = sig['logE'] > min_log_e\n",
    "    sig = sig[sig_mask]\n",
    "    \n",
    "dataset_spec = cy.selections.CustomDataSpecs.CustomDataSpec(data, sig, np.sum(grl['livetime']),\n",
    "                                                     sindec_bins=bins_sindec,\n",
    "                                                     logenergy_bins=bins_logenergy,\n",
    "                                                     grl=grl, key='greco_v2.10', cascades=True)\n",
    "\n",
    "ANA_DIR = cy.utils.ensure_dir(ANA_DIR)\n",
    "# on OSG\n",
    "# ana_dir = \"./\"\n",
    "ana = cy.get_analysis(cy.selections.repo\n",
    "                      , dataset_spec\n",
    "                      , dir=ANA_DIR\n",
    "                      , load_sig=True)  # false to save memory if needed \n",
    "\n"
   ]
  },
  {
   "cell_type": "code",
   "execution_count": 191,
   "metadata": {},
   "outputs": [
    {
     "name": "stdout",
     "output_type": "stream",
     "text": [
      "\n",
      "...Done\n",
      "\n"
     ]
    }
   ],
   "source": [
    "# #### used for spatial_prior_trial_runner\n",
    "# conf = {\n",
    "#     'ana': ana,\n",
    "#     #### llh basics: csky.conf\n",
    "#     'space': 'ps', # ps/fitps/template/prior\n",
    "#     'time': 'transient', # utf/lc/transient\n",
    "#     'energy': 'customflux', # fit/customflux\n",
    "#     'flux': cy.hyp.PowerLawFlux(2.5),\n",
    "#     #### inj.py - prior has some duplications against space's prior\n",
    "#     'sig': 'transient', # ps/tw/lc/transient/template/prior\n",
    "#     'full_sky': True,\n",
    "#     'extended': True,\n",
    "#     'mp_cpus': args.ncpu,\n",
    "#     'cut_n_sigma': 3\n",
    "#     }\n",
    "# cy.CONF.update(conf)\n",
    "\n",
    "\n",
    "### used for basic trial_runner\n",
    "conf = {\n",
    "    'ana': ana,\n",
    "    #### llh basics: csky.conf\n",
    "    'space': 'ps', # ps/fitps/template/prior\n",
    "    'time': 'utf', # utf/lc/transient\n",
    "    'energy': 'customflux', # fit/customflux\n",
    "    'flux': cy.hyp.PowerLawFlux(2.5),\n",
    "    #### inj.py - prior has some duplications against space's prior\n",
    "    'sig': 'tw', # ps/tw/lc/transient/template/prior\n",
    "    #'full_sky': True,\n",
    "    'extended': True,\n",
    "    'mp_cpus': args.ncpu,\n",
    "    'cut_n_sigma': 3\n",
    "}\n",
    "cy.CONF.update(conf)\n",
    "\n",
    "print(\"\\n...Done\\n\")"
   ]
  },
  {
   "cell_type": "code",
   "execution_count": 199,
   "metadata": {},
   "outputs": [
    {
     "data": {
      "text/plain": [
       "{'mp_cpus': 4,\n",
       " 'ana': Analysis(keys=[greco_v2.10]),\n",
       " 'space': 'ps',\n",
       " 'time': 'utf',\n",
       " 'energy': 'customflux',\n",
       " 'flux': PowerLawFlux(gamma=2.5),\n",
       " 'sig': 'tw',\n",
       " 'extended': True,\n",
       " 'cut_n_sigma': 3}"
      ]
     },
     "execution_count": 199,
     "metadata": {},
     "output_type": "execute_result"
    }
   ],
   "source": [
    "cy.CONF"
   ]
  },
  {
   "cell_type": "code",
   "execution_count": 200,
   "metadata": {},
   "outputs": [],
   "source": [
    "grb_row = df.loc[df['grb_name'] == args.grb_name]\n",
    "tw = args.tw_in_second/86400.\n",
    "tw_start = grb_row.t_center - 0.5*tw\n",
    "ra = grb_row.ra\n",
    "dec = grb_row.dec\n",
    "\n",
    "src = cy.sources(\n",
    "    ra=ra,\n",
    "    dec=dec,\n",
    "    deg=True,\n",
    "#     mjd=tw_start, \n",
    "#     sigma_t=np.zeros_like(tw), \n",
    "#     t_100=tw,  # in days\n",
    "#     dt=tw * 0.01,\n",
    "#     prior=[hl.heal.HealHist(healpix)],\n",
    "    name=args.grb_name\n",
    ")"
   ]
  },
  {
   "cell_type": "code",
   "execution_count": 201,
   "metadata": {},
   "outputs": [],
   "source": [
    "tr = cy.get_trial_runner(conf=cy.CONF, ana=ana, src=src, \n",
    "                         box=True,\n",
    "                         t0=grb_row.t_center,\n",
    "                        dt=tw * 1.0,\n",
    "                        )\n"
   ]
  },
  {
   "cell_type": "code",
   "execution_count": 202,
   "metadata": {},
   "outputs": [
    {
     "ename": "ValueError",
     "evalue": "The truth value of a Series is ambiguous. Use a.empty, a.bool(), a.item(), a.any() or a.all().",
     "output_type": "error",
     "traceback": [
      "\u001b[0;31m---------------------------------------------------------------------------\u001b[0m",
      "\u001b[0;31mValueError\u001b[0m                                Traceback (most recent call last)",
      "\u001b[0;32m<ipython-input-202-0619650a3738>\u001b[0m in \u001b[0;36m<module>\u001b[0;34m\u001b[0m\n\u001b[0;32m----> 1\u001b[0;31m \u001b[0mL\u001b[0m \u001b[0;34m=\u001b[0m \u001b[0mtr\u001b[0m\u001b[0;34m.\u001b[0m\u001b[0mget_one_llh\u001b[0m\u001b[0;34m(\u001b[0m\u001b[0mn_sig\u001b[0m\u001b[0;34m=\u001b[0m\u001b[0margs\u001b[0m\u001b[0;34m.\u001b[0m\u001b[0mn_inj\u001b[0m\u001b[0;34m,\u001b[0m \u001b[0mpoisson\u001b[0m\u001b[0;34m=\u001b[0m\u001b[0;32mTrue\u001b[0m\u001b[0;34m,\u001b[0m \u001b[0mseed\u001b[0m\u001b[0;34m=\u001b[0m\u001b[0;36m1\u001b[0m\u001b[0;34m)\u001b[0m\u001b[0;34m\u001b[0m\u001b[0;34m\u001b[0m\u001b[0m\n\u001b[0m\u001b[1;32m      2\u001b[0m trial1 = L.fit(\n\u001b[1;32m      3\u001b[0m \u001b[0;31m#     t0=grb_row.t_center,\u001b[0m\u001b[0;34m\u001b[0m\u001b[0;34m\u001b[0m\u001b[0;34m\u001b[0m\u001b[0m\n\u001b[1;32m      4\u001b[0m \u001b[0;31m#     dt=tw * 0.1\u001b[0m\u001b[0;34m\u001b[0m\u001b[0;34m\u001b[0m\u001b[0;34m\u001b[0m\u001b[0m\n\u001b[1;32m      5\u001b[0m )\n",
      "\u001b[0;32m/storage/hive/project/phy-taboada/cchen641/icecube/software/csky/csky/trial.py\u001b[0m in \u001b[0;36mget_one_llh\u001b[0;34m(self, n_sig, poisson, seed, TRUTH)\u001b[0m\n\u001b[1;32m    811\u001b[0m     \u001b[0;32mdef\u001b[0m \u001b[0mget_one_llh\u001b[0m\u001b[0;34m(\u001b[0m\u001b[0mself\u001b[0m\u001b[0;34m,\u001b[0m \u001b[0mn_sig\u001b[0m\u001b[0;34m=\u001b[0m\u001b[0;36m0\u001b[0m\u001b[0;34m,\u001b[0m \u001b[0mpoisson\u001b[0m\u001b[0;34m=\u001b[0m\u001b[0;32mFalse\u001b[0m\u001b[0;34m,\u001b[0m \u001b[0mseed\u001b[0m\u001b[0;34m=\u001b[0m\u001b[0;32mNone\u001b[0m\u001b[0;34m,\u001b[0m \u001b[0mTRUTH\u001b[0m\u001b[0;34m=\u001b[0m\u001b[0;32mFalse\u001b[0m\u001b[0;34m)\u001b[0m\u001b[0;34m:\u001b[0m\u001b[0;34m\u001b[0m\u001b[0;34m\u001b[0m\u001b[0m\n\u001b[1;32m    812\u001b[0m         evss, ns_excluded = self.get_one_trial(\n\u001b[0;32m--> 813\u001b[0;31m             n_sig=n_sig, poisson=poisson, seed=seed, TRUTH=TRUTH)\n\u001b[0m\u001b[1;32m    814\u001b[0m         \u001b[0;32mreturn\u001b[0m \u001b[0mself\u001b[0m\u001b[0;34m.\u001b[0m\u001b[0mget_one_llh_from_trial\u001b[0m\u001b[0;34m(\u001b[0m\u001b[0;34m(\u001b[0m\u001b[0mevss\u001b[0m\u001b[0;34m,\u001b[0m \u001b[0mns_excluded\u001b[0m\u001b[0;34m)\u001b[0m\u001b[0;34m)\u001b[0m\u001b[0;34m\u001b[0m\u001b[0;34m\u001b[0m\u001b[0m\n\u001b[1;32m    815\u001b[0m \u001b[0;34m\u001b[0m\u001b[0m\n",
      "\u001b[0;32m/storage/hive/project/phy-taboada/cchen641/icecube/software/csky/csky/trial.py\u001b[0m in \u001b[0;36mget_one_trial\u001b[0;34m(self, n_sig, poisson, seed, TRUTH)\u001b[0m\n\u001b[1;32m    788\u001b[0m                     \u001b[0mn_inj\u001b[0m \u001b[0;34m=\u001b[0m \u001b[0mn_injs\u001b[0m\u001b[0;34m[\u001b[0m\u001b[0mi\u001b[0m\u001b[0;34m]\u001b[0m\u001b[0;34m\u001b[0m\u001b[0;34m\u001b[0m\u001b[0m\n\u001b[1;32m    789\u001b[0m                     \u001b[0;32mif\u001b[0m \u001b[0mn_inj\u001b[0m\u001b[0;34m:\u001b[0m\u001b[0;34m\u001b[0m\u001b[0;34m\u001b[0m\u001b[0m\n\u001b[0;32m--> 790\u001b[0;31m                         \u001b[0mev\u001b[0m\u001b[0;34m,\u001b[0m \u001b[0mnx\u001b[0m \u001b[0;34m=\u001b[0m \u001b[0mself\u001b[0m\u001b[0;34m.\u001b[0m\u001b[0msig_injs\u001b[0m\u001b[0;34m[\u001b[0m\u001b[0mi\u001b[0m\u001b[0;34m]\u001b[0m\u001b[0;34m.\u001b[0m\u001b[0minject\u001b[0m\u001b[0;34m(\u001b[0m\u001b[0mn_inj\u001b[0m\u001b[0;34m,\u001b[0m \u001b[0mseed\u001b[0m\u001b[0;34m=\u001b[0m\u001b[0mrandom\u001b[0m\u001b[0;34m.\u001b[0m\u001b[0mrandint\u001b[0m\u001b[0;34m(\u001b[0m\u001b[0;36m2\u001b[0m\u001b[0;34m**\u001b[0m\u001b[0;36m32\u001b[0m\u001b[0;34m)\u001b[0m\u001b[0;34m)\u001b[0m\u001b[0;34m\u001b[0m\u001b[0;34m\u001b[0m\u001b[0m\n\u001b[0m\u001b[1;32m    791\u001b[0m                         \u001b[0mevs\u001b[0m \u001b[0;34m+=\u001b[0m \u001b[0mev\u001b[0m\u001b[0;34m\u001b[0m\u001b[0;34m\u001b[0m\u001b[0m\n\u001b[1;32m    792\u001b[0m                         \u001b[0mn_excluded\u001b[0m \u001b[0;34m+=\u001b[0m \u001b[0mnx\u001b[0m\u001b[0;34m\u001b[0m\u001b[0;34m\u001b[0m\u001b[0m\n",
      "\u001b[0;32m/storage/hive/project/phy-taboada/cchen641/icecube/software/csky/csky/inj.py\u001b[0m in \u001b[0;36minject\u001b[0;34m(self, n_inj, replace, seed)\u001b[0m\n\u001b[1;32m    846\u001b[0m \u001b[0;34m\u001b[0m\u001b[0m\n\u001b[1;32m    847\u001b[0m         \u001b[0mnext_seed\u001b[0m \u001b[0;34m=\u001b[0m \u001b[0;32mlambda\u001b[0m\u001b[0;34m:\u001b[0m \u001b[0mrandom\u001b[0m\u001b[0;34m.\u001b[0m\u001b[0mrandint\u001b[0m\u001b[0;34m(\u001b[0m\u001b[0;36m2\u001b[0m\u001b[0;34m**\u001b[0m\u001b[0;36m32\u001b[0m\u001b[0;34m)\u001b[0m\u001b[0;34m\u001b[0m\u001b[0;34m\u001b[0m\u001b[0m\n\u001b[0;32m--> 848\u001b[0;31m         \u001b[0mmjds\u001b[0m \u001b[0;34m=\u001b[0m \u001b[0mself\u001b[0m\u001b[0;34m.\u001b[0m\u001b[0msample_mjd\u001b[0m\u001b[0;34m(\u001b[0m\u001b[0msrc_n_injs\u001b[0m\u001b[0;34m,\u001b[0m \u001b[0mseed\u001b[0m\u001b[0;34m=\u001b[0m\u001b[0mnext_seed\u001b[0m\u001b[0;34m(\u001b[0m\u001b[0;34m)\u001b[0m\u001b[0;34m)\u001b[0m\u001b[0;34m\u001b[0m\u001b[0;34m\u001b[0m\u001b[0m\n\u001b[0m\u001b[1;32m    849\u001b[0m         \u001b[0mn_src\u001b[0m \u001b[0;34m=\u001b[0m \u001b[0mlen\u001b[0m\u001b[0;34m(\u001b[0m\u001b[0mself\u001b[0m\u001b[0;34m.\u001b[0m\u001b[0msrc\u001b[0m\u001b[0;34m)\u001b[0m\u001b[0;34m\u001b[0m\u001b[0;34m\u001b[0m\u001b[0m\n\u001b[1;32m    850\u001b[0m         \u001b[0mouts\u001b[0m \u001b[0;34m=\u001b[0m \u001b[0;34m[\u001b[0m\u001b[0;34m]\u001b[0m\u001b[0;34m\u001b[0m\u001b[0;34m\u001b[0m\u001b[0m\n",
      "\u001b[0;32m/storage/hive/project/phy-taboada/cchen641/icecube/software/csky/csky/inj.py\u001b[0m in \u001b[0;36msample_mjd\u001b[0;34m(self, src_n_injs, seed)\u001b[0m\n\u001b[1;32m    972\u001b[0m                         \u001b[0mp\u001b[0m \u001b[0;34m=\u001b[0m \u001b[0;36m0.5\u001b[0m\u001b[0;34m\u001b[0m\u001b[0;34m\u001b[0m\u001b[0m\n\u001b[1;32m    973\u001b[0m                     \u001b[0mmjd\u001b[0m \u001b[0;34m=\u001b[0m \u001b[0mnp\u001b[0m\u001b[0;34m.\u001b[0m\u001b[0mwhere\u001b[0m\u001b[0;34m(\u001b[0m\u001b[0mrandom\u001b[0m\u001b[0;34m.\u001b[0m\u001b[0mbinomial\u001b[0m\u001b[0;34m(\u001b[0m\u001b[0;36m1\u001b[0m\u001b[0;34m,\u001b[0m \u001b[0mp\u001b[0m\u001b[0;34m,\u001b[0m \u001b[0mn\u001b[0m\u001b[0;34m)\u001b[0m\u001b[0;34m,\u001b[0m \u001b[0mt1\u001b[0m\u001b[0;34m,\u001b[0m \u001b[0mt2\u001b[0m\u001b[0;34m)\u001b[0m\u001b[0;34m\u001b[0m\u001b[0;34m\u001b[0m\u001b[0m\n\u001b[0;32m--> 974\u001b[0;31m                 \u001b[0;32mif\u001b[0m \u001b[0mt1\u001b[0m\u001b[0;34m==\u001b[0m\u001b[0mt2\u001b[0m\u001b[0;34m==\u001b[0m\u001b[0;36m0\u001b[0m\u001b[0;34m:\u001b[0m\u001b[0;34m\u001b[0m\u001b[0;34m\u001b[0m\u001b[0m\n\u001b[0m\u001b[1;32m    975\u001b[0m                     \u001b[0;31m#This is a bit of a bandaid fix because the multiflare trial runner was written\u001b[0m\u001b[0;34m\u001b[0m\u001b[0;34m\u001b[0m\u001b[0;34m\u001b[0m\u001b[0m\n\u001b[1;32m    976\u001b[0m                     \u001b[0;31m#before active-livetime-only event injection was implemented. This ensures the\u001b[0m\u001b[0;34m\u001b[0m\u001b[0;34m\u001b[0m\u001b[0;34m\u001b[0m\u001b[0m\n",
      "\u001b[0;32m~/.local/lib/python3.7/site-packages/pandas/core/generic.py\u001b[0m in \u001b[0;36m__nonzero__\u001b[0;34m(self)\u001b[0m\n\u001b[1;32m   1440\u001b[0m     \u001b[0;32mdef\u001b[0m \u001b[0m__nonzero__\u001b[0m\u001b[0;34m(\u001b[0m\u001b[0mself\u001b[0m\u001b[0;34m)\u001b[0m\u001b[0;34m:\u001b[0m\u001b[0;34m\u001b[0m\u001b[0;34m\u001b[0m\u001b[0m\n\u001b[1;32m   1441\u001b[0m         raise ValueError(\n\u001b[0;32m-> 1442\u001b[0;31m             \u001b[0;34mf\"The truth value of a {type(self).__name__} is ambiguous. \"\u001b[0m\u001b[0;34m\u001b[0m\u001b[0;34m\u001b[0m\u001b[0m\n\u001b[0m\u001b[1;32m   1443\u001b[0m             \u001b[0;34m\"Use a.empty, a.bool(), a.item(), a.any() or a.all().\"\u001b[0m\u001b[0;34m\u001b[0m\u001b[0;34m\u001b[0m\u001b[0m\n\u001b[1;32m   1444\u001b[0m         )\n",
      "\u001b[0;31mValueError\u001b[0m: The truth value of a Series is ambiguous. Use a.empty, a.bool(), a.item(), a.any() or a.all()."
     ]
    }
   ],
   "source": [
    "L = tr.get_one_llh(n_sig=args.n_inj, poisson=True, seed=1)\n",
    "trial1 = L.fit(\n",
    "#     t0=grb_row.t_center, \n",
    "#     dt=tw * 0.1\n",
    ")"
   ]
  },
  {
   "cell_type": "code",
   "execution_count": 189,
   "metadata": {},
   "outputs": [
    {
     "data": {
      "text/plain": [
       "(43.721836583312054, {'ns': 25.45683447176227}, {})"
      ]
     },
     "execution_count": 189,
     "metadata": {},
     "output_type": "execute_result"
    }
   ],
   "source": [
    "trial1"
   ]
  },
  {
   "cell_type": "code",
   "execution_count": null,
   "metadata": {},
   "outputs": [],
   "source": [
    "print(tr.format_result(trial1))"
   ]
  },
  {
   "cell_type": "code",
   "execution_count": null,
   "metadata": {},
   "outputs": [],
   "source": []
  },
  {
   "cell_type": "code",
   "execution_count": null,
   "metadata": {},
   "outputs": [],
   "source": []
  },
  {
   "cell_type": "code",
   "execution_count": 10,
   "metadata": {},
   "outputs": [
    {
     "name": "stdout",
     "output_type": "stream",
     "text": [
      "Scanning 1667 locations using 4 cores:\n",
      "       1667/1667 coordinates complete.   \n"
     ]
    },
    {
     "ename": "AssertionError",
     "evalue": "",
     "output_type": "error",
     "traceback": [
      "\u001b[0;31m---------------------------------------------------------------------------\u001b[0m",
      "\u001b[0;31mAssertionError\u001b[0m                            Traceback (most recent call last)",
      "\u001b[0;32m<ipython-input-10-7053bb1fa653>\u001b[0m in \u001b[0;36m<module>\u001b[0;34m\u001b[0m\n\u001b[1;32m      4\u001b[0m                       \u001b[0mlogging\u001b[0m\u001b[0;34m=\u001b[0m\u001b[0;32mFalse\u001b[0m\u001b[0;34m,\u001b[0m\u001b[0;34m\u001b[0m\u001b[0;34m\u001b[0m\u001b[0m\n\u001b[1;32m      5\u001b[0m                         \u001b[0mt0\u001b[0m\u001b[0;34m=\u001b[0m\u001b[0mgrb_row\u001b[0m\u001b[0;34m.\u001b[0m\u001b[0mt_center\u001b[0m\u001b[0;34m,\u001b[0m\u001b[0;34m\u001b[0m\u001b[0;34m\u001b[0m\u001b[0m\n\u001b[0;32m----> 6\u001b[0;31m                         dt=tw)\n\u001b[0m",
      "\u001b[0;32m/storage/hive/project/phy-taboada/cchen641/icecube/software/csky/csky/trial.py\u001b[0m in \u001b[0;36mget_one_fit\u001b[0;34m(self, n_sig, poisson, seed, TRUTH, flat, **fitter_args)\u001b[0m\n\u001b[1;32m    287\u001b[0m         evss_ns_excluded_tuple = self.get_one_trial(\n\u001b[1;32m    288\u001b[0m             n_sig=n_sig, poisson=poisson, seed=seed, TRUTH=TRUTH)\n\u001b[0;32m--> 289\u001b[0;31m         \u001b[0;32mreturn\u001b[0m \u001b[0mself\u001b[0m\u001b[0;34m.\u001b[0m\u001b[0mget_one_fit_from_trial\u001b[0m\u001b[0;34m(\u001b[0m\u001b[0mevss_ns_excluded_tuple\u001b[0m\u001b[0;34m,\u001b[0m \u001b[0mflat\u001b[0m\u001b[0;34m=\u001b[0m\u001b[0mflat\u001b[0m\u001b[0;34m,\u001b[0m \u001b[0;34m**\u001b[0m\u001b[0mfitter_args\u001b[0m\u001b[0;34m)\u001b[0m\u001b[0;34m\u001b[0m\u001b[0;34m\u001b[0m\u001b[0m\n\u001b[0m\u001b[1;32m    290\u001b[0m \u001b[0;34m\u001b[0m\u001b[0m\n\u001b[1;32m    291\u001b[0m     \u001b[0;32mdef\u001b[0m \u001b[0m_log_trials\u001b[0m\u001b[0;34m(\u001b[0m\u001b[0mself\u001b[0m\u001b[0;34m,\u001b[0m \u001b[0mn_complete\u001b[0m\u001b[0;34m,\u001b[0m \u001b[0mn_total\u001b[0m\u001b[0;34m,\u001b[0m \u001b[0mdone\u001b[0m\u001b[0;34m=\u001b[0m\u001b[0;32mFalse\u001b[0m\u001b[0;34m)\u001b[0m\u001b[0;34m:\u001b[0m\u001b[0;34m\u001b[0m\u001b[0;34m\u001b[0m\u001b[0m\n",
      "\u001b[0;32m/storage/hive/project/phy-taboada/cchen641/icecube/software/csky/csky/trial.py\u001b[0m in \u001b[0;36mget_one_fit_from_trial\u001b[0;34m(self, evss_ns_excluded_tuple, flat, **fitter_args)\u001b[0m\n\u001b[1;32m    823\u001b[0m     \u001b[0;32mdef\u001b[0m \u001b[0mget_one_fit_from_trial\u001b[0m\u001b[0;34m(\u001b[0m\u001b[0mself\u001b[0m\u001b[0;34m,\u001b[0m \u001b[0mevss_ns_excluded_tuple\u001b[0m\u001b[0;34m,\u001b[0m \u001b[0mflat\u001b[0m\u001b[0;34m=\u001b[0m\u001b[0;32mTrue\u001b[0m\u001b[0;34m,\u001b[0m \u001b[0;34m**\u001b[0m\u001b[0mfitter_args\u001b[0m\u001b[0;34m)\u001b[0m\u001b[0;34m:\u001b[0m\u001b[0;34m\u001b[0m\u001b[0;34m\u001b[0m\u001b[0m\n\u001b[1;32m    824\u001b[0m         \u001b[0mevss\u001b[0m\u001b[0;34m,\u001b[0m \u001b[0mns_excluded\u001b[0m \u001b[0;34m=\u001b[0m \u001b[0mevss_ns_excluded_tuple\u001b[0m\u001b[0;34m\u001b[0m\u001b[0;34m\u001b[0m\u001b[0m\n\u001b[0;32m--> 825\u001b[0;31m         \u001b[0mllh\u001b[0m \u001b[0;34m=\u001b[0m \u001b[0mself\u001b[0m\u001b[0;34m.\u001b[0m\u001b[0mget_one_llh_from_trial\u001b[0m\u001b[0;34m(\u001b[0m\u001b[0;34m(\u001b[0m\u001b[0mevss\u001b[0m\u001b[0;34m,\u001b[0m \u001b[0mns_excluded\u001b[0m\u001b[0;34m)\u001b[0m\u001b[0;34m)\u001b[0m\u001b[0;34m\u001b[0m\u001b[0;34m\u001b[0m\u001b[0m\n\u001b[0m\u001b[1;32m    826\u001b[0m         \u001b[0mkw\u001b[0m \u001b[0;34m=\u001b[0m \u001b[0mfitter_args\u001b[0m\u001b[0;34m\u001b[0m\u001b[0;34m\u001b[0m\u001b[0m\n\u001b[1;32m    827\u001b[0m         \u001b[0;32mfor\u001b[0m \u001b[0mk\u001b[0m \u001b[0;32min\u001b[0m \u001b[0mself\u001b[0m\u001b[0;34m.\u001b[0m\u001b[0mfitter_args\u001b[0m\u001b[0;34m:\u001b[0m\u001b[0;34m\u001b[0m\u001b[0;34m\u001b[0m\u001b[0m\n",
      "\u001b[0;32m/storage/hive/project/phy-taboada/cchen641/icecube/software/csky/csky/trial.py\u001b[0m in \u001b[0;36mget_one_llh_from_trial\u001b[0;34m(self, evss_ns_excluded_tuple)\u001b[0m\n\u001b[1;32m    807\u001b[0m             \u001b[0;32mreturn\u001b[0m \u001b[0mllh\u001b[0m\u001b[0;34m.\u001b[0m\u001b[0mMultiLLHEvaluator\u001b[0m\u001b[0;34m(\u001b[0m\u001b[0mllhs\u001b[0m\u001b[0;34m)\u001b[0m\u001b[0;34m\u001b[0m\u001b[0;34m\u001b[0m\u001b[0m\n\u001b[1;32m    808\u001b[0m         \u001b[0;32melse\u001b[0m\u001b[0;34m:\u001b[0m\u001b[0;34m\u001b[0m\u001b[0;34m\u001b[0m\u001b[0m\n\u001b[0;32m--> 809\u001b[0;31m             \u001b[0;32mreturn\u001b[0m \u001b[0mllh_models\u001b[0m\u001b[0;34m[\u001b[0m\u001b[0;36m0\u001b[0m\u001b[0;34m]\u001b[0m\u001b[0;34m(\u001b[0m\u001b[0mevss\u001b[0m\u001b[0;34m[\u001b[0m\u001b[0;36m0\u001b[0m\u001b[0;34m]\u001b[0m\u001b[0;34m,\u001b[0m \u001b[0mns_excluded\u001b[0m\u001b[0;34m[\u001b[0m\u001b[0;36m0\u001b[0m\u001b[0;34m]\u001b[0m\u001b[0;34m)\u001b[0m\u001b[0;34m\u001b[0m\u001b[0;34m\u001b[0m\u001b[0m\n\u001b[0m\u001b[1;32m    810\u001b[0m \u001b[0;34m\u001b[0m\u001b[0m\n\u001b[1;32m    811\u001b[0m     \u001b[0;32mdef\u001b[0m \u001b[0mget_one_llh\u001b[0m\u001b[0;34m(\u001b[0m\u001b[0mself\u001b[0m\u001b[0;34m,\u001b[0m \u001b[0mn_sig\u001b[0m\u001b[0;34m=\u001b[0m\u001b[0;36m0\u001b[0m\u001b[0;34m,\u001b[0m \u001b[0mpoisson\u001b[0m\u001b[0;34m=\u001b[0m\u001b[0;32mFalse\u001b[0m\u001b[0;34m,\u001b[0m \u001b[0mseed\u001b[0m\u001b[0;34m=\u001b[0m\u001b[0;32mNone\u001b[0m\u001b[0;34m,\u001b[0m \u001b[0mTRUTH\u001b[0m\u001b[0;34m=\u001b[0m\u001b[0;32mFalse\u001b[0m\u001b[0;34m)\u001b[0m\u001b[0;34m:\u001b[0m\u001b[0;34m\u001b[0m\u001b[0;34m\u001b[0m\u001b[0m\n",
      "\u001b[0;32m/storage/hive/project/phy-taboada/cchen641/icecube/software/csky/csky/llh.py\u001b[0m in \u001b[0;36m__call__\u001b[0;34m(self, evs, n_excluded)\u001b[0m\n\u001b[1;32m    123\u001b[0m \u001b[0;34m\u001b[0m\u001b[0m\n\u001b[1;32m    124\u001b[0m         \"\"\"\n\u001b[0;32m--> 125\u001b[0;31m         \u001b[0;32mreturn\u001b[0m \u001b[0mLLHEvaluator\u001b[0m\u001b[0;34m(\u001b[0m\u001b[0mself\u001b[0m\u001b[0;34m,\u001b[0m \u001b[0mevs\u001b[0m\u001b[0;34m,\u001b[0m \u001b[0mn_excluded\u001b[0m\u001b[0;34m)\u001b[0m\u001b[0;34m\u001b[0m\u001b[0;34m\u001b[0m\u001b[0m\n\u001b[0m\u001b[1;32m    126\u001b[0m \u001b[0;34m\u001b[0m\u001b[0m\n\u001b[1;32m    127\u001b[0m \u001b[0;32mclass\u001b[0m \u001b[0mLLHEvaluatorBase\u001b[0m\u001b[0;34m(\u001b[0m\u001b[0mobject\u001b[0m\u001b[0;34m)\u001b[0m\u001b[0;34m:\u001b[0m\u001b[0;34m\u001b[0m\u001b[0;34m\u001b[0m\u001b[0m\n",
      "\u001b[0;32m/storage/hive/project/phy-taboada/cchen641/icecube/software/csky/csky/llh.py\u001b[0m in \u001b[0;36m__init__\u001b[0;34m(self, llh_model, evs, n_excluded)\u001b[0m\n\u001b[1;32m    587\u001b[0m \u001b[0;34m\u001b[0m\u001b[0m\n\u001b[1;32m    588\u001b[0m         \u001b[0;31m# evaluate PDFs\u001b[0m\u001b[0;34m\u001b[0m\u001b[0;34m\u001b[0m\u001b[0;34m\u001b[0m\u001b[0m\n\u001b[0;32m--> 589\u001b[0;31m         \u001b[0mself\u001b[0m\u001b[0;34m.\u001b[0m\u001b[0mevaluators\u001b[0m \u001b[0;34m=\u001b[0m \u001b[0mevaluators\u001b[0m \u001b[0;34m=\u001b[0m \u001b[0mlist\u001b[0m\u001b[0;34m(\u001b[0m\u001b[0mmap\u001b[0m\u001b[0;34m(\u001b[0m\u001b[0mpdf_ratio_model\u001b[0m\u001b[0;34m,\u001b[0m \u001b[0mevs\u001b[0m\u001b[0;34m)\u001b[0m\u001b[0;34m)\u001b[0m\u001b[0;34m\u001b[0m\u001b[0;34m\u001b[0m\u001b[0m\n\u001b[0m\u001b[1;32m    590\u001b[0m \u001b[0;34m\u001b[0m\u001b[0m\n\u001b[1;32m    591\u001b[0m         \u001b[0;31m# get updated counts\u001b[0m\u001b[0;34m\u001b[0m\u001b[0;34m\u001b[0m\u001b[0;34m\u001b[0m\u001b[0m\n",
      "\u001b[0;32m/storage/hive/project/phy-taboada/cchen641/icecube/software/csky/csky/pdf.py\u001b[0m in \u001b[0;36m__call__\u001b[0;34m(self, ev)\u001b[0m\n\u001b[1;32m    913\u001b[0m \u001b[0;34m\u001b[0m\u001b[0m\n\u001b[1;32m    914\u001b[0m     \u001b[0;32mdef\u001b[0m \u001b[0m__call__\u001b[0m\u001b[0;34m(\u001b[0m\u001b[0mself\u001b[0m\u001b[0;34m,\u001b[0m \u001b[0mev\u001b[0m\u001b[0;34m)\u001b[0m\u001b[0;34m:\u001b[0m\u001b[0;34m\u001b[0m\u001b[0;34m\u001b[0m\u001b[0m\n\u001b[0;32m--> 915\u001b[0;31m         \u001b[0;32mreturn\u001b[0m \u001b[0mMultiPDFRatioEvaluator\u001b[0m\u001b[0;34m(\u001b[0m\u001b[0mev\u001b[0m\u001b[0;34m,\u001b[0m \u001b[0mself\u001b[0m\u001b[0;34m)\u001b[0m\u001b[0;34m\u001b[0m\u001b[0;34m\u001b[0m\u001b[0m\n\u001b[0m\u001b[1;32m    916\u001b[0m \u001b[0;34m\u001b[0m\u001b[0m\n\u001b[1;32m    917\u001b[0m     \u001b[0;32mdef\u001b[0m \u001b[0mget_updated\u001b[0m\u001b[0;34m(\u001b[0m\u001b[0mself\u001b[0m\u001b[0;34m,\u001b[0m \u001b[0mevs\u001b[0m\u001b[0;34m)\u001b[0m\u001b[0;34m:\u001b[0m\u001b[0;34m\u001b[0m\u001b[0;34m\u001b[0m\u001b[0m\n",
      "\u001b[0;32m/storage/hive/project/phy-taboada/cchen641/icecube/software/csky/csky/pdf.py\u001b[0m in \u001b[0;36m__init__\u001b[0;34m(self, ev, model)\u001b[0m\n\u001b[1;32m   2106\u001b[0m         \u001b[0mself\u001b[0m\u001b[0;34m.\u001b[0m\u001b[0macc_weighted_model\u001b[0m \u001b[0;34m=\u001b[0m \u001b[0mmulti_model\u001b[0m\u001b[0;34m.\u001b[0m\u001b[0macc_weighted_model\u001b[0m\u001b[0;34m\u001b[0m\u001b[0;34m\u001b[0m\u001b[0m\n\u001b[1;32m   2107\u001b[0m         \u001b[0mself\u001b[0m\u001b[0;34m.\u001b[0m\u001b[0mother_models\u001b[0m \u001b[0;34m=\u001b[0m \u001b[0mmulti_model\u001b[0m\u001b[0;34m.\u001b[0m\u001b[0mother_models\u001b[0m\u001b[0;34m\u001b[0m\u001b[0;34m\u001b[0m\u001b[0m\n\u001b[0;32m-> 2108\u001b[0;31m         \u001b[0mself\u001b[0m\u001b[0;34m.\u001b[0m\u001b[0macc_weighted_evaluator\u001b[0m \u001b[0;34m=\u001b[0m \u001b[0macc_weighted_evaluator\u001b[0m \u001b[0;34m=\u001b[0m \u001b[0mself\u001b[0m\u001b[0;34m.\u001b[0m\u001b[0macc_weighted_model\u001b[0m\u001b[0;34m(\u001b[0m\u001b[0mev\u001b[0m\u001b[0;34m)\u001b[0m\u001b[0;34m\u001b[0m\u001b[0;34m\u001b[0m\u001b[0m\n\u001b[0m\u001b[1;32m   2109\u001b[0m         \u001b[0mself\u001b[0m\u001b[0;34m.\u001b[0m\u001b[0mkept_i_ev\u001b[0m \u001b[0;34m=\u001b[0m \u001b[0mi_ev\u001b[0m \u001b[0;34m=\u001b[0m \u001b[0macc_weighted_evaluator\u001b[0m\u001b[0;34m.\u001b[0m\u001b[0mget_kept_i_ev\u001b[0m\u001b[0;34m(\u001b[0m\u001b[0;34m)\u001b[0m\u001b[0;34m\u001b[0m\u001b[0;34m\u001b[0m\u001b[0m\n\u001b[1;32m   2110\u001b[0m         \u001b[0macc_weighted_evaluator\u001b[0m\u001b[0;34m.\u001b[0m\u001b[0mfinalize_i_ev\u001b[0m\u001b[0;34m(\u001b[0m\u001b[0mi_ev\u001b[0m\u001b[0;34m)\u001b[0m\u001b[0;34m\u001b[0m\u001b[0;34m\u001b[0m\u001b[0m\n",
      "\u001b[0;32m/storage/hive/project/phy-taboada/cchen641/icecube/software/csky/csky/pdf.py\u001b[0m in \u001b[0;36m__call__\u001b[0;34m(self, ev)\u001b[0m\n\u001b[1;32m   2063\u001b[0m \u001b[0;34m\u001b[0m\u001b[0m\n\u001b[1;32m   2064\u001b[0m     \u001b[0;32mdef\u001b[0m \u001b[0m__call__\u001b[0m\u001b[0;34m(\u001b[0m\u001b[0mself\u001b[0m\u001b[0;34m,\u001b[0m \u001b[0mev\u001b[0m\u001b[0;34m)\u001b[0m\u001b[0;34m:\u001b[0m\u001b[0;34m\u001b[0m\u001b[0;34m\u001b[0m\u001b[0m\n\u001b[0;32m-> 2065\u001b[0;31m         \u001b[0;32mreturn\u001b[0m \u001b[0mSpaceTimePDFRatioEvaluator\u001b[0m\u001b[0;34m(\u001b[0m\u001b[0mev\u001b[0m\u001b[0;34m,\u001b[0m \u001b[0mself\u001b[0m\u001b[0;34m)\u001b[0m\u001b[0;34m\u001b[0m\u001b[0;34m\u001b[0m\u001b[0m\n\u001b[0m\u001b[1;32m   2066\u001b[0m \u001b[0;34m\u001b[0m\u001b[0m\n\u001b[1;32m   2067\u001b[0m     \u001b[0;32mdef\u001b[0m \u001b[0mget_updated\u001b[0m\u001b[0;34m(\u001b[0m\u001b[0mself\u001b[0m\u001b[0;34m,\u001b[0m \u001b[0mevs\u001b[0m\u001b[0;34m)\u001b[0m\u001b[0;34m:\u001b[0m\u001b[0;34m\u001b[0m\u001b[0;34m\u001b[0m\u001b[0m\n",
      "\u001b[0;32m/storage/hive/project/phy-taboada/cchen641/icecube/software/csky/csky/pdf.py\u001b[0m in \u001b[0;36m__init__\u001b[0;34m(self, ev, model)\u001b[0m\n\u001b[1;32m   3020\u001b[0m         \u001b[0mself\u001b[0m\u001b[0;34m.\u001b[0m\u001b[0mtime_evaluator\u001b[0m \u001b[0;34m=\u001b[0m \u001b[0mself\u001b[0m\u001b[0;34m.\u001b[0m\u001b[0mtime_model\u001b[0m\u001b[0;34m(\u001b[0m\u001b[0mev\u001b[0m\u001b[0;34m)\u001b[0m\u001b[0;34m\u001b[0m\u001b[0;34m\u001b[0m\u001b[0m\n\u001b[1;32m   3021\u001b[0m         \u001b[0mi_ev\u001b[0m\u001b[0;34m,\u001b[0m \u001b[0mi_src\u001b[0m \u001b[0;34m=\u001b[0m \u001b[0mself\u001b[0m\u001b[0;34m.\u001b[0m\u001b[0mtime_evaluator\u001b[0m\u001b[0;34m.\u001b[0m\u001b[0mkept_i_ev_i_src\u001b[0m\u001b[0;34m\u001b[0m\u001b[0;34m\u001b[0m\u001b[0m\n\u001b[0;32m-> 3022\u001b[0;31m         \u001b[0mself\u001b[0m\u001b[0;34m.\u001b[0m\u001b[0mspace_evaluator\u001b[0m \u001b[0;34m=\u001b[0m \u001b[0mself\u001b[0m\u001b[0;34m.\u001b[0m\u001b[0mspace_model\u001b[0m\u001b[0;34m(\u001b[0m\u001b[0mev\u001b[0m\u001b[0;34m,\u001b[0m \u001b[0;34m(\u001b[0m\u001b[0mi_ev\u001b[0m\u001b[0;34m,\u001b[0m \u001b[0mi_src\u001b[0m\u001b[0;34m)\u001b[0m\u001b[0;34m)\u001b[0m\u001b[0;34m\u001b[0m\u001b[0;34m\u001b[0m\u001b[0m\n\u001b[0m\u001b[1;32m   3023\u001b[0m         \u001b[0;31m## TODO: try to cut again based on space PDF? should make things much faster?\u001b[0m\u001b[0;34m\u001b[0m\u001b[0;34m\u001b[0m\u001b[0;34m\u001b[0m\u001b[0m\n\u001b[1;32m   3024\u001b[0m \u001b[0;34m\u001b[0m\u001b[0m\n",
      "\u001b[0;32m/storage/hive/project/phy-taboada/cchen641/icecube/software/csky/csky/pdf.py\u001b[0m in \u001b[0;36m__call__\u001b[0;34m(self, ev, i)\u001b[0m\n\u001b[1;32m   1521\u001b[0m     \u001b[0;32mdef\u001b[0m \u001b[0m__call__\u001b[0m\u001b[0;34m(\u001b[0m\u001b[0mself\u001b[0m\u001b[0;34m,\u001b[0m \u001b[0mev\u001b[0m\u001b[0;34m,\u001b[0m \u001b[0mi\u001b[0m\u001b[0;34m=\u001b[0m\u001b[0;34m(\u001b[0m\u001b[0;32mNone\u001b[0m\u001b[0;34m,\u001b[0m \u001b[0;32mNone\u001b[0m\u001b[0;34m)\u001b[0m\u001b[0;34m)\u001b[0m\u001b[0;34m:\u001b[0m\u001b[0;34m\u001b[0m\u001b[0;34m\u001b[0m\u001b[0m\n\u001b[1;32m   1522\u001b[0m         \u001b[0mi_ev\u001b[0m\u001b[0;34m,\u001b[0m \u001b[0mi_src\u001b[0m \u001b[0;34m=\u001b[0m \u001b[0mi\u001b[0m\u001b[0;34m\u001b[0m\u001b[0;34m\u001b[0m\u001b[0m\n\u001b[0;32m-> 1523\u001b[0;31m         \u001b[0;32mreturn\u001b[0m \u001b[0mPriorSpacePDFRatioEvaluator\u001b[0m\u001b[0;34m(\u001b[0m\u001b[0mev\u001b[0m\u001b[0;34m,\u001b[0m \u001b[0mself\u001b[0m\u001b[0;34m,\u001b[0m \u001b[0;34m(\u001b[0m\u001b[0mi_ev\u001b[0m\u001b[0;34m,\u001b[0m \u001b[0mi_src\u001b[0m\u001b[0;34m)\u001b[0m\u001b[0;34m)\u001b[0m\u001b[0;34m\u001b[0m\u001b[0;34m\u001b[0m\u001b[0m\n\u001b[0m\u001b[1;32m   1524\u001b[0m \u001b[0;34m\u001b[0m\u001b[0m\n\u001b[1;32m   1525\u001b[0m     \u001b[0;32mclass\u001b[0m \u001b[0mAccModel\u001b[0m\u001b[0;34m(\u001b[0m\u001b[0mAccModel\u001b[0m\u001b[0;34m)\u001b[0m\u001b[0;34m:\u001b[0m\u001b[0;34m\u001b[0m\u001b[0;34m\u001b[0m\u001b[0m\n",
      "\u001b[0;32m/storage/hive/project/phy-taboada/cchen641/icecube/software/csky/csky/pdf.py\u001b[0m in \u001b[0;36m__init__\u001b[0;34m(self, ev, model, i)\u001b[0m\n\u001b[1;32m   2510\u001b[0m \u001b[0;32mclass\u001b[0m \u001b[0mPriorSpacePDFRatioEvaluator\u001b[0m\u001b[0;34m(\u001b[0m\u001b[0mPointSourceSpacePDFRatioEvaluator\u001b[0m\u001b[0;34m)\u001b[0m\u001b[0;34m:\u001b[0m\u001b[0;34m\u001b[0m\u001b[0;34m\u001b[0m\u001b[0m\n\u001b[1;32m   2511\u001b[0m     \u001b[0;32mdef\u001b[0m \u001b[0m__init__\u001b[0m\u001b[0;34m(\u001b[0m\u001b[0mself\u001b[0m\u001b[0;34m,\u001b[0m \u001b[0mev\u001b[0m\u001b[0;34m,\u001b[0m \u001b[0mmodel\u001b[0m\u001b[0;34m,\u001b[0m \u001b[0mi\u001b[0m\u001b[0;34m=\u001b[0m\u001b[0;34m(\u001b[0m\u001b[0;32mNone\u001b[0m\u001b[0;34m,\u001b[0m \u001b[0;32mNone\u001b[0m\u001b[0;34m)\u001b[0m\u001b[0;34m)\u001b[0m\u001b[0;34m:\u001b[0m\u001b[0;34m\u001b[0m\u001b[0;34m\u001b[0m\u001b[0m\n\u001b[0;32m-> 2512\u001b[0;31m         \u001b[0msuper\u001b[0m\u001b[0;34m(\u001b[0m\u001b[0mPriorSpacePDFRatioEvaluator\u001b[0m\u001b[0;34m,\u001b[0m \u001b[0mself\u001b[0m\u001b[0;34m)\u001b[0m\u001b[0;34m.\u001b[0m\u001b[0m__init__\u001b[0m\u001b[0;34m(\u001b[0m\u001b[0mev\u001b[0m\u001b[0;34m,\u001b[0m \u001b[0mmodel\u001b[0m\u001b[0;34m,\u001b[0m \u001b[0mi\u001b[0m\u001b[0;34m=\u001b[0m\u001b[0mi\u001b[0m\u001b[0;34m)\u001b[0m\u001b[0;34m\u001b[0m\u001b[0;34m\u001b[0m\u001b[0m\n\u001b[0m\u001b[1;32m   2513\u001b[0m \u001b[0;34m\u001b[0m\u001b[0m\n\u001b[1;32m   2514\u001b[0m     \u001b[0;32mdef\u001b[0m \u001b[0m_evaluate_src\u001b[0m\u001b[0;34m(\u001b[0m\u001b[0mself\u001b[0m\u001b[0;34m,\u001b[0m \u001b[0mi_ev\u001b[0m\u001b[0;34m,\u001b[0m \u001b[0mi_src\u001b[0m\u001b[0;34m)\u001b[0m\u001b[0;34m:\u001b[0m\u001b[0;34m\u001b[0m\u001b[0;34m\u001b[0m\u001b[0m\n",
      "\u001b[0;32m/storage/hive/project/phy-taboada/cchen641/icecube/software/csky/csky/pdf.py\u001b[0m in \u001b[0;36m__init__\u001b[0;34m(self, ev, model, i)\u001b[0m\n\u001b[1;32m   2166\u001b[0m         \u001b[0mself\u001b[0m\u001b[0;34m.\u001b[0m\u001b[0msigsub\u001b[0m \u001b[0;34m=\u001b[0m \u001b[0mmodel\u001b[0m\u001b[0;34m.\u001b[0m\u001b[0msigsub\u001b[0m\u001b[0;34m\u001b[0m\u001b[0;34m\u001b[0m\u001b[0m\n\u001b[1;32m   2167\u001b[0m         \u001b[0mself\u001b[0m\u001b[0;34m.\u001b[0m\u001b[0mpdf_bg\u001b[0m \u001b[0;34m=\u001b[0m \u001b[0mself\u001b[0m\u001b[0;34m.\u001b[0m\u001b[0mbg_param\u001b[0m\u001b[0;34m(\u001b[0m\u001b[0mev\u001b[0m\u001b[0;34m)\u001b[0m\u001b[0;34m\u001b[0m\u001b[0;34m\u001b[0m\u001b[0m\n\u001b[0;32m-> 2168\u001b[0;31m         \u001b[0mself\u001b[0m\u001b[0;34m.\u001b[0m\u001b[0m_evaluate_src\u001b[0m\u001b[0;34m(\u001b[0m\u001b[0mi_ev\u001b[0m\u001b[0;34m,\u001b[0m \u001b[0mi_src\u001b[0m\u001b[0;34m)\u001b[0m\u001b[0;34m\u001b[0m\u001b[0;34m\u001b[0m\u001b[0m\n\u001b[0m\u001b[1;32m   2169\u001b[0m         \u001b[0mself\u001b[0m\u001b[0;34m.\u001b[0m\u001b[0m_n_excluded\u001b[0m \u001b[0;34m=\u001b[0m \u001b[0;36m0\u001b[0m\u001b[0;34m\u001b[0m\u001b[0;34m\u001b[0m\u001b[0m\n\u001b[1;32m   2170\u001b[0m \u001b[0;34m\u001b[0m\u001b[0m\n",
      "\u001b[0;32m/storage/hive/project/phy-taboada/cchen641/icecube/software/csky/csky/pdf.py\u001b[0m in \u001b[0;36m_evaluate_src\u001b[0;34m(self, i_ev, i_src)\u001b[0m\n\u001b[1;32m   2543\u001b[0m                 \u001b[0mtrial\u001b[0m \u001b[0;34m=\u001b[0m  \u001b[0mSpatialPriorTrial\u001b[0m\u001b[0;34m(\u001b[0m\u001b[0;34m*\u001b[0m\u001b[0;34m(\u001b[0m\u001b[0;34m(\u001b[0m\u001b[0;34m[\u001b[0m\u001b[0;34m[\u001b[0m\u001b[0mev_j\u001b[0m\u001b[0;34m]\u001b[0m\u001b[0;34m]\u001b[0m\u001b[0;34m,\u001b[0m \u001b[0;34m[\u001b[0m\u001b[0;36m0\u001b[0m\u001b[0;34m]\u001b[0m\u001b[0;34m)\u001b[0m \u001b[0;34m+\u001b[0m \u001b[0;34m(\u001b[0m\u001b[0;36m0.0\u001b[0m\u001b[0;34m,\u001b[0m \u001b[0;36m0.0\u001b[0m\u001b[0;34m)\u001b[0m\u001b[0;34m)\u001b[0m\u001b[0;34m)\u001b[0m\u001b[0;34m\u001b[0m\u001b[0;34m\u001b[0m\u001b[0m\n\u001b[1;32m   2544\u001b[0m                 fit_res = sptr.get_one_fit_from_trial(\n\u001b[0;32m-> 2545\u001b[0;31m                     trial, mp_cpus=model.sptrs_conf[\"mp_cpus\"], logging=True)\n\u001b[0m\u001b[1;32m   2546\u001b[0m                 \u001b[0mfit_ra\u001b[0m\u001b[0;34m,\u001b[0m \u001b[0mfit_dec\u001b[0m \u001b[0;34m=\u001b[0m \u001b[0mfit_res\u001b[0m\u001b[0;34m[\u001b[0m\u001b[0;34m-\u001b[0m\u001b[0;36m2\u001b[0m\u001b[0;34m:\u001b[0m\u001b[0;34m]\u001b[0m\u001b[0;34m\u001b[0m\u001b[0;34m\u001b[0m\u001b[0m\n\u001b[1;32m   2547\u001b[0m                 \u001b[0;31m#print(\"Fit results:\", fit_res)\u001b[0m\u001b[0;34m\u001b[0m\u001b[0;34m\u001b[0m\u001b[0;34m\u001b[0m\u001b[0m\n",
      "\u001b[0;32m/storage/hive/project/phy-taboada/cchen641/icecube/software/csky/csky/trial.py\u001b[0m in \u001b[0;36mget_one_fit_from_trial\u001b[0;34m(self, trial, flat, logging, mp_cpus, **fitter_args)\u001b[0m\n\u001b[1;32m   1216\u001b[0m     def get_one_fit_from_trial(self, trial, flat=True, logging=False, mp_cpus=None,\n\u001b[1;32m   1217\u001b[0m                                 **fitter_args):\n\u001b[0;32m-> 1218\u001b[0;31m         \u001b[0mscan\u001b[0m \u001b[0;34m=\u001b[0m \u001b[0mself\u001b[0m\u001b[0;34m.\u001b[0m\u001b[0mget_one_scan_from_trial\u001b[0m\u001b[0;34m(\u001b[0m\u001b[0mtrial\u001b[0m\u001b[0;34m,\u001b[0m \u001b[0mlogging\u001b[0m\u001b[0;34m=\u001b[0m\u001b[0mlogging\u001b[0m\u001b[0;34m,\u001b[0m \u001b[0mmp_cpus\u001b[0m\u001b[0;34m=\u001b[0m\u001b[0mmp_cpus\u001b[0m\u001b[0;34m,\u001b[0m \u001b[0;34m**\u001b[0m\u001b[0mfitter_args\u001b[0m\u001b[0;34m)\u001b[0m\u001b[0;34m\u001b[0m\u001b[0;34m\u001b[0m\u001b[0m\n\u001b[0m\u001b[1;32m   1219\u001b[0m         \u001b[0;31m# this effectively modulates the ts with each of the spatial prior function\u001b[0m\u001b[0;34m\u001b[0m\u001b[0;34m\u001b[0m\u001b[0;34m\u001b[0m\u001b[0m\n\u001b[1;32m   1220\u001b[0m         \u001b[0mscan_ts\u001b[0m \u001b[0;34m=\u001b[0m \u001b[0mnp\u001b[0m\u001b[0;34m.\u001b[0m\u001b[0marray\u001b[0m\u001b[0;34m(\u001b[0m\u001b[0;34m[\u001b[0m\u001b[0mscan\u001b[0m\u001b[0;34m[\u001b[0m\u001b[0;36m0\u001b[0m\u001b[0;34m]\u001b[0m \u001b[0;34m+\u001b[0m \u001b[0;36m2\u001b[0m \u001b[0;34m*\u001b[0m \u001b[0mpt\u001b[0m \u001b[0;32mfor\u001b[0m \u001b[0mpt\u001b[0m \u001b[0;32min\u001b[0m \u001b[0mself\u001b[0m\u001b[0;34m.\u001b[0m\u001b[0mllh_prior_term\u001b[0m\u001b[0;34m]\u001b[0m\u001b[0;34m)\u001b[0m\u001b[0;34m\u001b[0m\u001b[0;34m\u001b[0m\u001b[0m\n",
      "\u001b[0;32m/storage/hive/project/phy-taboada/cchen641/icecube/software/csky/csky/trial.py\u001b[0m in \u001b[0;36mget_one_scan_from_trial\u001b[0;34m(self, trial, logging, mp_cpus, **fitter_args)\u001b[0m\n\u001b[1;32m   1203\u001b[0m             \u001b[0mscan_tr\u001b[0m \u001b[0;34m=\u001b[0m \u001b[0mself\u001b[0m\u001b[0;34m.\u001b[0m\u001b[0m_get_sky_scan_tr\u001b[0m\u001b[0;34m(\u001b[0m\u001b[0mmask\u001b[0m\u001b[0;34m=\u001b[0m\u001b[0mmask\u001b[0m\u001b[0;34m,\u001b[0m \u001b[0mmp_cpus\u001b[0m\u001b[0;34m=\u001b[0m\u001b[0mmp_cpus\u001b[0m\u001b[0;34m)\u001b[0m\u001b[0;34m\u001b[0m\u001b[0;34m\u001b[0m\u001b[0m\n\u001b[1;32m   1204\u001b[0m             scan = scan_tr.get_one_scan_from_trial(\n\u001b[0;32m-> 1205\u001b[0;31m                 trial, logging=logging, mp_cpus=mp_cpus, **fitter_args)\n\u001b[0m\u001b[1;32m   1206\u001b[0m             \u001b[0;31m# drop p-value\u001b[0m\u001b[0;34m\u001b[0m\u001b[0;34m\u001b[0m\u001b[0;34m\u001b[0m\u001b[0m\n\u001b[1;32m   1207\u001b[0m             \u001b[0mscan\u001b[0m \u001b[0;34m=\u001b[0m \u001b[0mscan\u001b[0m\u001b[0;34m[\u001b[0m\u001b[0;36m1\u001b[0m\u001b[0;34m:\u001b[0m\u001b[0;34m]\u001b[0m\u001b[0;34m\u001b[0m\u001b[0;34m\u001b[0m\u001b[0m\n",
      "\u001b[0;32m/storage/hive/project/phy-taboada/cchen641/icecube/software/csky/csky/trial.py\u001b[0m in \u001b[0;36mget_one_scan_from_trial\u001b[0;34m(self, trial, logging, mp_cpus, mask, **fitter_args)\u001b[0m\n\u001b[1;32m   1034\u001b[0m             \u001b[0mscan_ra\u001b[0m\u001b[0;34m,\u001b[0m \u001b[0mscan_dec\u001b[0m\u001b[0;34m,\u001b[0m \u001b[0mtrial\u001b[0m\u001b[0;34m[\u001b[0m\u001b[0;34m:\u001b[0m\u001b[0;36m2\u001b[0m\u001b[0;34m]\u001b[0m\u001b[0;34m,\u001b[0m\u001b[0;34m\u001b[0m\u001b[0;34m\u001b[0m\u001b[0m\n\u001b[1;32m   1035\u001b[0m             \u001b[0mmin_dec\u001b[0m\u001b[0;34m=\u001b[0m\u001b[0mself\u001b[0m\u001b[0;34m.\u001b[0m\u001b[0mmin_dec\u001b[0m\u001b[0;34m,\u001b[0m \u001b[0mmax_dec\u001b[0m\u001b[0;34m=\u001b[0m\u001b[0mself\u001b[0m\u001b[0;34m.\u001b[0m\u001b[0mmax_dec\u001b[0m\u001b[0;34m,\u001b[0m \u001b[0mmask\u001b[0m\u001b[0;34m=\u001b[0m\u001b[0mmask\u001b[0m\u001b[0;34m,\u001b[0m\u001b[0;34m\u001b[0m\u001b[0;34m\u001b[0m\u001b[0m\n\u001b[0;32m-> 1036\u001b[0;31m             logging=logging, **fitter_args)[-1]\n\u001b[0m\u001b[1;32m   1037\u001b[0m         \u001b[0;32mif\u001b[0m \u001b[0mself\u001b[0m\u001b[0;34m.\u001b[0m\u001b[0mts_to_p\u001b[0m\u001b[0;34m:\u001b[0m\u001b[0;34m\u001b[0m\u001b[0;34m\u001b[0m\u001b[0m\n\u001b[1;32m   1038\u001b[0m             \u001b[0mmlog10p\u001b[0m \u001b[0;34m=\u001b[0m \u001b[0;34m-\u001b[0m\u001b[0mnp\u001b[0m\u001b[0;34m.\u001b[0m\u001b[0mlog10\u001b[0m\u001b[0;34m(\u001b[0m\u001b[0mself\u001b[0m\u001b[0;34m.\u001b[0m\u001b[0mts_to_p\u001b[0m\u001b[0;34m(\u001b[0m\u001b[0mscan_dec\u001b[0m\u001b[0;34m,\u001b[0m \u001b[0mscan\u001b[0m\u001b[0;34m[\u001b[0m\u001b[0;36m0\u001b[0m\u001b[0;34m]\u001b[0m\u001b[0;34m)\u001b[0m\u001b[0;34m)\u001b[0m\u001b[0;34m\u001b[0m\u001b[0;34m\u001b[0m\u001b[0m\n",
      "\u001b[0;32m/storage/hive/project/phy-taboada/cchen641/icecube/software/csky/csky/trial.py\u001b[0m in \u001b[0;36mget_one_scan_from_trial\u001b[0;34m(self, scan_ra, scan_dec, evss_ns_excluded_tuple, min_dec, max_dec, cut_n_sigma, mask, mp_cpus, logging, **fitter_args)\u001b[0m\n\u001b[1;32m   1971\u001b[0m             \u001b[0;32mfor\u001b[0m \u001b[0mev_list\u001b[0m \u001b[0;32min\u001b[0m \u001b[0mevss\u001b[0m\u001b[0;34m:\u001b[0m\u001b[0;34m\u001b[0m\u001b[0;34m\u001b[0m\u001b[0m\n\u001b[1;32m   1972\u001b[0m                 \u001b[0;32mfor\u001b[0m \u001b[0mevs\u001b[0m \u001b[0;32min\u001b[0m \u001b[0mev_list\u001b[0m\u001b[0;34m:\u001b[0m\u001b[0;34m\u001b[0m\u001b[0;34m\u001b[0m\u001b[0m\n\u001b[0;32m-> 1973\u001b[0;31m                     \u001b[0mall_evs\u001b[0m \u001b[0;34m+=\u001b[0m \u001b[0mevs\u001b[0m\u001b[0;34m\u001b[0m\u001b[0;34m\u001b[0m\u001b[0m\n\u001b[0m\u001b[1;32m   1974\u001b[0m             \u001b[0;32mif\u001b[0m\u001b[0;34m(\u001b[0m \u001b[0mlen\u001b[0m\u001b[0;34m(\u001b[0m\u001b[0mall_evs\u001b[0m\u001b[0;34m)\u001b[0m\u001b[0;34m<\u001b[0m\u001b[0;36m100\u001b[0m \u001b[0;34m)\u001b[0m\u001b[0;34m:\u001b[0m \u001b[0;31m# todo: set max N_evss as function parameter\u001b[0m\u001b[0;34m\u001b[0m\u001b[0;34m\u001b[0m\u001b[0m\n\u001b[1;32m   1975\u001b[0m                 delta_angle_pix_evss = coord.delta_angle(\n",
      "\u001b[0;32m/storage/hive/project/phy-taboada/cchen641/icecube/software/csky/csky/utils.py\u001b[0m in \u001b[0;36m__add__\u001b[0;34m(self, other)\u001b[0m\n\u001b[1;32m    249\u001b[0m \u001b[0;34m\u001b[0m\u001b[0m\n\u001b[1;32m    250\u001b[0m     \u001b[0;32mdef\u001b[0m \u001b[0m__add__\u001b[0m\u001b[0;34m(\u001b[0m\u001b[0mself\u001b[0m\u001b[0;34m,\u001b[0m \u001b[0mother\u001b[0m\u001b[0;34m)\u001b[0m\u001b[0;34m:\u001b[0m\u001b[0;34m\u001b[0m\u001b[0;34m\u001b[0m\u001b[0m\n\u001b[0;32m--> 251\u001b[0;31m         \u001b[0;32massert\u001b[0m \u001b[0msorted\u001b[0m\u001b[0;34m(\u001b[0m\u001b[0mself\u001b[0m\u001b[0;34m.\u001b[0m\u001b[0m_dict\u001b[0m\u001b[0;34m)\u001b[0m \u001b[0;34m==\u001b[0m \u001b[0msorted\u001b[0m\u001b[0;34m(\u001b[0m\u001b[0mother\u001b[0m\u001b[0;34m.\u001b[0m\u001b[0m_dict\u001b[0m\u001b[0;34m)\u001b[0m\u001b[0;34m\u001b[0m\u001b[0;34m\u001b[0m\u001b[0m\n\u001b[0m\u001b[1;32m    252\u001b[0m         \u001b[0minit\u001b[0m \u001b[0;34m=\u001b[0m \u001b[0;34m{\u001b[0m\u001b[0;34m}\u001b[0m\u001b[0;34m\u001b[0m\u001b[0;34m\u001b[0m\u001b[0m\n\u001b[1;32m    253\u001b[0m         \u001b[0;32mfor\u001b[0m \u001b[0mk\u001b[0m \u001b[0;32min\u001b[0m \u001b[0msorted\u001b[0m\u001b[0;34m(\u001b[0m\u001b[0mself\u001b[0m\u001b[0;34m.\u001b[0m\u001b[0m_dict\u001b[0m\u001b[0;34m)\u001b[0m\u001b[0;34m:\u001b[0m\u001b[0;34m\u001b[0m\u001b[0;34m\u001b[0m\u001b[0m\n",
      "\u001b[0;31mAssertionError\u001b[0m: "
     ]
    }
   ],
   "source": [
    "trial2 = tr.get_one_fit(n_sig=args.n_inj, \n",
    "                      poisson=args.use_poisson, \n",
    "                      seed=0, \n",
    "                      logging=False,\n",
    "                        t0=grb_row.t_center,\n",
    "                        dt=tw)"
   ]
  },
  {
   "cell_type": "code",
   "execution_count": null,
   "metadata": {},
   "outputs": [],
   "source": []
  },
  {
   "cell_type": "code",
   "execution_count": 35,
   "metadata": {},
   "outputs": [
    {
     "data": {
      "text/plain": [
       "[5.251054052623372, 1.6493265977116058]"
      ]
     },
     "execution_count": 35,
     "metadata": {},
     "output_type": "execute_result"
    }
   ],
   "source": [
    "trial1"
   ]
  },
  {
   "cell_type": "code",
   "execution_count": 26,
   "metadata": {},
   "outputs": [
    {
     "data": {
      "text/plain": [
       "[94.42793851256872, 11.230967778732412]"
      ]
     },
     "execution_count": 26,
     "metadata": {},
     "output_type": "execute_result"
    }
   ],
   "source": [
    "# trial  ## old injection only returns ts and ns"
   ]
  },
  {
   "cell_type": "code",
   "execution_count": null,
   "metadata": {},
   "outputs": [],
   "source": []
  },
  {
   "cell_type": "code",
   "execution_count": null,
   "metadata": {},
   "outputs": [],
   "source": []
  },
  {
   "cell_type": "code",
   "execution_count": null,
   "metadata": {},
   "outputs": [],
   "source": []
  },
  {
   "cell_type": "code",
   "execution_count": null,
   "metadata": {},
   "outputs": [],
   "source": []
  },
  {
   "cell_type": "code",
   "execution_count": null,
   "metadata": {},
   "outputs": [],
   "source": []
  },
  {
   "cell_type": "code",
   "execution_count": null,
   "metadata": {},
   "outputs": [],
   "source": []
  },
  {
   "cell_type": "code",
   "execution_count": 3,
   "metadata": {},
   "outputs": [
    {
     "name": "stdout",
     "output_type": "stream",
     "text": [
      "Python version:  3.7.3 (default, Mar 27 2019, 22:11:17) \n",
      "[GCC 7.3.0]\n",
      "\n",
      "#### Working at GT ####\n",
      "\n",
      "LOCATION: \t GT\n",
      "USER: \t cchen641\n",
      "ICDATA_DIR: \t /storage/home/hhive1/cchen641/data/icecube/data/analyses/online_GRECO/candidate-002-p10\n",
      "DATA_DIR: \t /storage/home/hhive1/cchen641/data/icecube/data/greco_grb/data\n",
      "ANA_DIR: \t /storage/home/hhive1/cchen641/data/icecube/data/greco_grb/data/csky_output\n",
      "\n",
      "\n",
      "===== Loading no-healpix df =====\n",
      "\n",
      "\n",
      "===== Loading healpix of GRB180423A=====\n",
      "\n",
      "\n",
      "...Done\n",
      "\n",
      "\n",
      "===== Setting up csky =====\n",
      "\n",
      "Setting up Analysis for:\n",
      "greco_v2.10\n",
      "Setting up greco_v2.10...\n",
      "Energy PDF Ratio Model...\n",
      "  * gamma = 4.0000 ...\n",
      "Signal Acceptance Model...\n",
      "  * gamma = 4.0000 ...\n",
      "Done.\n",
      "\n",
      "...Done\n",
      "\n"
     ]
    }
   ],
   "source": [
    "#!/bin/sh /cvmfs/icecube.opensciencegrid.org/py3-v4.1.0/icetray-start\n",
    "#METAPROJECT: combo/stable\n",
    "#!/usr/bin/env python\n",
    "\"\"\"\n",
    "1 GBM-GRB + 1 nonGBM-GRB = 2 GRBs (two different qsub)\n",
    "6 time windows\n",
    "40  different injections (0 ~ 9.1, step=0.2)\n",
    "500 trials for each n_inj (run on 1 core)\n",
    "20 s/trial\n",
    "= 2k cpu hr = 1000 hivecpu * 2 hr\n",
    "\n",
    "tws_in_second    = [  10,     25,    50,   100,   250,   500][::-1] \n",
    "\"\"\"\n",
    "\n",
    "import os\n",
    "import sys\n",
    "print(\"Python version: \", end=' ')\n",
    "print(sys.version)\n",
    "\n",
    "import numpy as np\n",
    "import healpy as hp\n",
    "import histlite as hl\n",
    "import csky as cy\n",
    "import pandas as pd\n",
    "from scipy import sparse\n",
    "\n",
    "############# comment out below lines on clusters ##########\n",
    "# import matplotlib.pyplot as plt\n",
    "# from matplotlib import cm\n",
    "# import matplotlib.colors as colors\n",
    "# %matplotlib inline\n",
    "# %matplotlib notebook\n",
    "############################################################\n",
    "\n",
    "from glob import glob\n",
    "timer = cy.timing.Timer()\n",
    "time = timer.time\n",
    "\n",
    "###### Local Import ######\n",
    "sys.path.append('../../')\n",
    "from greco_grb.scripts import SETTING\n",
    "paths = SETTING.PATH()\n",
    "print(paths)\n",
    "LOCATION = paths.LOCATION\n",
    "USER = paths.USER\n",
    "ICDATA_DIR = paths.ICDATA_DIR\n",
    "DATA_DIR = paths.DATA_DIR\n",
    "ANA_DIR = paths.ANA_DIR\n",
    "from greco_grb.scripts.utils import *\n",
    "\n",
    "import argparse\n",
    "######################### CONFIGURE ARGUEMENTS #############################\n",
    "# p = argparse.ArgumentParser(description=\"Signal Trials\",\n",
    "#                             formatter_class=argparse.RawTextHelpFormatter)\n",
    "# p.add_argument(\"--grb_name\", default=\"GRB180423A\", type=str, help=\"GRB name: GRByymmddC\")\n",
    "# p.add_argument(\"--n_inj\", default=0, type=float, help=\"Number of (poisson mean) injection\")\n",
    "# p.add_argument(\"--n_trials\", default=500, type=int, help=\"Number of trials\")\n",
    "## p.add_argument(\"--tw_in_second\", default=10, type=int, help=\"Length of the time window in seconds\")\n",
    "# p.add_argument(\"--ncpu\", default=4, type=int, help=\"Number of cores used\")\n",
    "# p.add_argument(\"--batchIndex\", default=0, type=int, help=\"Current batchIdx for this n_inj with this tw_in_second\")\n",
    "# p.add_argument(\"--use_poisson\", default=True, type=bool, help=\"Use poisson for n_inj\")\n",
    "# args = p.parse_args()\n",
    "###########################################################################\n",
    "\n",
    "### testing on jupyter ###\n",
    "class args:\n",
    "    grb_name = \"GRB180423A\"    # real healpix example\n",
    "    # grb_name = \"GRB190415A\"    # fake healpix example\n",
    "    # grb_name = \"GRB170529A\"\n",
    "#     grb_name = \"GRB140712A\" # random_1\n",
    "    n_inj = 10\n",
    "    n_trials = 2\n",
    "#     tw_in_second = 10\n",
    "    ncpu = 4\n",
    "    batchIndex = 0\n",
    "    use_poisson = True\n",
    "##########################\n",
    "\n",
    "print(\"\\n===== Loading no-healpix df =====\\n\")\n",
    "df = pd.read_pickle(DATA_DIR+\"/grbwebgbm/grbweb_gbm_noHealpix_2268.pkl\")\n",
    "df.head()\n",
    "\n",
    "print(\"\\n===== Loading healpix of {}=====\\n\".format(args.grb_name))   \n",
    "try:\n",
    "    healpix = np.load(DATA_DIR+\"/grbwebgbm/healpix/{}_healpix_nside64.npy\".format(args.grb_name))\n",
    "    # healpix can contain negative values: faults due to Fermi-GBM\n",
    "    healpix = np.maximum(healpix,0)\n",
    "    ########## healpix reduce (< instead of <=) ##########\n",
    "    healpix[healpix < isf_healpix(healpix, q=0.99)] = 0\n",
    "    healpix = healpix / np.sum(healpix)\n",
    "except:\n",
    "    raise Exception(\"Cannot load the healpix for grb: {}\\n\".format(args.grb_name))\n",
    "    \n",
    "grb_row = df.loc[df['grb_name'] == args.grb_name]\n",
    "ra = grb_row.ra\n",
    "dec = grb_row.dec\n",
    "print(\"\\n...Done\\n\")\n",
    "\n",
    "print(\"\\n===== Setting up csky =====\\n\")\n",
    "data_dir = ICDATA_DIR\n",
    "data_filenames = sorted(glob(data_dir + '/IC86_20*.data.npy'))\n",
    "sig_filenames = sorted(glob(data_dir + '/IC86_2012.nu*_merged.npy'))\n",
    "grl_filenames = sorted(glob(data_dir + '/GRL/IC86_20*.data.npy'))\n",
    "\n",
    "################ energy lower bound #############\n",
    "min_log_e = np.log10(10)\n",
    "#################################################\n",
    "bins_sindec = np.linspace(-1, 1, 25+1)  \n",
    "bins_logenergy = np.linspace(min_log_e, 4, 25+1)\n",
    "\n",
    "data = [np.load(data_filename) for data_filename in data_filenames]\n",
    "data = np.hstack(data)\n",
    "sig = [np.load(sig_filename) for sig_filename in sig_filenames]\n",
    "sig = np.hstack(sig)\n",
    "grl = [np.load(grl_filename) for grl_filename in grl_filenames]\n",
    "grl = np.hstack(grl)\n",
    "if min_log_e is not None:\n",
    "    data_mask = data['logE'] > min_log_e\n",
    "    data = data[data_mask]\n",
    "    sig_mask = sig['logE'] > min_log_e\n",
    "    sig = sig[sig_mask]\n",
    "    \n",
    "dataset_spec = cy.selections.CustomDataSpecs.CustomDataSpec(data, sig, np.sum(grl['livetime']),\n",
    "                                                     sindec_bins=bins_sindec,\n",
    "                                                     logenergy_bins=bins_logenergy,\n",
    "                                                     grl=grl, key='greco_v2.10', cascades=True)\n",
    "\n",
    "ANA_DIR = cy.utils.ensure_dir(ANA_DIR)\n",
    "# on OSG\n",
    "# ana_dir = \"./\"\n",
    "ana = cy.get_analysis(cy.selections.repo\n",
    "                      , dataset_spec\n",
    "                      , dir=ANA_DIR\n",
    "                      , load_sig=True)  # false to save memory if needed \n",
    "\n",
    "# #### used for spatial_prior_trial_runner\n",
    "# conf = {\n",
    "#     'ana': ana,\n",
    "#     #### llh basics: csky.conf\n",
    "#     'space': 'ps', # ps/fitps/template/prior\n",
    "#     'time': 'transient', # utf/lc/transient\n",
    "#     'energy': 'customflux', # fit/customflux\n",
    "#     'flux': cy.hyp.PowerLawFlux(2.5),\n",
    "#     #### inj.py - prior has some duplications against space's prior\n",
    "#     'sig': 'transient', # ps/tw/lc/transient/template/prior\n",
    "#     'full_sky': True,\n",
    "#     'extended': True,\n",
    "#     'mp_cpus': args.ncpu,\n",
    "#     'cut_n_sigma': 3\n",
    "#     }\n",
    "# cy.CONF.update(conf)\n",
    "\n",
    "\n",
    "\n",
    "### used for basic trial_runner\n",
    "conf = {\n",
    "    'ana': ana,\n",
    "    #### llh basics: csky.conf\n",
    "    'space': 'prior', # ps/fitps/template/prior\n",
    "    'time': 'transient', # utf/lc/transient\n",
    "    'energy': 'customflux', # fit/customflux\n",
    "    'flux': cy.hyp.PowerLawFlux(2.5),\n",
    "    #### inj.py - prior has some duplications against space's prior\n",
    "    'sig': 'transient', # ps/tw/lc/transient/template/prior\n",
    "    'full_sky': True,\n",
    "    'extended': True,\n",
    "    'mp_cpus': args.ncpu,\n",
    "    'cut_n_sigma': 3\n",
    "}\n",
    "cy.CONF.update(conf)\n",
    "\n",
    "print(\"\\n...Done\\n\")\n"
   ]
  },
  {
   "cell_type": "code",
   "execution_count": 4,
   "metadata": {},
   "outputs": [
    {
     "ename": "NameError",
     "evalue": "name 'tw_in_second' is not defined",
     "output_type": "error",
     "traceback": [
      "\u001b[0;31m---------------------------------------------------------------------------\u001b[0m",
      "\u001b[0;31mNameError\u001b[0m                                 Traceback (most recent call last)",
      "\u001b[0;32m<ipython-input-4-3ed2e3713f20>\u001b[0m in \u001b[0;36m<module>\u001b[0;34m\u001b[0m\n\u001b[0;32m----> 1\u001b[0;31m \u001b[0mANA_DIR\u001b[0m\u001b[0;34m+\u001b[0m\u001b[0;34mf\"/binomial_test/inj_binom/tw{tw_in_second}/{args.grb_name}/\"\u001b[0m\u001b[0;34m+\u001b[0m\u001b[0;34mf\"{args.grb_name}_batchSize{args.n_trials}_batchIndex{args.batchIndex}_tw{tw_in_second}_ninj{args.n_inj}.npy\"\u001b[0m\u001b[0;34m\u001b[0m\u001b[0;34m\u001b[0m\u001b[0m\n\u001b[0m",
      "\u001b[0;31mNameError\u001b[0m: name 'tw_in_second' is not defined"
     ]
    }
   ],
   "source": [
    "ANA_DIR+f\"/binomial_test/inj_binom/tw{tw_in_second}/{args.grb_name}/\"+f\"{args.grb_name}_batchSize{args.n_trials}_batchIndex{args.batchIndex}_tw{tw_in_second}_ninj{args.n_inj}.npy\""
   ]
  },
  {
   "cell_type": "code",
   "execution_count": null,
   "metadata": {},
   "outputs": [],
   "source": [
    "os.path.exists(ANA_DIR+f\"/binomial_test/inj_binom/tw{tw_in_second}/{args.grb_name}/\"+f\"{args.grb_name}_batchSize{args.n_trials}_batchIndex{args.batchIndex}_tw{tw_in_second}_ninj{args.n_inj}.npy\")"
   ]
  },
  {
   "cell_type": "code",
   "execution_count": 6,
   "metadata": {},
   "outputs": [
    {
     "name": "stdout",
     "output_type": "stream",
     "text": [
      "\n",
      "===== Do trials for tw 10 =====\n",
      "\n",
      "Scanning 1667 locations using 4 cores:\n",
      "       1667/1667 coordinates complete.   \n",
      "Scanning 1667 locations using 4 cores:\n",
      "       1667/1667 coordinates complete.   \n",
      "\n",
      "0:00:38.898507 elapsed.\n",
      "\n",
      "...Done\n",
      "\n",
      "\n",
      "All Done\n",
      "\n"
     ]
    }
   ],
   "source": [
    "for tw_in_second in [10, 25, 50, 100, 250, 500][:1]:\n",
    "    print(f\"\\n===== Do trials for tw {tw_in_second} =====\\n\")\n",
    "    tw = tw_in_second/86400.\n",
    "    tw_start = grb_row.t_center - 0.5*tw\n",
    "    src = cy.sources(\n",
    "        ra=ra,\n",
    "        dec=dec,\n",
    "        deg=True,\n",
    "        mjd=tw_start, \n",
    "        sigma_t=np.zeros_like(tw), \n",
    "        t_100=tw,  # in days\n",
    "        prior=[hl.heal.HealHist(healpix)],\n",
    "        name=args.grb_name\n",
    "    )\n",
    "\n",
    "    rng=np.random.default_rng(abs(java_hash(\"GRB180423A\"))) # same hash input as bkg trials\n",
    "    seeds = rng.integers(int(1e9), size=int(2e8))[args.n_trials*args.batchIndex: args.n_trials*(args.batchIndex + 1)]\n",
    "\n",
    "\n",
    "    \"\"\"\n",
    "    sptr = cy.get_spatial_prior_trial_runner(conf=cy.CONF\n",
    "                                             ,src_tr=src\n",
    "                                             ,llh_priors=[healpix]\n",
    "                                             ,cut_n_sigma=5.) # src_tr is must for transient\n",
    "    \"\"\"\n",
    "\n",
    "    tr = cy.get_trial_runner(conf=cy.CONF, ana=ana, src=src)\n",
    "\n",
    "    with time('Doing injections'):\n",
    "        trials_ts = []\n",
    "        trials_ns = []\n",
    "        for seed in seeds:\n",
    "            trial = tr.get_one_fit(\n",
    "                n_sig=args.n_inj, \n",
    "                poisson=args.use_poisson, \n",
    "                seed=seed, \n",
    "                TRUTH=False,\n",
    "                logging=False\n",
    "            )\n",
    "            trials_ts.append(trial[0])\n",
    "            trials_ns.append(trial[1])\n",
    "        trials = cy.utils.Arrays({'ns':trials_ns, 'ts':trials_ts}, names=['ns', 'ts'])\n",
    "    print(\"\\n...Done\\n\")\n",
    "\n",
    "    # print(\"\\n===== Saving results =====\\n\")\n",
    "    outfilename = \"{}_batchSize{}_batchIndex{}_tw{}_ninj{}.npy\".format(args.grb_name, \n",
    "                                                                        args.n_trials, \n",
    "                                                                        args.batchIndex, \n",
    "                                                                        tw_in_second, \n",
    "                                                                       args.n_inj)\n",
    "\n",
    "    output_folder = cy.utils.ensure_dir(ANA_DIR+\"/binomial_test/inj_binom/tw{}/{}\".format(tw_in_second, \n",
    "                                                                                  args.grb_name))\n",
    "#     np.save(output_folder + \"/\" + outfilename, trials.as_array)\n",
    "    print(\"\\nAll Done\\n\")\n"
   ]
  },
  {
   "cell_type": "code",
   "execution_count": 7,
   "metadata": {},
   "outputs": [
    {
     "data": {
      "text/plain": [
       "[91.22549740804602, 8.944358877291064]"
      ]
     },
     "execution_count": 7,
     "metadata": {},
     "output_type": "execute_result"
    }
   ],
   "source": [
    "trial"
   ]
  },
  {
   "cell_type": "code",
   "execution_count": 8,
   "metadata": {},
   "outputs": [
    {
     "data": {
      "text/plain": [
       "'TS                  91.22549740804602\\nns                  8.944358877291064'"
      ]
     },
     "execution_count": 8,
     "metadata": {},
     "output_type": "execute_result"
    }
   ],
   "source": [
    "tr.format_result(trial)"
   ]
  },
  {
   "cell_type": "code",
   "execution_count": 46,
   "metadata": {},
   "outputs": [],
   "source": [
    "# #### used for spatial_prior_trial_runner\n",
    "# conf = {\n",
    "#     'ana': ana,\n",
    "#     #### llh basics: csky.conf\n",
    "#     'space': 'ps', # ps/fitps/template/prior\n",
    "#     'time': 'transient', # utf/lc/transient\n",
    "#     'energy': 'customflux', # fit/customflux\n",
    "#     'flux': cy.hyp.PowerLawFlux(2.5),\n",
    "#     #### inj.py - prior has some duplications against space's prior\n",
    "#     'sig': 'transient', # ps/tw/lc/transient/template/prior\n",
    "#     'full_sky': True,\n",
    "#     'extended': True,\n",
    "#     'mp_cpus': args.ncpu,\n",
    "#     'cut_n_sigma': 3\n",
    "#     }\n",
    "# cy.CONF.update(conf)\n",
    "\n",
    "### used for basic trial_runner\n",
    "conf = {\n",
    "    'ana': ana,\n",
    "    #### llh basics: csky.conf\n",
    "    'space': 'prior', # ps/fitps/template/prior\n",
    "    'time': 'transient', # utf/lc/transient\n",
    "    'energy': 'customflux', # fit/customflux\n",
    "    'flux': cy.hyp.PowerLawFlux(2.5),\n",
    "    #### inj.py - prior has some duplications against space's prior\n",
    "    'sig': 'transient', # ps/tw/lc/transient/template/prior\n",
    "    'full_sky': True,\n",
    "    'extended': True,\n",
    "    'mp_cpus': args.ncpu,\n",
    "    'cut_n_sigma': 3\n",
    "}\n",
    "cy.CONF.update(conf)\n",
    "\n",
    "\n",
    "\n",
    "src = cy.sources(\n",
    "    ra=ra,\n",
    "    dec=dec,\n",
    "    deg=True,\n",
    "    mjd=tw_start, \n",
    "    sigma_t=np.zeros_like(tw), \n",
    "    t_100=tw,  # in days\n",
    "    prior=[hl.heal.HealHist(healpix)],\n",
    "    name=args.grb_name\n",
    ")\n",
    "\n",
    "# sptr seems broken\n",
    "sptr = cy.get_spatial_prior_trial_runner(conf=cy.CONF\n",
    "                                         ,src_tr=src\n",
    "                                         ,llh_priors=[healpix]\n",
    "                                         ,cut_n_sigma=5.) # src_tr is must for transient\n",
    "\n",
    "tr = cy.get_trial_runner(conf=cy.CONF, ana=ana, src=src)"
   ]
  },
  {
   "cell_type": "code",
   "execution_count": 44,
   "metadata": {},
   "outputs": [
    {
     "data": {
      "text/plain": [
       "array([0.23590782, 0.23590782, 0.84438765, 3.64473835, 0.14635526])"
      ]
     },
     "execution_count": 44,
     "metadata": {},
     "output_type": "execute_result"
    }
   ],
   "source": [
    "sptr.get_one_fit(seed=9)"
   ]
  },
  {
   "cell_type": "code",
   "execution_count": 48,
   "metadata": {},
   "outputs": [
    {
     "name": "stdout",
     "output_type": "stream",
     "text": [
      "Scanning 1667 locations using 4 cores:\n",
      "       1667/1667 coordinates complete.   \n"
     ]
    }
   ],
   "source": [
    "res = tr.get_one_fit(seed=9)"
   ]
  },
  {
   "cell_type": "code",
   "execution_count": 49,
   "metadata": {},
   "outputs": [
    {
     "data": {
      "text/plain": [
       "[0.23590781608873446, 0.8443876536387309]"
      ]
     },
     "execution_count": 49,
     "metadata": {},
     "output_type": "execute_result"
    }
   ],
   "source": [
    "res"
   ]
  }
 ],
 "metadata": {
  "kernelspec": {
   "display_name": "Python [conda env:icecube_py3]",
   "language": "python",
   "name": "conda-env-icecube_py3-py"
  },
  "language_info": {
   "codemirror_mode": {
    "name": "ipython",
    "version": 3
   },
   "file_extension": ".py",
   "mimetype": "text/x-python",
   "name": "python",
   "nbconvert_exporter": "python",
   "pygments_lexer": "ipython3",
   "version": "3.7.3"
  }
 },
 "nbformat": 4,
 "nbformat_minor": 4
}
