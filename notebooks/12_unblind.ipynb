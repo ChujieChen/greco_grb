{
 "cells": [
  {
   "cell_type": "code",
   "execution_count": 1,
   "metadata": {},
   "outputs": [
    {
     "name": "stdout",
     "output_type": "stream",
     "text": [
      "\n",
      "#### Working at GT ####\n",
      "\n",
      "LOCATION: \t GT\n",
      "USER: \t cchen641\n",
      "ICDATA_DIR: \t /storage/home/hhive1/cchen641/data/icecube/data/analyses/online_GRECO/candidate-002-p10\n",
      "DATA_DIR: \t /storage/home/hhive1/cchen641/data/icecube/data/greco_grb/data\n",
      "ANA_DIR: \t /storage/home/hhive1/cchen641/data/icecube/data/greco_grb/data/csky_output\n",
      "\n"
     ]
    }
   ],
   "source": [
    "import pandas as pd\n",
    "import sys\n",
    "###### Local Import ######\n",
    "sys.path.append('../../')\n",
    "from greco_grb.scripts import SETTING\n",
    "paths = SETTING.PATH()\n",
    "print(paths)\n",
    "LOCATION = paths.LOCATION\n",
    "USER = paths.USER\n",
    "ICDATA_DIR = paths.ICDATA_DIR\n",
    "DATA_DIR = paths.DATA_DIR\n",
    "ANA_DIR = paths.ANA_DIR\n",
    "from greco_grb.scripts.utils import *\n",
    "df = pd.read_pickle(DATA_DIR+\"/grbwebgbm/grbweb_gbm_noHealpix_2268.pkl\")"
   ]
  },
  {
   "cell_type": "code",
   "execution_count": null,
   "metadata": {},
   "outputs": [],
   "source": []
  }
 ],
 "metadata": {
  "kernelspec": {
   "display_name": "Python [conda env:icecube_py3]",
   "language": "python",
   "name": "conda-env-icecube_py3-py"
  },
  "language_info": {
   "codemirror_mode": {
    "name": "ipython",
    "version": 3
   },
   "file_extension": ".py",
   "mimetype": "text/x-python",
   "name": "python",
   "nbconvert_exporter": "python",
   "pygments_lexer": "ipython3",
   "version": "3.7.3"
  }
 },
 "nbformat": 4,
 "nbformat_minor": 4
}
