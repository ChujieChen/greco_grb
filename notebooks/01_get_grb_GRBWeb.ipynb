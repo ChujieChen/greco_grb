{
 "cells": [
  {
   "cell_type": "markdown",
   "metadata": {},
   "source": [
    "Run this on `gatech-hive` \\\n",
    "~Running in pre-compiled env `/cvmfs/icecube.opensciencegrid.org/py3-v4.1.0/RHEL_7_x86_64/metaprojects/combo/stable/env-shell.sh` on cobalt06~ \\\n",
    "\n",
    "Get grb list from GRBWeb \\\n",
    "Start date and end date are aligned with ~GRECO v2.4 data~ GRECO v2.10 data"
   ]
  },
  {
   "cell_type": "code",
   "execution_count": 1,
   "metadata": {},
   "outputs": [],
   "source": [
    "import numpy as np\n",
    "import sqlite3\n",
    "import pandas\n",
    "import os"
   ]
  },
  {
   "cell_type": "code",
   "execution_count": 2,
   "metadata": {},
   "outputs": [
    {
     "data": {
      "text/plain": [
       "0"
      ]
     },
     "execution_count": 2,
     "metadata": {},
     "output_type": "execute_result"
    }
   ],
   "source": [
    "# Download the SQLite file from the GRBweb webpage\n",
    "# os.system(\"wget -O /home/cjchen/2020-2021/Spring2021/greco_grb/data/grbweb/GRBweb2.sqlite https://icecube.wisc.edu/~grbweb_public/GRBweb2.sqlite\")\n",
    "os.system(\"wget -O /storage/home/hhive1/cchen641/data/icecube/data/greco_grb/data/grbweb/GRBweb2.sqlite https://icecube.wisc.edu/~grbweb_public/GRBweb2.sqlite\")\n"
   ]
  },
  {
   "cell_type": "code",
   "execution_count": 3,
   "metadata": {},
   "outputs": [
    {
     "data": {
      "text/plain": [
       "<sqlite3.Connection at 0x2aaadeeac650>"
      ]
     },
     "execution_count": 3,
     "metadata": {},
     "output_type": "execute_result"
    }
   ],
   "source": [
    "# db = sqlite3.connect('/home/cjchen/2020-2021/Spring2021/greco_grb/data/grbweb/GRBweb2.sqlite')\n",
    "db = sqlite3.connect('/storage/home/hhive1/cchen641/data/icecube/data/greco_grb/data/grbweb/GRBweb2.sqlite')\n",
    "db"
   ]
  },
  {
   "cell_type": "code",
   "execution_count": 4,
   "metadata": {},
   "outputs": [
    {
     "data": {
      "text/html": [
       "<div>\n",
       "<style scoped>\n",
       "    .dataframe tbody tr th:only-of-type {\n",
       "        vertical-align: middle;\n",
       "    }\n",
       "\n",
       "    .dataframe tbody tr th {\n",
       "        vertical-align: top;\n",
       "    }\n",
       "\n",
       "    .dataframe thead th {\n",
       "        text-align: right;\n",
       "    }\n",
       "</style>\n",
       "<table border=\"1\" class=\"dataframe\">\n",
       "  <thead>\n",
       "    <tr style=\"text-align: right;\">\n",
       "      <th></th>\n",
       "      <th>name</th>\n",
       "      <th>seq</th>\n",
       "    </tr>\n",
       "  </thead>\n",
       "  <tbody>\n",
       "    <tr>\n",
       "      <th>0</th>\n",
       "      <td>BATSE</td>\n",
       "      <td>2702</td>\n",
       "    </tr>\n",
       "    <tr>\n",
       "      <th>1</th>\n",
       "      <td>BeppoSAX</td>\n",
       "      <td>1082</td>\n",
       "    </tr>\n",
       "    <tr>\n",
       "      <th>2</th>\n",
       "      <td>Fermi_GBM</td>\n",
       "      <td>3134</td>\n",
       "    </tr>\n",
       "    <tr>\n",
       "      <th>3</th>\n",
       "      <td>Fermi_GBM_precursor_Zhu</td>\n",
       "      <td>239</td>\n",
       "    </tr>\n",
       "    <tr>\n",
       "      <th>4</th>\n",
       "      <td>Fermi_GBM_subthreshold</td>\n",
       "      <td>4608</td>\n",
       "    </tr>\n",
       "    <tr>\n",
       "      <th>5</th>\n",
       "      <td>Fermi_LAT</td>\n",
       "      <td>146</td>\n",
       "    </tr>\n",
       "    <tr>\n",
       "      <th>6</th>\n",
       "      <td>GCN_circulars</td>\n",
       "      <td>18520</td>\n",
       "    </tr>\n",
       "    <tr>\n",
       "      <th>7</th>\n",
       "      <td>IPN</td>\n",
       "      <td>2255</td>\n",
       "    </tr>\n",
       "    <tr>\n",
       "      <th>8</th>\n",
       "      <td>Summary</td>\n",
       "      <td>7655</td>\n",
       "    </tr>\n",
       "    <tr>\n",
       "      <th>9</th>\n",
       "      <td>Swift</td>\n",
       "      <td>1506</td>\n",
       "    </tr>\n",
       "  </tbody>\n",
       "</table>\n",
       "</div>"
      ],
      "text/plain": [
       "                      name    seq\n",
       "0                    BATSE   2702\n",
       "1                 BeppoSAX   1082\n",
       "2                Fermi_GBM   3134\n",
       "3  Fermi_GBM_precursor_Zhu    239\n",
       "4   Fermi_GBM_subthreshold   4608\n",
       "5                Fermi_LAT    146\n",
       "6            GCN_circulars  18520\n",
       "7                      IPN   2255\n",
       "8                  Summary   7655\n",
       "9                    Swift   1506"
      ]
     },
     "execution_count": 4,
     "metadata": {},
     "output_type": "execute_result"
    }
   ],
   "source": [
    "# Print the names of all the tables\n",
    "table_names = pandas.read_sql_query(\"SELECT * from sqlite_sequence\", db)\n",
    "table_names\n"
   ]
  },
  {
   "cell_type": "code",
   "execution_count": 5,
   "metadata": {},
   "outputs": [
    {
     "data": {
      "text/html": [
       "<div>\n",
       "<style scoped>\n",
       "    .dataframe tbody tr th:only-of-type {\n",
       "        vertical-align: middle;\n",
       "    }\n",
       "\n",
       "    .dataframe tbody tr th {\n",
       "        vertical-align: top;\n",
       "    }\n",
       "\n",
       "    .dataframe thead th {\n",
       "        text-align: right;\n",
       "    }\n",
       "</style>\n",
       "<table border=\"1\" class=\"dataframe\">\n",
       "  <thead>\n",
       "    <tr style=\"text-align: right;\">\n",
       "      <th></th>\n",
       "      <th>id</th>\n",
       "      <th>GRB_name</th>\n",
       "      <th>GRB_name_Fermi</th>\n",
       "      <th>T0</th>\n",
       "      <th>T0_source</th>\n",
       "      <th>ra</th>\n",
       "      <th>ra_source</th>\n",
       "      <th>decl</th>\n",
       "      <th>decl_source</th>\n",
       "      <th>pos_error</th>\n",
       "      <th>...</th>\n",
       "      <th>fluence</th>\n",
       "      <th>fluence_source</th>\n",
       "      <th>fluence_error</th>\n",
       "      <th>fluence_error_source</th>\n",
       "      <th>redshift</th>\n",
       "      <th>redshift_source</th>\n",
       "      <th>T100</th>\n",
       "      <th>GBM_located</th>\n",
       "      <th>mjd</th>\n",
       "      <th>mjd_source</th>\n",
       "    </tr>\n",
       "  </thead>\n",
       "  <tbody>\n",
       "    <tr>\n",
       "      <th>0</th>\n",
       "      <td>1</td>\n",
       "      <td>GRB150702A</td>\n",
       "      <td>GRB150702998</td>\n",
       "      <td>86197.55</td>\n",
       "      <td>Fermi_LAT</td>\n",
       "      <td>52.780000</td>\n",
       "      <td>Fermi_LAT</td>\n",
       "      <td>-57.000000</td>\n",
       "      <td>Fermi_LAT</td>\n",
       "      <td>0.360000</td>\n",
       "      <td>...</td>\n",
       "      <td>1.174100e-05</td>\n",
       "      <td>Fermi_GBM</td>\n",
       "      <td>5.402800e-08</td>\n",
       "      <td>Fermi_GBM</td>\n",
       "      <td>NaN</td>\n",
       "      <td>None</td>\n",
       "      <td>48.17</td>\n",
       "      <td>0</td>\n",
       "      <td>57205.997657</td>\n",
       "      <td>Fermi_LAT</td>\n",
       "    </tr>\n",
       "    <tr>\n",
       "      <th>1</th>\n",
       "      <td>2</td>\n",
       "      <td>GRB080120A</td>\n",
       "      <td>None</td>\n",
       "      <td>62910.00</td>\n",
       "      <td>GCN_circulars,INTEGRAL</td>\n",
       "      <td>225.287500</td>\n",
       "      <td>IPN</td>\n",
       "      <td>-10.900000</td>\n",
       "      <td>IPN</td>\n",
       "      <td>0.051667</td>\n",
       "      <td>...</td>\n",
       "      <td>NaN</td>\n",
       "      <td>None</td>\n",
       "      <td>NaN</td>\n",
       "      <td>None</td>\n",
       "      <td>NaN</td>\n",
       "      <td>None</td>\n",
       "      <td>NaN</td>\n",
       "      <td>0</td>\n",
       "      <td>54485.728125</td>\n",
       "      <td>GCN_circulars,INTEGRAL</td>\n",
       "    </tr>\n",
       "    <tr>\n",
       "      <th>2</th>\n",
       "      <td>3</td>\n",
       "      <td>GRB080123A</td>\n",
       "      <td>None</td>\n",
       "      <td>15717.00</td>\n",
       "      <td>GCN_circulars,Swift Det</td>\n",
       "      <td>338.943083</td>\n",
       "      <td>Swift</td>\n",
       "      <td>-64.900889</td>\n",
       "      <td>Swift</td>\n",
       "      <td>0.000220</td>\n",
       "      <td>...</td>\n",
       "      <td>5.700000e-07</td>\n",
       "      <td>Swift</td>\n",
       "      <td>NaN</td>\n",
       "      <td>None</td>\n",
       "      <td>NaN</td>\n",
       "      <td>None</td>\n",
       "      <td>115.00</td>\n",
       "      <td>0</td>\n",
       "      <td>54488.181910</td>\n",
       "      <td>GCN_circulars,Swift Det</td>\n",
       "    </tr>\n",
       "    <tr>\n",
       "      <th>3</th>\n",
       "      <td>4</td>\n",
       "      <td>GRB080121A</td>\n",
       "      <td>None</td>\n",
       "      <td>77395.00</td>\n",
       "      <td>Swift</td>\n",
       "      <td>137.235000</td>\n",
       "      <td>Swift</td>\n",
       "      <td>41.841000</td>\n",
       "      <td>Swift</td>\n",
       "      <td>0.023300</td>\n",
       "      <td>...</td>\n",
       "      <td>3.000000e-08</td>\n",
       "      <td>Swift</td>\n",
       "      <td>NaN</td>\n",
       "      <td>None</td>\n",
       "      <td>0.046</td>\n",
       "      <td>GCN_circulars,Swift-BAT Det</td>\n",
       "      <td>0.70</td>\n",
       "      <td>0</td>\n",
       "      <td>54486.895775</td>\n",
       "      <td>Swift</td>\n",
       "    </tr>\n",
       "    <tr>\n",
       "      <th>4</th>\n",
       "      <td>5</td>\n",
       "      <td>GRB080122A</td>\n",
       "      <td>None</td>\n",
       "      <td>66764.00</td>\n",
       "      <td>GCN_circulars,IPN Triangulation</td>\n",
       "      <td>191.350000</td>\n",
       "      <td>IPN</td>\n",
       "      <td>27.016667</td>\n",
       "      <td>IPN</td>\n",
       "      <td>1.666667</td>\n",
       "      <td>...</td>\n",
       "      <td>NaN</td>\n",
       "      <td>None</td>\n",
       "      <td>NaN</td>\n",
       "      <td>None</td>\n",
       "      <td>NaN</td>\n",
       "      <td>None</td>\n",
       "      <td>NaN</td>\n",
       "      <td>0</td>\n",
       "      <td>54487.772731</td>\n",
       "      <td>GCN_circulars,IPN Triangulation</td>\n",
       "    </tr>\n",
       "  </tbody>\n",
       "</table>\n",
       "<p>5 rows × 27 columns</p>\n",
       "</div>"
      ],
      "text/plain": [
       "   id    GRB_name GRB_name_Fermi        T0                        T0_source  \\\n",
       "0   1  GRB150702A   GRB150702998  86197.55                        Fermi_LAT   \n",
       "1   2  GRB080120A           None  62910.00           GCN_circulars,INTEGRAL   \n",
       "2   3  GRB080123A           None  15717.00          GCN_circulars,Swift Det   \n",
       "3   4  GRB080121A           None  77395.00                            Swift   \n",
       "4   5  GRB080122A           None  66764.00  GCN_circulars,IPN Triangulation   \n",
       "\n",
       "           ra  ra_source       decl decl_source  pos_error  ...       fluence  \\\n",
       "0   52.780000  Fermi_LAT -57.000000   Fermi_LAT   0.360000  ...  1.174100e-05   \n",
       "1  225.287500        IPN -10.900000         IPN   0.051667  ...           NaN   \n",
       "2  338.943083      Swift -64.900889       Swift   0.000220  ...  5.700000e-07   \n",
       "3  137.235000      Swift  41.841000       Swift   0.023300  ...  3.000000e-08   \n",
       "4  191.350000        IPN  27.016667         IPN   1.666667  ...           NaN   \n",
       "\n",
       "   fluence_source fluence_error  fluence_error_source redshift  \\\n",
       "0       Fermi_GBM  5.402800e-08             Fermi_GBM      NaN   \n",
       "1            None           NaN                  None      NaN   \n",
       "2           Swift           NaN                  None      NaN   \n",
       "3           Swift           NaN                  None    0.046   \n",
       "4            None           NaN                  None      NaN   \n",
       "\n",
       "               redshift_source    T100  GBM_located           mjd  \\\n",
       "0                         None   48.17            0  57205.997657   \n",
       "1                         None     NaN            0  54485.728125   \n",
       "2                         None  115.00            0  54488.181910   \n",
       "3  GCN_circulars,Swift-BAT Det    0.70            0  54486.895775   \n",
       "4                         None     NaN            0  54487.772731   \n",
       "\n",
       "                        mjd_source  \n",
       "0                        Fermi_LAT  \n",
       "1           GCN_circulars,INTEGRAL  \n",
       "2          GCN_circulars,Swift Det  \n",
       "3                            Swift  \n",
       "4  GCN_circulars,IPN Triangulation  \n",
       "\n",
       "[5 rows x 27 columns]"
      ]
     },
     "execution_count": 5,
     "metadata": {},
     "output_type": "execute_result"
    }
   ],
   "source": [
    "# Get numpy arrays containing the right ascension, declination, mjd, ... of the entries in the Summary table\n",
    "Summary_table = pandas.read_sql_query(\"SELECT * from Summary\", db)\n",
    "Summary_table.head()"
   ]
  },
  {
   "cell_type": "code",
   "execution_count": 6,
   "metadata": {},
   "outputs": [
    {
     "name": "stdout",
     "output_type": "stream",
     "text": [
      "Keys in the 'Summary' table: ['id', 'GRB_name', 'GRB_name_Fermi', 'T0', 'T0_source', 'ra', 'ra_source', 'decl', 'decl_source', 'pos_error', 'pos_error_source', 'T90', 'T90_source', 'T90_error', 'T90_error_source', 'T90_start', 'T90_start_source', 'fluence', 'fluence_source', 'fluence_error', 'fluence_error_source', 'redshift', 'redshift_source', 'T100', 'GBM_located', 'mjd', 'mjd_source']\n",
      "\n",
      " RA: [ 52.78       225.2875     338.94308333]\n",
      " DEC: [-57.         -10.9        -64.90088889]\n",
      " MJD: [57205.99765683 54485.728125   54488.18190972]\n"
     ]
    },
    {
     "data": {
      "text/plain": [
       "(7655, 27)"
      ]
     },
     "execution_count": 6,
     "metadata": {},
     "output_type": "execute_result"
    }
   ],
   "source": [
    "keys = Summary_table.keys()\n",
    "print(\"Keys in the 'Summary' table: {}\\n\".format(list(keys)))\n",
    "RA  = np.array(Summary_table.ra)   # right ascension\n",
    "DEC = np.array(Summary_table.decl) # declination\n",
    "MJD = np.array(Summary_table.mjd)  # modified julian date\n",
    "print(\" RA: {}\".format(RA[:3]))\n",
    "print(\" DEC: {}\".format(DEC[:3]))\n",
    "print(\" MJD: {}\".format(MJD[:3]))\n",
    "\n",
    "Summary_table.shape"
   ]
  },
  {
   "cell_type": "markdown",
   "metadata": {},
   "source": [
    "## GRECO v2.4\n",
    "`/data/user/mlarson/combo_r129072/scripts/greco_online/skylab_dataset/greco_online/current` \\\n",
    "Data 2012 - 2018 \\\n",
    "from MJD `56043.42313825331` to `58648.87564821623` \\\n",
    "Or `2012-04-26 10:09:19.145 UTC` ~ `2019-06-14 21:00:56.006 UTC` \\\n",
    "No boundary constraint here."
   ]
  },
  {
   "cell_type": "markdown",
   "metadata": {},
   "source": [
    "## GRECO v2.10\n",
    "`/data/user/mlarson/combo_r129072/scripts/greco_online/skylab_dataset/greco_online/candidate-002-p10` \\\n",
    "Data 2012 - 2019 \\\n",
    "GRL starts from MJD `56043.42452709535` and ends at `58998.82821445378` \\\n",
    "Or `2012-04-26 10:11:19.141 UTC` ~ `2020-05-29 19:52:37.729 UTC` \\\n",
    "Boundary constraints:\n",
    "`t_center > 56043.42452709535 + 500./86400` and `t_center < 58998.82821445378 - 500./86400`"
   ]
  },
  {
   "cell_type": "code",
   "execution_count": 7,
   "metadata": {},
   "outputs": [
    {
     "name": "stdout",
     "output_type": "stream",
     "text": [
      "56043.42452709535\n",
      "58998.82821445378\n"
     ]
    }
   ],
   "source": [
    "# test1 = np.load(\"/data/user/mlarson/combo_r129072/scripts/greco_online/skylab_dataset/greco_online/candidate-002-p10/GRL/IC86_2012.data.npy\")\n",
    "# test2 = np.load(\"/data/user/mlarson/combo_r129072/scripts/greco_online/skylab_dataset/greco_online/candidate-002-p10/GRL/IC86_2019.data.npy\")\n",
    "test1 = np.load(\"/storage/home/hhive1/cchen641/data/icecube/data/analyses/online_GRECO/candidate-002-p10/GRL/IC86_2012.data.npy\")\n",
    "test2 = np.load(\"/storage/home/hhive1/cchen641/data/icecube/data/analyses/online_GRECO/candidate-002-p10/GRL/IC86_2019.data.npy\")\n",
    "\n",
    "print(np.min(test1['start']))\n",
    "print(np.max(test2['stop']))\n"
   ]
  },
  {
   "cell_type": "code",
   "execution_count": 8,
   "metadata": {},
   "outputs": [
    {
     "name": "stdout",
     "output_type": "stream",
     "text": [
      "All bursts have MJD\n"
     ]
    }
   ],
   "source": [
    "if np.isnan(np.sum(MJD)):\n",
    "    print(\"We have null MJD\")\n",
    "else:\n",
    "    print(\"All bursts have MJD\")"
   ]
  },
  {
   "cell_type": "markdown",
   "metadata": {},
   "source": [
    "All angles in degrees \\\n",
    "All times in days"
   ]
  },
  {
   "cell_type": "code",
   "execution_count": 9,
   "metadata": {},
   "outputs": [
    {
     "data": {
      "text/html": [
       "<div>\n",
       "<style scoped>\n",
       "    .dataframe tbody tr th:only-of-type {\n",
       "        vertical-align: middle;\n",
       "    }\n",
       "\n",
       "    .dataframe tbody tr th {\n",
       "        vertical-align: top;\n",
       "    }\n",
       "\n",
       "    .dataframe thead th {\n",
       "        text-align: right;\n",
       "    }\n",
       "</style>\n",
       "<table border=\"1\" class=\"dataframe\">\n",
       "  <thead>\n",
       "    <tr style=\"text-align: right;\">\n",
       "      <th></th>\n",
       "      <th>grb_name</th>\n",
       "      <th>grb_name_GBM</th>\n",
       "      <th>ra</th>\n",
       "      <th>dec</th>\n",
       "      <th>mjd_start</th>\n",
       "      <th>t100</th>\n",
       "      <th>t90</th>\n",
       "      <th>gbm</th>\n",
       "      <th>source_uncertainty</th>\n",
       "      <th>fluence</th>\n",
       "      <th>redshift</th>\n",
       "      <th>t_center</th>\n",
       "    </tr>\n",
       "  </thead>\n",
       "  <tbody>\n",
       "    <tr>\n",
       "      <th>0</th>\n",
       "      <td>GRB200529B</td>\n",
       "      <td>GRB200529504</td>\n",
       "      <td>337.200000</td>\n",
       "      <td>55.230000</td>\n",
       "      <td>58998.503432</td>\n",
       "      <td>0.000539</td>\n",
       "      <td>0.000539</td>\n",
       "      <td>1</td>\n",
       "      <td>3.506136</td>\n",
       "      <td>0.000005</td>\n",
       "      <td>NaN</td>\n",
       "      <td>58998.503701</td>\n",
       "    </tr>\n",
       "    <tr>\n",
       "      <th>1</th>\n",
       "      <td>GRB200529A</td>\n",
       "      <td>GRB200529039</td>\n",
       "      <td>238.763917</td>\n",
       "      <td>-11.073639</td>\n",
       "      <td>58998.039294</td>\n",
       "      <td>0.001004</td>\n",
       "      <td>0.000984</td>\n",
       "      <td>0</td>\n",
       "      <td>0.000233</td>\n",
       "      <td>0.000005</td>\n",
       "      <td>NaN</td>\n",
       "      <td>58998.039796</td>\n",
       "    </tr>\n",
       "    <tr>\n",
       "      <th>2</th>\n",
       "      <td>GRB200528A</td>\n",
       "      <td>GRB200528436</td>\n",
       "      <td>176.637458</td>\n",
       "      <td>58.192583</td>\n",
       "      <td>58997.435683</td>\n",
       "      <td>0.000700</td>\n",
       "      <td>0.000655</td>\n",
       "      <td>0</td>\n",
       "      <td>0.000194</td>\n",
       "      <td>0.000029</td>\n",
       "      <td>NaN</td>\n",
       "      <td>58997.436033</td>\n",
       "    </tr>\n",
       "    <tr>\n",
       "      <th>3</th>\n",
       "      <td>GRB200525A</td>\n",
       "      <td>GRB200525611</td>\n",
       "      <td>20.610000</td>\n",
       "      <td>-8.520000</td>\n",
       "      <td>58994.611328</td>\n",
       "      <td>0.001081</td>\n",
       "      <td>0.001081</td>\n",
       "      <td>1</td>\n",
       "      <td>4.536708</td>\n",
       "      <td>0.000009</td>\n",
       "      <td>NaN</td>\n",
       "      <td>58994.611869</td>\n",
       "    </tr>\n",
       "    <tr>\n",
       "      <th>4</th>\n",
       "      <td>GRB200524A</td>\n",
       "      <td>GRB200524211</td>\n",
       "      <td>212.750000</td>\n",
       "      <td>60.966667</td>\n",
       "      <td>58993.211115</td>\n",
       "      <td>0.000445</td>\n",
       "      <td>0.000437</td>\n",
       "      <td>0</td>\n",
       "      <td>0.200000</td>\n",
       "      <td>0.000014</td>\n",
       "      <td>1.256</td>\n",
       "      <td>58993.211338</td>\n",
       "    </tr>\n",
       "  </tbody>\n",
       "</table>\n",
       "</div>"
      ],
      "text/plain": [
       "     grb_name  grb_name_GBM          ra        dec     mjd_start      t100  \\\n",
       "0  GRB200529B  GRB200529504  337.200000  55.230000  58998.503432  0.000539   \n",
       "1  GRB200529A  GRB200529039  238.763917 -11.073639  58998.039294  0.001004   \n",
       "2  GRB200528A  GRB200528436  176.637458  58.192583  58997.435683  0.000700   \n",
       "3  GRB200525A  GRB200525611   20.610000  -8.520000  58994.611328  0.001081   \n",
       "4  GRB200524A  GRB200524211  212.750000  60.966667  58993.211115  0.000445   \n",
       "\n",
       "        t90  gbm  source_uncertainty   fluence  redshift      t_center  \n",
       "0  0.000539    1            3.506136  0.000005       NaN  58998.503701  \n",
       "1  0.000984    0            0.000233  0.000005       NaN  58998.039796  \n",
       "2  0.000655    0            0.000194  0.000029       NaN  58997.436033  \n",
       "3  0.001081    1            4.536708  0.000009       NaN  58994.611869  \n",
       "4  0.000437    0            0.200000  0.000014     1.256  58993.211338  "
      ]
     },
     "execution_count": 9,
     "metadata": {},
     "output_type": "execute_result"
    }
   ],
   "source": [
    "query = \"\"\"\n",
    "SELECT GRB_name AS grb_name\n",
    ", GRB_name_Fermi AS grb_name_GBM\n",
    ", ra\n",
    ", decl AS dec\n",
    ", mjd AS mjd_start\n",
    ", T100/86400. AS t100\n",
    ", T90/86400. AS t90\n",
    ", GBM_located AS gbm\n",
    ", pos_error AS source_uncertainty\n",
    ", fluence\n",
    ", redshift\n",
    ", (mjd + 0.5*T100/86400.) AS t_center\n",
    "FROM Summary\n",
    "WHERE (T100 IS NOT NULL) And (t_center between 56043.43031413238 And 58998.822427416744)\n",
    "ORDER BY grb_name DESC\n",
    "\"\"\"\n",
    "grb_table_2297 = pandas.read_sql_query(query, db)\n",
    "grb_table_2297.head()"
   ]
  },
  {
   "cell_type": "code",
   "execution_count": 10,
   "metadata": {},
   "outputs": [
    {
     "data": {
      "text/plain": [
       "(2297, 12)"
      ]
     },
     "execution_count": 10,
     "metadata": {},
     "output_type": "execute_result"
    }
   ],
   "source": [
    "grb_table_2297.shape"
   ]
  },
  {
   "cell_type": "code",
   "execution_count": 11,
   "metadata": {},
   "outputs": [
    {
     "data": {
      "text/plain": [
       "pandas.core.frame.DataFrame"
      ]
     },
     "execution_count": 11,
     "metadata": {},
     "output_type": "execute_result"
    }
   ],
   "source": [
    "type(grb_table_2297)"
   ]
  },
  {
   "cell_type": "code",
   "execution_count": 12,
   "metadata": {},
   "outputs": [],
   "source": [
    "# grb_table.to_pickle(\"/home/cjchen/2020-2021/Spring2021/greco_grb/data/grbweb/grb_grbweb.pkl\")\n",
    "# grb_table_2297.to_pickle(\"/storage/home/hhive1/cchen641/data/icecube/data/greco_grb/data/grbweb/grb_grbweb_2297.pkl\")\n"
   ]
  }
 ],
 "metadata": {
  "kernelspec": {
   "display_name": "Python [default]",
   "language": "python",
   "name": "python3"
  },
  "language_info": {
   "codemirror_mode": {
    "name": "ipython",
    "version": 3
   },
   "file_extension": ".py",
   "mimetype": "text/x-python",
   "name": "python",
   "nbconvert_exporter": "python",
   "pygments_lexer": "ipython3",
   "version": "3.7.6"
  }
 },
 "nbformat": 4,
 "nbformat_minor": 2
}
