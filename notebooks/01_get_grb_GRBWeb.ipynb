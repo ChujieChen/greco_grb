{
 "cells": [
  {
   "cell_type": "markdown",
   "metadata": {},
   "source": [
    "Running in pre-compiled env `/cvmfs/icecube.opensciencegrid.org/py3-v4.1.0/RHEL_7_x86_64/metaprojects/combo/stable/env-shell.sh` \\\n",
    "Get grb list from GRBWeb \\\n",
    "Start date and end date are aligned with GRECO v2.4 data"
   ]
  },
  {
   "cell_type": "code",
   "execution_count": 1,
   "metadata": {},
   "outputs": [],
   "source": [
    "import numpy as np\n",
    "import sqlite3\n",
    "import pandas\n",
    "import os"
   ]
  },
  {
   "cell_type": "code",
   "execution_count": 2,
   "metadata": {},
   "outputs": [],
   "source": [
    "# Download the SQLite file from the GRBweb webpage\n",
    "# os.system(\"wget -O /home/cjchen/2020-2021/Spring2021/greco_grb/data/grbweb/GRBweb2.sqlite https://icecube.wisc.edu/~grbweb_public/GRBweb2.sqlite\")\n"
   ]
  },
  {
   "cell_type": "code",
   "execution_count": 3,
   "metadata": {},
   "outputs": [
    {
     "data": {
      "text/plain": [
       "<sqlite3.Connection at 0x7f500c78e030>"
      ]
     },
     "execution_count": 3,
     "metadata": {},
     "output_type": "execute_result"
    }
   ],
   "source": [
    "db = sqlite3.connect('/home/cjchen/2020-2021/Spring2021/greco_grb/data/grbweb/GRBweb2.sqlite')\n",
    "db"
   ]
  },
  {
   "cell_type": "code",
   "execution_count": 4,
   "metadata": {},
   "outputs": [
    {
     "data": {
      "text/html": [
       "<div>\n",
       "<style scoped>\n",
       "    .dataframe tbody tr th:only-of-type {\n",
       "        vertical-align: middle;\n",
       "    }\n",
       "\n",
       "    .dataframe tbody tr th {\n",
       "        vertical-align: top;\n",
       "    }\n",
       "\n",
       "    .dataframe thead th {\n",
       "        text-align: right;\n",
       "    }\n",
       "</style>\n",
       "<table border=\"1\" class=\"dataframe\">\n",
       "  <thead>\n",
       "    <tr style=\"text-align: right;\">\n",
       "      <th></th>\n",
       "      <th>name</th>\n",
       "      <th>seq</th>\n",
       "    </tr>\n",
       "  </thead>\n",
       "  <tbody>\n",
       "    <tr>\n",
       "      <th>0</th>\n",
       "      <td>BATSE</td>\n",
       "      <td>2702</td>\n",
       "    </tr>\n",
       "    <tr>\n",
       "      <th>1</th>\n",
       "      <td>BeppoSAX</td>\n",
       "      <td>1082</td>\n",
       "    </tr>\n",
       "    <tr>\n",
       "      <th>2</th>\n",
       "      <td>Fermi_GBM</td>\n",
       "      <td>2965</td>\n",
       "    </tr>\n",
       "    <tr>\n",
       "      <th>3</th>\n",
       "      <td>Fermi_GBM_precursor_Zhu</td>\n",
       "      <td>239</td>\n",
       "    </tr>\n",
       "    <tr>\n",
       "      <th>4</th>\n",
       "      <td>Fermi_GBM_subthreshold</td>\n",
       "      <td>4205</td>\n",
       "    </tr>\n",
       "    <tr>\n",
       "      <th>5</th>\n",
       "      <td>Fermi_LAT</td>\n",
       "      <td>146</td>\n",
       "    </tr>\n",
       "    <tr>\n",
       "      <th>6</th>\n",
       "      <td>GCN_circulars</td>\n",
       "      <td>17236</td>\n",
       "    </tr>\n",
       "    <tr>\n",
       "      <th>7</th>\n",
       "      <td>IPN</td>\n",
       "      <td>2163</td>\n",
       "    </tr>\n",
       "    <tr>\n",
       "      <th>8</th>\n",
       "      <td>Summary</td>\n",
       "      <td>7432</td>\n",
       "    </tr>\n",
       "    <tr>\n",
       "      <th>9</th>\n",
       "      <td>Swift</td>\n",
       "      <td>1430</td>\n",
       "    </tr>\n",
       "  </tbody>\n",
       "</table>\n",
       "</div>"
      ],
      "text/plain": [
       "                      name    seq\n",
       "0                    BATSE   2702\n",
       "1                 BeppoSAX   1082\n",
       "2                Fermi_GBM   2965\n",
       "3  Fermi_GBM_precursor_Zhu    239\n",
       "4   Fermi_GBM_subthreshold   4205\n",
       "5                Fermi_LAT    146\n",
       "6            GCN_circulars  17236\n",
       "7                      IPN   2163\n",
       "8                  Summary   7432\n",
       "9                    Swift   1430"
      ]
     },
     "execution_count": 4,
     "metadata": {},
     "output_type": "execute_result"
    }
   ],
   "source": [
    "# Print the names of all the tables\n",
    "table_names = pandas.read_sql_query(\"SELECT * from sqlite_sequence\", db)\n",
    "table_names\n"
   ]
  },
  {
   "cell_type": "code",
   "execution_count": 5,
   "metadata": {},
   "outputs": [
    {
     "data": {
      "text/html": [
       "<div>\n",
       "<style scoped>\n",
       "    .dataframe tbody tr th:only-of-type {\n",
       "        vertical-align: middle;\n",
       "    }\n",
       "\n",
       "    .dataframe tbody tr th {\n",
       "        vertical-align: top;\n",
       "    }\n",
       "\n",
       "    .dataframe thead th {\n",
       "        text-align: right;\n",
       "    }\n",
       "</style>\n",
       "<table border=\"1\" class=\"dataframe\">\n",
       "  <thead>\n",
       "    <tr style=\"text-align: right;\">\n",
       "      <th></th>\n",
       "      <th>id</th>\n",
       "      <th>GRB_name</th>\n",
       "      <th>GRB_name_Fermi</th>\n",
       "      <th>T0</th>\n",
       "      <th>T0_source</th>\n",
       "      <th>ra</th>\n",
       "      <th>ra_source</th>\n",
       "      <th>decl</th>\n",
       "      <th>decl_source</th>\n",
       "      <th>pos_error</th>\n",
       "      <th>...</th>\n",
       "      <th>fluence</th>\n",
       "      <th>fluence_source</th>\n",
       "      <th>fluence_error</th>\n",
       "      <th>fluence_error_source</th>\n",
       "      <th>redshift</th>\n",
       "      <th>redshift_source</th>\n",
       "      <th>T100</th>\n",
       "      <th>GBM_located</th>\n",
       "      <th>mjd</th>\n",
       "      <th>mjd_source</th>\n",
       "    </tr>\n",
       "  </thead>\n",
       "  <tbody>\n",
       "    <tr>\n",
       "      <th>0</th>\n",
       "      <td>1</td>\n",
       "      <td>GRB150702A</td>\n",
       "      <td>GRB150702998</td>\n",
       "      <td>86197.55</td>\n",
       "      <td>Fermi_LAT</td>\n",
       "      <td>52.780000</td>\n",
       "      <td>Fermi_LAT</td>\n",
       "      <td>-57.000000</td>\n",
       "      <td>Fermi_LAT</td>\n",
       "      <td>0.360000</td>\n",
       "      <td>...</td>\n",
       "      <td>1.174100e-05</td>\n",
       "      <td>Fermi_GBM</td>\n",
       "      <td>5.402800e-08</td>\n",
       "      <td>Fermi_GBM</td>\n",
       "      <td>NaN</td>\n",
       "      <td>None</td>\n",
       "      <td>48.17</td>\n",
       "      <td>0</td>\n",
       "      <td>57205.997657</td>\n",
       "      <td>Fermi_LAT</td>\n",
       "    </tr>\n",
       "    <tr>\n",
       "      <th>1</th>\n",
       "      <td>2</td>\n",
       "      <td>GRB080120A</td>\n",
       "      <td>None</td>\n",
       "      <td>62910.00</td>\n",
       "      <td>GCN_circulars,INTEGRAL</td>\n",
       "      <td>225.287500</td>\n",
       "      <td>IPN</td>\n",
       "      <td>-10.900000</td>\n",
       "      <td>IPN</td>\n",
       "      <td>0.051667</td>\n",
       "      <td>...</td>\n",
       "      <td>NaN</td>\n",
       "      <td>None</td>\n",
       "      <td>NaN</td>\n",
       "      <td>None</td>\n",
       "      <td>NaN</td>\n",
       "      <td>None</td>\n",
       "      <td>NaN</td>\n",
       "      <td>0</td>\n",
       "      <td>54485.728125</td>\n",
       "      <td>GCN_circulars,INTEGRAL</td>\n",
       "    </tr>\n",
       "    <tr>\n",
       "      <th>2</th>\n",
       "      <td>3</td>\n",
       "      <td>GRB080123A</td>\n",
       "      <td>None</td>\n",
       "      <td>15717.00</td>\n",
       "      <td>GCN_circulars,Swift Det</td>\n",
       "      <td>338.943083</td>\n",
       "      <td>Swift</td>\n",
       "      <td>-64.900889</td>\n",
       "      <td>Swift</td>\n",
       "      <td>0.000220</td>\n",
       "      <td>...</td>\n",
       "      <td>5.700000e-07</td>\n",
       "      <td>Swift</td>\n",
       "      <td>NaN</td>\n",
       "      <td>None</td>\n",
       "      <td>NaN</td>\n",
       "      <td>None</td>\n",
       "      <td>115.00</td>\n",
       "      <td>0</td>\n",
       "      <td>54488.181910</td>\n",
       "      <td>GCN_circulars,Swift Det</td>\n",
       "    </tr>\n",
       "    <tr>\n",
       "      <th>3</th>\n",
       "      <td>4</td>\n",
       "      <td>GRB080121A</td>\n",
       "      <td>None</td>\n",
       "      <td>77395.00</td>\n",
       "      <td>Swift</td>\n",
       "      <td>137.235000</td>\n",
       "      <td>Swift</td>\n",
       "      <td>41.841000</td>\n",
       "      <td>Swift</td>\n",
       "      <td>0.023300</td>\n",
       "      <td>...</td>\n",
       "      <td>3.000000e-08</td>\n",
       "      <td>Swift</td>\n",
       "      <td>NaN</td>\n",
       "      <td>None</td>\n",
       "      <td>0.046</td>\n",
       "      <td>GCN_circulars,Swift-BAT Det</td>\n",
       "      <td>0.70</td>\n",
       "      <td>0</td>\n",
       "      <td>54486.895775</td>\n",
       "      <td>Swift</td>\n",
       "    </tr>\n",
       "    <tr>\n",
       "      <th>4</th>\n",
       "      <td>5</td>\n",
       "      <td>GRB080122A</td>\n",
       "      <td>None</td>\n",
       "      <td>66764.00</td>\n",
       "      <td>GCN_circulars,IPN Triangulation</td>\n",
       "      <td>191.350000</td>\n",
       "      <td>IPN</td>\n",
       "      <td>27.016667</td>\n",
       "      <td>IPN</td>\n",
       "      <td>1.666667</td>\n",
       "      <td>...</td>\n",
       "      <td>NaN</td>\n",
       "      <td>None</td>\n",
       "      <td>NaN</td>\n",
       "      <td>None</td>\n",
       "      <td>NaN</td>\n",
       "      <td>None</td>\n",
       "      <td>NaN</td>\n",
       "      <td>0</td>\n",
       "      <td>54487.772731</td>\n",
       "      <td>GCN_circulars,IPN Triangulation</td>\n",
       "    </tr>\n",
       "  </tbody>\n",
       "</table>\n",
       "<p>5 rows × 27 columns</p>\n",
       "</div>"
      ],
      "text/plain": [
       "   id    GRB_name GRB_name_Fermi        T0                        T0_source  \\\n",
       "0   1  GRB150702A   GRB150702998  86197.55                        Fermi_LAT   \n",
       "1   2  GRB080120A           None  62910.00           GCN_circulars,INTEGRAL   \n",
       "2   3  GRB080123A           None  15717.00          GCN_circulars,Swift Det   \n",
       "3   4  GRB080121A           None  77395.00                            Swift   \n",
       "4   5  GRB080122A           None  66764.00  GCN_circulars,IPN Triangulation   \n",
       "\n",
       "           ra  ra_source       decl decl_source  pos_error  \\\n",
       "0   52.780000  Fermi_LAT -57.000000   Fermi_LAT   0.360000   \n",
       "1  225.287500        IPN -10.900000         IPN   0.051667   \n",
       "2  338.943083      Swift -64.900889       Swift   0.000220   \n",
       "3  137.235000      Swift  41.841000       Swift   0.023300   \n",
       "4  191.350000        IPN  27.016667         IPN   1.666667   \n",
       "\n",
       "                ...                      fluence  fluence_source  \\\n",
       "0               ...                 1.174100e-05       Fermi_GBM   \n",
       "1               ...                          NaN            None   \n",
       "2               ...                 5.700000e-07           Swift   \n",
       "3               ...                 3.000000e-08           Swift   \n",
       "4               ...                          NaN            None   \n",
       "\n",
       "  fluence_error  fluence_error_source redshift              redshift_source  \\\n",
       "0  5.402800e-08             Fermi_GBM      NaN                         None   \n",
       "1           NaN                  None      NaN                         None   \n",
       "2           NaN                  None      NaN                         None   \n",
       "3           NaN                  None    0.046  GCN_circulars,Swift-BAT Det   \n",
       "4           NaN                  None      NaN                         None   \n",
       "\n",
       "     T100  GBM_located           mjd                       mjd_source  \n",
       "0   48.17            0  57205.997657                        Fermi_LAT  \n",
       "1     NaN            0  54485.728125           GCN_circulars,INTEGRAL  \n",
       "2  115.00            0  54488.181910          GCN_circulars,Swift Det  \n",
       "3    0.70            0  54486.895775                            Swift  \n",
       "4     NaN            0  54487.772731  GCN_circulars,IPN Triangulation  \n",
       "\n",
       "[5 rows x 27 columns]"
      ]
     },
     "execution_count": 5,
     "metadata": {},
     "output_type": "execute_result"
    }
   ],
   "source": [
    "# Get numpy arrays containing the right ascension, declination, mjd, ... of the entries in the Summary table\n",
    "Summary_table = pandas.read_sql_query(\"SELECT * from Summary\", db)\n",
    "Summary_table.head()"
   ]
  },
  {
   "cell_type": "code",
   "execution_count": 6,
   "metadata": {},
   "outputs": [
    {
     "name": "stdout",
     "output_type": "stream",
     "text": [
      "Keys in the 'Summary' table: ['id', 'GRB_name', 'GRB_name_Fermi', 'T0', 'T0_source', 'ra', 'ra_source', 'decl', 'decl_source', 'pos_error', 'pos_error_source', 'T90', 'T90_source', 'T90_error', 'T90_error_source', 'T90_start', 'T90_start_source', 'fluence', 'fluence_source', 'fluence_error', 'fluence_error_source', 'redshift', 'redshift_source', 'T100', 'GBM_located', 'mjd', 'mjd_source']\n",
      "\n",
      " RA: [ 52.78       225.2875     338.94308333]\n",
      " DEC: [-57.         -10.9        -64.90088889]\n",
      " MJD: [57205.99765683 54485.728125   54488.18190972]\n"
     ]
    },
    {
     "data": {
      "text/plain": [
       "(7432, 27)"
      ]
     },
     "execution_count": 6,
     "metadata": {},
     "output_type": "execute_result"
    }
   ],
   "source": [
    "keys = Summary_table.keys()\n",
    "print(\"Keys in the 'Summary' table: {}\\n\".format(list(keys)))\n",
    "RA  = np.array(Summary_table.ra)   # right ascension\n",
    "DEC = np.array(Summary_table.decl) # declination\n",
    "MJD = np.array(Summary_table.mjd)  # modified julian date\n",
    "print(\" RA: {}\".format(RA[:3]))\n",
    "print(\" DEC: {}\".format(DEC[:3]))\n",
    "print(\" MJD: {}\".format(MJD[:3]))\n",
    "\n",
    "Summary_table.shape"
   ]
  },
  {
   "cell_type": "markdown",
   "metadata": {},
   "source": [
    "## GRECO v2.4\n",
    "`/data/user/mlarson/combo_r129072/scripts/greco_online/skylab_dataset/greco_online/current` \\\n",
    "Data 2012 - 2018 \\\n",
    "from MJD `56043.42313825331` to `58648.87564821623` \\\n",
    "Or `2012-04-26 10:09:19.145 UTC` ~ `2019-06-14 21:00:56.006 UTC` \\\n",
    "No boundary constraint here."
   ]
  },
  {
   "cell_type": "code",
   "execution_count": 7,
   "metadata": {},
   "outputs": [
    {
     "name": "stdout",
     "output_type": "stream",
     "text": [
      "All bursts have MJD\n"
     ]
    }
   ],
   "source": [
    "if np.isnan(np.sum(MJD)):\n",
    "    print(\"We have null MJD\")\n",
    "else:\n",
    "    print(\"All bursts have MJD\")"
   ]
  },
  {
   "cell_type": "markdown",
   "metadata": {},
   "source": [
    "All angles in degrees \\\n",
    "All times in days"
   ]
  },
  {
   "cell_type": "code",
   "execution_count": 19,
   "metadata": {},
   "outputs": [
    {
     "data": {
      "text/html": [
       "<div>\n",
       "<style scoped>\n",
       "    .dataframe tbody tr th:only-of-type {\n",
       "        vertical-align: middle;\n",
       "    }\n",
       "\n",
       "    .dataframe tbody tr th {\n",
       "        vertical-align: top;\n",
       "    }\n",
       "\n",
       "    .dataframe thead th {\n",
       "        text-align: right;\n",
       "    }\n",
       "</style>\n",
       "<table border=\"1\" class=\"dataframe\">\n",
       "  <thead>\n",
       "    <tr style=\"text-align: right;\">\n",
       "      <th></th>\n",
       "      <th>grb_name</th>\n",
       "      <th>grb_name_GBM</th>\n",
       "      <th>ra</th>\n",
       "      <th>dec</th>\n",
       "      <th>mjd_start</th>\n",
       "      <th>t100</th>\n",
       "      <th>t90</th>\n",
       "      <th>gbm</th>\n",
       "      <th>source_uncertainty</th>\n",
       "      <th>redshift</th>\n",
       "      <th>t_center</th>\n",
       "    </tr>\n",
       "  </thead>\n",
       "  <tbody>\n",
       "    <tr>\n",
       "      <th>0</th>\n",
       "      <td>GRB190613B</td>\n",
       "      <td>GRB190613449</td>\n",
       "      <td>305.431917</td>\n",
       "      <td>-4.646667</td>\n",
       "      <td>58647.449285</td>\n",
       "      <td>0.001905</td>\n",
       "      <td>0.000056</td>\n",
       "      <td>0</td>\n",
       "      <td>0.000056</td>\n",
       "      <td>NaN</td>\n",
       "      <td>58647.450238</td>\n",
       "    </tr>\n",
       "    <tr>\n",
       "      <th>1</th>\n",
       "      <td>GRB190613A</td>\n",
       "      <td>GRB190613172</td>\n",
       "      <td>182.529208</td>\n",
       "      <td>67.235278</td>\n",
       "      <td>58647.171736</td>\n",
       "      <td>0.000204</td>\n",
       "      <td>0.000198</td>\n",
       "      <td>0</td>\n",
       "      <td>0.000056</td>\n",
       "      <td>NaN</td>\n",
       "      <td>58647.171838</td>\n",
       "    </tr>\n",
       "    <tr>\n",
       "      <th>2</th>\n",
       "      <td>GRB190612A</td>\n",
       "      <td>GRB190612165</td>\n",
       "      <td>223.950000</td>\n",
       "      <td>62.100000</td>\n",
       "      <td>58646.164836</td>\n",
       "      <td>0.001677</td>\n",
       "      <td>0.001677</td>\n",
       "      <td>1</td>\n",
       "      <td>7.025096</td>\n",
       "      <td>NaN</td>\n",
       "      <td>58646.165675</td>\n",
       "    </tr>\n",
       "    <tr>\n",
       "      <th>3</th>\n",
       "      <td>GRB190611B</td>\n",
       "      <td>GRB190611950</td>\n",
       "      <td>84.758333</td>\n",
       "      <td>50.833333</td>\n",
       "      <td>58645.949833</td>\n",
       "      <td>0.001217</td>\n",
       "      <td>0.001164</td>\n",
       "      <td>0</td>\n",
       "      <td>5.900000</td>\n",
       "      <td>NaN</td>\n",
       "      <td>58645.950442</td>\n",
       "    </tr>\n",
       "    <tr>\n",
       "      <th>4</th>\n",
       "      <td>GRB190611A</td>\n",
       "      <td>None</td>\n",
       "      <td>324.722625</td>\n",
       "      <td>-56.074278</td>\n",
       "      <td>58645.742373</td>\n",
       "      <td>0.000484</td>\n",
       "      <td>0.000484</td>\n",
       "      <td>0</td>\n",
       "      <td>0.000194</td>\n",
       "      <td>NaN</td>\n",
       "      <td>58645.742615</td>\n",
       "    </tr>\n",
       "  </tbody>\n",
       "</table>\n",
       "</div>"
      ],
      "text/plain": [
       "     grb_name  grb_name_GBM          ra        dec     mjd_start      t100  \\\n",
       "0  GRB190613B  GRB190613449  305.431917  -4.646667  58647.449285  0.001905   \n",
       "1  GRB190613A  GRB190613172  182.529208  67.235278  58647.171736  0.000204   \n",
       "2  GRB190612A  GRB190612165  223.950000  62.100000  58646.164836  0.001677   \n",
       "3  GRB190611B  GRB190611950   84.758333  50.833333  58645.949833  0.001217   \n",
       "4  GRB190611A          None  324.722625 -56.074278  58645.742373  0.000484   \n",
       "\n",
       "        t90  gbm  source_uncertainty  redshift      t_center  \n",
       "0  0.000056    0            0.000056       NaN  58647.450238  \n",
       "1  0.000198    0            0.000056       NaN  58647.171838  \n",
       "2  0.001677    1            7.025096       NaN  58646.165675  \n",
       "3  0.001164    0            5.900000       NaN  58645.950442  \n",
       "4  0.000484    0            0.000194       NaN  58645.742615  "
      ]
     },
     "execution_count": 19,
     "metadata": {},
     "output_type": "execute_result"
    }
   ],
   "source": [
    "query = \"\"\"\n",
    "SELECT GRB_name AS grb_name\n",
    ", GRB_name_Fermi AS grb_name_GBM\n",
    ", ra\n",
    ", decl AS dec\n",
    ", mjd AS mjd_start\n",
    ", T100/86400. AS t100\n",
    ", T90/86400. AS t90\n",
    ", GBM_located AS gbm\n",
    ", pos_error AS source_uncertainty\n",
    ", redshift\n",
    ", (mjd + 0.5*T100/86400.) AS t_center\n",
    "FROM Summary\n",
    "WHERE (T100 IS NOT NULL) And (t_center between 56043.42313825331 And 58648.87564821623)\n",
    "ORDER BY grb_name DESC\n",
    "\"\"\"\n",
    "grb_table = pandas.read_sql_query(query, db)\n",
    "grb_table.head()"
   ]
  },
  {
   "cell_type": "code",
   "execution_count": 20,
   "metadata": {},
   "outputs": [
    {
     "data": {
      "text/plain": [
       "(2051, 11)"
      ]
     },
     "execution_count": 20,
     "metadata": {},
     "output_type": "execute_result"
    }
   ],
   "source": [
    "grb_table.shape"
   ]
  },
  {
   "cell_type": "code",
   "execution_count": 21,
   "metadata": {},
   "outputs": [
    {
     "data": {
      "text/plain": [
       "pandas.core.frame.DataFrame"
      ]
     },
     "execution_count": 21,
     "metadata": {},
     "output_type": "execute_result"
    }
   ],
   "source": [
    "type(grb_table)"
   ]
  },
  {
   "cell_type": "code",
   "execution_count": 22,
   "metadata": {},
   "outputs": [],
   "source": [
    "# grb_table.to_pickle(\"/home/cjchen/2020-2021/Spring2021/greco_grb/data/grbweb/grb_grbweb.pkl\")"
   ]
  },
  {
   "cell_type": "code",
   "execution_count": null,
   "metadata": {},
   "outputs": [],
   "source": []
  }
 ],
 "metadata": {
  "kernelspec": {
   "display_name": "Python 3",
   "language": "python",
   "name": "python3"
  },
  "language_info": {
   "codemirror_mode": {
    "name": "ipython",
    "version": 3
   },
   "file_extension": ".py",
   "mimetype": "text/x-python",
   "name": "python",
   "nbconvert_exporter": "python",
   "pygments_lexer": "ipython3",
   "version": "3.7.5"
  }
 },
 "nbformat": 4,
 "nbformat_minor": 2
}
