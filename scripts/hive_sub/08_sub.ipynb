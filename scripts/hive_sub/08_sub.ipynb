{
 "cells": [
  {
   "cell_type": "code",
   "execution_count": 1,
   "metadata": {},
   "outputs": [
    {
     "data": {
      "text/plain": [
       "'\\nrun 08_save_multiple_run_post_p_for_null_binomial.py\\n'"
      ]
     },
     "execution_count": 1,
     "metadata": {},
     "output_type": "execute_result"
    }
   ],
   "source": [
    "\"\"\"\n",
    "run 08_save_multiple_run_post_p_for_null_binomial.py\n",
    "\"\"\""
   ]
  },
  {
   "cell_type": "code",
   "execution_count": 2,
   "metadata": {},
   "outputs": [],
   "source": [
    "import sys\n",
    "import os\n",
    "import glob\n",
    "import numpy as np\n",
    "import pandas as pd\n",
    "sys.path.append('../../../')\n",
    "from greco_grb.scripts.utils import *"
   ]
  },
  {
   "cell_type": "code",
   "execution_count": 3,
   "metadata": {},
   "outputs": [
    {
     "name": "stdout",
     "output_type": "stream",
     "text": [
      "\n",
      "#### Working at GT ####\n",
      "\n",
      "LOCATION: \t GT\n",
      "USER: \t cchen641\n",
      "ICDATA_DIR: \t /storage/home/hhive1/cchen641/data/icecube/data/analyses/online_GRECO/candidate-002-p10\n",
      "DATA_DIR: \t /storage/home/hhive1/cchen641/data/icecube/data/greco_grb/data\n",
      "ANA_DIR: \t /storage/home/hhive1/cchen641/data/icecube/data/greco_grb/data/csky_output\n",
      "\n"
     ]
    }
   ],
   "source": [
    "from greco_grb.scripts import SETTING\n",
    "paths = SETTING.PATH(osg=False)\n",
    "print(paths)\n",
    "LOCATION = paths.LOCATION\n",
    "USER = paths.USER\n",
    "ICDATA_DIR = paths.ICDATA_DIR\n",
    "DATA_DIR = paths.DATA_DIR\n",
    "ANA_DIR = paths.ANA_DIR"
   ]
  },
  {
   "cell_type": "code",
   "execution_count": 4,
   "metadata": {},
   "outputs": [],
   "source": [
    "### create arguments arrays ---> 06.txt\n",
    "# 0: grb_name\n",
    "# 1: n_inj\n",
    "# 2: n_trials\n",
    "# 3: tw_in_second\n",
    "# 4: ncpu\n",
    "# 5: batchIndex\n",
    "# 6: use_poisson"
   ]
  },
  {
   "cell_type": "markdown",
   "metadata": {},
   "source": [
    "# Check 1 out of 2"
   ]
  },
  {
   "cell_type": "code",
   "execution_count": 5,
   "metadata": {},
   "outputs": [],
   "source": [
    "####### Check before running ########\n",
    "script_path    = '/scratch/cjchen/submit/08.sub'\n",
    "## [::-1] reverse order\n",
    "num_runs = [100,500,1000,5000]\n",
    "#######################################"
   ]
  },
  {
   "cell_type": "code",
   "execution_count": 6,
   "metadata": {},
   "outputs": [],
   "source": [
    "contents = \"\"\n",
    "for num_run in num_runs:   \n",
    "    contents += \"{}\\n\".format(num_run)\n",
    "\n",
    "with open(\"08.txt\", 'w') as writer:\n",
    "    writer.write(contents)\n",
    "    "
   ]
  },
  {
   "cell_type": "code",
   "execution_count": 7,
   "metadata": {},
   "outputs": [
    {
     "name": "stdout",
     "output_type": "stream",
     "text": [
      "100\n",
      "500\n",
      "1000\n",
      "5000\n",
      "\n"
     ]
    }
   ],
   "source": [
    "print(contents)"
   ]
  },
  {
   "cell_type": "code",
   "execution_count": 8,
   "metadata": {},
   "outputs": [
    {
     "name": "stdout",
     "output_type": "stream",
     "text": [
      "Total number of jobs: 4\n",
      "\n"
     ]
    }
   ],
   "source": [
    "print(\"Total number of jobs: {}\\n\".format(contents.count('\\n')))"
   ]
  },
  {
   "cell_type": "code",
   "execution_count": 8,
   "metadata": {},
   "outputs": [],
   "source": [
    "### create pbs file ---> 08.pbs"
   ]
  },
  {
   "cell_type": "markdown",
   "metadata": {},
   "source": [
    "# Check 2 out of 2"
   ]
  },
  {
   "cell_type": "code",
   "execution_count": 9,
   "metadata": {},
   "outputs": [],
   "source": [
    "nameofjob  = \"08\"\n",
    "ntotal     = 4           # copy from the above 2nd cell \"Total number of jobs: xxx\"\n",
    "inputtxt   = \"08.txt\"      # copy from the above 3rd cell\n",
    "outdir     = ensure_dir(\"/storage/home/hhive1/cchen641/scratch/icecube/job_pbs_out/out\")\n",
    "walltimehr = 24  # in Hour"
   ]
  },
  {
   "cell_type": "code",
   "execution_count": 10,
   "metadata": {},
   "outputs": [
    {
     "name": "stdout",
     "output_type": "stream",
     "text": [
      "#PBS -N 08\n",
      "#PBS -l nodes=1:ppn=4\n",
      "#PBS -l pmem=4gb\n",
      "#PBS -l walltime=24:00:00\n",
      "#PBS -q hive\n",
      "#PBS -j oe\n",
      "#PBS -o /storage/home/hhive1/cchen641/scratch/icecube/job_pbs_out/out/08.out\n",
      "#PBS -t 1-4%400\n",
      "cd /storage/home/hhive1/cchen641/icecube/greco_grb/scripts\n",
      "icpy3\n",
      "params=`sed -n \"${PBS_ARRAYID} p\" hive_sub/08.txt`\n",
      "paramsArray=($params)\n",
      "arg0=${paramsArray[0]}\n",
      "arg1=${paramsArray[1]}\n",
      "python 08_save_multiple_run_post_p_for_null_binomial.py --num_run $arg0 \n"
     ]
    }
   ],
   "source": [
    "contents = \"\"\n",
    "contents += \"#PBS -N {}\\n\".format(nameofjob)\n",
    "contents += \"#PBS -l nodes=1:ppn={}\\n\".format(4)           # number of nodes and cores per node required\n",
    "contents += \"#PBS -l pmem=4gb\\n\"                             # memory per core\n",
    "contents += \"#PBS -l walltime={}:00:00\\n\".format(walltimehr)  # dd:hh:mm:ss\n",
    "contents += \"#PBS -q hive\\n\"\n",
    "contents += \"#PBS -j oe\\n\"\n",
    "contents += \"#PBS -o {}\\n\".format(outdir+\"/08.out\")\n",
    "contents += \"#PBS -t 1-{}%400\".format(ntotal)\n",
    "contents += \"\\n\"\n",
    "contents += \"cd /storage/home/hhive1/cchen641/icecube/greco_grb/scripts\\n\"\n",
    "contents += \"icpy3\\n\" \n",
    "# Get Paramters from input.txt file using $PBS_ARRAYID as the line number \n",
    "contents += 'params=`sed -n \"${{PBS_ARRAYID}} p\" {}`\\n'.format(\"hive_sub/\"+inputtxt)    # outer single quote to preserve inner double quotes\n",
    "contents += \"paramsArray=($params)\\n\"\n",
    "contents += \"arg0=${paramsArray[0]}\\n\"\n",
    "contents += \"arg1=${paramsArray[1]}\\n\"\n",
    "contents += \"python 08_save_multiple_run_post_p_for_null_binomial.py \"\n",
    "\n",
    "contents += \"--num_run $arg0 \"\n",
    "print(contents)\n",
    "with open(\"08.pbs\", 'w') as writer:\n",
    "    writer.write(contents)"
   ]
  },
  {
   "cell_type": "code",
   "execution_count": null,
   "metadata": {},
   "outputs": [],
   "source": []
  }
 ],
 "metadata": {
  "kernelspec": {
   "display_name": "Python [default]",
   "language": "python",
   "name": "python3"
  },
  "language_info": {
   "codemirror_mode": {
    "name": "ipython",
    "version": 3
   },
   "file_extension": ".py",
   "mimetype": "text/x-python",
   "name": "python",
   "nbconvert_exporter": "python",
   "pygments_lexer": "ipython3",
   "version": "3.7.6"
  }
 },
 "nbformat": 4,
 "nbformat_minor": 4
}
