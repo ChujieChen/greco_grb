{
 "cells": [
  {
   "cell_type": "code",
   "execution_count": 1,
   "metadata": {},
   "outputs": [
    {
     "data": {
      "text/plain": [
       "'\\n1 GBM-GRB(GRB180423A) + 1 nonGBM-GRB(GRB190415A) = 2 GRBs (two different qsub)\\n6 time windows\\n46  different injections (0 ~ 9.1, step=0.2)\\n500 trials for each n_inj (run on 1 core)\\n10 s/trial\\n= 2k cpu hr = 1600 hivecpu * 2 hr\\n\\ntws_in_second    = [  10,     25,    50,   100,   250,   500][::-1] \\n'"
      ]
     },
     "execution_count": 1,
     "metadata": {},
     "output_type": "execute_result"
    }
   ],
   "source": [
    "\"\"\"\n",
    "1 GBM-GRB(GRB180423A) + 1 nonGBM-GRB(GRB190415A) = 2 GRBs (two different qsub)\n",
    "6 time windows\n",
    "46  different injections (0 ~ 9.1, step=0.2)\n",
    "500 trials for each n_inj (run on 1 core)\n",
    "10 s/trial\n",
    "= 2k cpu hr = 1600 hivecpu * 2 hr\n",
    "\n",
    "tws_in_second    = [  10,     25,    50,   100,   250,   500][::-1] \n",
    "\"\"\""
   ]
  },
  {
   "cell_type": "code",
   "execution_count": 2,
   "metadata": {},
   "outputs": [],
   "source": [
    "import sys\n",
    "import os\n",
    "import glob\n",
    "import numpy as np\n",
    "import pandas as pd\n",
    "sys.path.append('../../../')\n",
    "from greco_grb.scripts.utils import *"
   ]
  },
  {
   "cell_type": "code",
   "execution_count": 3,
   "metadata": {},
   "outputs": [
    {
     "name": "stdout",
     "output_type": "stream",
     "text": [
      "\n",
      "#### Working at GT ####\n",
      "\n",
      "LOCATION: \t GT\n",
      "USER: \t cchen641\n",
      "ICDATA_DIR: \t /storage/home/hhive1/cchen641/data/icecube/data/analyses/online_GRECO/candidate-002-p10\n",
      "DATA_DIR: \t /storage/home/hhive1/cchen641/data/icecube/data/greco_grb/data\n",
      "ANA_DIR: \t /storage/home/hhive1/cchen641/data/icecube/data/greco_grb/data/csky_output\n",
      "\n"
     ]
    }
   ],
   "source": [
    "from greco_grb.scripts import SETTING\n",
    "paths = SETTING.PATH(osg=False)\n",
    "print(paths)\n",
    "LOCATION = paths.LOCATION\n",
    "USER = paths.USER\n",
    "ICDATA_DIR = paths.ICDATA_DIR\n",
    "DATA_DIR = paths.DATA_DIR\n",
    "ANA_DIR = paths.ANA_DIR"
   ]
  },
  {
   "cell_type": "code",
   "execution_count": 4,
   "metadata": {},
   "outputs": [],
   "source": [
    "### create arguments arrays ---> 03.txt\n",
    "# 0: grb_name\n",
    "# 1: n_inj\n",
    "# 2: n_trials\n",
    "# 3: tw_in_second\n",
    "# 4: ncpu\n",
    "# 5: batchIndex\n",
    "# 6: use_poisson"
   ]
  },
  {
   "cell_type": "markdown",
   "metadata": {},
   "source": [
    "# Check 1 out of 2"
   ]
  },
  {
   "cell_type": "code",
   "execution_count": 19,
   "metadata": {},
   "outputs": [],
   "source": [
    "####### Check before running ########\n",
    "script_path    = '/scratch/cjchen/submit/03.sub'\n",
    "## [::-1] reverse order\n",
    "grb_names      = [\"GRB180423A\"] # [\"GRB180423A\", \"GRB170529A\"]\n",
    "n_injs         = np.round(np.r_[0:9.1:0.2], 2)\n",
    "n_trials       = 500\n",
    "tws_in_second  = [10, 25, 50, 100, 250, 500]  \n",
    "ncpu           = 4\n",
    "batchIndex     = 0\n",
    "use_poisson    = 1\n",
    "#######################################"
   ]
  },
  {
   "cell_type": "code",
   "execution_count": 20,
   "metadata": {},
   "outputs": [],
   "source": [
    "contents = \"\"\n",
    "for grb_name in grb_names:       \n",
    "    for n_inj in n_injs:\n",
    "        for tw_in_second in tws_in_second:\n",
    "            contents += \"{}\\t\".format(grb_name)\n",
    "            contents += \"{}\\t\".format(n_inj)\n",
    "            contents += \"{}\\t\".format(n_trials)\n",
    "            contents += \"{}\\t\".format(tw_in_second)\n",
    "            contents += \"{}\\t\".format(ncpu)\n",
    "            contents += \"{}\\t\".format(batchIndex)\n",
    "            contents += \"{}\\n\".format(use_poisson)\n",
    "\n",
    "with open(\"03.txt\", 'w') as writer:\n",
    "    writer.write(contents)\n",
    "    "
   ]
  },
  {
   "cell_type": "code",
   "execution_count": 21,
   "metadata": {},
   "outputs": [],
   "source": [
    "# print(contents)"
   ]
  },
  {
   "cell_type": "code",
   "execution_count": 22,
   "metadata": {},
   "outputs": [
    {
     "name": "stdout",
     "output_type": "stream",
     "text": [
      "Total number of jobs: 276\n",
      "\n"
     ]
    }
   ],
   "source": [
    "print(\"Total number of jobs: {}\\n\".format(contents.count('\\n')))"
   ]
  },
  {
   "cell_type": "code",
   "execution_count": 23,
   "metadata": {},
   "outputs": [],
   "source": [
    "### create pbs file ---> 03.pbs"
   ]
  },
  {
   "cell_type": "markdown",
   "metadata": {},
   "source": [
    "# Check 2 out of 2"
   ]
  },
  {
   "cell_type": "code",
   "execution_count": 24,
   "metadata": {},
   "outputs": [],
   "source": [
    "nameofjob  = \"03\"\n",
    "ntotal     = 276           # copy from the above 2nd cell \"Total number of jobs: xxx\"\n",
    "inputtxt   = \"03.txt\"      # copy from the above 3rd cell\n",
    "outdir     = ensure_dir(\"/storage/home/hhive1/cchen641/scratch/icecube/job_pbs_out/out\")\n",
    "walltimehr = 8 # 2hr is needed; 8 hrs for safe  # in Hour"
   ]
  },
  {
   "cell_type": "code",
   "execution_count": 25,
   "metadata": {},
   "outputs": [
    {
     "name": "stdout",
     "output_type": "stream",
     "text": [
      "#PBS -N 03\n",
      "#PBS -l nodes=1:ppn=1\n",
      "#PBS -l pmem=4gb\n",
      "#PBS -l walltime=8:00:00\n",
      "#PBS -q hive\n",
      "#PBS -j oe\n",
      "#PBS -o /storage/home/hhive1/cchen641/scratch/icecube/job_pbs_out/out/03.out\n",
      "#PBS -t 1-276%400\n",
      "cd /storage/home/hhive1/cchen641/icecube/greco_grb/scripts\n",
      "icpy3\n",
      "params=`sed -n \"${PBS_ARRAYID} p\" hive_sub/03.txt`\n",
      "paramsArray=($params)\n",
      "arg0=${paramsArray[0]}\n",
      "arg1=${paramsArray[1]}\n",
      "arg2=${paramsArray[2]}\n",
      "arg3=${paramsArray[3]}\n",
      "arg4=${paramsArray[4]}\n",
      "arg5=${paramsArray[5]}\n",
      "arg6=${paramsArray[6]}\n",
      "python 03_do_signal_injection.py --grb_name $arg0 --n_inj $arg1 --n_trials $arg2 --tw_in_second $arg3 --ncpu $arg4 --batchIndex $arg5 --use_poisson $arg6 \n"
     ]
    }
   ],
   "source": [
    "contents = \"\"\n",
    "contents += \"#PBS -N {}\\n\".format(nameofjob)\n",
    "contents += \"#PBS -l nodes=1:ppn={}\\n\".format(1)           # number of nodes and cores per node required\n",
    "contents += \"#PBS -l pmem=4gb\\n\"                             # memory per core\n",
    "contents += \"#PBS -l walltime={}:00:00\\n\".format(walltimehr)  # dd:hh:mm:ss\n",
    "contents += \"#PBS -q hive\\n\"\n",
    "contents += \"#PBS -j oe\\n\"\n",
    "contents += \"#PBS -o {}\\n\".format(outdir+\"/03.out\")\n",
    "contents += \"#PBS -t 1-{}%400\".format(ntotal)\n",
    "contents += \"\\n\"\n",
    "contents += \"cd /storage/home/hhive1/cchen641/icecube/greco_grb/scripts\\n\"\n",
    "contents += \"icpy3\\n\" \n",
    "# Get Paramters from input.txt file using $PBS_ARRAYID as the line number \n",
    "contents += 'params=`sed -n \"${{PBS_ARRAYID}} p\" {}`\\n'.format(\"hive_sub/\"+inputtxt)    # outer single quote to preserve inner double quotes\n",
    "contents += \"paramsArray=($params)\\n\"\n",
    "contents += \"arg0=${paramsArray[0]}\\n\"\n",
    "contents += \"arg1=${paramsArray[1]}\\n\"\n",
    "contents += \"arg2=${paramsArray[2]}\\n\"\n",
    "contents += \"arg3=${paramsArray[3]}\\n\"\n",
    "contents += \"arg4=${paramsArray[4]}\\n\"\n",
    "contents += \"arg5=${paramsArray[5]}\\n\"\n",
    "contents += \"arg6=${paramsArray[6]}\\n\"\n",
    "contents += \"python 03_do_signal_injection.py \"\n",
    "\n",
    "contents += \"--grb_name $arg0 \"\n",
    "contents += \"--n_inj $arg1 \"\n",
    "contents += \"--n_trials $arg2 \"\n",
    "contents += \"--tw_in_second $arg3 \"\n",
    "contents += \"--ncpu $arg4 \"\n",
    "contents += \"--batchIndex $arg5 \"\n",
    "contents += \"--use_poisson $arg6 \"\n",
    "print(contents)\n",
    "with open(\"03.pbs\", 'w') as writer:\n",
    "    writer.write(contents)"
   ]
  },
  {
   "cell_type": "code",
   "execution_count": null,
   "metadata": {},
   "outputs": [],
   "source": []
  }
 ],
 "metadata": {
  "kernelspec": {
   "display_name": "Python [conda env:icecube_py3]",
   "language": "python",
   "name": "conda-env-icecube_py3-py"
  },
  "language_info": {
   "codemirror_mode": {
    "name": "ipython",
    "version": 3
   },
   "file_extension": ".py",
   "mimetype": "text/x-python",
   "name": "python",
   "nbconvert_exporter": "python",
   "pygments_lexer": "ipython3",
   "version": "3.7.3"
  }
 },
 "nbformat": 4,
 "nbformat_minor": 4
}
