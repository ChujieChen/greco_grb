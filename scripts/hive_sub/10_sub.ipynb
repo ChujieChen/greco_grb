{
 "cells": [
  {
   "cell_type": "code",
   "execution_count": 59,
   "metadata": {
    "scrolled": true
   },
   "outputs": [
    {
     "data": {
      "text/plain": [
       "'\\nrun 10_get_permuted_null_binomial_test_results.py\\n\\n1000s per job\\n'"
      ]
     },
     "execution_count": 59,
     "metadata": {},
     "output_type": "execute_result"
    }
   ],
   "source": [
    "\"\"\"\n",
    "run 10_get_permuted_null_binomial_test_results.py\n",
    "\n",
    "~30min per job\n",
    "\n",
    "NOTE:\n",
    "this is a memory intensive job\n",
    "\"\"\""
   ]
  },
  {
   "cell_type": "code",
   "execution_count": 1,
   "metadata": {},
   "outputs": [],
   "source": [
    "import sys\n",
    "import os\n",
    "import glob\n",
    "import numpy as np\n",
    "import pandas as pd\n",
    "sys.path.append('../../../')\n",
    "from greco_grb.scripts.utils import *"
   ]
  },
  {
   "cell_type": "code",
   "execution_count": 2,
   "metadata": {},
   "outputs": [
    {
     "name": "stdout",
     "output_type": "stream",
     "text": [
      "\n",
      "#### Working at GT ####\n",
      "\n",
      "LOCATION: \t GT\n",
      "USER: \t cchen641\n",
      "ICDATA_DIR: \t /storage/home/hhive1/cchen641/data/icecube/data/analyses/online_GRECO/candidate-002-p10\n",
      "DATA_DIR: \t /storage/home/hhive1/cchen641/data/icecube/data/greco_grb/data\n",
      "ANA_DIR: \t /storage/home/hhive1/cchen641/data/icecube/data/greco_grb/data/csky_output\n",
      "\n"
     ]
    }
   ],
   "source": [
    "from greco_grb.scripts import SETTING\n",
    "paths = SETTING.PATH(osg=False)\n",
    "print(paths)\n",
    "LOCATION = paths.LOCATION\n",
    "USER = paths.USER\n",
    "ICDATA_DIR = paths.ICDATA_DIR\n",
    "DATA_DIR = paths.DATA_DIR\n",
    "ANA_DIR = paths.ANA_DIR"
   ]
  },
  {
   "cell_type": "code",
   "execution_count": 3,
   "metadata": {},
   "outputs": [],
   "source": [
    "### create arguments arrays ---> 10.txt\n",
    "# 0: seed"
   ]
  },
  {
   "cell_type": "markdown",
   "metadata": {},
   "source": [
    "# Check 1 out of 2"
   ]
  },
  {
   "cell_type": "code",
   "execution_count": 4,
   "metadata": {},
   "outputs": [],
   "source": [
    "####### Check before running ########\n",
    "script_path    = '/scratch/cjchen/submit/10.sub'\n",
    "## [::-1] reverse order\n",
    "seeds = np.r_[0:100]\n",
    "#######################################"
   ]
  },
  {
   "cell_type": "code",
   "execution_count": 8,
   "metadata": {},
   "outputs": [
    {
     "name": "stdout",
     "output_type": "stream",
     "text": [
      "File exists: null_binomial_results_numRun1000000_seed0.npy\n",
      "File exists: null_binomial_results_numRun1000000_seed1.npy\n",
      "File exists: null_binomial_results_numRun1000000_seed2.npy\n",
      "File exists: null_binomial_results_numRun1000000_seed3.npy\n",
      "File exists: null_binomial_results_numRun1000000_seed4.npy\n",
      "File exists: null_binomial_results_numRun1000000_seed5.npy\n",
      "File exists: null_binomial_results_numRun1000000_seed6.npy\n",
      "File exists: null_binomial_results_numRun1000000_seed7.npy\n",
      "File exists: null_binomial_results_numRun1000000_seed8.npy\n",
      "File exists: null_binomial_results_numRun1000000_seed9.npy\n",
      "File exists: null_binomial_results_numRun1000000_seed10.npy\n",
      "File exists: null_binomial_results_numRun1000000_seed11.npy\n",
      "File exists: null_binomial_results_numRun1000000_seed13.npy\n",
      "File exists: null_binomial_results_numRun1000000_seed14.npy\n",
      "File exists: null_binomial_results_numRun1000000_seed15.npy\n",
      "File exists: null_binomial_results_numRun1000000_seed16.npy\n",
      "File exists: null_binomial_results_numRun1000000_seed17.npy\n",
      "File exists: null_binomial_results_numRun1000000_seed18.npy\n",
      "File exists: null_binomial_results_numRun1000000_seed19.npy\n",
      "File exists: null_binomial_results_numRun1000000_seed20.npy\n",
      "File exists: null_binomial_results_numRun1000000_seed21.npy\n",
      "File exists: null_binomial_results_numRun1000000_seed22.npy\n",
      "File exists: null_binomial_results_numRun1000000_seed23.npy\n",
      "File exists: null_binomial_results_numRun1000000_seed24.npy\n",
      "File exists: null_binomial_results_numRun1000000_seed25.npy\n",
      "File exists: null_binomial_results_numRun1000000_seed26.npy\n",
      "File exists: null_binomial_results_numRun1000000_seed27.npy\n",
      "File exists: null_binomial_results_numRun1000000_seed28.npy\n",
      "File exists: null_binomial_results_numRun1000000_seed29.npy\n",
      "File exists: null_binomial_results_numRun1000000_seed30.npy\n",
      "File exists: null_binomial_results_numRun1000000_seed31.npy\n",
      "File exists: null_binomial_results_numRun1000000_seed32.npy\n",
      "File exists: null_binomial_results_numRun1000000_seed33.npy\n",
      "File exists: null_binomial_results_numRun1000000_seed34.npy\n",
      "File exists: null_binomial_results_numRun1000000_seed35.npy\n",
      "File exists: null_binomial_results_numRun1000000_seed36.npy\n",
      "File exists: null_binomial_results_numRun1000000_seed37.npy\n",
      "File exists: null_binomial_results_numRun1000000_seed38.npy\n",
      "File exists: null_binomial_results_numRun1000000_seed40.npy\n",
      "File exists: null_binomial_results_numRun1000000_seed41.npy\n",
      "File exists: null_binomial_results_numRun1000000_seed42.npy\n",
      "File exists: null_binomial_results_numRun1000000_seed43.npy\n",
      "File exists: null_binomial_results_numRun1000000_seed44.npy\n",
      "File exists: null_binomial_results_numRun1000000_seed45.npy\n",
      "File exists: null_binomial_results_numRun1000000_seed46.npy\n",
      "File exists: null_binomial_results_numRun1000000_seed47.npy\n",
      "File exists: null_binomial_results_numRun1000000_seed48.npy\n",
      "File exists: null_binomial_results_numRun1000000_seed49.npy\n",
      "File exists: null_binomial_results_numRun1000000_seed50.npy\n",
      "File exists: null_binomial_results_numRun1000000_seed51.npy\n",
      "File exists: null_binomial_results_numRun1000000_seed52.npy\n",
      "File exists: null_binomial_results_numRun1000000_seed53.npy\n",
      "File exists: null_binomial_results_numRun1000000_seed54.npy\n",
      "File exists: null_binomial_results_numRun1000000_seed55.npy\n",
      "File exists: null_binomial_results_numRun1000000_seed56.npy\n",
      "File exists: null_binomial_results_numRun1000000_seed57.npy\n",
      "File exists: null_binomial_results_numRun1000000_seed58.npy\n",
      "File exists: null_binomial_results_numRun1000000_seed59.npy\n",
      "File exists: null_binomial_results_numRun1000000_seed60.npy\n",
      "File exists: null_binomial_results_numRun1000000_seed61.npy\n",
      "File exists: null_binomial_results_numRun1000000_seed62.npy\n",
      "File exists: null_binomial_results_numRun1000000_seed63.npy\n",
      "File exists: null_binomial_results_numRun1000000_seed64.npy\n",
      "File exists: null_binomial_results_numRun1000000_seed66.npy\n",
      "File exists: null_binomial_results_numRun1000000_seed67.npy\n",
      "File exists: null_binomial_results_numRun1000000_seed68.npy\n",
      "File exists: null_binomial_results_numRun1000000_seed69.npy\n",
      "File exists: null_binomial_results_numRun1000000_seed70.npy\n",
      "File exists: null_binomial_results_numRun1000000_seed71.npy\n",
      "File exists: null_binomial_results_numRun1000000_seed72.npy\n",
      "File exists: null_binomial_results_numRun1000000_seed73.npy\n",
      "File exists: null_binomial_results_numRun1000000_seed74.npy\n",
      "File exists: null_binomial_results_numRun1000000_seed75.npy\n",
      "File exists: null_binomial_results_numRun1000000_seed76.npy\n",
      "File exists: null_binomial_results_numRun1000000_seed77.npy\n",
      "File exists: null_binomial_results_numRun1000000_seed78.npy\n",
      "File exists: null_binomial_results_numRun1000000_seed79.npy\n",
      "File exists: null_binomial_results_numRun1000000_seed80.npy\n",
      "File exists: null_binomial_results_numRun1000000_seed81.npy\n",
      "File exists: null_binomial_results_numRun1000000_seed82.npy\n",
      "File exists: null_binomial_results_numRun1000000_seed83.npy\n",
      "File exists: null_binomial_results_numRun1000000_seed84.npy\n",
      "File exists: null_binomial_results_numRun1000000_seed85.npy\n",
      "File exists: null_binomial_results_numRun1000000_seed86.npy\n",
      "File exists: null_binomial_results_numRun1000000_seed87.npy\n",
      "File exists: null_binomial_results_numRun1000000_seed88.npy\n",
      "File exists: null_binomial_results_numRun1000000_seed89.npy\n",
      "File exists: null_binomial_results_numRun1000000_seed90.npy\n",
      "File exists: null_binomial_results_numRun1000000_seed91.npy\n",
      "File exists: null_binomial_results_numRun1000000_seed92.npy\n",
      "File exists: null_binomial_results_numRun1000000_seed93.npy\n",
      "File exists: null_binomial_results_numRun1000000_seed94.npy\n",
      "File exists: null_binomial_results_numRun1000000_seed95.npy\n",
      "File exists: null_binomial_results_numRun1000000_seed96.npy\n",
      "File exists: null_binomial_results_numRun1000000_seed97.npy\n",
      "File exists: null_binomial_results_numRun1000000_seed98.npy\n",
      "File exists: null_binomial_results_numRun1000000_seed99.npy\n"
     ]
    }
   ],
   "source": [
    "contents = \"\"\n",
    "for seed in seeds:\n",
    "    if os.path.exists(ANA_DIR+f\"/binomial_test/null_binom/binomial_results/null_binomial_results_numRun1000000_seed{seed}.npy\"):\n",
    "        print(f\"File exists: null_binomial_results_numRun1000000_seed{seed}.npy\", end=\"\\n\")\n",
    "        continue\n",
    "    contents += \"{}\\n\".format(seed)\n",
    "\n",
    "with open(\"10.txt\", 'w') as writer:\n",
    "    writer.write(contents)\n",
    "    "
   ]
  },
  {
   "cell_type": "code",
   "execution_count": 9,
   "metadata": {
    "scrolled": true
   },
   "outputs": [
    {
     "name": "stdout",
     "output_type": "stream",
     "text": [
      "12\n",
      "39\n",
      "65\n",
      "\n"
     ]
    }
   ],
   "source": [
    "print(contents)"
   ]
  },
  {
   "cell_type": "code",
   "execution_count": 10,
   "metadata": {},
   "outputs": [
    {
     "name": "stdout",
     "output_type": "stream",
     "text": [
      "Total number of jobs: 3\n",
      "\n"
     ]
    }
   ],
   "source": [
    "print(\"Total number of jobs: {}\\n\".format(contents.count('\\n')))"
   ]
  },
  {
   "cell_type": "code",
   "execution_count": 11,
   "metadata": {},
   "outputs": [],
   "source": [
    "### create pbs file ---> 10.pbs"
   ]
  },
  {
   "cell_type": "markdown",
   "metadata": {},
   "source": [
    "# Check 2 out of 2"
   ]
  },
  {
   "cell_type": "code",
   "execution_count": 12,
   "metadata": {},
   "outputs": [],
   "source": [
    "nameofjob  = \"10\"\n",
    "ntotal     = 3           # copy from the above 2nd cell \"Total number of jobs: xxx\"\n",
    "inputtxt   = \"10.txt\"      # copy from the above 3rd cell\n",
    "outdir     = ensure_dir(\"/storage/home/hhive1/cchen641/scratch/icecube/job_pbs_out/out\")\n",
    "walltimehr = 2  # in Hour\n"
   ]
  },
  {
   "cell_type": "code",
   "execution_count": 13,
   "metadata": {},
   "outputs": [
    {
     "name": "stdout",
     "output_type": "stream",
     "text": [
      "#PBS -N 10\n",
      "#PBS -l nodes=1:ppn=1\n",
      "#PBS -l pmem=30gb\n",
      "#PBS -l walltime=2:00:00\n",
      "#PBS -q hive\n",
      "#PBS -j oe\n",
      "#PBS -o /storage/home/hhive1/cchen641/scratch/icecube/job_pbs_out/out/10.out\n",
      "#PBS -t 1-3%400\n",
      "cd /storage/home/hhive1/cchen641/icecube/greco_grb/scripts\n",
      "icpy3\n",
      "params=`sed -n \"${PBS_ARRAYID} p\" hive_sub/10.txt`\n",
      "paramsArray=($params)\n",
      "arg0=${paramsArray[0]}\n",
      "python 10_get_permuted_null_binomial_test_results.py --seed $arg0 \n"
     ]
    }
   ],
   "source": [
    "contents = \"\"\n",
    "contents += \"#PBS -N {}\\n\".format(nameofjob)\n",
    "############ update ncpu below ############\n",
    "contents += \"#PBS -l nodes=1:ppn={}\\n\".format(1)           # number of nodes and cores per node required\n",
    "contents += \"#PBS -l pmem=30gb\\n\"                             # memory per core\n",
    "contents += \"#PBS -l walltime={}:00:00\\n\".format(walltimehr)  # dd:hh:mm:ss\n",
    "contents += \"#PBS -q hive\\n\"\n",
    "contents += \"#PBS -j oe\\n\"\n",
    "contents += \"#PBS -o {}\\n\".format(outdir+\"/10.out\")\n",
    "contents += \"#PBS -t 1-{}%400\".format(ntotal)\n",
    "contents += \"\\n\"\n",
    "contents += \"cd /storage/home/hhive1/cchen641/icecube/greco_grb/scripts\\n\"\n",
    "contents += \"icpy3\\n\" \n",
    "# Get Paramters from input.txt file using $PBS_ARRAYID as the line number \n",
    "contents += 'params=`sed -n \"${{PBS_ARRAYID}} p\" {}`\\n'.format(\"hive_sub/\"+inputtxt)    # outer single quote to preserve inner double quotes\n",
    "contents += \"paramsArray=($params)\\n\"\n",
    "############ update args below ############\n",
    "contents += \"arg0=${paramsArray[0]}\\n\"\n",
    "############ update script below ############\n",
    "contents += \"python 10_get_permuted_null_binomial_test_results.py \"\n",
    "############ update arg calls below ############\n",
    "contents += \"--seed $arg0 \"\n",
    "print(contents)\n",
    "############ update pbs name below ############\n",
    "with open(\"10.pbs\", 'w') as writer:\n",
    "    writer.write(contents)"
   ]
  },
  {
   "cell_type": "code",
   "execution_count": null,
   "metadata": {},
   "outputs": [],
   "source": []
  }
 ],
 "metadata": {
  "kernelspec": {
   "display_name": "Python [default]",
   "language": "python",
   "name": "python3"
  },
  "language_info": {
   "codemirror_mode": {
    "name": "ipython",
    "version": 3
   },
   "file_extension": ".py",
   "mimetype": "text/x-python",
   "name": "python",
   "nbconvert_exporter": "python",
   "pygments_lexer": "ipython3",
   "version": "3.7.6"
  }
 },
 "nbformat": 4,
 "nbformat_minor": 4
}
