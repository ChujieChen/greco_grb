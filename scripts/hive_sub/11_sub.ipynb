{
 "cells": [
  {
   "cell_type": "code",
   "execution_count": 1,
   "metadata": {
    "scrolled": true
   },
   "outputs": [
    {
     "data": {
      "text/plain": [
       "'\\nrun 11_unblind_each_GRB.py\\n\\n~12 cpu min per job\\n'"
      ]
     },
     "execution_count": 1,
     "metadata": {},
     "output_type": "execute_result"
    }
   ],
   "source": [
    "\"\"\"\n",
    "run 11_unblind_each_GRB.py\n",
    "\n",
    "~12 cpu min per job\n",
    "\"\"\""
   ]
  },
  {
   "cell_type": "code",
   "execution_count": 2,
   "metadata": {},
   "outputs": [],
   "source": [
    "import sys\n",
    "import os\n",
    "import glob\n",
    "import numpy as np\n",
    "import pandas as pd\n",
    "sys.path.append('../../../')\n",
    "from greco_grb.scripts.utils import *"
   ]
  },
  {
   "cell_type": "code",
   "execution_count": 3,
   "metadata": {},
   "outputs": [
    {
     "name": "stdout",
     "output_type": "stream",
     "text": [
      "\n",
      "#### Working at GT ####\n",
      "\n",
      "LOCATION: \t GT\n",
      "USER: \t cchen641\n",
      "ICDATA_DIR: \t /storage/home/hhive1/cchen641/data/icecube/data/analyses/online_GRECO/candidate-002-p10\n",
      "DATA_DIR: \t /storage/home/hhive1/cchen641/data/icecube/data/greco_grb/data\n",
      "ANA_DIR: \t /storage/home/hhive1/cchen641/data/icecube/data/greco_grb/data/csky_output\n",
      "\n"
     ]
    }
   ],
   "source": [
    "from greco_grb.scripts import SETTING\n",
    "paths = SETTING.PATH(osg=False)\n",
    "print(paths)\n",
    "LOCATION = paths.LOCATION\n",
    "USER = paths.USER\n",
    "ICDATA_DIR = paths.ICDATA_DIR\n",
    "DATA_DIR = paths.DATA_DIR\n",
    "ANA_DIR = paths.ANA_DIR"
   ]
  },
  {
   "cell_type": "code",
   "execution_count": 4,
   "metadata": {},
   "outputs": [],
   "source": [
    "df = pd.read_pickle(DATA_DIR+\"/grbwebgbm/grbweb_gbm_noHealpix_2268.pkl\")"
   ]
  },
  {
   "cell_type": "code",
   "execution_count": 5,
   "metadata": {},
   "outputs": [],
   "source": [
    "### create arguments arrays ---> 11.txt\n",
    "# 0: grb_idx_start\n",
    "# 1: grb_idx_end\n",
    "# 2: cpu"
   ]
  },
  {
   "cell_type": "markdown",
   "metadata": {},
   "source": [
    "# Check 1 out of 2"
   ]
  },
  {
   "cell_type": "code",
   "execution_count": 6,
   "metadata": {},
   "outputs": [],
   "source": [
    "####### Check before running ########\n",
    "script_path    = '/scratch/cjchen/submit/11.sub'\n",
    "## [::-1] reverse order\n",
    "step = 6\n",
    "grb_idx_starts = np.r_[0:2268:step]\n",
    "grb_idx_ends = np.r_[step:2268+step:step]\n",
    "ncpu = 4\n",
    "#######################################"
   ]
  },
  {
   "cell_type": "code",
   "execution_count": 14,
   "metadata": {},
   "outputs": [
    {
     "name": "stdout",
     "output_type": "stream",
     "text": [
      "File does not exists: GRB190916A_ts_ns_p.npy\n",
      "File does not exists: GRB190915A_ts_ns_p.npy\n",
      "File does not exists: GRB190914A_ts_ns_p.npy\n",
      "File does not exists: GRB190913A_ts_ns_p.npy\n",
      "File does not exists: GRB190910A_ts_ns_p.npy\n",
      "File does not exists: GRB190906B_ts_ns_p.npy\n",
      "File does not exists: GRB190905A_ts_ns_p.npy\n",
      "File does not exists: GRB190904A_ts_ns_p.npy\n",
      "File does not exists: GRB160228A_ts_ns_p.npy\n",
      "File does not exists: GRB160227B_ts_ns_p.npy\n",
      "File does not exists: GRB160227A_ts_ns_p.npy\n",
      "File does not exists: GRB160226A_ts_ns_p.npy\n",
      "File does not exists: GRB160225C_ts_ns_p.npy\n",
      "File does not exists: GRB160225B_ts_ns_p.npy\n",
      "File does not exists: GRB160225A_ts_ns_p.npy\n",
      "File does not exists: GRB160224A_ts_ns_p.npy\n",
      "File does not exists: GRB160223C_ts_ns_p.npy\n",
      "File does not exists: GRB160223B_ts_ns_p.npy\n",
      "File does not exists: GRB160223A_ts_ns_p.npy\n",
      "File does not exists: GRB160222A_ts_ns_p.npy\n",
      "File does not exists: GRB160221A_ts_ns_p.npy\n",
      "File does not exists: GRB160220B_ts_ns_p.npy\n",
      "File does not exists: GRB160220A_ts_ns_p.npy\n"
     ]
    }
   ],
   "source": [
    "contents = \"\"\n",
    "for grb_idx_start,grb_idx_end in zip(grb_idx_starts,grb_idx_ends):\n",
    "    include = False\n",
    "    for grb_idx in range(grb_idx_start, grb_idx_end):\n",
    "        grb_name = df.grb_name[grb_idx]\n",
    "        if not os.path.exists(ANA_DIR+f\"/unblind/ts_ns_p/{grb_name}_ts_ns_p.npy\"):\n",
    "            print(f\"File does not exists: {grb_name}_ts_ns_p.npy\", end=\"\\n\")\n",
    "            include = True\n",
    "            continue\n",
    "    if include:\n",
    "        contents += \"{}\\t\".format(grb_idx_start)\n",
    "        contents += \"{}\\t\".format(grb_idx_end)\n",
    "        contents += \"{}\\n\".format(ncpu)\n",
    "\n",
    "with open(\"11.txt\", 'w') as writer:\n",
    "    writer.write(contents)\n",
    "    "
   ]
  },
  {
   "cell_type": "code",
   "execution_count": 15,
   "metadata": {
    "scrolled": true
   },
   "outputs": [
    {
     "name": "stdout",
     "output_type": "stream",
     "text": [
      "168\t174\t4\n",
      "174\t180\t4\n",
      "1182\t1188\t4\n",
      "1188\t1194\t4\n",
      "1194\t1200\t4\n",
      "\n"
     ]
    }
   ],
   "source": [
    "print(contents)"
   ]
  },
  {
   "cell_type": "code",
   "execution_count": 9,
   "metadata": {},
   "outputs": [
    {
     "name": "stdout",
     "output_type": "stream",
     "text": [
      "Total number of jobs: 5\n",
      "\n"
     ]
    }
   ],
   "source": [
    "print(\"Total number of jobs: {}\\n\".format(contents.count('\\n')))"
   ]
  },
  {
   "cell_type": "code",
   "execution_count": 10,
   "metadata": {},
   "outputs": [],
   "source": [
    "### create pbs file ---> 11.pbs"
   ]
  },
  {
   "cell_type": "markdown",
   "metadata": {},
   "source": [
    "# Check 2 out of 2"
   ]
  },
  {
   "cell_type": "code",
   "execution_count": 11,
   "metadata": {},
   "outputs": [],
   "source": [
    "nameofjob  = \"11\"\n",
    "ntotal     = 5           # copy from the above 2nd cell \"Total number of jobs: xxx\"\n",
    "inputtxt   = \"11.txt\"      # copy from the above 3rd cell\n",
    "outdir     = ensure_dir(\"/storage/home/hhive1/cchen641/scratch/icecube/job_pbs_out/out\")\n",
    "walltimehr = 1  # in Hour\n"
   ]
  },
  {
   "cell_type": "code",
   "execution_count": 12,
   "metadata": {},
   "outputs": [
    {
     "name": "stdout",
     "output_type": "stream",
     "text": [
      "#PBS -N 11\n",
      "#PBS -l nodes=1:ppn=4\n",
      "#PBS -l pmem=4gb\n",
      "#PBS -l walltime=1:00:00\n",
      "#PBS -q hive\n",
      "#PBS -j oe\n",
      "#PBS -o /storage/home/hhive1/cchen641/scratch/icecube/job_pbs_out/out/11.out\n",
      "#PBS -t 1-5%400\n",
      "cd /storage/home/hhive1/cchen641/icecube/greco_grb/scripts\n",
      "icpy3\n",
      "params=`sed -n \"${PBS_ARRAYID} p\" hive_sub/11.txt`\n",
      "paramsArray=($params)\n",
      "arg0=${paramsArray[0]}\n",
      "arg1=${paramsArray[1]}\n",
      "arg2=${paramsArray[2]}\n",
      "python 11_unblind_each_GRB.py --grb_idx_start $arg0 --grb_idx_end $arg1 --ncpu $arg2 \n"
     ]
    }
   ],
   "source": [
    "contents = \"\"\n",
    "contents += \"#PBS -N {}\\n\".format(nameofjob)\n",
    "############ update ncpu below ############\n",
    "contents += \"#PBS -l nodes=1:ppn={}\\n\".format(4)           # number of nodes and cores per node required\n",
    "contents += \"#PBS -l pmem=4gb\\n\"                             # memory per core\n",
    "contents += \"#PBS -l walltime={}:00:00\\n\".format(walltimehr)  # dd:hh:mm:ss\n",
    "contents += \"#PBS -q hive\\n\"\n",
    "contents += \"#PBS -j oe\\n\"\n",
    "contents += \"#PBS -o {}\\n\".format(outdir+\"/{}.out\".format(nameofjob))\n",
    "contents += \"#PBS -t 1-{}%400\".format(ntotal)\n",
    "contents += \"\\n\"\n",
    "contents += \"cd /storage/home/hhive1/cchen641/icecube/greco_grb/scripts\\n\"\n",
    "contents += \"icpy3\\n\" \n",
    "# Get Paramters from input.txt file using $PBS_ARRAYID as the line number \n",
    "contents += 'params=`sed -n \"${{PBS_ARRAYID}} p\" {}`\\n'.format(\"hive_sub/\"+inputtxt)    # outer single quote to preserve inner double quotes\n",
    "contents += \"paramsArray=($params)\\n\"\n",
    "############ update args below ############\n",
    "contents += \"arg0=${paramsArray[0]}\\n\"\n",
    "contents += \"arg1=${paramsArray[1]}\\n\"\n",
    "contents += \"arg2=${paramsArray[2]}\\n\"\n",
    "############ update script below ############\n",
    "contents += \"python 11_unblind_each_GRB.py \"\n",
    "############ update arg calls below ############\n",
    "contents += \"--grb_idx_start $arg0 --grb_idx_end $arg1 --ncpu $arg2 \"\n",
    "print(contents)\n",
    "############ update pbs name below ############\n",
    "with open(\"11.pbs\", 'w') as writer:\n",
    "    writer.write(contents)"
   ]
  },
  {
   "cell_type": "code",
   "execution_count": null,
   "metadata": {},
   "outputs": [],
   "source": []
  }
 ],
 "metadata": {
  "kernelspec": {
   "display_name": "Python [default]",
   "language": "python",
   "name": "python3"
  },
  "language_info": {
   "codemirror_mode": {
    "name": "ipython",
    "version": 3
   },
   "file_extension": ".py",
   "mimetype": "text/x-python",
   "name": "python",
   "nbconvert_exporter": "python",
   "pygments_lexer": "ipython3",
   "version": "3.7.6"
  }
 },
 "nbformat": 4,
 "nbformat_minor": 4
}
