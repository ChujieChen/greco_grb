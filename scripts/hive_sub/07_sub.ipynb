{
 "cells": [
  {
   "cell_type": "code",
   "execution_count": 1,
   "metadata": {},
   "outputs": [
    {
     "data": {
      "text/plain": [
       "'\\nrun 07_effective_trial_factor.py\\n'"
      ]
     },
     "execution_count": 1,
     "metadata": {},
     "output_type": "execute_result"
    }
   ],
   "source": [
    "\"\"\"\n",
    "run 07_effective_trial_factor.py\n",
    "\"\"\""
   ]
  },
  {
   "cell_type": "code",
   "execution_count": 2,
   "metadata": {},
   "outputs": [],
   "source": [
    "import sys\n",
    "import os\n",
    "import glob\n",
    "import numpy as np\n",
    "import pandas as pd\n",
    "sys.path.append('../../../')\n",
    "from greco_grb.scripts.utils import *"
   ]
  },
  {
   "cell_type": "code",
   "execution_count": 3,
   "metadata": {},
   "outputs": [
    {
     "name": "stdout",
     "output_type": "stream",
     "text": [
      "\n",
      "#### Working at GT ####\n",
      "\n",
      "LOCATION: \t GT\n",
      "USER: \t cchen641\n",
      "ICDATA_DIR: \t /storage/home/hhive1/cchen641/data/icecube/data/analyses/online_GRECO/candidate-002-p10\n",
      "DATA_DIR: \t /storage/home/hhive1/cchen641/data/icecube/data/greco_grb/data\n",
      "ANA_DIR: \t /storage/home/hhive1/cchen641/data/icecube/data/greco_grb/data/csky_output\n",
      "\n"
     ]
    }
   ],
   "source": [
    "from greco_grb.scripts import SETTING\n",
    "paths = SETTING.PATH(osg=False)\n",
    "print(paths)\n",
    "LOCATION = paths.LOCATION\n",
    "USER = paths.USER\n",
    "ICDATA_DIR = paths.ICDATA_DIR\n",
    "DATA_DIR = paths.DATA_DIR\n",
    "ANA_DIR = paths.ANA_DIR"
   ]
  },
  {
   "cell_type": "code",
   "execution_count": 4,
   "metadata": {},
   "outputs": [],
   "source": [
    "### create arguments arrays ---> 06.txt\n",
    "# 0: grb_name\n",
    "# 1: n_inj\n",
    "# 2: n_trials\n",
    "# 3: tw_in_second\n",
    "# 4: ncpu\n",
    "# 5: batchIndex\n",
    "# 6: use_poisson"
   ]
  },
  {
   "cell_type": "markdown",
   "metadata": {},
   "source": [
    "# Check 1 out of 2"
   ]
  },
  {
   "cell_type": "code",
   "execution_count": 10,
   "metadata": {},
   "outputs": [],
   "source": [
    "####### Check before running ########\n",
    "script_path    = '/scratch/cjchen/submit/07.sub'\n",
    "## [::-1] reverse order\n",
    "grb_name_idx_starts = np.r_[0:2268:100]\n",
    "grb_name_idx_ends   = np.r_[100:2268:100, 2268]\n",
    "#######################################"
   ]
  },
  {
   "cell_type": "code",
   "execution_count": 11,
   "metadata": {},
   "outputs": [],
   "source": [
    "contents = \"\"\n",
    "for grb_idx_start, grb_idx_end in zip(grb_name_idx_starts, grb_name_idx_ends):   \n",
    "    contents += \"{}\\t\".format(grb_idx_start)\n",
    "    contents += \"{}\\n\".format(grb_idx_end)\n",
    "\n",
    "with open(\"07.txt\", 'w') as writer:\n",
    "    writer.write(contents)\n",
    "    "
   ]
  },
  {
   "cell_type": "code",
   "execution_count": 12,
   "metadata": {},
   "outputs": [
    {
     "name": "stdout",
     "output_type": "stream",
     "text": [
      "0\t100\n",
      "100\t200\n",
      "200\t300\n",
      "300\t400\n",
      "400\t500\n",
      "500\t600\n",
      "600\t700\n",
      "700\t800\n",
      "800\t900\n",
      "900\t1000\n",
      "1000\t1100\n",
      "1100\t1200\n",
      "1200\t1300\n",
      "1300\t1400\n",
      "1400\t1500\n",
      "1500\t1600\n",
      "1600\t1700\n",
      "1700\t1800\n",
      "1800\t1900\n",
      "1900\t2000\n",
      "2000\t2100\n",
      "2100\t2200\n",
      "2200\t2268\n",
      "\n"
     ]
    }
   ],
   "source": [
    "print(contents)"
   ]
  },
  {
   "cell_type": "code",
   "execution_count": 13,
   "metadata": {},
   "outputs": [
    {
     "name": "stdout",
     "output_type": "stream",
     "text": [
      "Total number of jobs: 23\n",
      "\n"
     ]
    }
   ],
   "source": [
    "print(\"Total number of jobs: {}\\n\".format(contents.count('\\n')))"
   ]
  },
  {
   "cell_type": "code",
   "execution_count": 14,
   "metadata": {},
   "outputs": [],
   "source": [
    "### create pbs file ---> 07.pbs"
   ]
  },
  {
   "cell_type": "markdown",
   "metadata": {},
   "source": [
    "# Check 2 out of 2"
   ]
  },
  {
   "cell_type": "code",
   "execution_count": 15,
   "metadata": {},
   "outputs": [],
   "source": [
    "nameofjob  = \"07\"\n",
    "ntotal     = 23           # copy from the above 2nd cell \"Total number of jobs: xxx\"\n",
    "inputtxt   = \"07.txt\"      # copy from the above 3rd cell\n",
    "outdir     = ensure_dir(\"/storage/home/hhive1/cchen641/scratch/icecube/job_pbs_out/out\")\n",
    "walltimehr = 1  # in Hour"
   ]
  },
  {
   "cell_type": "code",
   "execution_count": 16,
   "metadata": {},
   "outputs": [
    {
     "name": "stdout",
     "output_type": "stream",
     "text": [
      "#PBS -N 07\n",
      "#PBS -l nodes=1:ppn=1\n",
      "#PBS -l pmem=4gb\n",
      "#PBS -l walltime=1:00:00\n",
      "#PBS -q hive\n",
      "#PBS -j oe\n",
      "#PBS -o /storage/home/hhive1/cchen641/scratch/icecube/job_pbs_out/out/07.out\n",
      "#PBS -t 1-23%400\n",
      "cd /storage/home/hhive1/cchen641/icecube/greco_grb/scripts\n",
      "icpy3\n",
      "params=`sed -n \"${PBS_ARRAYID} p\" hive_sub/07.txt`\n",
      "paramsArray=($params)\n",
      "arg0=${paramsArray[0]}\n",
      "arg1=${paramsArray[1]}\n",
      "python 07_effective_trial_factor.py --grb_idx_start $arg0 --grb_idx_end $arg1 \n"
     ]
    }
   ],
   "source": [
    "contents = \"\"\n",
    "contents += \"#PBS -N {}\\n\".format(nameofjob)\n",
    "contents += \"#PBS -l nodes=1:ppn={}\\n\".format(1)           # number of nodes and cores per node required\n",
    "contents += \"#PBS -l pmem=4gb\\n\"                             # memory per core\n",
    "contents += \"#PBS -l walltime={}:00:00\\n\".format(walltimehr)  # dd:hh:mm:ss\n",
    "contents += \"#PBS -q hive\\n\"\n",
    "contents += \"#PBS -j oe\\n\"\n",
    "contents += \"#PBS -o {}\\n\".format(outdir+\"/07.out\")\n",
    "contents += \"#PBS -t 1-{}%400\".format(ntotal)\n",
    "contents += \"\\n\"\n",
    "contents += \"cd /storage/home/hhive1/cchen641/icecube/greco_grb/scripts\\n\"\n",
    "contents += \"icpy3\\n\" \n",
    "# Get Paramters from input.txt file using $PBS_ARRAYID as the line number \n",
    "contents += 'params=`sed -n \"${{PBS_ARRAYID}} p\" {}`\\n'.format(\"hive_sub/\"+inputtxt)    # outer single quote to preserve inner double quotes\n",
    "contents += \"paramsArray=($params)\\n\"\n",
    "contents += \"arg0=${paramsArray[0]}\\n\"\n",
    "contents += \"arg1=${paramsArray[1]}\\n\"\n",
    "contents += \"python 07_effective_trial_factor.py \"\n",
    "\n",
    "contents += \"--grb_idx_start $arg0 \"\n",
    "contents += \"--grb_idx_end $arg1 \"\n",
    "print(contents)\n",
    "with open(\"07.pbs\", 'w') as writer:\n",
    "    writer.write(contents)"
   ]
  },
  {
   "cell_type": "code",
   "execution_count": null,
   "metadata": {},
   "outputs": [],
   "source": []
  }
 ],
 "metadata": {
  "kernelspec": {
   "display_name": "Python [default]",
   "language": "python",
   "name": "python3"
  },
  "language_info": {
   "codemirror_mode": {
    "name": "ipython",
    "version": 3
   },
   "file_extension": ".py",
   "mimetype": "text/x-python",
   "name": "python",
   "nbconvert_exporter": "python",
   "pygments_lexer": "ipython3",
   "version": "3.7.6"
  }
 },
 "nbformat": 4,
 "nbformat_minor": 4
}
